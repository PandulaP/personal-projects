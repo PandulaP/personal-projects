{
 "cells": [
  {
   "cell_type": "markdown",
   "metadata": {},
   "source": [
    "## Extract data"
   ]
  },
  {
   "cell_type": "code",
   "execution_count": 75,
   "metadata": {},
   "outputs": [],
   "source": [
    "# required packages\n",
    "import fxcmpy\n",
    "import socketio\n",
    "\n",
    "import pandas as pd\n",
    "import numpy as np\n",
    "import os\n",
    "\n",
    "import tqdm"
   ]
  },
  {
   "cell_type": "code",
   "execution_count": 2,
   "metadata": {},
   "outputs": [],
   "source": [
    "# create connection\n",
    "con = fxcmpy.fxcmpy(config_file='fxcm_pp.cfg')"
   ]
  },
  {
   "cell_type": "code",
   "execution_count": 78,
   "metadata": {},
   "outputs": [],
   "source": [
    "# list of instruments need to extract fx-data for\n",
    "\n",
    "#instruments = con.get_instruments()\n",
    "curr_pairs = ['EUR/USD',\n",
    "             'GBP/USD',\n",
    "             'USD/CHF',\n",
    "             'AUD/USD',\n",
    "             'USD/CAD',\n",
    "             'NZD/USD',\n",
    "             'EUR/CHF',\n",
    "             'EUR/GBP',\n",
    "             'EUR/AUD',\n",
    "             'EUR/CAD']"
   ]
  },
  {
   "cell_type": "code",
   "execution_count": 84,
   "metadata": {},
   "outputs": [],
   "source": [
    "# create folders to save data - only needs to run once to create folders\n",
    "for curr_pair in curr_pairs:\n",
    "\n",
    "    newpath = f'./data/fx_data/{curr_pair[:3]}_{curr_pair[4:]}'\n",
    "\n",
    "    if not os.path.exists(newpath):\n",
    "         os.makedirs(newpath)"
   ]
  },
  {
   "cell_type": "code",
   "execution_count": 85,
   "metadata": {},
   "outputs": [
    {
     "name": "stderr",
     "output_type": "stream",
     "text": [
      "100%|██████████████████████████████████████████████████████████████████████████████████| 10/10 [00:06<00:00,  1.46it/s]\n"
     ]
    }
   ],
   "source": [
    "# get data and store\n",
    "for curr_pair in tqdm.tqdm(curr_pairs):\n",
    "\n",
    "    #print(f'extracting data for {curr_pair}\\n')\n",
    "    # folder path to store the data\n",
    "    folder_path = f'./data/fx_data/{curr_pair[:3]}_{curr_pair[4:]}/'\n",
    "    \n",
    "    # extract new data\n",
    "    new_fx_data = con.get_candles(curr_pair\n",
    "                              , period='m15'\n",
    "                              , number = 10000 # get last 10,000 records\n",
    "                              , with_index=False)\n",
    "    \n",
    "    # load exsisting data\n",
    "    try:\n",
    "        prvs_fx_data = pd.read_parquet(folder_path+f'fx_data_{curr_pair[:3]}_{curr_pair[4:]}.parquet')\n",
    "    except:\n",
    "        prvs_fx_data = new_fx_data\n",
    "    \n",
    "    # concat old and new data + drop duplicates\n",
    "    data_export = pd.concat([prvs_fx_data,new_fx_data])\n",
    "    \n",
    "    dup_flag = True  \n",
    "    while dup_flag:\n",
    "        data_export.drop_duplicates(subset=['date'],inplace=True)\n",
    "        data_export.reset_index(inplace=True, drop=True)\n",
    "        \n",
    "     \n",
    "        if data_export.date.duplicated().sum() == 0:\n",
    "            dup_flag = False\n",
    "\n",
    "    # sort by date\n",
    "    data_export['date'] = pd.to_datetime(data_export['date'])\n",
    "    data_export.sort_values('date', inplace = True)\n",
    "    \n",
    "    # store new data\n",
    "    data_export.to_parquet(folder_path+f'fx_data_{curr_pair[:3]}_{curr_pair[4:]}.parquet', index = False)"
   ]
  }
 ],
 "metadata": {
  "kernelspec": {
   "display_name": "Python 3",
   "language": "python",
   "name": "python3"
  },
  "language_info": {
   "codemirror_mode": {
    "name": "ipython",
    "version": 3
   },
   "file_extension": ".py",
   "mimetype": "text/x-python",
   "name": "python",
   "nbconvert_exporter": "python",
   "pygments_lexer": "ipython3",
   "version": "3.7.4"
  }
 },
 "nbformat": 4,
 "nbformat_minor": 4
}
