{
 "cells": [
  {
   "cell_type": "markdown",
   "metadata": {},
   "source": [
    "## Extract data"
   ]
  },
  {
   "cell_type": "code",
   "execution_count": 10,
   "metadata": {},
   "outputs": [],
   "source": [
    "# required packages\n",
    "import fxcmpy\n",
    "import socketio\n",
    "\n",
    "import pandas as pd\n",
    "import numpy as np\n",
    "import os\n",
    "\n",
    "import tqdm"
   ]
  },
  {
   "cell_type": "code",
   "execution_count": 11,
   "metadata": {},
   "outputs": [],
   "source": [
    "# create connection | https://tradingstation.fxcm.com/\n",
    "con = fxcmpy.fxcmpy(config_file='fxcm_pp.cfg')\n",
    "#con.close()"
   ]
  },
  {
   "cell_type": "code",
   "execution_count": 12,
   "metadata": {},
   "outputs": [],
   "source": [
    "# list of instruments need to extract fx-data for\n",
    "#instruments = con.get_instruments()\n",
    "curr_pairs = ['EUR/USD',\n",
    "             'GBP/USD',\n",
    "             'USD/CHF',\n",
    "             'AUD/USD',\n",
    "             'USD/CAD',\n",
    "             'NZD/USD',\n",
    "             'EUR/CHF',\n",
    "             'EUR/GBP',\n",
    "             'EUR/AUD',\n",
    "             'EUR/CAD']"
   ]
  },
  {
   "cell_type": "code",
   "execution_count": 13,
   "metadata": {},
   "outputs": [
    {
     "name": "stderr",
     "output_type": "stream",
     "text": [
      "100%|██████████████████████████████████████████████████████████████████████████████████| 10/10 [00:10<00:00,  1.09s/it]\n"
     ]
    }
   ],
   "source": [
    "# get data and store\n",
    "for curr_pair in tqdm.tqdm(curr_pairs):\n",
    "\n",
    "    # create folders to save data (if doesn't exist)\n",
    "    newpath = f'./data/fx_data/{curr_pair[:3]}_{curr_pair[4:]}'\n",
    "    if not os.path.exists(newpath):\n",
    "         os.makedirs(newpath)\n",
    "    \n",
    "    # folder path to store the data\n",
    "    folder_path = f'./data/fx_data/{curr_pair[:3]}_{curr_pair[4:]}/'\n",
    "    \n",
    "    # extract new data\n",
    "    new_fx_data = con.get_candles(curr_pair\n",
    "                              , period='m15'\n",
    "                              , number = 10000 # get last 10,000 records\n",
    "                              , with_index=False)\n",
    "    \n",
    "    # load exsisting data\n",
    "    try:\n",
    "        prvs_fx_data = pd.read_parquet(folder_path+f'fx_data_{curr_pair[:3]}_{curr_pair[4:]}.parquet')\n",
    "    except:\n",
    "        prvs_fx_data = new_fx_data\n",
    "    \n",
    "    # concat old and new data + drop duplicates\n",
    "    data_export = pd.concat([prvs_fx_data,new_fx_data])\n",
    "    \n",
    "    dup_flag = True  \n",
    "    while dup_flag:\n",
    "        data_export.drop_duplicates(subset=['date'],inplace=True)\n",
    "        data_export.reset_index(inplace=True, drop=True)\n",
    "        \n",
    "        if data_export.date.duplicated().sum() == 0:\n",
    "            dup_flag = False\n",
    "\n",
    "    # sort by date\n",
    "    data_export['date'] = pd.to_datetime(data_export['date'])\n",
    "    data_export.sort_values('date', inplace = True)\n",
    "    \n",
    "    # store new data\n",
    "    data_export.to_parquet(folder_path+f'fx_data_{curr_pair[:3]}_{curr_pair[4:]}.parquet', index = False)\n",
    "\n",
    "# close connection\n",
    "con.close()"
   ]
  }
 ],
 "metadata": {
  "kernelspec": {
   "display_name": "Python 3",
   "language": "python",
   "name": "python3"
  },
  "language_info": {
   "codemirror_mode": {
    "name": "ipython",
    "version": 3
   },
   "file_extension": ".py",
   "mimetype": "text/x-python",
   "name": "python",
   "nbconvert_exporter": "python",
   "pygments_lexer": "ipython3",
   "version": "3.7.4"
  }
 },
 "nbformat": 4,
 "nbformat_minor": 4
}
