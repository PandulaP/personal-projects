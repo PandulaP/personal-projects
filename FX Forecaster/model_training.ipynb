{
 "cells": [
  {
   "cell_type": "code",
   "execution_count": 54,
   "metadata": {},
   "outputs": [],
   "source": [
    "import pandas as pd\n",
    "import numpy as np\n",
    "import os\n",
    "from os import listdir\n",
    "import shutil\n",
    "from pathlib import Path"
   ]
  },
  {
   "cell_type": "code",
   "execution_count": 55,
   "metadata": {},
   "outputs": [],
   "source": [
    "# list of instruments to generate data\n",
    "curr_pairs = ['EUR/USD',\n",
    "             'GBP/USD',\n",
    "             #'USD/CHF',\n",
    "             #'AUD/USD',\n",
    "             'USD/CAD',\n",
    "             #'NZD/USD',\n",
    "             #'EUR/CHF',\n",
    "             'EUR/GBP',\n",
    "             'EUR/AUD',\n",
    "             'EUR/CAD']"
   ]
  },
  {
   "cell_type": "code",
   "execution_count": 64,
   "metadata": {},
   "outputs": [],
   "source": [
    "def generate_model_inputs(replace_all=False):\n",
    "\n",
    "    # folder to store all training images for the model\n",
    "    target_f = f'./data/model_train_imgs/'\n",
    "\n",
    "    # create a separate folder to save images of each signal\n",
    "    for signal in ['Buy/','Sell/','Hold/']:\n",
    "        \n",
    "        # delete folder (and content)\n",
    "        if replace_all:            \n",
    "            dirpath = Path(target_f, signal)\n",
    "            if dirpath.exists() and dirpath.is_dir():\n",
    "                shutil.rmtree(dirpath)\n",
    "            \n",
    "        # create folder (if it doesn't exist)    \n",
    "        if not os.path.exists(target_f+signal):\n",
    "            os.makedirs(target_f+signal)\n",
    "\n",
    "    # Extract images from curr. pair folders and save them in target folder\n",
    "    for curr_pair in curr_pairs:    \n",
    "\n",
    "        # load all file names in curr. pair folder\n",
    "        input_f = f'./data/fx_data/{curr_pair[:3]}_{curr_pair[4:]}/train_imgs/'\n",
    "        files = listdir(input_f)\n",
    "\n",
    "        # rename and save images in corresponding 'Buy', 'Sell', 'Hold' folder\n",
    "        for file in files:\n",
    "\n",
    "            if 'hold' in file.lower():\n",
    "                shutil.copy(input_f+file, target_f+'Hold/'+ file)\n",
    "            elif 'buy' in file.lower():\n",
    "                shutil.copy(input_f+file, target_f+'Buy/'+ file)\n",
    "            elif 'sell' in file.lower():\n",
    "                shutil.copy(input_f+file, target_f+'Sell/'+ file)\n",
    "            else:\n",
    "                print(f'error in file: {file}')\n",
    "                break\n"
   ]
  },
  {
   "cell_type": "code",
   "execution_count": 65,
   "metadata": {},
   "outputs": [],
   "source": [
    "generate_model_inputs()"
   ]
  }
 ],
 "metadata": {
  "kernelspec": {
   "display_name": "Python 3",
   "language": "python",
   "name": "python3"
  },
  "language_info": {
   "codemirror_mode": {
    "name": "ipython",
    "version": 3
   },
   "file_extension": ".py",
   "mimetype": "text/x-python",
   "name": "python",
   "nbconvert_exporter": "python",
   "pygments_lexer": "ipython3",
   "version": "3.7.4"
  }
 },
 "nbformat": 4,
 "nbformat_minor": 4
}
