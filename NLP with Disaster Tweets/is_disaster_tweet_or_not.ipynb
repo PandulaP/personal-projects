{
  "nbformat": 4,
  "nbformat_minor": 0,
  "metadata": {
    "accelerator": "GPU",
    "colab": {
      "name": "is_disaster_tweet_or_not.ipynb",
      "provenance": [],
      "collapsed_sections": [],
      "toc_visible": true
    },
    "kernelspec": {
      "display_name": "Python 3",
      "language": "python",
      "name": "python3"
    },
    "language_info": {
      "codemirror_mode": {
        "name": "ipython",
        "version": 3
      },
      "file_extension": ".py",
      "mimetype": "text/x-python",
      "name": "python",
      "nbconvert_exporter": "python",
      "pygments_lexer": "ipython3",
      "version": "3.8.5"
    }
  },
  "cells": [
    {
      "cell_type": "markdown",
      "metadata": {
        "id": "qdMrgqFrk-vd"
      },
      "source": [
        "## Predict which Tweets are about real disasters and which ones are not"
      ]
    },
    {
      "cell_type": "code",
      "metadata": {
        "colab": {
          "base_uri": "https://localhost:8080/"
        },
        "id": "iY6hMbowyGWZ",
        "outputId": "b1cf9935-cf88-49c4-ef6e-cf8fffc12d1d"
      },
      "source": [
        "import pandas as pd\r\n",
        "import numpy as np\r\n",
        "import matplotlib.pyplot as plt\r\n",
        "import seaborn as sns\r\n",
        "import string \r\n",
        "import nltk\r\n",
        "import re\r\n",
        "from sklearn.model_selection import train_test_split\r\n",
        "from sklearn.metrics import classification_report\r\n",
        "\r\n",
        "from fastai.text import *\r\n",
        "from fastai.callbacks import *\r\n",
        "\r\n",
        "nltk.download('stopwords')\r\n",
        "from nltk.corpus import stopwords "
      ],
      "execution_count": 102,
      "outputs": [
        {
          "output_type": "stream",
          "text": [
            "[nltk_data] Downloading package stopwords to /root/nltk_data...\n",
            "[nltk_data]   Package stopwords is already up-to-date!\n"
          ],
          "name": "stdout"
        }
      ]
    },
    {
      "cell_type": "code",
      "metadata": {
        "colab": {
          "base_uri": "https://localhost:8080/"
        },
        "id": "l50xRZ-zw2s3",
        "outputId": "605ff398-2050-4683-f741-ffc4f8579f9a"
      },
      "source": [
        "from google.colab import drive\r\n",
        "drive.mount('/content/drive')\r\n",
        "\r\n",
        "!unzip /content/drive/MyDrive/my_projects/datasets/disaster_tweets/nlp-getting-started.zip"
      ],
      "execution_count": null,
      "outputs": [
        {
          "output_type": "stream",
          "text": [
            "Mounted at /content/drive\n",
            "Archive:  /content/drive/MyDrive/my_projects/datasets/disaster_tweets/nlp-getting-started.zip\n",
            "  inflating: sample_submission.csv   \n",
            "  inflating: test.csv                \n",
            "  inflating: train.csv               \n"
          ],
          "name": "stdout"
        }
      ]
    },
    {
      "cell_type": "markdown",
      "metadata": {
        "id": "fXzzjaLHwXrC"
      },
      "source": [
        "### First look at the dataset"
      ]
    },
    {
      "cell_type": "code",
      "metadata": {
        "id": "sNmYAhddngqk"
      },
      "source": [
        "train_data = pd.read_csv(\"train.csv\")\r\n",
        "test_data = pd.read_csv('test.csv')"
      ],
      "execution_count": 299,
      "outputs": []
    },
    {
      "cell_type": "code",
      "metadata": {
        "colab": {
          "base_uri": "https://localhost:8080/"
        },
        "id": "3D9cZu1bnw3U",
        "outputId": "568fff19-6522-4dcd-99ff-1dd58d141f7d"
      },
      "source": [
        "print(train_data.shape), train_data.head()"
      ],
      "execution_count": null,
      "outputs": [
        {
          "output_type": "stream",
          "text": [
            "(7613, 5)\n"
          ],
          "name": "stdout"
        },
        {
          "output_type": "execute_result",
          "data": {
            "text/plain": [
              "(None,\n",
              "    id keyword  ...                                               text target\n",
              " 0   1     NaN  ...  Our Deeds are the Reason of this #earthquake M...      1\n",
              " 1   4     NaN  ...             Forest fire near La Ronge Sask. Canada      1\n",
              " 2   5     NaN  ...  All residents asked to 'shelter in place' are ...      1\n",
              " 3   6     NaN  ...  13,000 people receive #wildfires evacuation or...      1\n",
              " 4   7     NaN  ...  Just got sent this photo from Ruby #Alaska as ...      1\n",
              " \n",
              " [5 rows x 5 columns])"
            ]
          },
          "metadata": {
            "tags": []
          },
          "execution_count": 5
        }
      ]
    },
    {
      "cell_type": "code",
      "metadata": {
        "colab": {
          "base_uri": "https://localhost:8080/"
        },
        "id": "D3AI7BzEn0_K",
        "outputId": "d01c54e5-4742-42b9-ba9a-0b0351546880"
      },
      "source": [
        "print(test_data.shape), test_data.head()"
      ],
      "execution_count": null,
      "outputs": [
        {
          "output_type": "stream",
          "text": [
            "(3263, 4)\n"
          ],
          "name": "stdout"
        },
        {
          "output_type": "execute_result",
          "data": {
            "text/plain": [
              "(None,\n",
              "    id keyword location                                               text\n",
              " 0   0     NaN      NaN                 Just happened a terrible car crash\n",
              " 1   2     NaN      NaN  Heard about #earthquake is different cities, s...\n",
              " 2   3     NaN      NaN  there is a forest fire at spot pond, geese are...\n",
              " 3   9     NaN      NaN           Apocalypse lighting. #Spokane #wildfires\n",
              " 4  11     NaN      NaN      Typhoon Soudelor kills 28 in China and Taiwan)"
            ]
          },
          "metadata": {
            "tags": []
          },
          "execution_count": 6
        }
      ]
    },
    {
      "cell_type": "code",
      "metadata": {
        "colab": {
          "base_uri": "https://localhost:8080/"
        },
        "id": "dKyX33tKw2s4",
        "outputId": "b90dffd1-8278-43db-f3b4-1cb188437f09"
      },
      "source": [
        "print(f\" Sample for a a real disaster tweet:\\n {train_data[train_data.target == 1].text.sample().values[0]}\")"
      ],
      "execution_count": null,
      "outputs": [
        {
          "output_type": "stream",
          "text": [
            " Sample for a a real disaster tweet:\n",
            " #Russia 'food crematoria' provoke outrage in country w/soaring poverty +Soviet famine memory http://t.co/vymOuZjZRe http://t.co/eNRJh5Qkve\n"
          ],
          "name": "stdout"
        }
      ]
    },
    {
      "cell_type": "markdown",
      "metadata": {
        "id": "CZ65dzilrs5w"
      },
      "source": [
        "Check if `keyword` and `location` variables can be useful for the prediction task\r\n",
        "  - There seems to be missing values in the dataset: check how many.\r\n"
      ]
    },
    {
      "cell_type": "code",
      "metadata": {
        "colab": {
          "base_uri": "https://localhost:8080/"
        },
        "id": "EGKjzCnbpnyd",
        "outputId": "02d4475c-887d-4153-e9c7-5b5bf8e03c95"
      },
      "source": [
        "missing_vals_train = train_data[['keyword', 'location','text']].isna().sum().reset_index()\r\n",
        "missing_vals_train.columns = ['variable', '# missing values']\r\n",
        "print('Training set:\\n',missing_vals_train)\r\n",
        "\r\n",
        "missing_vals_test = test_data[['keyword', 'location','text']].isna().sum().reset_index()\r\n",
        "missing_vals_test.columns = ['variable', '# missing values']\r\n",
        "print('\\nTest set:\\n',missing_vals_test)"
      ],
      "execution_count": null,
      "outputs": [
        {
          "output_type": "stream",
          "text": [
            "Training set:\n",
            "    variable  # missing values\n",
            "0   keyword                61\n",
            "1  location              2533\n",
            "2      text                 0\n",
            "\n",
            "Test set:\n",
            "    variable  # missing values\n",
            "0   keyword                26\n",
            "1  location              1105\n",
            "2      text                 0\n"
          ],
          "name": "stdout"
        }
      ]
    },
    {
      "cell_type": "markdown",
      "metadata": {
        "id": "-lSUt17lpnu9"
      },
      "source": [
        "- `location` has too many missing values to be useful, therefore, we won't use it"
      ]
    },
    {
      "cell_type": "markdown",
      "metadata": {
        "id": "qYY3VQ9hpnm5"
      },
      "source": [
        "We should check if there are distinct `keyword` values that help for the prediction."
      ]
    },
    {
      "cell_type": "code",
      "metadata": {
        "colab": {
          "base_uri": "https://localhost:8080/",
          "height": 1000
        },
        "id": "6ULqauBdskAD",
        "outputId": "9f7778df-c2cd-492a-9d11-3478e7621ce5"
      },
      "source": [
        "train_keywords = train_data.groupby('target').keyword.value_counts().unstack().T\r\n",
        "train_keywords = train_keywords.melt(ignore_index=False).reset_index()\r\n",
        "train_keywords.sort_values(['keyword','target','value'])\r\n",
        "\r\n",
        "plt.figure(figsize=(10,50))\r\n",
        "sns.barplot(y='keyword'\r\n",
        "            , x = 'value'\r\n",
        "            , hue = 'target'\r\n",
        "            , data = train_keywords\r\n",
        "            )\r\n",
        "\r\n",
        "plt.tight_layout()"
      ],
      "execution_count": null,
      "outputs": [
        {
          "output_type": "display_data",
          "data": {
            "image/png": "[encoded data removed]",
            "text/plain": [
              "<Figure size 720x3600 with 1 Axes>"
            ]
          },
          "metadata": {
            "tags": []
          }
        }
      ]
    },
    {
      "cell_type": "markdown",
      "metadata": {
        "id": "zr-F28eUskTF"
      },
      "source": [
        "It does seem that certain keywords are used frequently in each target group. Therefore, it would make sense to use `keyword` values as an input for the model"
      ]
    },
    {
      "cell_type": "markdown",
      "metadata": {
        "id": "m4duL6WzKqeR"
      },
      "source": [
        "### Data Preprocessing\r\n",
        "\r\n",
        "\r\n",
        "The `clean` func. used to clean the tweets is taken from [NLP with Disaster Tweets - EDA, Cleaning and BERT](https://www.kaggle.com/gunesevitan/nlp-with-disaster-tweets-eda-cleaning-and-bert#0.-Introduction-and-References)"
      ]
    },
    {
      "cell_type": "code",
      "metadata": {
        "id": "nlRa6hzLKqZ2"
      },
      "source": [
        "def clean(tweet): \r\n",
        "            \r\n",
        "    # Special characters\r\n",
        "    tweet = re.sub(r\"\\x89Û_\", \"\", tweet)\r\n",
        "    tweet = re.sub(r\"\\x89ÛÒ\", \"\", tweet)\r\n",
        "    tweet = re.sub(r\"\\x89ÛÓ\", \"\", tweet)\r\n",
        "    tweet = re.sub(r\"\\x89ÛÏWhen\", \"When\", tweet)\r\n",
        "    tweet = re.sub(r\"\\x89ÛÏ\", \"\", tweet)\r\n",
        "    tweet = re.sub(r\"China\\x89Ûªs\", \"China's\", tweet)\r\n",
        "    tweet = re.sub(r\"let\\x89Ûªs\", \"let's\", tweet)\r\n",
        "    tweet = re.sub(r\"\\x89Û÷\", \"\", tweet)\r\n",
        "    tweet = re.sub(r\"\\x89Ûª\", \"\", tweet)\r\n",
        "    tweet = re.sub(r\"\\x89Û\\x9d\", \"\", tweet)\r\n",
        "    tweet = re.sub(r\"å_\", \"\", tweet)\r\n",
        "    tweet = re.sub(r\"\\x89Û¢\", \"\", tweet)\r\n",
        "    tweet = re.sub(r\"\\x89Û¢åÊ\", \"\", tweet)\r\n",
        "    tweet = re.sub(r\"fromåÊwounds\", \"from wounds\", tweet)\r\n",
        "    tweet = re.sub(r\"åÊ\", \"\", tweet)\r\n",
        "    tweet = re.sub(r\"åÈ\", \"\", tweet)\r\n",
        "    tweet = re.sub(r\"JapÌ_n\", \"Japan\", tweet)    \r\n",
        "    tweet = re.sub(r\"Ì©\", \"e\", tweet)\r\n",
        "    tweet = re.sub(r\"å¨\", \"\", tweet)\r\n",
        "    tweet = re.sub(r\"SuruÌ¤\", \"Suruc\", tweet)\r\n",
        "    tweet = re.sub(r\"åÇ\", \"\", tweet)\r\n",
        "    tweet = re.sub(r\"å£3million\", \"3 million\", tweet)\r\n",
        "    tweet = re.sub(r\"åÀ\", \"\", tweet)\r\n",
        "    \r\n",
        "    # Contractions\r\n",
        "    tweet = re.sub(r\"he's\", \"he is\", tweet)\r\n",
        "    tweet = re.sub(r\"there's\", \"there is\", tweet)\r\n",
        "    tweet = re.sub(r\"We're\", \"We are\", tweet)\r\n",
        "    tweet = re.sub(r\"That's\", \"That is\", tweet)\r\n",
        "    tweet = re.sub(r\"won't\", \"will not\", tweet)\r\n",
        "    tweet = re.sub(r\"they're\", \"they are\", tweet)\r\n",
        "    tweet = re.sub(r\"Can't\", \"Cannot\", tweet)\r\n",
        "    tweet = re.sub(r\"wasn't\", \"was not\", tweet)\r\n",
        "    tweet = re.sub(r\"don\\x89Ûªt\", \"do not\", tweet)\r\n",
        "    tweet = re.sub(r\"aren't\", \"are not\", tweet)\r\n",
        "    tweet = re.sub(r\"isn't\", \"is not\", tweet)\r\n",
        "    tweet = re.sub(r\"What's\", \"What is\", tweet)\r\n",
        "    tweet = re.sub(r\"haven't\", \"have not\", tweet)\r\n",
        "    tweet = re.sub(r\"hasn't\", \"has not\", tweet)\r\n",
        "    tweet = re.sub(r\"There's\", \"There is\", tweet)\r\n",
        "    tweet = re.sub(r\"He's\", \"He is\", tweet)\r\n",
        "    tweet = re.sub(r\"It's\", \"It is\", tweet)\r\n",
        "    tweet = re.sub(r\"You're\", \"You are\", tweet)\r\n",
        "    tweet = re.sub(r\"I'M\", \"I am\", tweet)\r\n",
        "    tweet = re.sub(r\"shouldn't\", \"should not\", tweet)\r\n",
        "    tweet = re.sub(r\"wouldn't\", \"would not\", tweet)\r\n",
        "    tweet = re.sub(r\"i'm\", \"I am\", tweet)\r\n",
        "    tweet = re.sub(r\"I\\x89Ûªm\", \"I am\", tweet)\r\n",
        "    tweet = re.sub(r\"I'm\", \"I am\", tweet)\r\n",
        "    tweet = re.sub(r\"Isn't\", \"is not\", tweet)\r\n",
        "    tweet = re.sub(r\"Here's\", \"Here is\", tweet)\r\n",
        "    tweet = re.sub(r\"you've\", \"you have\", tweet)\r\n",
        "    tweet = re.sub(r\"you\\x89Ûªve\", \"you have\", tweet)\r\n",
        "    tweet = re.sub(r\"we're\", \"we are\", tweet)\r\n",
        "    tweet = re.sub(r\"what's\", \"what is\", tweet)\r\n",
        "    tweet = re.sub(r\"couldn't\", \"could not\", tweet)\r\n",
        "    tweet = re.sub(r\"we've\", \"we have\", tweet)\r\n",
        "    tweet = re.sub(r\"it\\x89Ûªs\", \"it is\", tweet)\r\n",
        "    tweet = re.sub(r\"doesn\\x89Ûªt\", \"does not\", tweet)\r\n",
        "    tweet = re.sub(r\"It\\x89Ûªs\", \"It is\", tweet)\r\n",
        "    tweet = re.sub(r\"Here\\x89Ûªs\", \"Here is\", tweet)\r\n",
        "    tweet = re.sub(r\"who's\", \"who is\", tweet)\r\n",
        "    tweet = re.sub(r\"I\\x89Ûªve\", \"I have\", tweet)\r\n",
        "    tweet = re.sub(r\"y'all\", \"you all\", tweet)\r\n",
        "    tweet = re.sub(r\"can\\x89Ûªt\", \"cannot\", tweet)\r\n",
        "    tweet = re.sub(r\"would've\", \"would have\", tweet)\r\n",
        "    tweet = re.sub(r\"it'll\", \"it will\", tweet)\r\n",
        "    tweet = re.sub(r\"we'll\", \"we will\", tweet)\r\n",
        "    tweet = re.sub(r\"wouldn\\x89Ûªt\", \"would not\", tweet)\r\n",
        "    tweet = re.sub(r\"We've\", \"We have\", tweet)\r\n",
        "    tweet = re.sub(r\"he'll\", \"he will\", tweet)\r\n",
        "    tweet = re.sub(r\"Y'all\", \"You all\", tweet)\r\n",
        "    tweet = re.sub(r\"Weren't\", \"Were not\", tweet)\r\n",
        "    tweet = re.sub(r\"Didn't\", \"Did not\", tweet)\r\n",
        "    tweet = re.sub(r\"they'll\", \"they will\", tweet)\r\n",
        "    tweet = re.sub(r\"they'd\", \"they would\", tweet)\r\n",
        "    tweet = re.sub(r\"DON'T\", \"DO NOT\", tweet)\r\n",
        "    tweet = re.sub(r\"That\\x89Ûªs\", \"That is\", tweet)\r\n",
        "    tweet = re.sub(r\"they've\", \"they have\", tweet)\r\n",
        "    tweet = re.sub(r\"i'd\", \"I would\", tweet)\r\n",
        "    tweet = re.sub(r\"should've\", \"should have\", tweet)\r\n",
        "    tweet = re.sub(r\"You\\x89Ûªre\", \"You are\", tweet)\r\n",
        "    tweet = re.sub(r\"where's\", \"where is\", tweet)\r\n",
        "    tweet = re.sub(r\"Don\\x89Ûªt\", \"Do not\", tweet)\r\n",
        "    tweet = re.sub(r\"we'd\", \"we would\", tweet)\r\n",
        "    tweet = re.sub(r\"i'll\", \"I will\", tweet)\r\n",
        "    tweet = re.sub(r\"weren't\", \"were not\", tweet)\r\n",
        "    tweet = re.sub(r\"They're\", \"They are\", tweet)\r\n",
        "    tweet = re.sub(r\"Can\\x89Ûªt\", \"Cannot\", tweet)\r\n",
        "    tweet = re.sub(r\"you\\x89Ûªll\", \"you will\", tweet)\r\n",
        "    tweet = re.sub(r\"I\\x89Ûªd\", \"I would\", tweet)\r\n",
        "    tweet = re.sub(r\"let's\", \"let us\", tweet)\r\n",
        "    tweet = re.sub(r\"it's\", \"it is\", tweet)\r\n",
        "    tweet = re.sub(r\"can't\", \"cannot\", tweet)\r\n",
        "    tweet = re.sub(r\"don't\", \"do not\", tweet)\r\n",
        "    tweet = re.sub(r\"you're\", \"you are\", tweet)\r\n",
        "    tweet = re.sub(r\"i've\", \"I have\", tweet)\r\n",
        "    tweet = re.sub(r\"that's\", \"that is\", tweet)\r\n",
        "    tweet = re.sub(r\"i'll\", \"I will\", tweet)\r\n",
        "    tweet = re.sub(r\"doesn't\", \"does not\", tweet)\r\n",
        "    tweet = re.sub(r\"i'd\", \"I would\", tweet)\r\n",
        "    tweet = re.sub(r\"didn't\", \"did not\", tweet)\r\n",
        "    tweet = re.sub(r\"ain't\", \"am not\", tweet)\r\n",
        "    tweet = re.sub(r\"you'll\", \"you will\", tweet)\r\n",
        "    tweet = re.sub(r\"I've\", \"I have\", tweet)\r\n",
        "    tweet = re.sub(r\"Don't\", \"do not\", tweet)\r\n",
        "    tweet = re.sub(r\"I'll\", \"I will\", tweet)\r\n",
        "    tweet = re.sub(r\"I'd\", \"I would\", tweet)\r\n",
        "    tweet = re.sub(r\"Let's\", \"Let us\", tweet)\r\n",
        "    tweet = re.sub(r\"you'd\", \"You would\", tweet)\r\n",
        "    tweet = re.sub(r\"It's\", \"It is\", tweet)\r\n",
        "    tweet = re.sub(r\"Ain't\", \"am not\", tweet)\r\n",
        "    tweet = re.sub(r\"Haven't\", \"Have not\", tweet)\r\n",
        "    tweet = re.sub(r\"Could've\", \"Could have\", tweet)\r\n",
        "    tweet = re.sub(r\"youve\", \"you have\", tweet)  \r\n",
        "    tweet = re.sub(r\"donå«t\", \"do not\", tweet)   \r\n",
        "    tweet = re.sub(r\"won\\'t\", \"will not\", tweet)\r\n",
        "    tweet = re.sub(r\"can\\'t\", \"can not\", tweet)\r\n",
        "    #tweet = re.sub(r\"n\\'t\", \" not\", tweet)\r\n",
        "    #tweet = re.sub(r\"\\'re\", \" are\", tweet)\r\n",
        "    #tweet = re.sub(r\"\\'s\", \" is\", tweet)\r\n",
        "    #tweet = re.sub(r\"\\'d\", \" would\", tweet)\r\n",
        "    #tweet = re.sub(r\"\\'ll\", \" will\", tweet)\r\n",
        "    #tweet = re.sub(r\"\\'t\", \" not\", tweet)\r\n",
        "    #tweet = re.sub(r\"\\'ve\", \" have\", tweet)\r\n",
        "    #tweet = re.sub(r\"\\'m\", \" am\", tweet)\r\n",
        "            \r\n",
        "    # Character entity references\r\n",
        "    tweet = re.sub(r\"&gt;\", \">\", tweet)\r\n",
        "    tweet = re.sub(r\"&lt;\", \"<\", tweet)\r\n",
        "    tweet = re.sub(r\"&amp;\", \"&\", tweet)\r\n",
        "    \r\n",
        "    # Typos, slang and informal abbreviations\r\n",
        "    tweet = re.sub(r\"w/e\", \"whatever\", tweet)\r\n",
        "    tweet = re.sub(r\"w/\", \"with\", tweet)\r\n",
        "    tweet = re.sub(r\"USAgov\", \"USA government\", tweet)\r\n",
        "    tweet = re.sub(r\"recentlu\", \"recently\", tweet)\r\n",
        "    tweet = re.sub(r\"Ph0tos\", \"Photos\", tweet)\r\n",
        "    tweet = re.sub(r\"amirite\", \"am I right\", tweet)\r\n",
        "    tweet = re.sub(r\"exp0sed\", \"exposed\", tweet)\r\n",
        "    tweet = re.sub(r\"<3\", \"love\", tweet)\r\n",
        "    tweet = re.sub(r\"amageddon\", \"armageddon\", tweet)\r\n",
        "    tweet = re.sub(r\"Trfc\", \"Traffic\", tweet)\r\n",
        "    tweet = re.sub(r\"8/5/2015\", \"2015-08-05\", tweet)\r\n",
        "    tweet = re.sub(r\"WindStorm\", \"Wind Storm\", tweet)\r\n",
        "    tweet = re.sub(r\"8/6/2015\", \"2015-08-06\", tweet)\r\n",
        "    tweet = re.sub(r\"10:38PM\", \"10:38 PM\", tweet)\r\n",
        "    tweet = re.sub(r\"10:30pm\", \"10:30 PM\", tweet)\r\n",
        "    tweet = re.sub(r\"16yr\", \"16 year\", tweet)\r\n",
        "    tweet = re.sub(r\"lmao\", \"laughing my ass off\", tweet)   \r\n",
        "    tweet = re.sub(r\"TRAUMATISED\", \"traumatized\", tweet)\r\n",
        "\r\n",
        "    # tweet = re.sub(r\"$\" , \" dollar \", tweet)\r\n",
        "    # tweet = re.sub(r\"€\" , \" euro \", tweet)\r\n",
        "    # tweet = re.sub(r\"4ao\" , \"for adults only\", tweet)\r\n",
        "    # tweet = re.sub(r\"a.m\" , \"before midday\", tweet)\r\n",
        "    # tweet = re.sub(r\"a3\" , \"anytime anywhere anyplace\", tweet)\r\n",
        "    # tweet = re.sub(r\"aamof\" , \"as a matter of fact\", tweet)\r\n",
        "    # tweet = re.sub(r\"acct\" , \"account\", tweet)\r\n",
        "    # tweet = re.sub(r\"adih\" , \"another day in hell\", tweet)\r\n",
        "    # tweet = re.sub(r\"afaic\" , \"as far as i am concerned\", tweet)\r\n",
        "    # tweet = re.sub(r\"afaict\" , \"as far as i can tell\", tweet)\r\n",
        "    tweet = re.sub(r\"afaik\" , \"as far as i know\", tweet)\r\n",
        "    tweet = re.sub(r\"afair\" , \"as far as i remember\", tweet)\r\n",
        "    # tweet = re.sub(r\"afk\" , \"away from keyboard\", tweet)\r\n",
        "    tweet = re.sub(r\"app\" , \"application\", tweet)\r\n",
        "    tweet = re.sub(r\"approx\" , \"approximately\", tweet)\r\n",
        "    # tweet = re.sub(r\"apps\" , \"applications\", tweet)\r\n",
        "    tweet = re.sub(r\"asap\" , \"as soon as possible\", tweet)\r\n",
        "    # tweet = re.sub(r\"asl\" , \"age, sex, location\", tweet)\r\n",
        "    # tweet = re.sub(r\"atk\" , \"at the keyboard\", tweet)\r\n",
        "    # tweet = re.sub(r\"ave.\" , \"avenue\", tweet)\r\n",
        "    # tweet = re.sub(r\"aymm\" , \"are you my mother\", tweet)\r\n",
        "    # tweet = re.sub(r\"ayor\" , \"at your own risk\", tweet) \r\n",
        "    tweet = re.sub(r\"b&b\" , \"bed and breakfast\", tweet)\r\n",
        "    tweet = re.sub(r\"b+b\" , \"bed and breakfast\", tweet)\r\n",
        "    # tweet = re.sub(r\"b.c\" , \"before christ\", tweet)\r\n",
        "    tweet = re.sub(r\"b2b\" , \"business to business\", tweet)\r\n",
        "    tweet = re.sub(r\"b2c\" , \"business to customer\", tweet)\r\n",
        "    tweet = re.sub(r\"b4\" , \"before\", tweet)\r\n",
        "    tweet = re.sub(r\"b4n\" , \"bye for now\", tweet)\r\n",
        "    # tweet = re.sub(r\"b@u\" , \"back at you\", tweet)\r\n",
        "    # tweet = re.sub(r\"bae\" , \"before anyone else\", tweet)\r\n",
        "    # tweet = re.sub(r\"bak\" , \"back at keyboard\", tweet)\r\n",
        "    # tweet = re.sub(r\"bbbg\" , \"bye bye be good\", tweet)\r\n",
        "    # tweet = re.sub(r\"bbc\" , \"british broadcasting corporation\", tweet)\r\n",
        "    # tweet = re.sub(r\"bbias\" , \"be back in a second\", tweet)\r\n",
        "    # tweet = re.sub(r\"bbl\" , \"be back later\", tweet)\r\n",
        "    # tweet = re.sub(r\"bbs\" , \"be back soon\", tweet)\r\n",
        "    # tweet = re.sub(r\"be4\" , \"before\", tweet)\r\n",
        "    # tweet = re.sub(r\"bfn\" , \"bye for now\", tweet)\r\n",
        "    # tweet = re.sub(r\"blvd\" , \"boulevard\", tweet)\r\n",
        "    # tweet = re.sub(r\"bout\" , \"about\", tweet)\r\n",
        "    # tweet = re.sub(r\"brb\" , \"be right back\", tweet)\r\n",
        "    tweet = re.sub(r\"bros\" , \"brothers\", tweet)\r\n",
        "    # tweet = re.sub(r\"brt\" , \"be right there\", tweet)\r\n",
        "    # tweet = re.sub(r\"bsaaw\" , \"big smile and a wink\", tweet)\r\n",
        "    tweet = re.sub(r\"btw\" , \"by the way\", tweet)\r\n",
        "    # tweet = re.sub(r\"bwl\" , \"bursting with laughter\", tweet)\r\n",
        "    # tweet = re.sub(r\"c/o\" , \"care of\", tweet)\r\n",
        "    # tweet = re.sub(r\"cet\" , \"central european time\", tweet)\r\n",
        "    # tweet = re.sub(r\"cf\" , \"compare\", tweet)\r\n",
        "    # tweet = re.sub(r\"cia\" , \"central intelligence agency\", tweet)\r\n",
        "    # tweet = re.sub(r\"csl\" , \"can not stop laughing\", tweet)\r\n",
        "    # tweet = re.sub(r\"cu\" , \"see you\", tweet)\r\n",
        "    # tweet = re.sub(r\"cul8r\" , \"see you later\", tweet)\r\n",
        "    # tweet = re.sub(r\"cv\" , \"curriculum vitae\", tweet)\r\n",
        "    # tweet = re.sub(r\"cwot\" , \"complete waste of time\", tweet)\r\n",
        "    tweet = re.sub(r\"cya\" , \"see you\", tweet)\r\n",
        "    tweet = re.sub(r\"cyt\" , \"see you tomorrow\", tweet)\r\n",
        "    # tweet = re.sub(r\"dae\" , \"does anyone else\", tweet)\r\n",
        "    # tweet = re.sub(r\"dbmib\" , \"do not bother me i am busy\", tweet)\r\n",
        "    tweet = re.sub(r\"diy\" , \"do it yourself\", tweet)\r\n",
        "    tweet = re.sub(r\"dm\" , \"direct message\", tweet)\r\n",
        "    # tweet = re.sub(r\"dwh\" , \"during work hours\", tweet)\r\n",
        "    # tweet = re.sub(r\"e123\" , \"easy as one two three\", tweet)\r\n",
        "    # tweet = re.sub(r\"eet\" , \"eastern european time\", tweet)\r\n",
        "    tweet = re.sub(r\"eg\" , \"example\", tweet)\r\n",
        "    # tweet = re.sub(r\"embm\" , \"early morning business meeting\", tweet)\r\n",
        "    # tweet = re.sub(r\"encl\" , \"enclosed\", tweet)\r\n",
        "    # tweet = re.sub(r\"encl.\" , \"enclosed\", tweet)\r\n",
        "    # tweet = re.sub(r\"etc\" , \"and so on\", tweet)\r\n",
        "    tweet = re.sub(r\"faq\" , \"frequently asked questions\", tweet)\r\n",
        "    # tweet = re.sub(r\"fawc\" , \"for anyone who cares\", tweet)\r\n",
        "    tweet = re.sub(r\"fb\" , \"facebook\", tweet)\r\n",
        "    # tweet = re.sub(r\"fc\" , \"fingers crossed\", tweet)\r\n",
        "    # tweet = re.sub(r\"fig\" , \"figure\", tweet)\r\n",
        "    # tweet = re.sub(r\"fimh\" , \"forever in my heart\", tweet) \r\n",
        "    # tweet = re.sub(r\"ft.\" , \"feet\", tweet)\r\n",
        "    # tweet = re.sub(r\"ft\" , \"featuring\", tweet)\r\n",
        "    # tweet = re.sub(r\"ftl\" , \"for the loss\", tweet)\r\n",
        "    tweet = re.sub(r\"ftw\" , \"for the win\", tweet)\r\n",
        "    # tweet = re.sub(r\"fwiw\" , \"for what it is worth\", tweet)\r\n",
        "    tweet = re.sub(r\"fyi\" , \"for your information\", tweet)\r\n",
        "    # tweet = re.sub(r\"g9\" , \"genius\", tweet)\r\n",
        "    # tweet = re.sub(r\"gahoy\" , \"get a hold of yourself\", tweet)\r\n",
        "    # tweet = re.sub(r\"gal\" , \"get a life\", tweet)\r\n",
        "    # tweet = re.sub(r\"gcse\" , \"general certificate of secondary education\", tweet)\r\n",
        "    # tweet = re.sub(r\"gfn\" , \"gone for now\", tweet)\r\n",
        "    # tweet = re.sub(r\"gg\" , \"good game\", tweet)\r\n",
        "    # tweet = re.sub(r\"gl\" , \"good luck\", tweet)\r\n",
        "    # tweet = re.sub(r\"glhf\" , \"good luck have fun\", tweet)\r\n",
        "    # tweet = re.sub(r\"gmt\" , \"greenwich mean time\", tweet)\r\n",
        "    # tweet = re.sub(r\"gmta\" , \"great minds think alike\", tweet)\r\n",
        "    tweet = re.sub(r\"gn\" , \"good night\", tweet)\r\n",
        "    # tweet = re.sub(r\"g.o.a.t\" , \"greatest of all time\", tweet)\r\n",
        "    # tweet = re.sub(r\"goat\" , \"greatest of all time\", tweet)\r\n",
        "    # tweet = re.sub(r\"goi\" , \"get over it\", tweet)\r\n",
        "    # tweet = re.sub(r\"gps\" , \"global positioning system\", tweet)\r\n",
        "    # tweet = re.sub(r\"gr8\" , \"great\", tweet)\r\n",
        "    # tweet = re.sub(r\"gratz\" , \"congratulations\", tweet)\r\n",
        "    # tweet = re.sub(r\"gyal\" , \"girl\", tweet)\r\n",
        "    # tweet = re.sub(r\"h&c\" , \"hot and cold\", tweet)\r\n",
        "    # tweet = re.sub(r\"hp\" , \"horsepower\", tweet)\r\n",
        "    # tweet = re.sub(r\"hr\" , \"hour\", tweet)\r\n",
        "    # tweet = re.sub(r\"hrh\" , \"his royal highness\", tweet)\r\n",
        "    # tweet = re.sub(r\"ht\" , \"height\", tweet)\r\n",
        "    # tweet = re.sub(r\"ibrb\" , \"i will be right back\", tweet)\r\n",
        "    # tweet = re.sub(r\"ic\" , \"i see\", tweet)\r\n",
        "    # tweet = re.sub(r\"icq\" , \"i seek you\", tweet)\r\n",
        "    # tweet = re.sub(r\"icymi\" , \"in case you missed it\", tweet)\r\n",
        "    # tweet = re.sub(r\"idc\" , \"i do not care\", tweet)\r\n",
        "    # tweet = re.sub(r\"idgadf\" , \"i do not give a damn fuck\", tweet)\r\n",
        "    # tweet = re.sub(r\"idgaf\" , \"i do not give a fuck\", tweet)\r\n",
        "    tweet = re.sub(r\"idk\" , \"i do not know\", tweet)\r\n",
        "    #tweet = re.sub(r\"ie\" , \"that is\", tweet)\r\n",
        "    #tweet = re.sub(r\"i.e\" , \"that is\", tweet)\r\n",
        "    # tweet = re.sub(r\"ifyp\" , \"i feel your pain\", tweet)\r\n",
        "    tweet = re.sub(r\"IG\" , \"instagram\", tweet)\r\n",
        "    tweet = re.sub(r\"iirc\" , \"if i remember correctly\", tweet)\r\n",
        "    # tweet = re.sub(r\"ilu\" , \"i love you\", tweet)\r\n",
        "    # tweet = re.sub(r\"ily\" , \"i love you\", tweet)\r\n",
        "    tweet = re.sub(r\"imho\" , \"in my humble opinion\", tweet)\r\n",
        "    tweet = re.sub(r\"imo\" , \"in my opinion\", tweet)\r\n",
        "    # tweet = re.sub(r\"imu\" , \"i miss you\", tweet)\r\n",
        "    # tweet = re.sub(r\"iow\" , \"in other words\", tweet)\r\n",
        "    # tweet = re.sub(r\"irl\" , \"in real life\", tweet)\r\n",
        "    # tweet = re.sub(r\"j4f\" , \"just for fun\", tweet)\r\n",
        "    # tweet = re.sub(r\"jic\" , \"just in case\", tweet)\r\n",
        "    # tweet = re.sub(r\"jk\" , \"just kidding\", tweet)\r\n",
        "    # tweet = re.sub(r\"jsyk\" , \"just so you know\", tweet)\r\n",
        "    # tweet = re.sub(r\"l8r\" , \"later\", tweet)\r\n",
        "    # tweet = re.sub(r\"lb\" , \"pound\", tweet)\r\n",
        "    # tweet = re.sub(r\"lbs\" , \"pounds\", tweet)\r\n",
        "    # tweet = re.sub(r\"ldr\" , \"long distance relationship\", tweet)\r\n",
        "    tweet = re.sub(r\"lmao\" , \"laugh my ass off\", tweet)\r\n",
        "    tweet = re.sub(r\"lmfao\" , \"laugh my fucking ass off\", tweet)\r\n",
        "    tweet = re.sub(r\"lol\" , \"laughing out loud\", tweet)\r\n",
        "    # tweet = re.sub(r\"ltd\" , \"limited\", tweet)\r\n",
        "    # tweet = re.sub(r\"ltns\" , \"long time no see\", tweet)\r\n",
        "    # tweet = re.sub(r\"m8\" , \"mate\", tweet)\r\n",
        "    # tweet = re.sub(r\"mf\" , \"motherfucker\", tweet)\r\n",
        "    # tweet = re.sub(r\"mfs\" , \"motherfuckers\", tweet)\r\n",
        "    # tweet = re.sub(r\"mfw\" , \"my face when\", tweet)\r\n",
        "    # tweet = re.sub(r\"mofo\" , \"motherfucker\", tweet)\r\n",
        "    # tweet = re.sub(r\"mph\" , \"miles per hour\", tweet)\r\n",
        "    # tweet = re.sub(r\"mr\" , \"mister\", tweet)\r\n",
        "    # tweet = re.sub(r\"mrw\" , \"my reaction when\", tweet)\r\n",
        "    # tweet = re.sub(r\"ms\" , \"miss\", tweet)\r\n",
        "    # tweet = re.sub(r\"mte\" , \"my thoughts exactly\", tweet)\r\n",
        "    # tweet = re.sub(r\"nagi\" , \"not a good idea\", tweet)\r\n",
        "    # tweet = re.sub(r\"nbc\" , \"national broadcasting company\", tweet)\r\n",
        "    # tweet = re.sub(r\"nbd\" , \"not big deal\", tweet)\r\n",
        "    # tweet = re.sub(r\"nfs\" , \"not for sale\", tweet)\r\n",
        "    # tweet = re.sub(r\"ngl\" , \"not going to lie\", tweet)\r\n",
        "    # tweet = re.sub(r\"nhs\" , \"national health service\", tweet)\r\n",
        "    # tweet = re.sub(r\"nrn\" , \"no reply necessary\", tweet)\r\n",
        "    # tweet = re.sub(r\"nsfl\" , \"not safe for life\", tweet)\r\n",
        "    # tweet = re.sub(r\"nsfw\" , \"not safe for work\", tweet)\r\n",
        "    # tweet = re.sub(r\"nth\" , \"nice to have\", tweet)\r\n",
        "    # tweet = re.sub(r\"nvr\" , \"never\", tweet)\r\n",
        "    # tweet = re.sub(r\"nyc\" , \"new york city\", tweet)\r\n",
        "    # tweet = re.sub(r\"oc\" , \"original content\", tweet)\r\n",
        "    # tweet = re.sub(r\"og\" , \"original\", tweet)\r\n",
        "    # tweet = re.sub(r\"ohp\" , \"overhead projector\", tweet)\r\n",
        "    # tweet = re.sub(r\"oic\" , \"oh i see\", tweet)\r\n",
        "    # tweet = re.sub(r\"omdb\" , \"over my dead body\", tweet)\r\n",
        "    tweet = re.sub(r\"omg\" , \"oh my god\", tweet)\r\n",
        "    # tweet = re.sub(r\"omw\" , \"on my way\", tweet)\r\n",
        "    # tweet = re.sub(r\"p.a\" , \"per annum\", tweet)\r\n",
        "    # tweet = re.sub(r\"p.m\" , \"after midday\", tweet)\r\n",
        "    # tweet = re.sub(r\"pm\" , \"prime minister\", tweet)\r\n",
        "    # tweet = re.sub(r\"poc\" , \"people of color\", tweet)\r\n",
        "    # tweet = re.sub(r\"pov\" , \"point of view\", tweet)\r\n",
        "    # tweet = re.sub(r\"pp\" , \"pages\", tweet)\r\n",
        "    tweet = re.sub(r\"ppl\" , \"people\", tweet)\r\n",
        "    # tweet = re.sub(r\"prw\" , \"parents are watching\", tweet)\r\n",
        "    # tweet = re.sub(r\"ps\" , \"postscript\", tweet)\r\n",
        "    # tweet = re.sub(r\"pt\" , \"point\", tweet)\r\n",
        "    # tweet = re.sub(r\"ptb\" , \"please text back\", tweet)\r\n",
        "    # tweet = re.sub(r\"pto\" , \"please turn over\", tweet)\r\n",
        "    # tweet = re.sub(r\"qpsa\" , \"what happens\", tweet) #\"que pasa\", tweet)\r\n",
        "    # tweet = re.sub(r\"ratchet\" , \"rude\", tweet)\r\n",
        "    # tweet = re.sub(r\"rbtl\" , \"read between the lines\", tweet)\r\n",
        "    # tweet = re.sub(r\"rlrt\" , \"real life retweet\", tweet) \r\n",
        "    tweet = re.sub(r\"rofl\" , \"rolling on the floor laughing\", tweet)\r\n",
        "    tweet = re.sub(r\"roflol\" , \"rolling on the floor laughing out loud\", tweet)\r\n",
        "    tweet = re.sub(r\"rotflmao\" , \"rolling on the floor laughing my ass off\", tweet)\r\n",
        "    # tweet = re.sub(r\"rt\" , \"retweet\", tweet)\r\n",
        "    # tweet = re.sub(r\"ruok\" , \"are you ok\", tweet)\r\n",
        "    # tweet = re.sub(r\"sfw\" , \"safe for work\", tweet)\r\n",
        "    # tweet = re.sub(r\"sk8\" , \"skate\", tweet)\r\n",
        "    tweet = re.sub(r\"smh\" , \"shake my head\", tweet)\r\n",
        "    # tweet = re.sub(r\"sq\" , \"square\", tweet)\r\n",
        "    # tweet = re.sub(r\"srsly\" , \"seriously\", tweet) \r\n",
        "    # tweet = re.sub(r\"ssdd\" , \"same stuff different day\", tweet)\r\n",
        "    tweet = re.sub(r\"tbh\" , \"to be honest\", tweet)\r\n",
        "    # tweet = re.sub(r\"tbs\" , \"tablespooful\", tweet)\r\n",
        "    # tweet = re.sub(r\"tbsp\" , \"tablespooful\", tweet)\r\n",
        "    # tweet = re.sub(r\"tfw\" , \"that feeling when\", tweet)\r\n",
        "    # tweet = re.sub(r\"thks\" , \"thank you\", tweet)\r\n",
        "    # tweet = re.sub(r\"tho\" , \"though\", tweet)\r\n",
        "    # tweet = re.sub(r\"thx\" , \"thank you\", tweet)\r\n",
        "    # tweet = re.sub(r\"tia\" , \"thanks in advance\", tweet)\r\n",
        "    # tweet = re.sub(r\"til\" , \"today i learned\", tweet)\r\n",
        "    tweet = re.sub(r\"tl;dr\" , \"too long i did not read\", tweet)\r\n",
        "    tweet = re.sub(r\"tldr\" , \"too long i did not read\", tweet)\r\n",
        "    # tweet = re.sub(r\"tmb\" , \"tweet me back\", tweet)\r\n",
        "    # tweet = re.sub(r\"tntl\" , \"trying not to laugh\", tweet)\r\n",
        "    # tweet = re.sub(r\"ttyl\" , \"talk to you later\", tweet)\r\n",
        "    # tweet = re.sub(r\"u\" , \"you\", tweet)\r\n",
        "    # tweet = re.sub(r\"u2\" , \"you too\", tweet)\r\n",
        "    # tweet = re.sub(r\"u4e\" , \"yours for ever\", tweet)\r\n",
        "    # tweet = re.sub(r\"utc\" , \"coordinated universal time\", tweet)\r\n",
        "    # tweet = re.sub(r\"w/\" , \"with\", tweet)\r\n",
        "    # tweet = re.sub(r\"w/o\" , \"without\", tweet)\r\n",
        "    # tweet = re.sub(r\"w8\" , \"wait\", tweet)\r\n",
        "    # tweet = re.sub(r\"wassup\" , \"what is up\", tweet)\r\n",
        "    # tweet = re.sub(r\"wb\" , \"welcome back\", tweet)\r\n",
        "    tweet = re.sub(r\"wtf\" , \"what the fuck\", tweet)\r\n",
        "    # tweet = re.sub(r\"wtg\" , \"way to go\", tweet)\r\n",
        "    # tweet = re.sub(r\"wtpa\" , \"where the party at\", tweet)\r\n",
        "    # tweet = re.sub(r\"wuf\" , \"where are you from\", tweet)\r\n",
        "    tweet = re.sub(r\"wuzup\" , \"what is up\", tweet)\r\n",
        "    # tweet = re.sub(r\"wywh\" , \"wish you were here\", tweet)\r\n",
        "    # tweet = re.sub(r\"yd\" , \"yard\", tweet)\r\n",
        "    # tweet = re.sub(r\"ygtr\" , \"you got that right\", tweet)\r\n",
        "    # tweet = re.sub(r\"ynk\" , \"you never know\", tweet)\r\n",
        "    tweet = re.sub(r\"zzz\" , \"sleeping bored and tired\", tweet)\r\n",
        "\r\n",
        "\r\n",
        "\r\n",
        "    \r\n",
        "    # Hashtags and usernames\r\n",
        "    tweet = re.sub(r\"IranDeal\", \"Iran Deal\", tweet)\r\n",
        "    tweet = re.sub(r\"ArianaGrande\", \"Ariana Grande\", tweet)\r\n",
        "    tweet = re.sub(r\"camilacabello97\", \"camila cabello\", tweet) \r\n",
        "    tweet = re.sub(r\"RondaRousey\", \"Ronda Rousey\", tweet)     \r\n",
        "    tweet = re.sub(r\"MTVHottest\", \"MTV Hottest\", tweet)\r\n",
        "    tweet = re.sub(r\"TrapMusic\", \"Trap Music\", tweet)\r\n",
        "    tweet = re.sub(r\"ProphetMuhammad\", \"Prophet Muhammad\", tweet)\r\n",
        "    tweet = re.sub(r\"PantherAttack\", \"Panther Attack\", tweet)\r\n",
        "    tweet = re.sub(r\"StrategicPatience\", \"Strategic Patience\", tweet)\r\n",
        "    tweet = re.sub(r\"socialnews\", \"social news\", tweet)\r\n",
        "    tweet = re.sub(r\"NASAHurricane\", \"NASA Hurricane\", tweet)\r\n",
        "    tweet = re.sub(r\"onlinecommunities\", \"online communities\", tweet)\r\n",
        "    tweet = re.sub(r\"humanconsumption\", \"human consumption\", tweet)\r\n",
        "    tweet = re.sub(r\"Typhoon-Devastated\", \"Typhoon Devastated\", tweet)\r\n",
        "    tweet = re.sub(r\"Meat-Loving\", \"Meat Loving\", tweet)\r\n",
        "    tweet = re.sub(r\"facialabuse\", \"facial abuse\", tweet)\r\n",
        "    tweet = re.sub(r\"LakeCounty\", \"Lake County\", tweet)\r\n",
        "    tweet = re.sub(r\"BeingAuthor\", \"Being Author\", tweet)\r\n",
        "    tweet = re.sub(r\"withheavenly\", \"with heavenly\", tweet)\r\n",
        "    tweet = re.sub(r\"thankU\", \"thank you\", tweet)\r\n",
        "    tweet = re.sub(r\"iTunesMusic\", \"iTunes Music\", tweet)\r\n",
        "    tweet = re.sub(r\"OffensiveContent\", \"Offensive Content\", tweet)\r\n",
        "    tweet = re.sub(r\"WorstSummerJob\", \"Worst Summer Job\", tweet)\r\n",
        "    tweet = re.sub(r\"HarryBeCareful\", \"Harry Be Careful\", tweet)\r\n",
        "    tweet = re.sub(r\"NASASolarSystem\", \"NASA Solar System\", tweet)\r\n",
        "    tweet = re.sub(r\"animalrescue\", \"animal rescue\", tweet)\r\n",
        "    tweet = re.sub(r\"KurtSchlichter\", \"Kurt Schlichter\", tweet)\r\n",
        "    tweet = re.sub(r\"aRmageddon\", \"armageddon\", tweet)\r\n",
        "    tweet = re.sub(r\"Throwingknifes\", \"Throwing knives\", tweet)\r\n",
        "    tweet = re.sub(r\"GodsLove\", \"God's Love\", tweet)\r\n",
        "    tweet = re.sub(r\"bookboost\", \"book boost\", tweet)\r\n",
        "    tweet = re.sub(r\"ibooklove\", \"I book love\", tweet)\r\n",
        "    tweet = re.sub(r\"NestleIndia\", \"Nestle India\", tweet)\r\n",
        "    tweet = re.sub(r\"realDonaldTrump\", \"Donald Trump\", tweet)\r\n",
        "    tweet = re.sub(r\"DavidVonderhaar\", \"David Vonderhaar\", tweet)\r\n",
        "    tweet = re.sub(r\"CecilTheLion\", \"Cecil The Lion\", tweet)\r\n",
        "    tweet = re.sub(r\"weathernetwork\", \"weather network\", tweet)\r\n",
        "    tweet = re.sub(r\"withBioterrorism&use\", \"with Bioterrorism & use\", tweet)\r\n",
        "    tweet = re.sub(r\"Hostage&2\", \"Hostage & 2\", tweet)\r\n",
        "    tweet = re.sub(r\"GOPDebate\", \"GOP Debate\", tweet)\r\n",
        "    tweet = re.sub(r\"RickPerry\", \"Rick Perry\", tweet)\r\n",
        "    tweet = re.sub(r\"frontpage\", \"front page\", tweet)\r\n",
        "    tweet = re.sub(r\"NewsInTweets\", \"News In Tweets\", tweet)\r\n",
        "    tweet = re.sub(r\"ViralSpell\", \"Viral Spell\", tweet)\r\n",
        "    tweet = re.sub(r\"til_now\", \"until now\", tweet)\r\n",
        "    tweet = re.sub(r\"volcanoinRussia\", \"volcano in Russia\", tweet)\r\n",
        "    tweet = re.sub(r\"ZippedNews\", \"Zipped News\", tweet)\r\n",
        "    tweet = re.sub(r\"MicheleBachman\", \"Michele Bachman\", tweet)\r\n",
        "    tweet = re.sub(r\"53inch\", \"53 inch\", tweet)\r\n",
        "    tweet = re.sub(r\"KerrickTrial\", \"Kerrick Trial\", tweet)\r\n",
        "    tweet = re.sub(r\"abstorm\", \"Alberta Storm\", tweet)\r\n",
        "    tweet = re.sub(r\"Beyhive\", \"Beyonce hive\", tweet)\r\n",
        "    tweet = re.sub(r\"IDFire\", \"Idaho Fire\", tweet)\r\n",
        "    tweet = re.sub(r\"DETECTADO\", \"Detected\", tweet)\r\n",
        "    tweet = re.sub(r\"RockyFire\", \"Rocky Fire\", tweet)\r\n",
        "    tweet = re.sub(r\"Listen/Buy\", \"Listen / Buy\", tweet)\r\n",
        "    tweet = re.sub(r\"NickCannon\", \"Nick Cannon\", tweet)\r\n",
        "    tweet = re.sub(r\"FaroeIslands\", \"Faroe Islands\", tweet)\r\n",
        "    tweet = re.sub(r\"yycstorm\", \"Calgary Storm\", tweet)\r\n",
        "    tweet = re.sub(r\"IDPs:\", \"Internally Displaced People :\", tweet)\r\n",
        "    tweet = re.sub(r\"ArtistsUnited\", \"Artists United\", tweet)\r\n",
        "    tweet = re.sub(r\"ClaytonBryant\", \"Clayton Bryant\", tweet)\r\n",
        "    tweet = re.sub(r\"jimmyfallon\", \"jimmy fallon\", tweet)\r\n",
        "    tweet = re.sub(r\"justinbieber\", \"justin bieber\", tweet)  \r\n",
        "    tweet = re.sub(r\"UTC2015\", \"UTC 2015\", tweet)\r\n",
        "    tweet = re.sub(r\"Time2015\", \"Time 2015\", tweet)\r\n",
        "    tweet = re.sub(r\"djicemoon\", \"dj icemoon\", tweet)\r\n",
        "    tweet = re.sub(r\"LivingSafely\", \"Living Safely\", tweet)\r\n",
        "    tweet = re.sub(r\"FIFA16\", \"Fifa 2016\", tweet)\r\n",
        "    tweet = re.sub(r\"thisiswhywecanthavenicethings\", \"this is why we cannot have nice things\", tweet)\r\n",
        "    tweet = re.sub(r\"bbcnews\", \"bbc news\", tweet)\r\n",
        "    tweet = re.sub(r\"UndergroundRailraod\", \"Underground Railraod\", tweet)\r\n",
        "    tweet = re.sub(r\"c4news\", \"c4 news\", tweet)\r\n",
        "    tweet = re.sub(r\"OBLITERATION\", \"obliteration\", tweet)\r\n",
        "    tweet = re.sub(r\"MUDSLIDE\", \"mudslide\", tweet)\r\n",
        "    tweet = re.sub(r\"NoSurrender\", \"No Surrender\", tweet)\r\n",
        "    tweet = re.sub(r\"NotExplained\", \"Not Explained\", tweet)\r\n",
        "    tweet = re.sub(r\"greatbritishbakeoff\", \"great british bake off\", tweet)\r\n",
        "    tweet = re.sub(r\"LondonFire\", \"London Fire\", tweet)\r\n",
        "    tweet = re.sub(r\"KOTAWeather\", \"KOTA Weather\", tweet)\r\n",
        "    tweet = re.sub(r\"LuchaUnderground\", \"Lucha Underground\", tweet)\r\n",
        "    tweet = re.sub(r\"KOIN6News\", \"KOIN 6 News\", tweet)\r\n",
        "    tweet = re.sub(r\"LiveOnK2\", \"Live On K2\", tweet)\r\n",
        "    tweet = re.sub(r\"9NewsGoldCoast\", \"9 News Gold Coast\", tweet)\r\n",
        "    tweet = re.sub(r\"nikeplus\", \"nike plus\", tweet)\r\n",
        "    tweet = re.sub(r\"david_cameron\", \"David Cameron\", tweet)\r\n",
        "    tweet = re.sub(r\"peterjukes\", \"Peter Jukes\", tweet)\r\n",
        "    tweet = re.sub(r\"JamesMelville\", \"James Melville\", tweet)\r\n",
        "    tweet = re.sub(r\"megynkelly\", \"Megyn Kelly\", tweet)\r\n",
        "    tweet = re.sub(r\"cnewslive\", \"C News Live\", tweet)\r\n",
        "    tweet = re.sub(r\"JamaicaObserver\", \"Jamaica Observer\", tweet)\r\n",
        "    tweet = re.sub(r\"TweetLikeItsSeptember11th2001\", \"Tweet like it is september 11th 2001\", tweet)\r\n",
        "    tweet = re.sub(r\"cbplawyers\", \"cbp lawyers\", tweet)\r\n",
        "    tweet = re.sub(r\"fewmoretweets\", \"few more tweets\", tweet)\r\n",
        "    tweet = re.sub(r\"BlackLivesMatter\", \"Black Lives Matter\", tweet)\r\n",
        "    tweet = re.sub(r\"cjoyner\", \"Chris Joyner\", tweet)\r\n",
        "    tweet = re.sub(r\"ENGvAUS\", \"England vs Australia\", tweet)\r\n",
        "    tweet = re.sub(r\"ScottWalker\", \"Scott Walker\", tweet)\r\n",
        "    tweet = re.sub(r\"MikeParrActor\", \"Michael Parr\", tweet)\r\n",
        "    tweet = re.sub(r\"4PlayThursdays\", \"Foreplay Thursdays\", tweet)\r\n",
        "    tweet = re.sub(r\"TGF2015\", \"Tontitown Grape Festival\", tweet)\r\n",
        "    tweet = re.sub(r\"realmandyrain\", \"Mandy Rain\", tweet)\r\n",
        "    tweet = re.sub(r\"GraysonDolan\", \"Grayson Dolan\", tweet)\r\n",
        "    tweet = re.sub(r\"ApolloBrown\", \"Apollo Brown\", tweet)\r\n",
        "    tweet = re.sub(r\"saddlebrooke\", \"Saddlebrooke\", tweet)\r\n",
        "    tweet = re.sub(r\"TontitownGrape\", \"Tontitown Grape\", tweet)\r\n",
        "    tweet = re.sub(r\"AbbsWinston\", \"Abbs Winston\", tweet)\r\n",
        "    tweet = re.sub(r\"ShaunKing\", \"Shaun King\", tweet)\r\n",
        "    tweet = re.sub(r\"MeekMill\", \"Meek Mill\", tweet)\r\n",
        "    tweet = re.sub(r\"TornadoGiveaway\", \"Tornado Giveaway\", tweet)\r\n",
        "    tweet = re.sub(r\"GRupdates\", \"GR updates\", tweet)\r\n",
        "    tweet = re.sub(r\"SouthDowns\", \"South Downs\", tweet)\r\n",
        "    tweet = re.sub(r\"braininjury\", \"brain injury\", tweet)\r\n",
        "    tweet = re.sub(r\"auspol\", \"Australian politics\", tweet)\r\n",
        "    tweet = re.sub(r\"PlannedParenthood\", \"Planned Parenthood\", tweet)\r\n",
        "    tweet = re.sub(r\"calgaryweather\", \"Calgary Weather\", tweet)\r\n",
        "    tweet = re.sub(r\"weallheartonedirection\", \"we all heart one direction\", tweet)\r\n",
        "    tweet = re.sub(r\"edsheeran\", \"Ed Sheeran\", tweet)\r\n",
        "    tweet = re.sub(r\"TrueHeroes\", \"True Heroes\", tweet)\r\n",
        "    tweet = re.sub(r\"S3XLEAK\", \"sex leak\", tweet)\r\n",
        "    tweet = re.sub(r\"ComplexMag\", \"Complex Magazine\", tweet)\r\n",
        "    tweet = re.sub(r\"TheAdvocateMag\", \"The Advocate Magazine\", tweet)\r\n",
        "    tweet = re.sub(r\"CityofCalgary\", \"City of Calgary\", tweet)\r\n",
        "    tweet = re.sub(r\"EbolaOutbreak\", \"Ebola Outbreak\", tweet)\r\n",
        "    tweet = re.sub(r\"SummerFate\", \"Summer Fate\", tweet)\r\n",
        "    tweet = re.sub(r\"RAmag\", \"Royal Academy Magazine\", tweet)\r\n",
        "    tweet = re.sub(r\"offers2go\", \"offers to go\", tweet)\r\n",
        "    tweet = re.sub(r\"foodscare\", \"food scare\", tweet)\r\n",
        "    tweet = re.sub(r\"MNPDNashville\", \"Metropolitan Nashville Police Department\", tweet)\r\n",
        "    tweet = re.sub(r\"TfLBusAlerts\", \"TfL Bus Alerts\", tweet)\r\n",
        "    tweet = re.sub(r\"GamerGate\", \"Gamer Gate\", tweet)\r\n",
        "    tweet = re.sub(r\"IHHen\", \"Humanitarian Relief\", tweet)\r\n",
        "    tweet = re.sub(r\"spinningbot\", \"spinning bot\", tweet)\r\n",
        "    tweet = re.sub(r\"ModiMinistry\", \"Modi Ministry\", tweet)\r\n",
        "    tweet = re.sub(r\"TAXIWAYS\", \"taxi ways\", tweet)\r\n",
        "    tweet = re.sub(r\"Calum5SOS\", \"Calum Hood\", tweet)\r\n",
        "    tweet = re.sub(r\"po_st\", \"po.st\", tweet)\r\n",
        "    tweet = re.sub(r\"scoopit\", \"scoop.it\", tweet)\r\n",
        "    tweet = re.sub(r\"UltimaLucha\", \"Ultima Lucha\", tweet)\r\n",
        "    tweet = re.sub(r\"JonathanFerrell\", \"Jonathan Ferrell\", tweet)\r\n",
        "    tweet = re.sub(r\"aria_ahrary\", \"Aria Ahrary\", tweet)\r\n",
        "    tweet = re.sub(r\"rapidcity\", \"Rapid City\", tweet)\r\n",
        "    tweet = re.sub(r\"OutBid\", \"outbid\", tweet)\r\n",
        "    tweet = re.sub(r\"lavenderpoetrycafe\", \"lavender poetry cafe\", tweet)\r\n",
        "    tweet = re.sub(r\"EudryLantiqua\", \"Eudry Lantiqua\", tweet)\r\n",
        "    tweet = re.sub(r\"15PM\", \"15 PM\", tweet)\r\n",
        "    tweet = re.sub(r\"OriginalFunko\", \"Funko\", tweet)\r\n",
        "    tweet = re.sub(r\"rightwaystan\", \"Richard Tan\", tweet)\r\n",
        "    tweet = re.sub(r\"CindyNoonan\", \"Cindy Noonan\", tweet)\r\n",
        "    tweet = re.sub(r\"RT_America\", \"RT America\", tweet)\r\n",
        "    tweet = re.sub(r\"narendramodi\", \"Narendra Modi\", tweet)\r\n",
        "    tweet = re.sub(r\"BakeOffFriends\", \"Bake Off Friends\", tweet)\r\n",
        "    tweet = re.sub(r\"TeamHendrick\", \"Hendrick Motorsports\", tweet)\r\n",
        "    tweet = re.sub(r\"alexbelloli\", \"Alex Belloli\", tweet)\r\n",
        "    tweet = re.sub(r\"itsjustinstuart\", \"Justin Stuart\", tweet)\r\n",
        "    tweet = re.sub(r\"gunsense\", \"gun sense\", tweet)\r\n",
        "    tweet = re.sub(r\"DebateQuestionsWeWantToHear\", \"debate questions we want to hear\", tweet)\r\n",
        "    tweet = re.sub(r\"RoyalCarribean\", \"Royal Carribean\", tweet)\r\n",
        "    tweet = re.sub(r\"samanthaturne19\", \"Samantha Turner\", tweet)\r\n",
        "    tweet = re.sub(r\"JonVoyage\", \"Jon Stewart\", tweet)\r\n",
        "    tweet = re.sub(r\"renew911health\", \"renew 911 health\", tweet)\r\n",
        "    tweet = re.sub(r\"SuryaRay\", \"Surya Ray\", tweet)\r\n",
        "    tweet = re.sub(r\"pattonoswalt\", \"Patton Oswalt\", tweet)\r\n",
        "    tweet = re.sub(r\"minhazmerchant\", \"Minhaz Merchant\", tweet)\r\n",
        "    tweet = re.sub(r\"TLVFaces\", \"Israel Diaspora Coalition\", tweet)\r\n",
        "    tweet = re.sub(r\"pmarca\", \"Marc Andreessen\", tweet)\r\n",
        "    tweet = re.sub(r\"pdx911\", \"Portland Police\", tweet)\r\n",
        "    tweet = re.sub(r\"jamaicaplain\", \"Jamaica Plain\", tweet)\r\n",
        "    tweet = re.sub(r\"Japton\", \"Arkansas\", tweet)\r\n",
        "    tweet = re.sub(r\"RouteComplex\", \"Route Complex\", tweet)\r\n",
        "    tweet = re.sub(r\"INSubcontinent\", \"Indian Subcontinent\", tweet)\r\n",
        "    tweet = re.sub(r\"NJTurnpike\", \"New Jersey Turnpike\", tweet)\r\n",
        "    tweet = re.sub(r\"Politifiact\", \"PolitiFact\", tweet)\r\n",
        "    tweet = re.sub(r\"Hiroshima70\", \"Hiroshima\", tweet)\r\n",
        "    tweet = re.sub(r\"GMMBC\", \"Greater Mt Moriah Baptist Church\", tweet)\r\n",
        "    tweet = re.sub(r\"versethe\", \"verse the\", tweet)\r\n",
        "    tweet = re.sub(r\"TubeStrike\", \"Tube Strike\", tweet)\r\n",
        "    tweet = re.sub(r\"MissionHills\", \"Mission Hills\", tweet)\r\n",
        "    tweet = re.sub(r\"ProtectDenaliWolves\", \"Protect Denali Wolves\", tweet)\r\n",
        "    tweet = re.sub(r\"NANKANA\", \"Nankana\", tweet)\r\n",
        "    tweet = re.sub(r\"SAHIB\", \"Sahib\", tweet)\r\n",
        "    tweet = re.sub(r\"PAKPATTAN\", \"Pakpattan\", tweet)\r\n",
        "    tweet = re.sub(r\"Newz_Sacramento\", \"News Sacramento\", tweet)\r\n",
        "    tweet = re.sub(r\"gofundme\", \"go fund me\", tweet)\r\n",
        "    tweet = re.sub(r\"pmharper\", \"Stephen Harper\", tweet)\r\n",
        "    tweet = re.sub(r\"IvanBerroa\", \"Ivan Berroa\", tweet)\r\n",
        "    tweet = re.sub(r\"LosDelSonido\", \"Los Del Sonido\", tweet)\r\n",
        "    tweet = re.sub(r\"bancodeseries\", \"banco de series\", tweet)\r\n",
        "    tweet = re.sub(r\"timkaine\", \"Tim Kaine\", tweet)\r\n",
        "    tweet = re.sub(r\"IdentityTheft\", \"Identity Theft\", tweet)\r\n",
        "    tweet = re.sub(r\"AllLivesMatter\", \"All Lives Matter\", tweet)\r\n",
        "    tweet = re.sub(r\"mishacollins\", \"Misha Collins\", tweet)\r\n",
        "    tweet = re.sub(r\"BillNeelyNBC\", \"Bill Neely\", tweet)\r\n",
        "    tweet = re.sub(r\"BeClearOnCancer\", \"be clear on cancer\", tweet)\r\n",
        "    tweet = re.sub(r\"Kowing\", \"Knowing\", tweet)\r\n",
        "    tweet = re.sub(r\"ScreamQueens\", \"Scream Queens\", tweet)\r\n",
        "    tweet = re.sub(r\"AskCharley\", \"Ask Charley\", tweet)\r\n",
        "    tweet = re.sub(r\"BlizzHeroes\", \"Heroes of the Storm\", tweet)\r\n",
        "    tweet = re.sub(r\"BradleyBrad47\", \"Bradley Brad\", tweet)\r\n",
        "    tweet = re.sub(r\"HannaPH\", \"Typhoon Hanna\", tweet)\r\n",
        "    tweet = re.sub(r\"meinlcymbals\", \"MEINL Cymbals\", tweet)\r\n",
        "    tweet = re.sub(r\"Ptbo\", \"Peterborough\", tweet)\r\n",
        "    tweet = re.sub(r\"cnnbrk\", \"CNN Breaking News\", tweet)\r\n",
        "    tweet = re.sub(r\"IndianNews\", \"Indian News\", tweet)\r\n",
        "    tweet = re.sub(r\"savebees\", \"save bees\", tweet)\r\n",
        "    tweet = re.sub(r\"GreenHarvard\", \"Green Harvard\", tweet)\r\n",
        "    tweet = re.sub(r\"StandwithPP\", \"Stand with planned parenthood\", tweet)\r\n",
        "    tweet = re.sub(r\"hermancranston\", \"Herman Cranston\", tweet)\r\n",
        "    tweet = re.sub(r\"WMUR9\", \"WMUR-TV\", tweet)\r\n",
        "    tweet = re.sub(r\"RockBottomRadFM\", \"Rock Bottom Radio\", tweet)\r\n",
        "    tweet = re.sub(r\"ameenshaikh3\", \"Ameen Shaikh\", tweet)\r\n",
        "    tweet = re.sub(r\"ProSyn\", \"Project Syndicate\", tweet)\r\n",
        "    tweet = re.sub(r\"Daesh\", \"ISIS\", tweet)\r\n",
        "    tweet = re.sub(r\"s2g\", \"swear to god\", tweet)\r\n",
        "    tweet = re.sub(r\"listenlive\", \"listen live\", tweet)\r\n",
        "    tweet = re.sub(r\"CDCgov\", \"Centers for Disease Control and Prevention\", tweet)\r\n",
        "    tweet = re.sub(r\"FoxNew\", \"Fox News\", tweet)\r\n",
        "    tweet = re.sub(r\"CBSBigBrother\", \"Big Brother\", tweet)\r\n",
        "    tweet = re.sub(r\"JulieDiCaro\", \"Julie DiCaro\", tweet)\r\n",
        "    tweet = re.sub(r\"theadvocatemag\", \"The Advocate Magazine\", tweet)\r\n",
        "    tweet = re.sub(r\"RohnertParkDPS\", \"Rohnert Park Police Department\", tweet)\r\n",
        "    tweet = re.sub(r\"THISIZBWRIGHT\", \"Bonnie Wright\", tweet)\r\n",
        "    tweet = re.sub(r\"Popularmmos\", \"Popular MMOs\", tweet)\r\n",
        "    tweet = re.sub(r\"WildHorses\", \"Wild Horses\", tweet)\r\n",
        "    tweet = re.sub(r\"FantasticFour\", \"Fantastic Four\", tweet)\r\n",
        "    tweet = re.sub(r\"HORNDALE\", \"Horndale\", tweet)\r\n",
        "    tweet = re.sub(r\"PINER\", \"Piner\", tweet)\r\n",
        "    tweet = re.sub(r\"BathAndNorthEastSomerset\", \"Bath and North East Somerset\", tweet)\r\n",
        "    tweet = re.sub(r\"thatswhatfriendsarefor\", \"that is what friends are for\", tweet)\r\n",
        "    tweet = re.sub(r\"residualincome\", \"residual income\", tweet)\r\n",
        "    tweet = re.sub(r\"YahooNewsDigest\", \"Yahoo News Digest\", tweet)\r\n",
        "    tweet = re.sub(r\"MalaysiaAirlines\", \"Malaysia Airlines\", tweet)\r\n",
        "    tweet = re.sub(r\"AmazonDeals\", \"Amazon Deals\", tweet)\r\n",
        "    tweet = re.sub(r\"MissCharleyWebb\", \"Charley Webb\", tweet)\r\n",
        "    tweet = re.sub(r\"shoalstraffic\", \"shoals traffic\", tweet)\r\n",
        "    tweet = re.sub(r\"GeorgeFoster72\", \"George Foster\", tweet)\r\n",
        "    tweet = re.sub(r\"pop2015\", \"pop 2015\", tweet)\r\n",
        "    tweet = re.sub(r\"_PokemonCards_\", \"Pokemon Cards\", tweet)\r\n",
        "    tweet = re.sub(r\"DianneG\", \"Dianne Gallagher\", tweet)\r\n",
        "    tweet = re.sub(r\"KashmirConflict\", \"Kashmir Conflict\", tweet)\r\n",
        "    tweet = re.sub(r\"BritishBakeOff\", \"British Bake Off\", tweet)\r\n",
        "    tweet = re.sub(r\"FreeKashmir\", \"Free Kashmir\", tweet)\r\n",
        "    tweet = re.sub(r\"mattmosley\", \"Matt Mosley\", tweet)\r\n",
        "    tweet = re.sub(r\"BishopFred\", \"Bishop Fred\", tweet)\r\n",
        "    tweet = re.sub(r\"EndConflict\", \"End Conflict\", tweet)\r\n",
        "    tweet = re.sub(r\"EndOccupation\", \"End Occupation\", tweet)\r\n",
        "    tweet = re.sub(r\"UNHEALED\", \"unhealed\", tweet)\r\n",
        "    tweet = re.sub(r\"CharlesDagnall\", \"Charles Dagnall\", tweet)\r\n",
        "    tweet = re.sub(r\"Latestnews\", \"Latest news\", tweet)\r\n",
        "    tweet = re.sub(r\"KindleCountdown\", \"Kindle Countdown\", tweet)\r\n",
        "    tweet = re.sub(r\"NoMoreHandouts\", \"No More Handouts\", tweet)\r\n",
        "    tweet = re.sub(r\"datingtips\", \"dating tips\", tweet)\r\n",
        "    tweet = re.sub(r\"charlesadler\", \"Charles Adler\", tweet)\r\n",
        "    tweet = re.sub(r\"twia\", \"Texas Windstorm Insurance Association\", tweet)\r\n",
        "    tweet = re.sub(r\"txlege\", \"Texas Legislature\", tweet)\r\n",
        "    tweet = re.sub(r\"WindstormInsurer\", \"Windstorm Insurer\", tweet)\r\n",
        "    tweet = re.sub(r\"Newss\", \"News\", tweet)\r\n",
        "    tweet = re.sub(r\"hempoil\", \"hemp oil\", tweet)\r\n",
        "    tweet = re.sub(r\"CommoditiesAre\", \"Commodities are\", tweet)\r\n",
        "    tweet = re.sub(r\"tubestrike\", \"tube strike\", tweet)\r\n",
        "    tweet = re.sub(r\"JoeNBC\", \"Joe Scarborough\", tweet)\r\n",
        "    tweet = re.sub(r\"LiteraryCakes\", \"Literary Cakes\", tweet)\r\n",
        "    tweet = re.sub(r\"TI5\", \"The International 5\", tweet)\r\n",
        "    tweet = re.sub(r\"thehill\", \"the hill\", tweet)\r\n",
        "    tweet = re.sub(r\"3others\", \"3 others\", tweet)\r\n",
        "    tweet = re.sub(r\"stighefootball\", \"Sam Tighe\", tweet)\r\n",
        "    tweet = re.sub(r\"whatstheimportantvideo\", \"what is the important video\", tweet)\r\n",
        "    tweet = re.sub(r\"ClaudioMeloni\", \"Claudio Meloni\", tweet)\r\n",
        "    tweet = re.sub(r\"DukeSkywalker\", \"Duke Skywalker\", tweet)\r\n",
        "    tweet = re.sub(r\"carsonmwr\", \"Fort Carson\", tweet)\r\n",
        "    tweet = re.sub(r\"offdishduty\", \"off dish duty\", tweet)\r\n",
        "    tweet = re.sub(r\"andword\", \"and word\", tweet)\r\n",
        "    tweet = re.sub(r\"rhodeisland\", \"Rhode Island\", tweet)\r\n",
        "    tweet = re.sub(r\"easternoregon\", \"Eastern Oregon\", tweet)\r\n",
        "    tweet = re.sub(r\"WAwildfire\", \"Washington Wildfire\", tweet)\r\n",
        "    tweet = re.sub(r\"fingerrockfire\", \"Finger Rock Fire\", tweet)\r\n",
        "    tweet = re.sub(r\"57am\", \"57 am\", tweet)\r\n",
        "    tweet = re.sub(r\"fingerrockfire\", \"Finger Rock Fire\", tweet)\r\n",
        "    tweet = re.sub(r\"JacobHoggard\", \"Jacob Hoggard\", tweet)\r\n",
        "    tweet = re.sub(r\"newnewnew\", \"new new new\", tweet)\r\n",
        "    tweet = re.sub(r\"under50\", \"under 50\", tweet)\r\n",
        "    tweet = re.sub(r\"getitbeforeitsgone\", \"get it before it is gone\", tweet)\r\n",
        "    tweet = re.sub(r\"freshoutofthebox\", \"fresh out of the box\", tweet)\r\n",
        "    tweet = re.sub(r\"amwriting\", \"am writing\", tweet)\r\n",
        "    tweet = re.sub(r\"Bokoharm\", \"Boko Haram\", tweet)\r\n",
        "    tweet = re.sub(r\"Nowlike\", \"Now like\", tweet)\r\n",
        "    tweet = re.sub(r\"seasonfrom\", \"season from\", tweet)\r\n",
        "    tweet = re.sub(r\"epicente\", \"epicenter\", tweet)\r\n",
        "    tweet = re.sub(r\"epicenterr\", \"epicenter\", tweet)\r\n",
        "    tweet = re.sub(r\"sicklife\", \"sick life\", tweet)\r\n",
        "    tweet = re.sub(r\"yycweather\", \"Calgary Weather\", tweet)\r\n",
        "    tweet = re.sub(r\"calgarysun\", \"Calgary Sun\", tweet)\r\n",
        "    tweet = re.sub(r\"approachng\", \"approaching\", tweet)\r\n",
        "    tweet = re.sub(r\"evng\", \"evening\", tweet)\r\n",
        "    tweet = re.sub(r\"Sumthng\", \"something\", tweet)\r\n",
        "    tweet = re.sub(r\"EllenPompeo\", \"Ellen Pompeo\", tweet)\r\n",
        "    tweet = re.sub(r\"shondarhimes\", \"Shonda Rhimes\", tweet)\r\n",
        "    tweet = re.sub(r\"ABCNetwork\", \"ABC Network\", tweet)\r\n",
        "    tweet = re.sub(r\"SushmaSwaraj\", \"Sushma Swaraj\", tweet)\r\n",
        "    tweet = re.sub(r\"pray4japan\", \"Pray for Japan\", tweet)\r\n",
        "    tweet = re.sub(r\"hope4japan\", \"Hope for Japan\", tweet)\r\n",
        "    tweet = re.sub(r\"Illusionimagess\", \"Illusion images\", tweet)\r\n",
        "    tweet = re.sub(r\"SummerUnderTheStars\", \"Summer Under The Stars\", tweet)\r\n",
        "    tweet = re.sub(r\"ShallWeDance\", \"Shall We Dance\", tweet)\r\n",
        "    tweet = re.sub(r\"TCMParty\", \"TCM Party\", tweet)\r\n",
        "    tweet = re.sub(r\"marijuananews\", \"marijuana news\", tweet)\r\n",
        "    tweet = re.sub(r\"onbeingwithKristaTippett\", \"on being with Krista Tippett\", tweet)\r\n",
        "    tweet = re.sub(r\"Beingtweets\", \"Being tweets\", tweet)\r\n",
        "    tweet = re.sub(r\"newauthors\", \"new authors\", tweet)\r\n",
        "    tweet = re.sub(r\"remedyyyy\", \"remedy\", tweet)\r\n",
        "    tweet = re.sub(r\"44PM\", \"44 PM\", tweet)\r\n",
        "    tweet = re.sub(r\"HeadlinesApp\", \"Headlines App\", tweet)\r\n",
        "    tweet = re.sub(r\"40PM\", \"40 PM\", tweet)\r\n",
        "    tweet = re.sub(r\"myswc\", \"Severe Weather Center\", tweet)\r\n",
        "    #tweet = re.sub(r\"ithats\", \"that is\", tweet)\r\n",
        "    tweet = re.sub(r\"icouldsitinthismomentforever\", \"I could sit in this moment forever\", tweet)\r\n",
        "    tweet = re.sub(r\"FatLoss\", \"Fat Loss\", tweet)\r\n",
        "    tweet = re.sub(r\"02PM\", \"02 PM\", tweet)\r\n",
        "    tweet = re.sub(r\"MetroFmTalk\", \"Metro Fm Talk\", tweet)\r\n",
        "    tweet = re.sub(r\"Bstrd\", \"bastard\", tweet)\r\n",
        "    tweet = re.sub(r\"bldy\", \"bloody\", tweet)\r\n",
        "    tweet = re.sub(r\"MetrofmTalk\", \"Metro Fm Talk\", tweet)\r\n",
        "    tweet = re.sub(r\"terrorismturn\", \"terrorism turn\", tweet)\r\n",
        "    tweet = re.sub(r\"BBCNewsAsia\", \"BBC News Asia\", tweet)\r\n",
        "    tweet = re.sub(r\"BehindTheScenes\", \"Behind The Scenes\", tweet)\r\n",
        "    tweet = re.sub(r\"GeorgeTakei\", \"George Takei\", tweet)\r\n",
        "    tweet = re.sub(r\"WomensWeeklyMag\", \"Womens Weekly Magazine\", tweet)\r\n",
        "    tweet = re.sub(r\"SurvivorsGuidetoEarth\", \"Survivors Guide to Earth\", tweet)\r\n",
        "    tweet = re.sub(r\"incubusband\", \"incubus band\", tweet)\r\n",
        "    tweet = re.sub(r\"Babypicturethis\", \"Baby picture this\", tweet)\r\n",
        "    tweet = re.sub(r\"BombEffects\", \"Bomb Effects\", tweet)\r\n",
        "    tweet = re.sub(r\"win10\", \"Windows 10\", tweet)\r\n",
        "    tweet = re.sub(r\"idkidk\", \"I do not know I do not know\", tweet)\r\n",
        "    tweet = re.sub(r\"TheWalkingDead\", \"The Walking Dead\", tweet)\r\n",
        "    tweet = re.sub(r\"amyschumer\", \"Amy Schumer\", tweet)\r\n",
        "    tweet = re.sub(r\"crewlist\", \"crew list\", tweet)\r\n",
        "    tweet = re.sub(r\"Erdogans\", \"Erdogan\", tweet)\r\n",
        "    tweet = re.sub(r\"BBCLive\", \"BBC Live\", tweet)\r\n",
        "    tweet = re.sub(r\"TonyAbbottMHR\", \"Tony Abbott\", tweet)\r\n",
        "    tweet = re.sub(r\"paulmyerscough\", \"Paul Myerscough\", tweet)\r\n",
        "    tweet = re.sub(r\"georgegallagher\", \"George Gallagher\", tweet)\r\n",
        "    tweet = re.sub(r\"JimmieJohnson\", \"Jimmie Johnson\", tweet)\r\n",
        "    tweet = re.sub(r\"pctool\", \"pc tool\", tweet)\r\n",
        "    tweet = re.sub(r\"DoingHashtagsRight\", \"Doing Hashtags Right\", tweet)\r\n",
        "    tweet = re.sub(r\"ThrowbackThursday\", \"Throwback Thursday\", tweet)\r\n",
        "    tweet = re.sub(r\"SnowBackSunday\", \"Snowback Sunday\", tweet)\r\n",
        "    tweet = re.sub(r\"LakeEffect\", \"Lake Effect\", tweet)\r\n",
        "    tweet = re.sub(r\"RTphotographyUK\", \"Richard Thomas Photography UK\", tweet)\r\n",
        "    tweet = re.sub(r\"BigBang_CBS\", \"Big Bang CBS\", tweet)\r\n",
        "    tweet = re.sub(r\"writerslife\", \"writers life\", tweet)\r\n",
        "    tweet = re.sub(r\"NaturalBirth\", \"Natural Birth\", tweet)\r\n",
        "    tweet = re.sub(r\"UnusualWords\", \"Unusual Words\", tweet)\r\n",
        "    tweet = re.sub(r\"wizkhalifa\", \"Wiz Khalifa\", tweet)\r\n",
        "    tweet = re.sub(r\"acreativedc\", \"a creative DC\", tweet)\r\n",
        "    tweet = re.sub(r\"vscodc\", \"vsco DC\", tweet)\r\n",
        "    tweet = re.sub(r\"VSCOcam\", \"vsco camera\", tweet)\r\n",
        "    tweet = re.sub(r\"TheBEACHDC\", \"The beach DC\", tweet)\r\n",
        "    tweet = re.sub(r\"buildingmuseum\", \"building museum\", tweet)\r\n",
        "    tweet = re.sub(r\"WorldOil\", \"World Oil\", tweet)\r\n",
        "    tweet = re.sub(r\"redwedding\", \"red wedding\", tweet)\r\n",
        "    tweet = re.sub(r\"AmazingRaceCanada\", \"Amazing Race Canada\", tweet)\r\n",
        "    tweet = re.sub(r\"WakeUpAmerica\", \"Wake Up America\", tweet)\r\n",
        "    tweet = re.sub(r\"\\\\Allahuakbar\\\\\", \"Allahu Akbar\", tweet)\r\n",
        "    tweet = re.sub(r\"bleased\", \"blessed\", tweet)\r\n",
        "    tweet = re.sub(r\"nigeriantribune\", \"Nigerian Tribune\", tweet)\r\n",
        "    tweet = re.sub(r\"HIDEO_KOJIMA_EN\", \"Hideo Kojima\", tweet)\r\n",
        "    tweet = re.sub(r\"FusionFestival\", \"Fusion Festival\", tweet)\r\n",
        "    tweet = re.sub(r\"50Mixed\", \"50 Mixed\", tweet)\r\n",
        "    tweet = re.sub(r\"NoAgenda\", \"No Agenda\", tweet)\r\n",
        "    tweet = re.sub(r\"WhiteGenocide\", \"White Genocide\", tweet)\r\n",
        "    tweet = re.sub(r\"dirtylying\", \"dirty lying\", tweet)\r\n",
        "    tweet = re.sub(r\"SyrianRefugees\", \"Syrian Refugees\", tweet)\r\n",
        "    tweet = re.sub(r\"changetheworld\", \"change the world\", tweet)\r\n",
        "    tweet = re.sub(r\"Ebolacase\", \"Ebola case\", tweet)\r\n",
        "    tweet = re.sub(r\"mcgtech\", \"mcg technologies\", tweet)\r\n",
        "    tweet = re.sub(r\"withweapons\", \"with weapons\", tweet)\r\n",
        "    tweet = re.sub(r\"advancedwarfare\", \"advanced warfare\", tweet)\r\n",
        "    tweet = re.sub(r\"letsFootball\", \"let us Football\", tweet)\r\n",
        "    tweet = re.sub(r\"LateNiteMix\", \"late night mix\", tweet)\r\n",
        "    tweet = re.sub(r\"PhilCollinsFeed\", \"Phil Collins\", tweet)\r\n",
        "    tweet = re.sub(r\"RudyHavenstein\", \"Rudy Havenstein\", tweet)\r\n",
        "    tweet = re.sub(r\"22PM\", \"22 PM\", tweet)\r\n",
        "    tweet = re.sub(r\"54am\", \"54 AM\", tweet)\r\n",
        "    tweet = re.sub(r\"38am\", \"38 AM\", tweet)\r\n",
        "    tweet = re.sub(r\"OldFolkExplainStuff\", \"Old Folk Explain Stuff\", tweet)\r\n",
        "    tweet = re.sub(r\"BlacklivesMatter\", \"Black Lives Matter\", tweet)\r\n",
        "    tweet = re.sub(r\"InsaneLimits\", \"Insane Limits\", tweet)\r\n",
        "    tweet = re.sub(r\"youcantsitwithus\", \"you cannot sit with us\", tweet)\r\n",
        "    tweet = re.sub(r\"2k15\", \"2015\", tweet)\r\n",
        "    tweet = re.sub(r\"TheIran\", \"Iran\", tweet)\r\n",
        "    tweet = re.sub(r\"JimmyFallon\", \"Jimmy Fallon\", tweet)\r\n",
        "    tweet = re.sub(r\"AlbertBrooks\", \"Albert Brooks\", tweet)\r\n",
        "    tweet = re.sub(r\"defense_news\", \"defense news\", tweet)\r\n",
        "    tweet = re.sub(r\"nuclearrcSA\", \"Nuclear Risk Control Self Assessment\", tweet)\r\n",
        "    tweet = re.sub(r\"Auspol\", \"Australia Politics\", tweet)\r\n",
        "    tweet = re.sub(r\"NuclearPower\", \"Nuclear Power\", tweet)\r\n",
        "    tweet = re.sub(r\"WhiteTerrorism\", \"White Terrorism\", tweet)\r\n",
        "    tweet = re.sub(r\"truthfrequencyradio\", \"Truth Frequency Radio\", tweet)\r\n",
        "    tweet = re.sub(r\"ErasureIsNotEquality\", \"Erasure is not equality\", tweet)\r\n",
        "    tweet = re.sub(r\"ProBonoNews\", \"Pro Bono News\", tweet)\r\n",
        "    tweet = re.sub(r\"JakartaPost\", \"Jakarta Post\", tweet)\r\n",
        "    tweet = re.sub(r\"toopainful\", \"too painful\", tweet)\r\n",
        "    tweet = re.sub(r\"melindahaunton\", \"Melinda Haunton\", tweet)\r\n",
        "    tweet = re.sub(r\"NoNukes\", \"No Nukes\", tweet)\r\n",
        "    tweet = re.sub(r\"curryspcworld\", \"Currys PC World\", tweet)\r\n",
        "    tweet = re.sub(r\"ineedcake\", \"I need cake\", tweet)\r\n",
        "    tweet = re.sub(r\"blackforestgateau\", \"black forest gateau\", tweet)\r\n",
        "    tweet = re.sub(r\"BBCOne\", \"BBC One\", tweet)\r\n",
        "    tweet = re.sub(r\"AlexxPage\", \"Alex Page\", tweet)\r\n",
        "    tweet = re.sub(r\"jonathanserrie\", \"Jonathan Serrie\", tweet)\r\n",
        "    tweet = re.sub(r\"SocialJerkBlog\", \"Social Jerk Blog\", tweet)\r\n",
        "    tweet = re.sub(r\"ChelseaVPeretti\", \"Chelsea Peretti\", tweet)\r\n",
        "    tweet = re.sub(r\"irongiant\", \"iron giant\", tweet)\r\n",
        "    tweet = re.sub(r\"RonFunches\", \"Ron Funches\", tweet)\r\n",
        "    tweet = re.sub(r\"TimCook\", \"Tim Cook\", tweet)\r\n",
        "    tweet = re.sub(r\"sebastianstanisaliveandwell\", \"Sebastian Stan is alive and well\", tweet)\r\n",
        "    tweet = re.sub(r\"Madsummer\", \"Mad summer\", tweet)\r\n",
        "    tweet = re.sub(r\"NowYouKnow\", \"Now you know\", tweet)\r\n",
        "    tweet = re.sub(r\"concertphotography\", \"concert photography\", tweet)\r\n",
        "    tweet = re.sub(r\"TomLandry\", \"Tom Landry\", tweet)\r\n",
        "    tweet = re.sub(r\"showgirldayoff\", \"show girl day off\", tweet)\r\n",
        "    tweet = re.sub(r\"Yougslavia\", \"Yugoslavia\", tweet)\r\n",
        "    tweet = re.sub(r\"QuantumDataInformatics\", \"Quantum Data Informatics\", tweet)\r\n",
        "    tweet = re.sub(r\"FromTheDesk\", \"From The Desk\", tweet)\r\n",
        "    tweet = re.sub(r\"TheaterTrial\", \"Theater Trial\", tweet)\r\n",
        "    tweet = re.sub(r\"CatoInstitute\", \"Cato Institute\", tweet)\r\n",
        "    tweet = re.sub(r\"EmekaGift\", \"Emeka Gift\", tweet)\r\n",
        "    tweet = re.sub(r\"LetsBe_Rational\", \"Let us be rational\", tweet)\r\n",
        "    tweet = re.sub(r\"Cynicalreality\", \"Cynical reality\", tweet)\r\n",
        "    tweet = re.sub(r\"FredOlsenCruise\", \"Fred Olsen Cruise\", tweet)\r\n",
        "    tweet = re.sub(r\"NotSorry\", \"not sorry\", tweet)\r\n",
        "    tweet = re.sub(r\"UseYourWords\", \"use your words\", tweet)\r\n",
        "    tweet = re.sub(r\"WordoftheDay\", \"word of the day\", tweet)\r\n",
        "    tweet = re.sub(r\"Dictionarycom\", \"Dictionary.com\", tweet)\r\n",
        "    tweet = re.sub(r\"TheBrooklynLife\", \"The Brooklyn Life\", tweet)\r\n",
        "    tweet = re.sub(r\"jokethey\", \"joke they\", tweet)\r\n",
        "    tweet = re.sub(r\"nflweek1picks\", \"NFL week 1 picks\", tweet)\r\n",
        "    tweet = re.sub(r\"uiseful\", \"useful\", tweet)\r\n",
        "    tweet = re.sub(r\"JusticeDotOrg\", \"The American Association for Justice\", tweet)\r\n",
        "    tweet = re.sub(r\"autoaccidents\", \"auto accidents\", tweet)\r\n",
        "    tweet = re.sub(r\"SteveGursten\", \"Steve Gursten\", tweet)\r\n",
        "    tweet = re.sub(r\"MichiganAutoLaw\", \"Michigan Auto Law\", tweet)\r\n",
        "    tweet = re.sub(r\"birdgang\", \"bird gang\", tweet)\r\n",
        "    tweet = re.sub(r\"nflnetwork\", \"NFL Network\", tweet)\r\n",
        "    tweet = re.sub(r\"NYDNSports\", \"NY Daily News Sports\", tweet)\r\n",
        "    tweet = re.sub(r\"RVacchianoNYDN\", \"Ralph Vacchiano NY Daily News\", tweet)\r\n",
        "    tweet = re.sub(r\"EdmontonEsks\", \"Edmonton Eskimos\", tweet)\r\n",
        "    tweet = re.sub(r\"david_brelsford\", \"David Brelsford\", tweet)\r\n",
        "    tweet = re.sub(r\"TOI_India\", \"The Times of India\", tweet)\r\n",
        "    tweet = re.sub(r\"hegot\", \"he got\", tweet)\r\n",
        "    tweet = re.sub(r\"SkinsOn9\", \"Skins on 9\", tweet)\r\n",
        "    tweet = re.sub(r\"sothathappened\", \"so that happened\", tweet)\r\n",
        "    tweet = re.sub(r\"LCOutOfDoors\", \"LC Out Of Doors\", tweet)\r\n",
        "    tweet = re.sub(r\"NationFirst\", \"Nation First\", tweet)\r\n",
        "    tweet = re.sub(r\"IndiaToday\", \"India Today\", tweet)\r\n",
        "    tweet = re.sub(r\"HLPS\", \"helps\", tweet)\r\n",
        "    tweet = re.sub(r\"HOSTAGESTHROSW\", \"hostages throw\", tweet)\r\n",
        "    tweet = re.sub(r\"SNCTIONS\", \"sanctions\", tweet)\r\n",
        "    tweet = re.sub(r\"BidTime\", \"Bid Time\", tweet)\r\n",
        "    tweet = re.sub(r\"crunchysensible\", \"crunchy sensible\", tweet)\r\n",
        "    tweet = re.sub(r\"RandomActsOfRomance\", \"Random acts of romance\", tweet)\r\n",
        "    tweet = re.sub(r\"MomentsAtHill\", \"Moments at hill\", tweet)\r\n",
        "    tweet = re.sub(r\"eatshit\", \"eat shit\", tweet)\r\n",
        "    tweet = re.sub(r\"liveleakfun\", \"live leak fun\", tweet)\r\n",
        "    tweet = re.sub(r\"SahelNews\", \"Sahel News\", tweet)\r\n",
        "    tweet = re.sub(r\"abc7newsbayarea\", \"ABC 7 News Bay Area\", tweet)\r\n",
        "    tweet = re.sub(r\"facilitiesmanagement\", \"facilities management\", tweet)\r\n",
        "    tweet = re.sub(r\"facilitydude\", \"facility dude\", tweet)\r\n",
        "    tweet = re.sub(r\"CampLogistics\", \"Camp logistics\", tweet)\r\n",
        "    tweet = re.sub(r\"alaskapublic\", \"Alaska public\", tweet)\r\n",
        "    tweet = re.sub(r\"MarketResearch\", \"Market Research\", tweet)\r\n",
        "    tweet = re.sub(r\"AccuracyEsports\", \"Accuracy Esports\", tweet)\r\n",
        "    tweet = re.sub(r\"TheBodyShopAust\", \"The Body Shop Australia\", tweet)\r\n",
        "    tweet = re.sub(r\"yychail\", \"Calgary hail\", tweet)\r\n",
        "    tweet = re.sub(r\"yyctraffic\", \"Calgary traffic\", tweet)\r\n",
        "    tweet = re.sub(r\"eliotschool\", \"eliot school\", tweet)\r\n",
        "    tweet = re.sub(r\"TheBrokenCity\", \"The Broken City\", tweet)\r\n",
        "    tweet = re.sub(r\"OldsFireDept\", \"Olds Fire Department\", tweet)\r\n",
        "    tweet = re.sub(r\"RiverComplex\", \"River Complex\", tweet)\r\n",
        "    tweet = re.sub(r\"fieldworksmells\", \"field work smells\", tweet)\r\n",
        "    tweet = re.sub(r\"IranElection\", \"Iran Election\", tweet)\r\n",
        "    tweet = re.sub(r\"glowng\", \"glowing\", tweet)\r\n",
        "    tweet = re.sub(r\"kindlng\", \"kindling\", tweet)\r\n",
        "    tweet = re.sub(r\"riggd\", \"rigged\", tweet)\r\n",
        "    tweet = re.sub(r\"slownewsday\", \"slow news day\", tweet)\r\n",
        "    tweet = re.sub(r\"MyanmarFlood\", \"Myanmar Flood\", tweet)\r\n",
        "    tweet = re.sub(r\"abc7chicago\", \"ABC 7 Chicago\", tweet)\r\n",
        "    tweet = re.sub(r\"copolitics\", \"Colorado Politics\", tweet)\r\n",
        "    tweet = re.sub(r\"AdilGhumro\", \"Adil Ghumro\", tweet)\r\n",
        "    tweet = re.sub(r\"netbots\", \"net bots\", tweet)\r\n",
        "    tweet = re.sub(r\"byebyeroad\", \"bye bye road\", tweet)\r\n",
        "    tweet = re.sub(r\"massiveflooding\", \"massive flooding\", tweet)\r\n",
        "    tweet = re.sub(r\"EndofUS\", \"End of United States\", tweet)\r\n",
        "    tweet = re.sub(r\"35PM\", \"35 PM\", tweet)\r\n",
        "    tweet = re.sub(r\"greektheatrela\", \"Greek Theatre Los Angeles\", tweet)\r\n",
        "    tweet = re.sub(r\"76mins\", \"76 minutes\", tweet)\r\n",
        "    tweet = re.sub(r\"publicsafetyfirst\", \"public safety first\", tweet)\r\n",
        "    tweet = re.sub(r\"livesmatter\", \"lives matter\", tweet)\r\n",
        "    tweet = re.sub(r\"myhometown\", \"my hometown\", tweet)\r\n",
        "    tweet = re.sub(r\"tankerfire\", \"tanker fire\", tweet)\r\n",
        "    tweet = re.sub(r\"MEMORIALDAY\", \"memorial day\", tweet)\r\n",
        "    tweet = re.sub(r\"MEMORIAL_DAY\", \"memorial day\", tweet)\r\n",
        "    tweet = re.sub(r\"instaxbooty\", \"instagram booty\", tweet)\r\n",
        "    tweet = re.sub(r\"Jerusalem_Post\", \"Jerusalem Post\", tweet)\r\n",
        "    tweet = re.sub(r\"WayneRooney_INA\", \"Wayne Rooney\", tweet)\r\n",
        "    tweet = re.sub(r\"VirtualReality\", \"Virtual Reality\", tweet)\r\n",
        "    tweet = re.sub(r\"OculusRift\", \"Oculus Rift\", tweet)\r\n",
        "    tweet = re.sub(r\"OwenJones84\", \"Owen Jones\", tweet)\r\n",
        "    tweet = re.sub(r\"jeremycorbyn\", \"Jeremy Corbyn\", tweet)\r\n",
        "    tweet = re.sub(r\"paulrogers002\", \"Paul Rogers\", tweet)\r\n",
        "    tweet = re.sub(r\"mortalkombatx\", \"Mortal Kombat X\", tweet)\r\n",
        "    tweet = re.sub(r\"mortalkombat\", \"Mortal Kombat\", tweet)\r\n",
        "    tweet = re.sub(r\"FilipeCoelho92\", \"Filipe Coelho\", tweet)\r\n",
        "    tweet = re.sub(r\"OnlyQuakeNews\", \"Only Quake News\", tweet)\r\n",
        "    tweet = re.sub(r\"kostumes\", \"costumes\", tweet)\r\n",
        "    tweet = re.sub(r\"YEEESSSS\", \"yes\", tweet)\r\n",
        "    tweet = re.sub(r\"ToshikazuKatayama\", \"Toshikazu Katayama\", tweet)\r\n",
        "    tweet = re.sub(r\"IntlDevelopment\", \"Intl Development\", tweet)\r\n",
        "    tweet = re.sub(r\"ExtremeWeather\", \"Extreme Weather\", tweet)\r\n",
        "    tweet = re.sub(r\"WereNotGruberVoters\", \"We are not gruber voters\", tweet)\r\n",
        "    tweet = re.sub(r\"NewsThousands\", \"News Thousands\", tweet)\r\n",
        "    tweet = re.sub(r\"EdmundAdamus\", \"Edmund Adamus\", tweet)\r\n",
        "    tweet = re.sub(r\"EyewitnessWV\", \"Eye witness WV\", tweet)\r\n",
        "    tweet = re.sub(r\"PhiladelphiaMuseu\", \"Philadelphia Museum\", tweet)\r\n",
        "    tweet = re.sub(r\"DublinComicCon\", \"Dublin Comic Con\", tweet)\r\n",
        "    tweet = re.sub(r\"NicholasBrendon\", \"Nicholas Brendon\", tweet)\r\n",
        "    tweet = re.sub(r\"Alltheway80s\", \"All the way 80s\", tweet)\r\n",
        "    tweet = re.sub(r\"FromTheField\", \"From the field\", tweet)\r\n",
        "    tweet = re.sub(r\"NorthIowa\", \"North Iowa\", tweet)\r\n",
        "    tweet = re.sub(r\"WillowFire\", \"Willow Fire\", tweet)\r\n",
        "    tweet = re.sub(r\"MadRiverComplex\", \"Mad River Complex\", tweet)\r\n",
        "    tweet = re.sub(r\"feelingmanly\", \"feeling manly\", tweet)\r\n",
        "    tweet = re.sub(r\"stillnotoverit\", \"still not over it\", tweet)\r\n",
        "    tweet = re.sub(r\"FortitudeValley\", \"Fortitude Valley\", tweet)\r\n",
        "    tweet = re.sub(r\"CoastpowerlineTramTr\", \"Coast powerline\", tweet)\r\n",
        "    tweet = re.sub(r\"ServicesGold\", \"Services Gold\", tweet)\r\n",
        "    tweet = re.sub(r\"NewsbrokenEmergency\", \"News broken emergency\", tweet)\r\n",
        "    tweet = re.sub(r\"Evaucation\", \"evacuation\", tweet)\r\n",
        "    tweet = re.sub(r\"leaveevacuateexitbe\", \"leave evacuate exit be\", tweet)\r\n",
        "    tweet = re.sub(r\"P_EOPLE\", \"PEOPLE\", tweet)\r\n",
        "    tweet = re.sub(r\"Tubestrike\", \"tube strike\", tweet)\r\n",
        "    tweet = re.sub(r\"CLASS_SICK\", \"CLASS SICK\", tweet)\r\n",
        "    tweet = re.sub(r\"localplumber\", \"local plumber\", tweet)\r\n",
        "    tweet = re.sub(r\"awesomejobsiri\", \"awesome job siri\", tweet)\r\n",
        "    tweet = re.sub(r\"PayForItHow\", \"Pay for it how\", tweet)\r\n",
        "    tweet = re.sub(r\"ThisIsAfrica\", \"This is Africa\", tweet)\r\n",
        "    tweet = re.sub(r\"crimeairnetwork\", \"crime air network\", tweet)\r\n",
        "    tweet = re.sub(r\"KimAcheson\", \"Kim Acheson\", tweet)\r\n",
        "    tweet = re.sub(r\"cityofcalgary\", \"City of Calgary\", tweet)\r\n",
        "    tweet = re.sub(r\"prosyndicate\", \"pro syndicate\", tweet)\r\n",
        "    tweet = re.sub(r\"660NEWS\", \"660 NEWS\", tweet)\r\n",
        "    tweet = re.sub(r\"BusInsMagazine\", \"Business Insurance Magazine\", tweet)\r\n",
        "    tweet = re.sub(r\"wfocus\", \"focus\", tweet)\r\n",
        "    tweet = re.sub(r\"ShastaDam\", \"Shasta Dam\", tweet)\r\n",
        "    tweet = re.sub(r\"go2MarkFranco\", \"Mark Franco\", tweet)\r\n",
        "    tweet = re.sub(r\"StephGHinojosa\", \"Steph Hinojosa\", tweet)\r\n",
        "    tweet = re.sub(r\"Nashgrier\", \"Nash Grier\", tweet)\r\n",
        "    tweet = re.sub(r\"NashNewVideo\", \"Nash new video\", tweet)\r\n",
        "    tweet = re.sub(r\"IWouldntGetElectedBecause\", \"I would not get elected because\", tweet)\r\n",
        "    tweet = re.sub(r\"SHGames\", \"Sledgehammer Games\", tweet)\r\n",
        "    tweet = re.sub(r\"bedhair\", \"bed hair\", tweet)\r\n",
        "    tweet = re.sub(r\"JoelHeyman\", \"Joel Heyman\", tweet)\r\n",
        "    tweet = re.sub(r\"viaYouTube\", \"via YouTube\", tweet)\r\n",
        "           \r\n",
        "    # Urls\r\n",
        "    tweet = re.sub(r\"https?:\\/\\/t.co\\/[A-Za-z0-9]+\", \"\", tweet)\r\n",
        "        \r\n",
        "    # Words with punctuations and special characters\r\n",
        "    punctuations = '#@!?+&*[]-%.:/();$=><|{}^' + \"'`\"\r\n",
        "    for p in punctuations:\r\n",
        "        tweet = tweet.replace(p, f' {p} ')\r\n",
        "        \r\n",
        "    # ... and ..\r\n",
        "    tweet = tweet.replace('...', ' ... ')\r\n",
        "    if '...' not in tweet:\r\n",
        "        tweet = tweet.replace('..', ' ... ')      \r\n",
        "        \r\n",
        "    # Acronyms\r\n",
        "    tweet = re.sub(r\"MH370\", \"Malaysia Airlines Flight 370\", tweet)\r\n",
        "    tweet = re.sub(r\"mÌ¼sica\", \"music\", tweet)\r\n",
        "    tweet = re.sub(r\"okwx\", \"Oklahoma City Weather\", tweet)\r\n",
        "    tweet = re.sub(r\"arwx\", \"Arkansas Weather\", tweet)    \r\n",
        "    tweet = re.sub(r\"gawx\", \"Georgia Weather\", tweet)  \r\n",
        "    tweet = re.sub(r\"scwx\", \"South Carolina Weather\", tweet)  \r\n",
        "    tweet = re.sub(r\"cawx\", \"California Weather\", tweet)\r\n",
        "    tweet = re.sub(r\"tnwx\", \"Tennessee Weather\", tweet)\r\n",
        "    tweet = re.sub(r\"azwx\", \"Arizona Weather\", tweet)  \r\n",
        "    tweet = re.sub(r\"alwx\", \"Alabama Weather\", tweet)\r\n",
        "    tweet = re.sub(r\"wordpressdotcom\", \"wordpress\", tweet)    \r\n",
        "    tweet = re.sub(r\"usNWSgov\", \"United States National Weather Service\", tweet)\r\n",
        "    tweet = re.sub(r\"Suruc\", \"Sanliurfa\", tweet)   \r\n",
        "    \r\n",
        "    # Grouping same words without embeddings\r\n",
        "    tweet = re.sub(r\"Bestnaijamade\", \"bestnaijamade\", tweet)\r\n",
        "    tweet = re.sub(r\"SOUDELOR\", \"Soudelor\", tweet)\r\n",
        "\r\n",
        "    # Replace amp\r\n",
        "    tweet = re.sub(r\" amp \", \" and \", tweet)\r\n",
        "    \r\n",
        "    return tweet"
      ],
      "execution_count": 300,
      "outputs": []
    },
    {
      "cell_type": "code",
      "metadata": {
        "id": "PP9yZaQkKqUu"
      },
      "source": [
        "train_data['text_cleaned'] = train_data['text'].apply(lambda s : clean(s))\r\n",
        "test_data['text_cleaned'] = test_data['text'].apply(lambda s : clean(s))"
      ],
      "execution_count": 301,
      "outputs": []
    },
    {
      "cell_type": "code",
      "metadata": {
        "colab": {
          "base_uri": "https://localhost:8080/"
        },
        "id": "6SQEmidwjnrh",
        "outputId": "ed3d508c-f9a2-4b01-9319-21efd1f4fe98"
      },
      "source": [
        "# Re-labelling the mis-labeled tweets\r\n",
        "df_mislabeled = train_data.groupby(['text']).nunique().sort_values(by='target', ascending=False)\r\n",
        "df_mislabeled = df_mislabeled[df_mislabeled['target'] > 1]['target']\r\n",
        "df_mislabeled.index.tolist()"
      ],
      "execution_count": 302,
      "outputs": [
        {
          "output_type": "execute_result",
          "data": {
            "text/plain": [
              "['like for the music video I want some real action shit like burning buildings and police chases not some weak ben winston shit',\n",
              " 'Hellfire! We don\\x89Ûªt even want to think about it or mention it so let\\x89Ûªs not do anything that leads to it #islam!',\n",
              " \"The Prophet (peace be upon him) said 'Save yourself from Hellfire even if it is by giving half a date in charity.'\",\n",
              " 'In #islam saving a person is equal in reward to saving all humans! Islam is the opposite of terrorism!',\n",
              " 'To fight bioterrorism sir.',\n",
              " 'Who is bringing the tornadoes and floods. Who is bringing the climate change. God is after America He is plaguing her\\n \\n#FARRAKHAN #QUOTE',\n",
              " '#foodscare #offers2go #NestleIndia slips into loss after #Magginoodle #ban unsafe and hazardous for #humanconsumption',\n",
              " '#Allah describes piling up #wealth thinking it would last #forever as the description of the people of #Hellfire in Surah Humaza. #Reflect',\n",
              " 'He came to a land which was engulfed in tribal war and turned it into a land of peace i.e. Madinah. #ProphetMuhammad #islam',\n",
              " 'RT NotExplained: The only known image of infamous hijacker D.B. Cooper. http://t.co/JlzK2HdeTG',\n",
              " 'Hellfire is surrounded by desires so be careful and don\\x89Ûªt let your desires control you! #Afterlife',\n",
              " 'CLEARED:incident with injury:I-495  inner loop Exit 31 - MD 97/Georgia Ave Silver Spring',\n",
              " \"Mmmmmm I'm burning.... I'm burning buildings I'm building.... Oooooohhhh oooh ooh...\",\n",
              " 'wowo--=== 12000 Nigerian refugees repatriated from Cameroon',\n",
              " '.POTUS #StrategicPatience is a strategy for #Genocide; refugees; IDP Internally displaced people; horror; etc. https://t.co/rqWuoy1fm4',\n",
              " 'Caution: breathing may be hazardous to your health.',\n",
              " 'I Pledge Allegiance To The P.O.P.E. And The Burning Buildings of Epic City. ??????',\n",
              " 'that horrible sinking feeling when you\\x89Ûªve been at home on your phone for a while and you realise its been on 3G this whole time']"
            ]
          },
          "metadata": {
            "tags": []
          },
          "execution_count": 302
        }
      ]
    },
    {
      "cell_type": "code",
      "metadata": {
        "id": "5Beejuetj7rF"
      },
      "source": [
        "train_data.loc[train_data['text'] == 'like for the music video I want some real action shit like burning buildings and police chases not some weak ben winston shit', 'target'] = 0\r\n",
        "train_data.loc[train_data['text']  == 'Hellfire is surrounded by desires so be careful and donÛªt let your desires control you! #Afterlife', 'target'] = 0\r\n",
        "train_data.loc[train_data['text']  == 'To fight bioterrorism sir.', 'target'] = 0\r\n",
        "train_data.loc[train_data['text']  == '.POTUS #StrategicPatience is a strategy for #Genocide; refugees; IDP Internally displaced people; horror; etc. https://t.co/rqWuoy1fm4', 'target'] = 1\r\n",
        "train_data.loc[train_data['text']  == 'CLEARED:incident with injury:I-495  inner loop Exit 31 - MD 97/Georgia Ave Silver Spring', 'target'] = 1\r\n",
        "train_data.loc[train_data['text']  == '#foodscare #offers2go #NestleIndia slips into loss after #Magginoodle #ban unsafe and hazardous for #humanconsumption', 'target'] = 0\r\n",
        "train_data.loc[train_data['text']  == 'In #islam saving a person is equal in reward to saving all humans! Islam is the opposite of terrorism!', 'target'] = 0\r\n",
        "train_data.loc[train_data['text']  == 'Who is bringing the tornadoes and floods. Who is bringing the climate change. God is after America He is plaguing her\\n \\n#FARRAKHAN #QUOTE', 'target'] = 1\r\n",
        "train_data.loc[train_data['text']  == 'RT NotExplained: The only known image of infamous hijacker D.B. Cooper. http://t.co/JlzK2HdeTG', 'target'] = 1\r\n",
        "train_data.loc[train_data['text']  == \"Mmmmmm I'm burning.... I'm burning buildings I'm building.... Oooooohhhh oooh ooh...\", 'target'] = 0\r\n",
        "train_data.loc[train_data['text']  == \"wowo--=== 12000 Nigerian refugees repatriated from Cameroon\", 'target'] = 0\r\n",
        "train_data.loc[train_data['text']  == \"He came to a land which was engulfed in tribal war and turned it into a land of peace i.e. Madinah. #ProphetMuhammad #islam\", 'target'] = 0\r\n",
        "train_data.loc[train_data['text']  == \"Hellfire! We donÛªt even want to think about it or mention it so letÛªs not do anything that leads to it #islam!\", 'target'] = 0\r\n",
        "train_data.loc[train_data['text']  == \"The Prophet (peace be upon him) said 'Save yourself from Hellfire even if it is by giving half a date in charity.'\", 'target'] = 0\r\n",
        "train_data.loc[train_data['text']  == \"Caution: breathing may be hazardous to your health.\", 'target'] = 1\r\n",
        "train_data.loc[train_data['text']  == \"I Pledge Allegiance To The P.O.P.E. And The Burning Buildings of Epic City. ??????\", 'target'] = 0\r\n",
        "train_data.loc[train_data['text']  == \"#Allah describes piling up #wealth thinking it would last #forever as the description of the people of #Hellfire in Surah Humaza. #Reflect\", 'target'] = 0\r\n",
        "train_data.loc[train_data['text']  == \"that horrible sinking feeling when youÛªve been at home on your phone for a while and you realise its been on 3G this whole time\", 'target'] = 0"
      ],
      "execution_count": 303,
      "outputs": []
    },
    {
      "cell_type": "markdown",
      "metadata": {
        "id": "GDktCt5UskZu"
      },
      "source": [
        "### Generating additional features from the dataset"
      ]
    },
    {
      "cell_type": "code",
      "metadata": {
        "id": "Blruu-1DlFPY"
      },
      "source": [
        "# replace the missing 'Keyword' values and clean the data\r\n",
        "train_data.keyword.replace(np.nan,'missing',inplace=True)\r\n",
        "test_data.keyword.replace(np.nan,'missing',inplace=True)"
      ],
      "execution_count": 315,
      "outputs": []
    },
    {
      "cell_type": "code",
      "metadata": {
        "id": "eSXoVJGllSRv"
      },
      "source": [
        "train_data.keyword = train_data.keyword.apply(lambda s : clean(s))\r\n",
        "test_data.keyword = test_data.keyword.apply(lambda s : clean(s))"
      ],
      "execution_count": 316,
      "outputs": []
    },
    {
      "cell_type": "code",
      "metadata": {
        "id": "NHigfi72Dlpt"
      },
      "source": [
        "def generate_features(df): \r\n",
        "\r\n",
        "  # word_count\r\n",
        "  df['word_count'] = df['text'].apply(lambda x: len(str(x).split()))\r\n",
        "\r\n",
        "  # unique_word_count\r\n",
        "  df['unique_word_count'] = df['text'].apply(lambda x: len(set(str(x).split())))\r\n",
        "\r\n",
        "  # url_count\r\n",
        "  df['url_count'] = df['text'].apply(lambda x: len([w for w in str(x).lower().split() if 'http' in w or 'https' in w]))\r\n",
        "\r\n",
        "  # char_count\r\n",
        "  df['char_count'] = df['text'].apply(lambda x: len(str(x)))\r\n",
        "\r\n",
        "  # punctuation_count\r\n",
        "  df['punctuation_count'] = df['text'].apply(lambda x: len([c for c in str(x) if c in string.punctuation]))\r\n",
        "\r\n",
        "  # mean_word_length\r\n",
        "  df['mean_word_length'] = df['text'].apply(lambda x: np.mean([len(w) for w in str(x).split()]))\r\n",
        "\r\n",
        "  # stop_word_count\r\n",
        "  stop_words = set(stopwords.words('english'))\r\n",
        "  df['stop_word_count'] = df['text'].apply(lambda x: len([w for w in str(x).lower().split() if w in stop_words]))\r\n",
        "\r\n",
        "  # hashtag_count\r\n",
        "  df['hashtag_count'] = df['text'].apply(lambda x: len([c for c in str(x) if c == '#']))\r\n",
        "\r\n",
        "  # mention_count\r\n",
        "  df['mention_count'] = df['text'].apply(lambda x: len([c for c in str(x) if c == '@']))\r\n",
        "\r\n",
        "  # one-hot-encode the 'keywords'\r\n",
        "  one_hot = pd.get_dummies(df['keyword'])\r\n",
        "  df = df.drop('keyword',axis = 1)\r\n",
        "  df = df.join(one_hot)\r\n",
        "\r\n",
        "  return df"
      ],
      "execution_count": 317,
      "outputs": []
    },
    {
      "cell_type": "code",
      "metadata": {
        "id": "k5QoS_7FDpFs"
      },
      "source": [
        "train_data = generate_features(train_data)\r\n",
        "test_data = generate_features(test_data)"
      ],
      "execution_count": 318,
      "outputs": []
    },
    {
      "cell_type": "markdown",
      "metadata": {
        "id": "idt3U-GyBqfG"
      },
      "source": [
        "### Using a Language model (with FastAI)"
      ]
    },
    {
      "cell_type": "code",
      "metadata": {
        "id": "qrOCVkysoPcB"
      },
      "source": [
        "all_X_cols = train_data.columns.tolist()\r\n",
        "all_X_cols.remove('target')\r\n",
        "y_cols = ['id', 'target']"
      ],
      "execution_count": 319,
      "outputs": []
    },
    {
      "cell_type": "code",
      "metadata": {
        "colab": {
          "base_uri": "https://localhost:8080/"
        },
        "id": "hkIlCmU0RbhX",
        "outputId": "65adbecd-473a-4b81-e834-e5dd311e54b8"
      },
      "source": [
        "# create a train and validation set for the training\r\n",
        "y = train_data.loc[:,y_cols]\r\n",
        "X = train_data.loc[: , all_X_cols]\r\n",
        "                   \r\n",
        "X_train, X_val, y_train, y_val = train_test_split(X,y,random_state=16)\r\n",
        "\r\n",
        "X_val.loc[:,'is_valid'] = True\r\n",
        "X_train.loc[:,'is_valid'] = False"
      ],
      "execution_count": 320,
      "outputs": [
        {
          "output_type": "stream",
          "text": [
            "/usr/local/lib/python3.6/dist-packages/pandas/core/indexing.py:1596: SettingWithCopyWarning: \n",
            "A value is trying to be set on a copy of a slice from a DataFrame.\n",
            "Try using .loc[row_indexer,col_indexer] = value instead\n",
            "\n",
            "See the caveats in the documentation: https://pandas.pydata.org/pandas-docs/stable/user_guide/indexing.html#returning-a-view-versus-a-copy\n",
            "  self.obj[key] = _infer_fill_value(value)\n",
            "/usr/local/lib/python3.6/dist-packages/pandas/core/indexing.py:1763: SettingWithCopyWarning: \n",
            "A value is trying to be set on a copy of a slice from a DataFrame.\n",
            "Try using .loc[row_indexer,col_indexer] = value instead\n",
            "\n",
            "See the caveats in the documentation: https://pandas.pydata.org/pandas-docs/stable/user_guide/indexing.html#returning-a-view-versus-a-copy\n",
            "  isetter(loc, value)\n"
          ],
          "name": "stderr"
        }
      ]
    },
    {
      "cell_type": "code",
      "metadata": {
        "id": "2-xVDzYZUX6t"
      },
      "source": [
        "X_train_w_Y = X_train.merge(y_train)\r\n",
        "X_val_w_Y = X_val.merge(y_val)\r\n",
        "\r\n",
        "train_data_full = pd.concat([X_train_w_Y,X_val_w_Y])"
      ],
      "execution_count": 322,
      "outputs": []
    },
    {
      "cell_type": "code",
      "metadata": {
        "id": "cLeI7ViqNcNu",
        "colab": {
          "base_uri": "https://localhost:8080/",
          "height": 530
        },
        "outputId": "bab0cd7e-a0ed-4f87-d84f-b7e77033ff7f"
      },
      "source": [
        "train_data_full.head()"
      ],
      "execution_count": 323,
      "outputs": [
        {
          "output_type": "execute_result",
          "data": {
            "text/html": [
              "<div>\n",
              "<style scoped>\n",
              "    .dataframe tbody tr th:only-of-type {\n",
              "        vertical-align: middle;\n",
              "    }\n",
              "\n",
              "    .dataframe tbody tr th {\n",
              "        vertical-align: top;\n",
              "    }\n",
              "\n",
              "    .dataframe thead th {\n",
              "        text-align: right;\n",
              "    }\n",
              "</style>\n",
              "<table border=\"1\" class=\"dataframe\">\n",
              "  <thead>\n",
              "    <tr style=\"text-align: right;\">\n",
              "      <th></th>\n",
              "      <th>id</th>\n",
              "      <th>location</th>\n",
              "      <th>text</th>\n",
              "      <th>text_cleaned</th>\n",
              "      <th>word_count</th>\n",
              "      <th>unique_word_count</th>\n",
              "      <th>url_count</th>\n",
              "      <th>char_count</th>\n",
              "      <th>punctuation_count</th>\n",
              "      <th>mean_word_length</th>\n",
              "      <th>stop_word_count</th>\n",
              "      <th>hashtag_count</th>\n",
              "      <th>mention_count</th>\n",
              "      <th>ablaze</th>\n",
              "      <th>accident</th>\n",
              "      <th>aftershock</th>\n",
              "      <th>airplane  %  20accident</th>\n",
              "      <th>ambulance</th>\n",
              "      <th>annihilated</th>\n",
              "      <th>annihilation</th>\n",
              "      <th>apocalypse</th>\n",
              "      <th>armageddon</th>\n",
              "      <th>army</th>\n",
              "      <th>arson</th>\n",
              "      <th>arsonist</th>\n",
              "      <th>attack</th>\n",
              "      <th>attacked</th>\n",
              "      <th>avalanche</th>\n",
              "      <th>battle</th>\n",
              "      <th>bioterror</th>\n",
              "      <th>bioterrorism</th>\n",
              "      <th>blaze</th>\n",
              "      <th>blazing</th>\n",
              "      <th>bleeding</th>\n",
              "      <th>blew  %  20up</th>\n",
              "      <th>blight</th>\n",
              "      <th>blizzard</th>\n",
              "      <th>blood</th>\n",
              "      <th>bloody</th>\n",
              "      <th>blown  %  20up</th>\n",
              "      <th>...</th>\n",
              "      <th>stretcher</th>\n",
              "      <th>structural  %  20failure</th>\n",
              "      <th>suicide  %  20bomb</th>\n",
              "      <th>suicide  %  20bomber</th>\n",
              "      <th>suicide  %  20bombing</th>\n",
              "      <th>sunk</th>\n",
              "      <th>survive</th>\n",
              "      <th>survived</th>\n",
              "      <th>survivors</th>\n",
              "      <th>terrorism</th>\n",
              "      <th>terrorist</th>\n",
              "      <th>threat</th>\n",
              "      <th>thunder</th>\n",
              "      <th>thunderstorm</th>\n",
              "      <th>tornado</th>\n",
              "      <th>tragedy</th>\n",
              "      <th>trapeopleicationed</th>\n",
              "      <th>trauma</th>\n",
              "      <th>traumatised</th>\n",
              "      <th>trouble</th>\n",
              "      <th>tsunami</th>\n",
              "      <th>twister</th>\n",
              "      <th>typhoon</th>\n",
              "      <th>upheaval</th>\n",
              "      <th>violent  %  20storm</th>\n",
              "      <th>volcano</th>\n",
              "      <th>war  %  20zone</th>\n",
              "      <th>weapon</th>\n",
              "      <th>weapons</th>\n",
              "      <th>whirlwind</th>\n",
              "      <th>wild  %  20fires</th>\n",
              "      <th>wildfire</th>\n",
              "      <th>windstorm</th>\n",
              "      <th>wounded</th>\n",
              "      <th>wounds</th>\n",
              "      <th>wreck</th>\n",
              "      <th>wreckage</th>\n",
              "      <th>wrecked</th>\n",
              "      <th>is_valid</th>\n",
              "      <th>target</th>\n",
              "    </tr>\n",
              "  </thead>\n",
              "  <tbody>\n",
              "    <tr>\n",
              "      <th>0</th>\n",
              "      <td>6790</td>\n",
              "      <td>Asheboro, NC</td>\n",
              "      <td>Some crazy lightning outside</td>\n",
              "      <td>Some crazy lightning outside</td>\n",
              "      <td>4</td>\n",
              "      <td>4</td>\n",
              "      <td>0</td>\n",
              "      <td>28</td>\n",
              "      <td>0</td>\n",
              "      <td>6.250000</td>\n",
              "      <td>1</td>\n",
              "      <td>0</td>\n",
              "      <td>0</td>\n",
              "      <td>0</td>\n",
              "      <td>0</td>\n",
              "      <td>0</td>\n",
              "      <td>0</td>\n",
              "      <td>0</td>\n",
              "      <td>0</td>\n",
              "      <td>0</td>\n",
              "      <td>0</td>\n",
              "      <td>0</td>\n",
              "      <td>0</td>\n",
              "      <td>0</td>\n",
              "      <td>0</td>\n",
              "      <td>0</td>\n",
              "      <td>0</td>\n",
              "      <td>0</td>\n",
              "      <td>0</td>\n",
              "      <td>0</td>\n",
              "      <td>0</td>\n",
              "      <td>0</td>\n",
              "      <td>0</td>\n",
              "      <td>0</td>\n",
              "      <td>0</td>\n",
              "      <td>0</td>\n",
              "      <td>0</td>\n",
              "      <td>0</td>\n",
              "      <td>0</td>\n",
              "      <td>0</td>\n",
              "      <td>...</td>\n",
              "      <td>0</td>\n",
              "      <td>0</td>\n",
              "      <td>0</td>\n",
              "      <td>0</td>\n",
              "      <td>0</td>\n",
              "      <td>0</td>\n",
              "      <td>0</td>\n",
              "      <td>0</td>\n",
              "      <td>0</td>\n",
              "      <td>0</td>\n",
              "      <td>0</td>\n",
              "      <td>0</td>\n",
              "      <td>0</td>\n",
              "      <td>0</td>\n",
              "      <td>0</td>\n",
              "      <td>0</td>\n",
              "      <td>0</td>\n",
              "      <td>0</td>\n",
              "      <td>0</td>\n",
              "      <td>0</td>\n",
              "      <td>0</td>\n",
              "      <td>0</td>\n",
              "      <td>0</td>\n",
              "      <td>0</td>\n",
              "      <td>0</td>\n",
              "      <td>0</td>\n",
              "      <td>0</td>\n",
              "      <td>0</td>\n",
              "      <td>0</td>\n",
              "      <td>0</td>\n",
              "      <td>0</td>\n",
              "      <td>0</td>\n",
              "      <td>0</td>\n",
              "      <td>0</td>\n",
              "      <td>0</td>\n",
              "      <td>0</td>\n",
              "      <td>0</td>\n",
              "      <td>0</td>\n",
              "      <td>False</td>\n",
              "      <td>0</td>\n",
              "    </tr>\n",
              "    <tr>\n",
              "      <th>1</th>\n",
              "      <td>463</td>\n",
              "      <td>NaN</td>\n",
              "      <td>RT @RTRRTcoach: #Love #TrueLove #romance lith ...</td>\n",
              "      <td>RT  @ RTRRTcoach :   # Love  # TrueLove  # rom...</td>\n",
              "      <td>15</td>\n",
              "      <td>15</td>\n",
              "      <td>0</td>\n",
              "      <td>133</td>\n",
              "      <td>15</td>\n",
              "      <td>7.866667</td>\n",
              "      <td>0</td>\n",
              "      <td>11</td>\n",
              "      <td>1</td>\n",
              "      <td>0</td>\n",
              "      <td>0</td>\n",
              "      <td>0</td>\n",
              "      <td>0</td>\n",
              "      <td>0</td>\n",
              "      <td>0</td>\n",
              "      <td>0</td>\n",
              "      <td>0</td>\n",
              "      <td>1</td>\n",
              "      <td>0</td>\n",
              "      <td>0</td>\n",
              "      <td>0</td>\n",
              "      <td>0</td>\n",
              "      <td>0</td>\n",
              "      <td>0</td>\n",
              "      <td>0</td>\n",
              "      <td>0</td>\n",
              "      <td>0</td>\n",
              "      <td>0</td>\n",
              "      <td>0</td>\n",
              "      <td>0</td>\n",
              "      <td>0</td>\n",
              "      <td>0</td>\n",
              "      <td>0</td>\n",
              "      <td>0</td>\n",
              "      <td>0</td>\n",
              "      <td>0</td>\n",
              "      <td>...</td>\n",
              "      <td>0</td>\n",
              "      <td>0</td>\n",
              "      <td>0</td>\n",
              "      <td>0</td>\n",
              "      <td>0</td>\n",
              "      <td>0</td>\n",
              "      <td>0</td>\n",
              "      <td>0</td>\n",
              "      <td>0</td>\n",
              "      <td>0</td>\n",
              "      <td>0</td>\n",
              "      <td>0</td>\n",
              "      <td>0</td>\n",
              "      <td>0</td>\n",
              "      <td>0</td>\n",
              "      <td>0</td>\n",
              "      <td>0</td>\n",
              "      <td>0</td>\n",
              "      <td>0</td>\n",
              "      <td>0</td>\n",
              "      <td>0</td>\n",
              "      <td>0</td>\n",
              "      <td>0</td>\n",
              "      <td>0</td>\n",
              "      <td>0</td>\n",
              "      <td>0</td>\n",
              "      <td>0</td>\n",
              "      <td>0</td>\n",
              "      <td>0</td>\n",
              "      <td>0</td>\n",
              "      <td>0</td>\n",
              "      <td>0</td>\n",
              "      <td>0</td>\n",
              "      <td>0</td>\n",
              "      <td>0</td>\n",
              "      <td>0</td>\n",
              "      <td>0</td>\n",
              "      <td>0</td>\n",
              "      <td>False</td>\n",
              "      <td>0</td>\n",
              "    </tr>\n",
              "    <tr>\n",
              "      <th>2</th>\n",
              "      <td>7356</td>\n",
              "      <td>Purfleet</td>\n",
              "      <td>Whereas Jez will obliterate the national debt ...</td>\n",
              "      <td>Whereas Jez will obliterate the national debt ...</td>\n",
              "      <td>21</td>\n",
              "      <td>20</td>\n",
              "      <td>1</td>\n",
              "      <td>137</td>\n",
              "      <td>9</td>\n",
              "      <td>5.571429</td>\n",
              "      <td>5</td>\n",
              "      <td>0</td>\n",
              "      <td>0</td>\n",
              "      <td>0</td>\n",
              "      <td>0</td>\n",
              "      <td>0</td>\n",
              "      <td>0</td>\n",
              "      <td>0</td>\n",
              "      <td>0</td>\n",
              "      <td>0</td>\n",
              "      <td>0</td>\n",
              "      <td>0</td>\n",
              "      <td>0</td>\n",
              "      <td>0</td>\n",
              "      <td>0</td>\n",
              "      <td>0</td>\n",
              "      <td>0</td>\n",
              "      <td>0</td>\n",
              "      <td>0</td>\n",
              "      <td>0</td>\n",
              "      <td>0</td>\n",
              "      <td>0</td>\n",
              "      <td>0</td>\n",
              "      <td>0</td>\n",
              "      <td>0</td>\n",
              "      <td>0</td>\n",
              "      <td>0</td>\n",
              "      <td>0</td>\n",
              "      <td>0</td>\n",
              "      <td>0</td>\n",
              "      <td>...</td>\n",
              "      <td>0</td>\n",
              "      <td>0</td>\n",
              "      <td>0</td>\n",
              "      <td>0</td>\n",
              "      <td>0</td>\n",
              "      <td>0</td>\n",
              "      <td>0</td>\n",
              "      <td>0</td>\n",
              "      <td>0</td>\n",
              "      <td>0</td>\n",
              "      <td>0</td>\n",
              "      <td>0</td>\n",
              "      <td>0</td>\n",
              "      <td>0</td>\n",
              "      <td>0</td>\n",
              "      <td>0</td>\n",
              "      <td>0</td>\n",
              "      <td>0</td>\n",
              "      <td>0</td>\n",
              "      <td>0</td>\n",
              "      <td>0</td>\n",
              "      <td>0</td>\n",
              "      <td>0</td>\n",
              "      <td>0</td>\n",
              "      <td>0</td>\n",
              "      <td>0</td>\n",
              "      <td>0</td>\n",
              "      <td>0</td>\n",
              "      <td>0</td>\n",
              "      <td>0</td>\n",
              "      <td>0</td>\n",
              "      <td>0</td>\n",
              "      <td>0</td>\n",
              "      <td>0</td>\n",
              "      <td>0</td>\n",
              "      <td>0</td>\n",
              "      <td>0</td>\n",
              "      <td>0</td>\n",
              "      <td>False</td>\n",
              "      <td>1</td>\n",
              "    </tr>\n",
              "    <tr>\n",
              "      <th>3</th>\n",
              "      <td>262</td>\n",
              "      <td>Amsterdam</td>\n",
              "      <td>http://t.co/7xGLah10zL Twelve feared killed in...</td>\n",
              "      <td>Twelve feared killed in Pakistani air ambulan...</td>\n",
              "      <td>11</td>\n",
              "      <td>11</td>\n",
              "      <td>2</td>\n",
              "      <td>110</td>\n",
              "      <td>10</td>\n",
              "      <td>9.090909</td>\n",
              "      <td>1</td>\n",
              "      <td>0</td>\n",
              "      <td>0</td>\n",
              "      <td>0</td>\n",
              "      <td>0</td>\n",
              "      <td>0</td>\n",
              "      <td>0</td>\n",
              "      <td>1</td>\n",
              "      <td>0</td>\n",
              "      <td>0</td>\n",
              "      <td>0</td>\n",
              "      <td>0</td>\n",
              "      <td>0</td>\n",
              "      <td>0</td>\n",
              "      <td>0</td>\n",
              "      <td>0</td>\n",
              "      <td>0</td>\n",
              "      <td>0</td>\n",
              "      <td>0</td>\n",
              "      <td>0</td>\n",
              "      <td>0</td>\n",
              "      <td>0</td>\n",
              "      <td>0</td>\n",
              "      <td>0</td>\n",
              "      <td>0</td>\n",
              "      <td>0</td>\n",
              "      <td>0</td>\n",
              "      <td>0</td>\n",
              "      <td>0</td>\n",
              "      <td>0</td>\n",
              "      <td>...</td>\n",
              "      <td>0</td>\n",
              "      <td>0</td>\n",
              "      <td>0</td>\n",
              "      <td>0</td>\n",
              "      <td>0</td>\n",
              "      <td>0</td>\n",
              "      <td>0</td>\n",
              "      <td>0</td>\n",
              "      <td>0</td>\n",
              "      <td>0</td>\n",
              "      <td>0</td>\n",
              "      <td>0</td>\n",
              "      <td>0</td>\n",
              "      <td>0</td>\n",
              "      <td>0</td>\n",
              "      <td>0</td>\n",
              "      <td>0</td>\n",
              "      <td>0</td>\n",
              "      <td>0</td>\n",
              "      <td>0</td>\n",
              "      <td>0</td>\n",
              "      <td>0</td>\n",
              "      <td>0</td>\n",
              "      <td>0</td>\n",
              "      <td>0</td>\n",
              "      <td>0</td>\n",
              "      <td>0</td>\n",
              "      <td>0</td>\n",
              "      <td>0</td>\n",
              "      <td>0</td>\n",
              "      <td>0</td>\n",
              "      <td>0</td>\n",
              "      <td>0</td>\n",
              "      <td>0</td>\n",
              "      <td>0</td>\n",
              "      <td>0</td>\n",
              "      <td>0</td>\n",
              "      <td>0</td>\n",
              "      <td>False</td>\n",
              "      <td>1</td>\n",
              "    </tr>\n",
              "    <tr>\n",
              "      <th>4</th>\n",
              "      <td>1177</td>\n",
              "      <td>NaN</td>\n",
              "      <td>Locksmithing-art respecting elaboration only b...</td>\n",
              "      <td>Locksmithing - art respecting elaboration only...</td>\n",
              "      <td>7</td>\n",
              "      <td>7</td>\n",
              "      <td>0</td>\n",
              "      <td>64</td>\n",
              "      <td>2</td>\n",
              "      <td>8.285714</td>\n",
              "      <td>1</td>\n",
              "      <td>0</td>\n",
              "      <td>0</td>\n",
              "      <td>0</td>\n",
              "      <td>0</td>\n",
              "      <td>0</td>\n",
              "      <td>0</td>\n",
              "      <td>0</td>\n",
              "      <td>0</td>\n",
              "      <td>0</td>\n",
              "      <td>0</td>\n",
              "      <td>0</td>\n",
              "      <td>0</td>\n",
              "      <td>0</td>\n",
              "      <td>0</td>\n",
              "      <td>0</td>\n",
              "      <td>0</td>\n",
              "      <td>0</td>\n",
              "      <td>0</td>\n",
              "      <td>0</td>\n",
              "      <td>0</td>\n",
              "      <td>0</td>\n",
              "      <td>0</td>\n",
              "      <td>0</td>\n",
              "      <td>0</td>\n",
              "      <td>1</td>\n",
              "      <td>0</td>\n",
              "      <td>0</td>\n",
              "      <td>0</td>\n",
              "      <td>0</td>\n",
              "      <td>...</td>\n",
              "      <td>0</td>\n",
              "      <td>0</td>\n",
              "      <td>0</td>\n",
              "      <td>0</td>\n",
              "      <td>0</td>\n",
              "      <td>0</td>\n",
              "      <td>0</td>\n",
              "      <td>0</td>\n",
              "      <td>0</td>\n",
              "      <td>0</td>\n",
              "      <td>0</td>\n",
              "      <td>0</td>\n",
              "      <td>0</td>\n",
              "      <td>0</td>\n",
              "      <td>0</td>\n",
              "      <td>0</td>\n",
              "      <td>0</td>\n",
              "      <td>0</td>\n",
              "      <td>0</td>\n",
              "      <td>0</td>\n",
              "      <td>0</td>\n",
              "      <td>0</td>\n",
              "      <td>0</td>\n",
              "      <td>0</td>\n",
              "      <td>0</td>\n",
              "      <td>0</td>\n",
              "      <td>0</td>\n",
              "      <td>0</td>\n",
              "      <td>0</td>\n",
              "      <td>0</td>\n",
              "      <td>0</td>\n",
              "      <td>0</td>\n",
              "      <td>0</td>\n",
              "      <td>0</td>\n",
              "      <td>0</td>\n",
              "      <td>0</td>\n",
              "      <td>0</td>\n",
              "      <td>0</td>\n",
              "      <td>False</td>\n",
              "      <td>0</td>\n",
              "    </tr>\n",
              "  </tbody>\n",
              "</table>\n",
              "<p>5 rows × 237 columns</p>\n",
              "</div>"
            ],
            "text/plain": [
              "     id      location  ... is_valid target\n",
              "0  6790  Asheboro, NC  ...    False      0\n",
              "1   463           NaN  ...    False      0\n",
              "2  7356      Purfleet  ...    False      1\n",
              "3   262     Amsterdam  ...    False      1\n",
              "4  1177           NaN  ...    False      0\n",
              "\n",
              "[5 rows x 237 columns]"
            ]
          },
          "metadata": {
            "tags": []
          },
          "execution_count": 323
        }
      ]
    },
    {
      "cell_type": "code",
      "metadata": {
        "colab": {
          "base_uri": "https://localhost:8080/",
          "height": 406
        },
        "id": "HuJf4Rf4Vi9m",
        "outputId": "5420ec4e-fbf6-47ce-83a9-bae3281aa5a2"
      },
      "source": [
        "train_reduced = train_data_full.loc[:,['text_cleaned','is_valid','target']]\r\n",
        "train_reduced.columns = ['text','is_valid','label']\r\n",
        "train_reduced = train_reduced[['label','text','is_valid']]\r\n",
        "train_reduced.to_csv('disaster_tweets_train_data.csv', index=False)\r\n",
        "train_reduced"
      ],
      "execution_count": 324,
      "outputs": [
        {
          "output_type": "execute_result",
          "data": {
            "text/html": [
              "<div>\n",
              "<style scoped>\n",
              "    .dataframe tbody tr th:only-of-type {\n",
              "        vertical-align: middle;\n",
              "    }\n",
              "\n",
              "    .dataframe tbody tr th {\n",
              "        vertical-align: top;\n",
              "    }\n",
              "\n",
              "    .dataframe thead th {\n",
              "        text-align: right;\n",
              "    }\n",
              "</style>\n",
              "<table border=\"1\" class=\"dataframe\">\n",
              "  <thead>\n",
              "    <tr style=\"text-align: right;\">\n",
              "      <th></th>\n",
              "      <th>label</th>\n",
              "      <th>text</th>\n",
              "      <th>is_valid</th>\n",
              "    </tr>\n",
              "  </thead>\n",
              "  <tbody>\n",
              "    <tr>\n",
              "      <th>0</th>\n",
              "      <td>0</td>\n",
              "      <td>Some crazy lightning outside</td>\n",
              "      <td>False</td>\n",
              "    </tr>\n",
              "    <tr>\n",
              "      <th>1</th>\n",
              "      <td>0</td>\n",
              "      <td>RT  @ RTRRTcoach :   # Love  # TrueLove  # rom...</td>\n",
              "      <td>False</td>\n",
              "    </tr>\n",
              "    <tr>\n",
              "      <th>2</th>\n",
              "      <td>1</td>\n",
              "      <td>Whereas Jez will obliterate the national debt ...</td>\n",
              "      <td>False</td>\n",
              "    </tr>\n",
              "    <tr>\n",
              "      <th>3</th>\n",
              "      <td>1</td>\n",
              "      <td>Twelve feared killed in Pakistani air ambulan...</td>\n",
              "      <td>False</td>\n",
              "    </tr>\n",
              "    <tr>\n",
              "      <th>4</th>\n",
              "      <td>0</td>\n",
              "      <td>Locksmithing - art respecting elaboration only...</td>\n",
              "      <td>False</td>\n",
              "    </tr>\n",
              "    <tr>\n",
              "      <th>...</th>\n",
              "      <td>...</td>\n",
              "      <td>...</td>\n",
              "      <td>...</td>\n",
              "    </tr>\n",
              "    <tr>\n",
              "      <th>1899</th>\n",
              "      <td>1</td>\n",
              "      <td>A Pyrotechnic Artwork by Cai Guo - Qiang Explo...</td>\n",
              "      <td>True</td>\n",
              "    </tr>\n",
              "    <tr>\n",
              "      <th>1900</th>\n",
              "      <td>0</td>\n",
              "      <td>RT RabidMonkeys1 :  Ah  the unique mudslide ca...</td>\n",
              "      <td>True</td>\n",
              "    </tr>\n",
              "    <tr>\n",
              "      <th>1901</th>\n",
              "      <td>1</td>\n",
              "      <td>Schools in Western Uganda still Burning down B...</td>\n",
              "      <td>True</td>\n",
              "    </tr>\n",
              "    <tr>\n",
              "      <th>1902</th>\n",
              "      <td>1</td>\n",
              "      <td>Wild fires freak me the fuck out .  Like hell no</td>\n",
              "      <td>True</td>\n",
              "    </tr>\n",
              "    <tr>\n",
              "      <th>1903</th>\n",
              "      <td>0</td>\n",
              "      <td># No Surrender Results :  Full Metal Mayhem W...</td>\n",
              "      <td>True</td>\n",
              "    </tr>\n",
              "  </tbody>\n",
              "</table>\n",
              "<p>7613 rows × 3 columns</p>\n",
              "</div>"
            ],
            "text/plain": [
              "      label                                               text  is_valid\n",
              "0         0                       Some crazy lightning outside     False\n",
              "1         0  RT  @ RTRRTcoach :   # Love  # TrueLove  # rom...     False\n",
              "2         1  Whereas Jez will obliterate the national debt ...     False\n",
              "3         1   Twelve feared killed in Pakistani air ambulan...     False\n",
              "4         0  Locksmithing - art respecting elaboration only...     False\n",
              "...     ...                                                ...       ...\n",
              "1899      1  A Pyrotechnic Artwork by Cai Guo - Qiang Explo...      True\n",
              "1900      0  RT RabidMonkeys1 :  Ah  the unique mudslide ca...      True\n",
              "1901      1  Schools in Western Uganda still Burning down B...      True\n",
              "1902      1   Wild fires freak me the fuck out .  Like hell no      True\n",
              "1903      0   # No Surrender Results :  Full Metal Mayhem W...      True\n",
              "\n",
              "[7613 rows x 3 columns]"
            ]
          },
          "metadata": {
            "tags": []
          },
          "execution_count": 324
        }
      ]
    },
    {
      "cell_type": "code",
      "metadata": {
        "colab": {
          "base_uri": "https://localhost:8080/",
          "height": 72
        },
        "id": "rAc4vz0UnXSi",
        "outputId": "dfe864b1-1fb3-40bb-dab1-b2043f7eea55"
      },
      "source": [
        "bs=32\r\n",
        "data_lm =  (TextList.from_df(train_reduced, cols=[\"text\"])\r\n",
        "           .split_from_df(\"is_valid\")\r\n",
        "           .label_for_lm()\r\n",
        "           .databunch(bs=bs))"
      ],
      "execution_count": 360,
      "outputs": [
        {
          "output_type": "display_data",
          "data": {
            "text/html": [
              ""
            ],
            "text/plain": [
              "<IPython.core.display.HTML object>"
            ]
          },
          "metadata": {
            "tags": []
          }
        },
        {
          "output_type": "stream",
          "text": [
            "/usr/local/lib/python3.6/dist-packages/fastai/core.py:302: VisibleDeprecationWarning: Creating an ndarray from ragged nested sequences (which is a list-or-tuple of lists-or-tuples-or ndarrays with different lengths or shapes) is deprecated. If you meant to do this, you must specify 'dtype=object' when creating the ndarray\n",
            "  return np.array(a, dtype=dtype, **kwargs)\n"
          ],
          "name": "stderr"
        },
        {
          "output_type": "display_data",
          "data": {
            "text/html": [
              ""
            ],
            "text/plain": [
              "<IPython.core.display.HTML object>"
            ]
          },
          "metadata": {
            "tags": []
          }
        }
      ]
    },
    {
      "cell_type": "code",
      "metadata": {
        "id": "B8bBAVBPnyTj"
      },
      "source": [
        "lm = language_model_learner(data_lm\r\n",
        "                            , AWD_LSTM\r\n",
        "                            , drop_mult=0.2\r\n",
        "                            , pretrained=True)"
      ],
      "execution_count": 361,
      "outputs": []
    },
    {
      "cell_type": "code",
      "metadata": {
        "colab": {
          "base_uri": "https://localhost:8080/",
          "height": 142
        },
        "id": "PESlp0Uln3fr",
        "outputId": "aa289a5b-ec82-489d-c4b7-dcd32014a312"
      },
      "source": [
        "lm.lr_find()"
      ],
      "execution_count": 362,
      "outputs": [
        {
          "output_type": "display_data",
          "data": {
            "text/html": [
              "\n",
              "    <div>\n",
              "        <style>\n",
              "            /* Turns off some styling */\n",
              "            progress {\n",
              "                /* gets rid of default border in Firefox and Opera. */\n",
              "                border: none;\n",
              "                /* Needs to be in here for Safari polyfill so background images work as expected. */\n",
              "                background-size: auto;\n",
              "            }\n",
              "            .progress-bar-interrupted, .progress-bar-interrupted::-webkit-progress-bar {\n",
              "                background: #F44336;\n",
              "            }\n",
              "        </style>\n",
              "      <progress value='1' class='' max='2' style='width:300px; height:20px; vertical-align: middle;'></progress>\n",
              "      50.00% [1/2 00:03<00:03]\n",
              "    </div>\n",
              "    \n",
              "<table border=\"1\" class=\"dataframe\">\n",
              "  <thead>\n",
              "    <tr style=\"text-align: left;\">\n",
              "      <th>epoch</th>\n",
              "      <th>train_loss</th>\n",
              "      <th>valid_loss</th>\n",
              "      <th>accuracy</th>\n",
              "      <th>time</th>\n",
              "    </tr>\n",
              "  </thead>\n",
              "  <tbody>\n",
              "    <tr>\n",
              "      <td>0</td>\n",
              "      <td>5.484960</td>\n",
              "      <td>#na#</td>\n",
              "      <td>00:03</td>\n",
              "    </tr>\n",
              "  </tbody>\n",
              "</table><p>\n",
              "\n",
              "    <div>\n",
              "        <style>\n",
              "            /* Turns off some styling */\n",
              "            progress {\n",
              "                /* gets rid of default border in Firefox and Opera. */\n",
              "                border: none;\n",
              "                /* Needs to be in here for Safari polyfill so background images work as expected. */\n",
              "                background-size: auto;\n",
              "            }\n",
              "            .progress-bar-interrupted, .progress-bar-interrupted::-webkit-progress-bar {\n",
              "                background: #F44336;\n",
              "            }\n",
              "        </style>\n",
              "      <progress value='38' class='' max='60' style='width:300px; height:20px; vertical-align: middle;'></progress>\n",
              "      63.33% [38/60 00:02<00:01 8.1890]\n",
              "    </div>\n",
              "    "
            ],
            "text/plain": [
              "<IPython.core.display.HTML object>"
            ]
          },
          "metadata": {
            "tags": []
          }
        },
        {
          "output_type": "stream",
          "text": [
            "LR Finder is complete, type {learner_name}.recorder.plot() to see the graph.\n"
          ],
          "name": "stdout"
        }
      ]
    },
    {
      "cell_type": "code",
      "metadata": {
        "colab": {
          "base_uri": "https://localhost:8080/",
          "height": 314
        },
        "id": "zBD9HRs5n_Iz",
        "outputId": "44f726cf-629c-45df-c6c0-6a556233995f"
      },
      "source": [
        "lm.recorder.plot(suggestion=True)"
      ],
      "execution_count": 363,
      "outputs": [
        {
          "output_type": "stream",
          "text": [
            "Min numerical gradient: 2.75E-02\n",
            "Min loss divided by 10: 4.37E-02\n"
          ],
          "name": "stdout"
        },
        {
          "output_type": "display_data",
          "data": {
            "image/png": "[encoded data removed]",
            "text/plain": [
              "<Figure size 432x288 with 1 Axes>"
            ]
          },
          "metadata": {
            "tags": [],
            "needs_background": "light"
          }
        }
      ]
    },
    {
      "cell_type": "code",
      "metadata": {
        "colab": {
          "base_uri": "https://localhost:8080/",
          "height": 95
        },
        "id": "ad59N1ucoD9f",
        "outputId": "644c6f97-6938-4c69-8d4d-0903f833d77c"
      },
      "source": [
        "lm.fit_one_cycle(1, max_lr = 1e-02\r\n",
        "                 , callbacks=[SaveModelCallback(lm, name=\"best_lm\")]\r\n",
        "                 , moms=(0.8,0.7)\r\n",
        "                 )"
      ],
      "execution_count": 364,
      "outputs": [
        {
          "output_type": "display_data",
          "data": {
            "text/html": [
              "<table border=\"1\" class=\"dataframe\">\n",
              "  <thead>\n",
              "    <tr style=\"text-align: left;\">\n",
              "      <th>epoch</th>\n",
              "      <th>train_loss</th>\n",
              "      <th>valid_loss</th>\n",
              "      <th>accuracy</th>\n",
              "      <th>time</th>\n",
              "    </tr>\n",
              "  </thead>\n",
              "  <tbody>\n",
              "    <tr>\n",
              "      <td>0</td>\n",
              "      <td>4.344365</td>\n",
              "      <td>3.825346</td>\n",
              "      <td>0.322768</td>\n",
              "      <td>00:04</td>\n",
              "    </tr>\n",
              "  </tbody>\n",
              "</table>"
            ],
            "text/plain": [
              "<IPython.core.display.HTML object>"
            ]
          },
          "metadata": {
            "tags": []
          }
        },
        {
          "output_type": "stream",
          "text": [
            "Better model found at epoch 0 with valid_loss value: 3.825345993041992.\n"
          ],
          "name": "stdout"
        }
      ]
    },
    {
      "cell_type": "code",
      "metadata": {
        "id": "5IfaT1qnoLSq"
      },
      "source": [
        "lm.unfreeze()"
      ],
      "execution_count": 365,
      "outputs": []
    },
    {
      "cell_type": "code",
      "metadata": {
        "colab": {
          "base_uri": "https://localhost:8080/"
        },
        "id": "ewifc7ptoUMi",
        "outputId": "36e0c539-f202-4daf-9dc9-83a3bf31ad48"
      },
      "source": [
        "lm.load(\"best_lm\")"
      ],
      "execution_count": 366,
      "outputs": [
        {
          "output_type": "execute_result",
          "data": {
            "text/plain": [
              "LanguageLearner(data=TextLMDataBunch;\n",
              "\n",
              "Train: LabelList (5709 items)\n",
              "x: LMTextList\n",
              "xxbos xxmaj some crazy lightning outside,xxbos xxup rt @ xxunk : # xxmaj love # xxunk # romance xxunk # xxmaj xxunk # xxunk # xxmaj xxunk # xxup xxunk # xxup xxunk 9 - 11 # apocalypse # xxmaj armageddon # xxunk,xxbos xxmaj xxunk xxmaj xxunk will obliterate the national debt - and give lots of new benefits - by xxunk xxunk money ! xxmaj xxunk !,xxbos xxmaj twelve feared killed in xxmaj pakistani air ambulance helicopter crash,xxbos xxmaj xxunk - art xxunk xxunk only blight xxunk : xxunk\n",
              "y: LMLabelList\n",
              ",,,,\n",
              "Path: .;\n",
              "\n",
              "Valid: LabelList (1904 items)\n",
              "x: LMTextList\n",
              "xxbos xxmaj put the rinstagramht person up on the block # xxmaj xxunk ? ? ? xxmaj the sense of xxunk is xxunk . # xxup bb17 .,xxbos i am xxunk xxunk myself for a bomb ass school year if it is not i am burning buildings ? ?,xxbos xxmaj cop pulls drunk driver to safety xxup seconds before his car is hit by train . via @ xxmaj viral xxmaj spell,xxbos xxmaj enter the world of extreme diving 9 stories up and into the xxmaj xxunk xxmaj river,xxbos xxup but i will be xxunk these videos xxup xxunk so you guys get to see the new weapon xxunk in action !\n",
              "y: LMLabelList\n",
              ",,,,\n",
              "Path: .;\n",
              "\n",
              "Test: None, model=SequentialRNN(\n",
              "  (0): AWD_LSTM(\n",
              "    (encoder): Embedding(3752, 400, padding_idx=1)\n",
              "    (encoder_dp): EmbeddingDropout(\n",
              "      (emb): Embedding(3752, 400, padding_idx=1)\n",
              "    )\n",
              "    (rnns): ModuleList(\n",
              "      (0): WeightDropout(\n",
              "        (module): LSTM(400, 1152, batch_first=True)\n",
              "      )\n",
              "      (1): WeightDropout(\n",
              "        (module): LSTM(1152, 1152, batch_first=True)\n",
              "      )\n",
              "      (2): WeightDropout(\n",
              "        (module): LSTM(1152, 400, batch_first=True)\n",
              "      )\n",
              "    )\n",
              "    (input_dp): RNNDropout()\n",
              "    (hidden_dps): ModuleList(\n",
              "      (0): RNNDropout()\n",
              "      (1): RNNDropout()\n",
              "      (2): RNNDropout()\n",
              "    )\n",
              "  )\n",
              "  (1): LinearDecoder(\n",
              "    (decoder): Linear(in_features=400, out_features=3752, bias=True)\n",
              "    (output_dp): RNNDropout()\n",
              "  )\n",
              "), opt_func=functools.partial(<class 'torch.optim.adam.Adam'>, betas=(0.9, 0.99)), loss_func=FlattenedLoss of CrossEntropyLoss(), metrics=[<function accuracy at 0x7f6380949840>], true_wd=True, bn_wd=True, wd=0.01, train_bn=True, path=PosixPath('.'), model_dir='models', callback_fns=[functools.partial(<class 'fastai.basic_train.Recorder'>, add_time=True, silent=False)], callbacks=[RNNTrainer\n",
              "learn: LanguageLearner(data=TextLMDataBunch;\n",
              "\n",
              "Train: LabelList (5709 items)\n",
              "x: LMTextList\n",
              "xxbos xxmaj some crazy lightning outside,xxbos xxup rt @ xxunk : # xxmaj love # xxunk # romance xxunk # xxmaj xxunk # xxunk # xxmaj xxunk # xxup xxunk # xxup xxunk 9 - 11 # apocalypse # xxmaj armageddon # xxunk,xxbos xxmaj xxunk xxmaj xxunk will obliterate the national debt - and give lots of new benefits - by xxunk xxunk money ! xxmaj xxunk !,xxbos xxmaj twelve feared killed in xxmaj pakistani air ambulance helicopter crash,xxbos xxmaj xxunk - art xxunk xxunk only blight xxunk : xxunk\n",
              "y: LMLabelList\n",
              ",,,,\n",
              "Path: .;\n",
              "\n",
              "Valid: LabelList (1904 items)\n",
              "x: LMTextList\n",
              "xxbos xxmaj put the rinstagramht person up on the block # xxmaj xxunk ? ? ? xxmaj the sense of xxunk is xxunk . # xxup bb17 .,xxbos i am xxunk xxunk myself for a bomb ass school year if it is not i am burning buildings ? ?,xxbos xxmaj cop pulls drunk driver to safety xxup seconds before his car is hit by train . via @ xxmaj viral xxmaj spell,xxbos xxmaj enter the world of extreme diving 9 stories up and into the xxmaj xxunk xxmaj river,xxbos xxup but i will be xxunk these videos xxup xxunk so you guys get to see the new weapon xxunk in action !\n",
              "y: LMLabelList\n",
              ",,,,\n",
              "Path: .;\n",
              "\n",
              "Test: None, model=SequentialRNN(\n",
              "  (0): AWD_LSTM(\n",
              "    (encoder): Embedding(3752, 400, padding_idx=1)\n",
              "    (encoder_dp): EmbeddingDropout(\n",
              "      (emb): Embedding(3752, 400, padding_idx=1)\n",
              "    )\n",
              "    (rnns): ModuleList(\n",
              "      (0): WeightDropout(\n",
              "        (module): LSTM(400, 1152, batch_first=True)\n",
              "      )\n",
              "      (1): WeightDropout(\n",
              "        (module): LSTM(1152, 1152, batch_first=True)\n",
              "      )\n",
              "      (2): WeightDropout(\n",
              "        (module): LSTM(1152, 400, batch_first=True)\n",
              "      )\n",
              "    )\n",
              "    (input_dp): RNNDropout()\n",
              "    (hidden_dps): ModuleList(\n",
              "      (0): RNNDropout()\n",
              "      (1): RNNDropout()\n",
              "      (2): RNNDropout()\n",
              "    )\n",
              "  )\n",
              "  (1): LinearDecoder(\n",
              "    (decoder): Linear(in_features=400, out_features=3752, bias=True)\n",
              "    (output_dp): RNNDropout()\n",
              "  )\n",
              "), opt_func=functools.partial(<class 'torch.optim.adam.Adam'>, betas=(0.9, 0.99)), loss_func=FlattenedLoss of CrossEntropyLoss(), metrics=[<function accuracy at 0x7f6380949840>], true_wd=True, bn_wd=True, wd=0.01, train_bn=True, path=PosixPath('.'), model_dir='models', callback_fns=[functools.partial(<class 'fastai.basic_train.Recorder'>, add_time=True, silent=False)], callbacks=[...], layer_groups=[Sequential(\n",
              "  (0): WeightDropout(\n",
              "    (module): LSTM(400, 1152, batch_first=True)\n",
              "  )\n",
              "  (1): RNNDropout()\n",
              "), Sequential(\n",
              "  (0): WeightDropout(\n",
              "    (module): LSTM(1152, 1152, batch_first=True)\n",
              "  )\n",
              "  (1): RNNDropout()\n",
              "), Sequential(\n",
              "  (0): WeightDropout(\n",
              "    (module): LSTM(1152, 400, batch_first=True)\n",
              "  )\n",
              "  (1): RNNDropout()\n",
              "), Sequential(\n",
              "  (0): Embedding(3752, 400, padding_idx=1)\n",
              "  (1): EmbeddingDropout(\n",
              "    (emb): Embedding(3752, 400, padding_idx=1)\n",
              "  )\n",
              "  (2): LinearDecoder(\n",
              "    (decoder): Linear(in_features=400, out_features=3752, bias=True)\n",
              "    (output_dp): RNNDropout()\n",
              "  )\n",
              ")], add_time=True, silent=False)\n",
              "alpha: 2.0\n",
              "beta: 1.0], layer_groups=[Sequential(\n",
              "  (0): WeightDropout(\n",
              "    (module): LSTM(400, 1152, batch_first=True)\n",
              "  )\n",
              "  (1): RNNDropout()\n",
              "), Sequential(\n",
              "  (0): WeightDropout(\n",
              "    (module): LSTM(1152, 1152, batch_first=True)\n",
              "  )\n",
              "  (1): RNNDropout()\n",
              "), Sequential(\n",
              "  (0): WeightDropout(\n",
              "    (module): LSTM(1152, 400, batch_first=True)\n",
              "  )\n",
              "  (1): RNNDropout()\n",
              "), Sequential(\n",
              "  (0): Embedding(3752, 400, padding_idx=1)\n",
              "  (1): EmbeddingDropout(\n",
              "    (emb): Embedding(3752, 400, padding_idx=1)\n",
              "  )\n",
              "  (2): LinearDecoder(\n",
              "    (decoder): Linear(in_features=400, out_features=3752, bias=True)\n",
              "    (output_dp): RNNDropout()\n",
              "  )\n",
              ")], add_time=True, silent=False)"
            ]
          },
          "metadata": {
            "tags": []
          },
          "execution_count": 366
        }
      ]
    },
    {
      "cell_type": "code",
      "metadata": {
        "id": "WG_sukQDoaJu"
      },
      "source": [
        "lm.save_encoder(\"enc\")"
      ],
      "execution_count": 367,
      "outputs": []
    },
    {
      "cell_type": "code",
      "metadata": {
        "colab": {
          "base_uri": "https://localhost:8080/",
          "height": 125
        },
        "id": "OvoXNQVXogQa",
        "outputId": "2d093241-1a12-4e0b-8602-b5159e51e9fb"
      },
      "source": [
        "data_clf = (TextList.from_df(train_reduced, cols=[\"text\"]\r\n",
        "                             , vocab=data_lm.vocab,)\r\n",
        "          .split_from_df(\"is_valid\")\r\n",
        "          .label_from_df(\"label\")\r\n",
        "          .add_test(test_data['text_cleaned'])\r\n",
        "          .databunch(bs=bs)\r\n",
        "          )"
      ],
      "execution_count": 368,
      "outputs": [
        {
          "output_type": "display_data",
          "data": {
            "text/html": [
              ""
            ],
            "text/plain": [
              "<IPython.core.display.HTML object>"
            ]
          },
          "metadata": {
            "tags": []
          }
        },
        {
          "output_type": "stream",
          "text": [
            "/usr/local/lib/python3.6/dist-packages/fastai/core.py:302: VisibleDeprecationWarning: Creating an ndarray from ragged nested sequences (which is a list-or-tuple of lists-or-tuples-or ndarrays with different lengths or shapes) is deprecated. If you meant to do this, you must specify 'dtype=object' when creating the ndarray\n",
            "  return np.array(a, dtype=dtype, **kwargs)\n"
          ],
          "name": "stderr"
        },
        {
          "output_type": "display_data",
          "data": {
            "text/html": [
              ""
            ],
            "text/plain": [
              "<IPython.core.display.HTML object>"
            ]
          },
          "metadata": {
            "tags": []
          }
        },
        {
          "output_type": "display_data",
          "data": {
            "text/html": [
              ""
            ],
            "text/plain": [
              "<IPython.core.display.HTML object>"
            ]
          },
          "metadata": {
            "tags": []
          }
        },
        {
          "output_type": "stream",
          "text": [
            "/usr/local/lib/python3.6/dist-packages/numpy/core/_asarray.py:83: VisibleDeprecationWarning: Creating an ndarray from ragged nested sequences (which is a list-or-tuple of lists-or-tuples-or ndarrays with different lengths or shapes) is deprecated. If you meant to do this, you must specify 'dtype=object' when creating the ndarray\n",
            "  return array(a, dtype, copy=False, order=order)\n",
            "<string>:6: VisibleDeprecationWarning: Creating an ndarray from ragged nested sequences (which is a list-or-tuple of lists-or-tuples-or ndarrays with different lengths or shapes) is deprecated. If you meant to do this, you must specify 'dtype=object' when creating the ndarray\n"
          ],
          "name": "stderr"
        }
      ]
    },
    {
      "cell_type": "code",
      "metadata": {
        "id": "UMe4KEv-pD9q"
      },
      "source": [
        "clf_text = text_classifier_learner(data_clf\r\n",
        "                                  , AWD_LSTM\r\n",
        "                                  , drop_mult=0.2)"
      ],
      "execution_count": 369,
      "outputs": []
    },
    {
      "cell_type": "code",
      "metadata": {
        "colab": {
          "base_uri": "https://localhost:8080/"
        },
        "id": "3fW5qGCapJ4b",
        "outputId": "affbfe79-dcb5-4362-f607-a8046599b125"
      },
      "source": [
        "clf_text.load_encoder(\"enc\")"
      ],
      "execution_count": 370,
      "outputs": [
        {
          "output_type": "execute_result",
          "data": {
            "text/plain": [
              "RNNLearner(data=TextClasDataBunch;\n",
              "\n",
              "Train: LabelList (5709 items)\n",
              "x: TextList\n",
              "xxbos xxmaj some crazy lightning outside,xxbos xxup rt @ xxunk : # xxmaj love # xxunk # romance xxunk # xxmaj xxunk # xxunk # xxmaj xxunk # xxup xxunk # xxup xxunk 9 - 11 # apocalypse # xxmaj armageddon # xxunk,xxbos xxmaj xxunk xxmaj xxunk will obliterate the national debt - and give lots of new benefits - by xxunk xxunk money ! xxmaj xxunk !,xxbos xxmaj twelve feared killed in xxmaj pakistani air ambulance helicopter crash,xxbos xxmaj xxunk - art xxunk xxunk only blight xxunk : xxunk\n",
              "y: CategoryList\n",
              "0,0,1,1,0\n",
              "Path: .;\n",
              "\n",
              "Valid: LabelList (1904 items)\n",
              "x: TextList\n",
              "xxbos xxmaj put the rinstagramht person up on the block # xxmaj xxunk ? ? ? xxmaj the sense of xxunk is xxunk . # xxup bb17 .,xxbos i am xxunk xxunk myself for a bomb ass school year if it is not i am burning buildings ? ?,xxbos xxmaj cop pulls drunk driver to safety xxup seconds before his car is hit by train . via @ xxmaj viral xxmaj spell,xxbos xxmaj enter the world of extreme diving 9 stories up and into the xxmaj xxunk xxmaj river,xxbos xxup but i will be xxunk these videos xxup xxunk so you guys get to see the new weapon xxunk in action !\n",
              "y: CategoryList\n",
              "0,0,1,0,0\n",
              "Path: .;\n",
              "\n",
              "Test: LabelList (3263 items)\n",
              "x: TextList\n",
              "xxbos xxmaj just hapeopleicationened a terrible car crash,xxbos xxmaj heard about # earthquake is different cities xxunk stay safe everyone .,xxbos there is a forest fire at spot pond xxunk xxunk are xxunk across the street xxunk i can not save them all,xxbos xxmaj apocalypse lighting . # xxmaj xxunk # wildfires,xxbos xxmaj typhoon xxmaj soudelor kills 28 in xxmaj china and xxmaj taiwan\n",
              "y: EmptyLabelList\n",
              ",,,,\n",
              "Path: ., model=SequentialRNN(\n",
              "  (0): MultiBatchEncoder(\n",
              "    (module): AWD_LSTM(\n",
              "      (encoder): Embedding(3752, 400, padding_idx=1)\n",
              "      (encoder_dp): EmbeddingDropout(\n",
              "        (emb): Embedding(3752, 400, padding_idx=1)\n",
              "      )\n",
              "      (rnns): ModuleList(\n",
              "        (0): WeightDropout(\n",
              "          (module): LSTM(400, 1152, batch_first=True)\n",
              "        )\n",
              "        (1): WeightDropout(\n",
              "          (module): LSTM(1152, 1152, batch_first=True)\n",
              "        )\n",
              "        (2): WeightDropout(\n",
              "          (module): LSTM(1152, 400, batch_first=True)\n",
              "        )\n",
              "      )\n",
              "      (input_dp): RNNDropout()\n",
              "      (hidden_dps): ModuleList(\n",
              "        (0): RNNDropout()\n",
              "        (1): RNNDropout()\n",
              "        (2): RNNDropout()\n",
              "      )\n",
              "    )\n",
              "  )\n",
              "  (1): PoolingLinearClassifier(\n",
              "    (layers): Sequential(\n",
              "      (0): BatchNorm1d(1200, eps=1e-05, momentum=0.1, affine=True, track_running_stats=True)\n",
              "      (1): Dropout(p=0.08000000000000002, inplace=False)\n",
              "      (2): Linear(in_features=1200, out_features=50, bias=True)\n",
              "      (3): ReLU(inplace=True)\n",
              "      (4): BatchNorm1d(50, eps=1e-05, momentum=0.1, affine=True, track_running_stats=True)\n",
              "      (5): Dropout(p=0.1, inplace=False)\n",
              "      (6): Linear(in_features=50, out_features=2, bias=True)\n",
              "    )\n",
              "  )\n",
              "), opt_func=functools.partial(<class 'torch.optim.adam.Adam'>, betas=(0.9, 0.99)), loss_func=FlattenedLoss of CrossEntropyLoss(), metrics=[<function accuracy at 0x7f6380949840>], true_wd=True, bn_wd=True, wd=0.01, train_bn=True, path=PosixPath('.'), model_dir='models', callback_fns=[functools.partial(<class 'fastai.basic_train.Recorder'>, add_time=True, silent=False)], callbacks=[RNNTrainer\n",
              "learn: RNNLearner(data=TextClasDataBunch;\n",
              "\n",
              "Train: LabelList (5709 items)\n",
              "x: TextList\n",
              "xxbos xxmaj some crazy lightning outside,xxbos xxup rt @ xxunk : # xxmaj love # xxunk # romance xxunk # xxmaj xxunk # xxunk # xxmaj xxunk # xxup xxunk # xxup xxunk 9 - 11 # apocalypse # xxmaj armageddon # xxunk,xxbos xxmaj xxunk xxmaj xxunk will obliterate the national debt - and give lots of new benefits - by xxunk xxunk money ! xxmaj xxunk !,xxbos xxmaj twelve feared killed in xxmaj pakistani air ambulance helicopter crash,xxbos xxmaj xxunk - art xxunk xxunk only blight xxunk : xxunk\n",
              "y: CategoryList\n",
              "0,0,1,1,0\n",
              "Path: .;\n",
              "\n",
              "Valid: LabelList (1904 items)\n",
              "x: TextList\n",
              "xxbos xxmaj put the rinstagramht person up on the block # xxmaj xxunk ? ? ? xxmaj the sense of xxunk is xxunk . # xxup bb17 .,xxbos i am xxunk xxunk myself for a bomb ass school year if it is not i am burning buildings ? ?,xxbos xxmaj cop pulls drunk driver to safety xxup seconds before his car is hit by train . via @ xxmaj viral xxmaj spell,xxbos xxmaj enter the world of extreme diving 9 stories up and into the xxmaj xxunk xxmaj river,xxbos xxup but i will be xxunk these videos xxup xxunk so you guys get to see the new weapon xxunk in action !\n",
              "y: CategoryList\n",
              "0,0,1,0,0\n",
              "Path: .;\n",
              "\n",
              "Test: LabelList (3263 items)\n",
              "x: TextList\n",
              "xxbos xxmaj just hapeopleicationened a terrible car crash,xxbos xxmaj heard about # earthquake is different cities xxunk stay safe everyone .,xxbos there is a forest fire at spot pond xxunk xxunk are xxunk across the street xxunk i can not save them all,xxbos xxmaj apocalypse lighting . # xxmaj xxunk # wildfires,xxbos xxmaj typhoon xxmaj soudelor kills 28 in xxmaj china and xxmaj taiwan\n",
              "y: EmptyLabelList\n",
              ",,,,\n",
              "Path: ., model=SequentialRNN(\n",
              "  (0): MultiBatchEncoder(\n",
              "    (module): AWD_LSTM(\n",
              "      (encoder): Embedding(3752, 400, padding_idx=1)\n",
              "      (encoder_dp): EmbeddingDropout(\n",
              "        (emb): Embedding(3752, 400, padding_idx=1)\n",
              "      )\n",
              "      (rnns): ModuleList(\n",
              "        (0): WeightDropout(\n",
              "          (module): LSTM(400, 1152, batch_first=True)\n",
              "        )\n",
              "        (1): WeightDropout(\n",
              "          (module): LSTM(1152, 1152, batch_first=True)\n",
              "        )\n",
              "        (2): WeightDropout(\n",
              "          (module): LSTM(1152, 400, batch_first=True)\n",
              "        )\n",
              "      )\n",
              "      (input_dp): RNNDropout()\n",
              "      (hidden_dps): ModuleList(\n",
              "        (0): RNNDropout()\n",
              "        (1): RNNDropout()\n",
              "        (2): RNNDropout()\n",
              "      )\n",
              "    )\n",
              "  )\n",
              "  (1): PoolingLinearClassifier(\n",
              "    (layers): Sequential(\n",
              "      (0): BatchNorm1d(1200, eps=1e-05, momentum=0.1, affine=True, track_running_stats=True)\n",
              "      (1): Dropout(p=0.08000000000000002, inplace=False)\n",
              "      (2): Linear(in_features=1200, out_features=50, bias=True)\n",
              "      (3): ReLU(inplace=True)\n",
              "      (4): BatchNorm1d(50, eps=1e-05, momentum=0.1, affine=True, track_running_stats=True)\n",
              "      (5): Dropout(p=0.1, inplace=False)\n",
              "      (6): Linear(in_features=50, out_features=2, bias=True)\n",
              "    )\n",
              "  )\n",
              "), opt_func=functools.partial(<class 'torch.optim.adam.Adam'>, betas=(0.9, 0.99)), loss_func=FlattenedLoss of CrossEntropyLoss(), metrics=[<function accuracy at 0x7f6380949840>], true_wd=True, bn_wd=True, wd=0.01, train_bn=True, path=PosixPath('.'), model_dir='models', callback_fns=[functools.partial(<class 'fastai.basic_train.Recorder'>, add_time=True, silent=False)], callbacks=[...], layer_groups=[Sequential(\n",
              "  (0): Embedding(3752, 400, padding_idx=1)\n",
              "  (1): EmbeddingDropout(\n",
              "    (emb): Embedding(3752, 400, padding_idx=1)\n",
              "  )\n",
              "), Sequential(\n",
              "  (0): WeightDropout(\n",
              "    (module): LSTM(400, 1152, batch_first=True)\n",
              "  )\n",
              "  (1): RNNDropout()\n",
              "), Sequential(\n",
              "  (0): WeightDropout(\n",
              "    (module): LSTM(1152, 1152, batch_first=True)\n",
              "  )\n",
              "  (1): RNNDropout()\n",
              "), Sequential(\n",
              "  (0): WeightDropout(\n",
              "    (module): LSTM(1152, 400, batch_first=True)\n",
              "  )\n",
              "  (1): RNNDropout()\n",
              "), Sequential(\n",
              "  (0): PoolingLinearClassifier(\n",
              "    (layers): Sequential(\n",
              "      (0): BatchNorm1d(1200, eps=1e-05, momentum=0.1, affine=True, track_running_stats=True)\n",
              "      (1): Dropout(p=0.08000000000000002, inplace=False)\n",
              "      (2): Linear(in_features=1200, out_features=50, bias=True)\n",
              "      (3): ReLU(inplace=True)\n",
              "      (4): BatchNorm1d(50, eps=1e-05, momentum=0.1, affine=True, track_running_stats=True)\n",
              "      (5): Dropout(p=0.1, inplace=False)\n",
              "      (6): Linear(in_features=50, out_features=2, bias=True)\n",
              "    )\n",
              "  )\n",
              ")], add_time=True, silent=False)\n",
              "alpha: 2.0\n",
              "beta: 1.0], layer_groups=[Sequential(\n",
              "  (0): Embedding(3752, 400, padding_idx=1)\n",
              "  (1): EmbeddingDropout(\n",
              "    (emb): Embedding(3752, 400, padding_idx=1)\n",
              "  )\n",
              "), Sequential(\n",
              "  (0): WeightDropout(\n",
              "    (module): LSTM(400, 1152, batch_first=True)\n",
              "  )\n",
              "  (1): RNNDropout()\n",
              "), Sequential(\n",
              "  (0): WeightDropout(\n",
              "    (module): LSTM(1152, 1152, batch_first=True)\n",
              "  )\n",
              "  (1): RNNDropout()\n",
              "), Sequential(\n",
              "  (0): WeightDropout(\n",
              "    (module): LSTM(1152, 400, batch_first=True)\n",
              "  )\n",
              "  (1): RNNDropout()\n",
              "), Sequential(\n",
              "  (0): PoolingLinearClassifier(\n",
              "    (layers): Sequential(\n",
              "      (0): BatchNorm1d(1200, eps=1e-05, momentum=0.1, affine=True, track_running_stats=True)\n",
              "      (1): Dropout(p=0.08000000000000002, inplace=False)\n",
              "      (2): Linear(in_features=1200, out_features=50, bias=True)\n",
              "      (3): ReLU(inplace=True)\n",
              "      (4): BatchNorm1d(50, eps=1e-05, momentum=0.1, affine=True, track_running_stats=True)\n",
              "      (5): Dropout(p=0.1, inplace=False)\n",
              "      (6): Linear(in_features=50, out_features=2, bias=True)\n",
              "    )\n",
              "  )\n",
              ")], add_time=True, silent=False)"
            ]
          },
          "metadata": {
            "tags": []
          },
          "execution_count": 370
        }
      ]
    },
    {
      "cell_type": "code",
      "metadata": {
        "colab": {
          "base_uri": "https://localhost:8080/",
          "height": 185
        },
        "id": "nTxgZoNhpM-U",
        "outputId": "b0f6955a-b471-4372-f039-9e5cd3164f18"
      },
      "source": [
        "clf_text.lr_find()"
      ],
      "execution_count": 371,
      "outputs": [
        {
          "output_type": "display_data",
          "data": {
            "text/html": [
              "\n",
              "    <div>\n",
              "        <style>\n",
              "            /* Turns off some styling */\n",
              "            progress {\n",
              "                /* gets rid of default border in Firefox and Opera. */\n",
              "                border: none;\n",
              "                /* Needs to be in here for Safari polyfill so background images work as expected. */\n",
              "                background-size: auto;\n",
              "            }\n",
              "            .progress-bar-interrupted, .progress-bar-interrupted::-webkit-progress-bar {\n",
              "                background: #F44336;\n",
              "            }\n",
              "        </style>\n",
              "      <progress value='0' class='' max='1' style='width:300px; height:20px; vertical-align: middle;'></progress>\n",
              "      0.00% [0/1 00:00<00:00]\n",
              "    </div>\n",
              "    \n",
              "<table border=\"1\" class=\"dataframe\">\n",
              "  <thead>\n",
              "    <tr style=\"text-align: left;\">\n",
              "      <th>epoch</th>\n",
              "      <th>train_loss</th>\n",
              "      <th>valid_loss</th>\n",
              "      <th>accuracy</th>\n",
              "      <th>time</th>\n",
              "    </tr>\n",
              "  </thead>\n",
              "  <tbody>\n",
              "  </tbody>\n",
              "</table><p>\n",
              "\n",
              "    <div>\n",
              "        <style>\n",
              "            /* Turns off some styling */\n",
              "            progress {\n",
              "                /* gets rid of default border in Firefox and Opera. */\n",
              "                border: none;\n",
              "                /* Needs to be in here for Safari polyfill so background images work as expected. */\n",
              "                background-size: auto;\n",
              "            }\n",
              "            .progress-bar-interrupted, .progress-bar-interrupted::-webkit-progress-bar {\n",
              "                background: #F44336;\n",
              "            }\n",
              "        </style>\n",
              "      <progress value='91' class='' max='178' style='width:300px; height:20px; vertical-align: middle;'></progress>\n",
              "      51.12% [91/178 00:01<00:01 0.8167]\n",
              "    </div>\n",
              "    "
            ],
            "text/plain": [
              "<IPython.core.display.HTML object>"
            ]
          },
          "metadata": {
            "tags": []
          }
        },
        {
          "output_type": "stream",
          "text": [
            "/usr/local/lib/python3.6/dist-packages/numpy/core/_asarray.py:83: VisibleDeprecationWarning: Creating an ndarray from ragged nested sequences (which is a list-or-tuple of lists-or-tuples-or ndarrays with different lengths or shapes) is deprecated. If you meant to do this, you must specify 'dtype=object' when creating the ndarray\n",
            "  return array(a, dtype, copy=False, order=order)\n",
            "<string>:6: VisibleDeprecationWarning: Creating an ndarray from ragged nested sequences (which is a list-or-tuple of lists-or-tuples-or ndarrays with different lengths or shapes) is deprecated. If you meant to do this, you must specify 'dtype=object' when creating the ndarray\n"
          ],
          "name": "stderr"
        },
        {
          "output_type": "stream",
          "text": [
            "LR Finder is complete, type {learner_name}.recorder.plot() to see the graph.\n"
          ],
          "name": "stdout"
        }
      ]
    },
    {
      "cell_type": "code",
      "metadata": {
        "colab": {
          "base_uri": "https://localhost:8080/",
          "height": 314
        },
        "id": "WeM67jufpRFe",
        "outputId": "97503520-a921-4580-a9b8-eb7a20690601"
      },
      "source": [
        "clf_text.recorder.plot(suggestion=True)"
      ],
      "execution_count": 372,
      "outputs": [
        {
          "output_type": "stream",
          "text": [
            "Min numerical gradient: 1.45E-03\n",
            "Min loss divided by 10: 2.09E-02\n"
          ],
          "name": "stdout"
        },
        {
          "output_type": "display_data",
          "data": {
            "image/png": "[encoded data removed]",
            "text/plain": [
              "<Figure size 432x288 with 1 Axes>"
            ]
          },
          "metadata": {
            "tags": [],
            "needs_background": "light"
          }
        }
      ]
    },
    {
      "cell_type": "code",
      "metadata": {
        "colab": {
          "base_uri": "https://localhost:8080/",
          "height": 555
        },
        "id": "nLuekxoPpUZa",
        "outputId": "0e395732-c671-44af-e7ef-dac6feb62502"
      },
      "source": [
        "clf_text.fit(5, lr=slice(1e-02,1e-04), callbacks=[SaveModelCallback(clf_text, name=\"best_clf\")])"
      ],
      "execution_count": 373,
      "outputs": [
        {
          "output_type": "display_data",
          "data": {
            "text/html": [
              "<table border=\"1\" class=\"dataframe\">\n",
              "  <thead>\n",
              "    <tr style=\"text-align: left;\">\n",
              "      <th>epoch</th>\n",
              "      <th>train_loss</th>\n",
              "      <th>valid_loss</th>\n",
              "      <th>accuracy</th>\n",
              "      <th>time</th>\n",
              "    </tr>\n",
              "  </thead>\n",
              "  <tbody>\n",
              "    <tr>\n",
              "      <td>0</td>\n",
              "      <td>0.541785</td>\n",
              "      <td>0.489078</td>\n",
              "      <td>0.772059</td>\n",
              "      <td>00:03</td>\n",
              "    </tr>\n",
              "    <tr>\n",
              "      <td>1</td>\n",
              "      <td>0.512819</td>\n",
              "      <td>0.474381</td>\n",
              "      <td>0.780462</td>\n",
              "      <td>00:03</td>\n",
              "    </tr>\n",
              "    <tr>\n",
              "      <td>2</td>\n",
              "      <td>0.477662</td>\n",
              "      <td>0.460766</td>\n",
              "      <td>0.792017</td>\n",
              "      <td>00:03</td>\n",
              "    </tr>\n",
              "    <tr>\n",
              "      <td>3</td>\n",
              "      <td>0.464050</td>\n",
              "      <td>0.465107</td>\n",
              "      <td>0.786240</td>\n",
              "      <td>00:03</td>\n",
              "    </tr>\n",
              "    <tr>\n",
              "      <td>4</td>\n",
              "      <td>0.455725</td>\n",
              "      <td>0.456190</td>\n",
              "      <td>0.792017</td>\n",
              "      <td>00:03</td>\n",
              "    </tr>\n",
              "  </tbody>\n",
              "</table>"
            ],
            "text/plain": [
              "<IPython.core.display.HTML object>"
            ]
          },
          "metadata": {
            "tags": []
          }
        },
        {
          "output_type": "stream",
          "text": [
            "/usr/local/lib/python3.6/dist-packages/numpy/core/_asarray.py:83: VisibleDeprecationWarning: Creating an ndarray from ragged nested sequences (which is a list-or-tuple of lists-or-tuples-or ndarrays with different lengths or shapes) is deprecated. If you meant to do this, you must specify 'dtype=object' when creating the ndarray\n",
            "  return array(a, dtype, copy=False, order=order)\n",
            "<string>:6: VisibleDeprecationWarning: Creating an ndarray from ragged nested sequences (which is a list-or-tuple of lists-or-tuples-or ndarrays with different lengths or shapes) is deprecated. If you meant to do this, you must specify 'dtype=object' when creating the ndarray\n"
          ],
          "name": "stderr"
        },
        {
          "output_type": "stream",
          "text": [
            "Better model found at epoch 0 with valid_loss value: 0.4890782833099365.\n"
          ],
          "name": "stdout"
        },
        {
          "output_type": "stream",
          "text": [
            "/usr/local/lib/python3.6/dist-packages/numpy/core/_asarray.py:83: VisibleDeprecationWarning: Creating an ndarray from ragged nested sequences (which is a list-or-tuple of lists-or-tuples-or ndarrays with different lengths or shapes) is deprecated. If you meant to do this, you must specify 'dtype=object' when creating the ndarray\n",
            "  return array(a, dtype, copy=False, order=order)\n",
            "<string>:6: VisibleDeprecationWarning: Creating an ndarray from ragged nested sequences (which is a list-or-tuple of lists-or-tuples-or ndarrays with different lengths or shapes) is deprecated. If you meant to do this, you must specify 'dtype=object' when creating the ndarray\n"
          ],
          "name": "stderr"
        },
        {
          "output_type": "stream",
          "text": [
            "Better model found at epoch 1 with valid_loss value: 0.4743809998035431.\n"
          ],
          "name": "stdout"
        },
        {
          "output_type": "stream",
          "text": [
            "/usr/local/lib/python3.6/dist-packages/numpy/core/_asarray.py:83: VisibleDeprecationWarning: Creating an ndarray from ragged nested sequences (which is a list-or-tuple of lists-or-tuples-or ndarrays with different lengths or shapes) is deprecated. If you meant to do this, you must specify 'dtype=object' when creating the ndarray\n",
            "  return array(a, dtype, copy=False, order=order)\n",
            "<string>:6: VisibleDeprecationWarning: Creating an ndarray from ragged nested sequences (which is a list-or-tuple of lists-or-tuples-or ndarrays with different lengths or shapes) is deprecated. If you meant to do this, you must specify 'dtype=object' when creating the ndarray\n"
          ],
          "name": "stderr"
        },
        {
          "output_type": "stream",
          "text": [
            "Better model found at epoch 2 with valid_loss value: 0.4607658088207245.\n"
          ],
          "name": "stdout"
        },
        {
          "output_type": "stream",
          "text": [
            "/usr/local/lib/python3.6/dist-packages/numpy/core/_asarray.py:83: VisibleDeprecationWarning: Creating an ndarray from ragged nested sequences (which is a list-or-tuple of lists-or-tuples-or ndarrays with different lengths or shapes) is deprecated. If you meant to do this, you must specify 'dtype=object' when creating the ndarray\n",
            "  return array(a, dtype, copy=False, order=order)\n",
            "<string>:6: VisibleDeprecationWarning: Creating an ndarray from ragged nested sequences (which is a list-or-tuple of lists-or-tuples-or ndarrays with different lengths or shapes) is deprecated. If you meant to do this, you must specify 'dtype=object' when creating the ndarray\n",
            "/usr/local/lib/python3.6/dist-packages/numpy/core/_asarray.py:83: VisibleDeprecationWarning: Creating an ndarray from ragged nested sequences (which is a list-or-tuple of lists-or-tuples-or ndarrays with different lengths or shapes) is deprecated. If you meant to do this, you must specify 'dtype=object' when creating the ndarray\n",
            "  return array(a, dtype, copy=False, order=order)\n",
            "<string>:6: VisibleDeprecationWarning: Creating an ndarray from ragged nested sequences (which is a list-or-tuple of lists-or-tuples-or ndarrays with different lengths or shapes) is deprecated. If you meant to do this, you must specify 'dtype=object' when creating the ndarray\n"
          ],
          "name": "stderr"
        },
        {
          "output_type": "stream",
          "text": [
            "Better model found at epoch 4 with valid_loss value: 0.45618975162506104.\n"
          ],
          "name": "stdout"
        }
      ]
    },
    {
      "cell_type": "code",
      "metadata": {
        "colab": {
          "base_uri": "https://localhost:8080/"
        },
        "id": "dkIJ3e7Zpcue",
        "outputId": "5898b446-86c6-4420-a2d2-ac4d7aad3926"
      },
      "source": [
        "clf_text.load(\"best_clf\")"
      ],
      "execution_count": 374,
      "outputs": [
        {
          "output_type": "execute_result",
          "data": {
            "text/plain": [
              "RNNLearner(data=TextClasDataBunch;\n",
              "\n",
              "Train: LabelList (5709 items)\n",
              "x: TextList\n",
              "xxbos xxmaj some crazy lightning outside,xxbos xxup rt @ xxunk : # xxmaj love # xxunk # romance xxunk # xxmaj xxunk # xxunk # xxmaj xxunk # xxup xxunk # xxup xxunk 9 - 11 # apocalypse # xxmaj armageddon # xxunk,xxbos xxmaj xxunk xxmaj xxunk will obliterate the national debt - and give lots of new benefits - by xxunk xxunk money ! xxmaj xxunk !,xxbos xxmaj twelve feared killed in xxmaj pakistani air ambulance helicopter crash,xxbos xxmaj xxunk - art xxunk xxunk only blight xxunk : xxunk\n",
              "y: CategoryList\n",
              "0,0,1,1,0\n",
              "Path: .;\n",
              "\n",
              "Valid: LabelList (1904 items)\n",
              "x: TextList\n",
              "xxbos xxmaj put the rinstagramht person up on the block # xxmaj xxunk ? ? ? xxmaj the sense of xxunk is xxunk . # xxup bb17 .,xxbos i am xxunk xxunk myself for a bomb ass school year if it is not i am burning buildings ? ?,xxbos xxmaj cop pulls drunk driver to safety xxup seconds before his car is hit by train . via @ xxmaj viral xxmaj spell,xxbos xxmaj enter the world of extreme diving 9 stories up and into the xxmaj xxunk xxmaj river,xxbos xxup but i will be xxunk these videos xxup xxunk so you guys get to see the new weapon xxunk in action !\n",
              "y: CategoryList\n",
              "0,0,1,0,0\n",
              "Path: .;\n",
              "\n",
              "Test: LabelList (3263 items)\n",
              "x: TextList\n",
              "xxbos xxmaj just hapeopleicationened a terrible car crash,xxbos xxmaj heard about # earthquake is different cities xxunk stay safe everyone .,xxbos there is a forest fire at spot pond xxunk xxunk are xxunk across the street xxunk i can not save them all,xxbos xxmaj apocalypse lighting . # xxmaj xxunk # wildfires,xxbos xxmaj typhoon xxmaj soudelor kills 28 in xxmaj china and xxmaj taiwan\n",
              "y: EmptyLabelList\n",
              ",,,,\n",
              "Path: ., model=SequentialRNN(\n",
              "  (0): MultiBatchEncoder(\n",
              "    (module): AWD_LSTM(\n",
              "      (encoder): Embedding(3752, 400, padding_idx=1)\n",
              "      (encoder_dp): EmbeddingDropout(\n",
              "        (emb): Embedding(3752, 400, padding_idx=1)\n",
              "      )\n",
              "      (rnns): ModuleList(\n",
              "        (0): WeightDropout(\n",
              "          (module): LSTM(400, 1152, batch_first=True)\n",
              "        )\n",
              "        (1): WeightDropout(\n",
              "          (module): LSTM(1152, 1152, batch_first=True)\n",
              "        )\n",
              "        (2): WeightDropout(\n",
              "          (module): LSTM(1152, 400, batch_first=True)\n",
              "        )\n",
              "      )\n",
              "      (input_dp): RNNDropout()\n",
              "      (hidden_dps): ModuleList(\n",
              "        (0): RNNDropout()\n",
              "        (1): RNNDropout()\n",
              "        (2): RNNDropout()\n",
              "      )\n",
              "    )\n",
              "  )\n",
              "  (1): PoolingLinearClassifier(\n",
              "    (layers): Sequential(\n",
              "      (0): BatchNorm1d(1200, eps=1e-05, momentum=0.1, affine=True, track_running_stats=True)\n",
              "      (1): Dropout(p=0.08000000000000002, inplace=False)\n",
              "      (2): Linear(in_features=1200, out_features=50, bias=True)\n",
              "      (3): ReLU(inplace=True)\n",
              "      (4): BatchNorm1d(50, eps=1e-05, momentum=0.1, affine=True, track_running_stats=True)\n",
              "      (5): Dropout(p=0.1, inplace=False)\n",
              "      (6): Linear(in_features=50, out_features=2, bias=True)\n",
              "    )\n",
              "  )\n",
              "), opt_func=functools.partial(<class 'torch.optim.adam.Adam'>, betas=(0.9, 0.99)), loss_func=FlattenedLoss of CrossEntropyLoss(), metrics=[<function accuracy at 0x7f6380949840>], true_wd=True, bn_wd=True, wd=0.01, train_bn=True, path=PosixPath('.'), model_dir='models', callback_fns=[functools.partial(<class 'fastai.basic_train.Recorder'>, add_time=True, silent=False)], callbacks=[RNNTrainer\n",
              "learn: RNNLearner(data=TextClasDataBunch;\n",
              "\n",
              "Train: LabelList (5709 items)\n",
              "x: TextList\n",
              "xxbos xxmaj some crazy lightning outside,xxbos xxup rt @ xxunk : # xxmaj love # xxunk # romance xxunk # xxmaj xxunk # xxunk # xxmaj xxunk # xxup xxunk # xxup xxunk 9 - 11 # apocalypse # xxmaj armageddon # xxunk,xxbos xxmaj xxunk xxmaj xxunk will obliterate the national debt - and give lots of new benefits - by xxunk xxunk money ! xxmaj xxunk !,xxbos xxmaj twelve feared killed in xxmaj pakistani air ambulance helicopter crash,xxbos xxmaj xxunk - art xxunk xxunk only blight xxunk : xxunk\n",
              "y: CategoryList\n",
              "0,0,1,1,0\n",
              "Path: .;\n",
              "\n",
              "Valid: LabelList (1904 items)\n",
              "x: TextList\n",
              "xxbos xxmaj put the rinstagramht person up on the block # xxmaj xxunk ? ? ? xxmaj the sense of xxunk is xxunk . # xxup bb17 .,xxbos i am xxunk xxunk myself for a bomb ass school year if it is not i am burning buildings ? ?,xxbos xxmaj cop pulls drunk driver to safety xxup seconds before his car is hit by train . via @ xxmaj viral xxmaj spell,xxbos xxmaj enter the world of extreme diving 9 stories up and into the xxmaj xxunk xxmaj river,xxbos xxup but i will be xxunk these videos xxup xxunk so you guys get to see the new weapon xxunk in action !\n",
              "y: CategoryList\n",
              "0,0,1,0,0\n",
              "Path: .;\n",
              "\n",
              "Test: LabelList (3263 items)\n",
              "x: TextList\n",
              "xxbos xxmaj just hapeopleicationened a terrible car crash,xxbos xxmaj heard about # earthquake is different cities xxunk stay safe everyone .,xxbos there is a forest fire at spot pond xxunk xxunk are xxunk across the street xxunk i can not save them all,xxbos xxmaj apocalypse lighting . # xxmaj xxunk # wildfires,xxbos xxmaj typhoon xxmaj soudelor kills 28 in xxmaj china and xxmaj taiwan\n",
              "y: EmptyLabelList\n",
              ",,,,\n",
              "Path: ., model=SequentialRNN(\n",
              "  (0): MultiBatchEncoder(\n",
              "    (module): AWD_LSTM(\n",
              "      (encoder): Embedding(3752, 400, padding_idx=1)\n",
              "      (encoder_dp): EmbeddingDropout(\n",
              "        (emb): Embedding(3752, 400, padding_idx=1)\n",
              "      )\n",
              "      (rnns): ModuleList(\n",
              "        (0): WeightDropout(\n",
              "          (module): LSTM(400, 1152, batch_first=True)\n",
              "        )\n",
              "        (1): WeightDropout(\n",
              "          (module): LSTM(1152, 1152, batch_first=True)\n",
              "        )\n",
              "        (2): WeightDropout(\n",
              "          (module): LSTM(1152, 400, batch_first=True)\n",
              "        )\n",
              "      )\n",
              "      (input_dp): RNNDropout()\n",
              "      (hidden_dps): ModuleList(\n",
              "        (0): RNNDropout()\n",
              "        (1): RNNDropout()\n",
              "        (2): RNNDropout()\n",
              "      )\n",
              "    )\n",
              "  )\n",
              "  (1): PoolingLinearClassifier(\n",
              "    (layers): Sequential(\n",
              "      (0): BatchNorm1d(1200, eps=1e-05, momentum=0.1, affine=True, track_running_stats=True)\n",
              "      (1): Dropout(p=0.08000000000000002, inplace=False)\n",
              "      (2): Linear(in_features=1200, out_features=50, bias=True)\n",
              "      (3): ReLU(inplace=True)\n",
              "      (4): BatchNorm1d(50, eps=1e-05, momentum=0.1, affine=True, track_running_stats=True)\n",
              "      (5): Dropout(p=0.1, inplace=False)\n",
              "      (6): Linear(in_features=50, out_features=2, bias=True)\n",
              "    )\n",
              "  )\n",
              "), opt_func=functools.partial(<class 'torch.optim.adam.Adam'>, betas=(0.9, 0.99)), loss_func=FlattenedLoss of CrossEntropyLoss(), metrics=[<function accuracy at 0x7f6380949840>], true_wd=True, bn_wd=True, wd=0.01, train_bn=True, path=PosixPath('.'), model_dir='models', callback_fns=[functools.partial(<class 'fastai.basic_train.Recorder'>, add_time=True, silent=False)], callbacks=[...], layer_groups=[Sequential(\n",
              "  (0): Embedding(3752, 400, padding_idx=1)\n",
              "  (1): EmbeddingDropout(\n",
              "    (emb): Embedding(3752, 400, padding_idx=1)\n",
              "  )\n",
              "), Sequential(\n",
              "  (0): WeightDropout(\n",
              "    (module): LSTM(400, 1152, batch_first=True)\n",
              "  )\n",
              "  (1): RNNDropout()\n",
              "), Sequential(\n",
              "  (0): WeightDropout(\n",
              "    (module): LSTM(1152, 1152, batch_first=True)\n",
              "  )\n",
              "  (1): RNNDropout()\n",
              "), Sequential(\n",
              "  (0): WeightDropout(\n",
              "    (module): LSTM(1152, 400, batch_first=True)\n",
              "  )\n",
              "  (1): RNNDropout()\n",
              "), Sequential(\n",
              "  (0): PoolingLinearClassifier(\n",
              "    (layers): Sequential(\n",
              "      (0): BatchNorm1d(1200, eps=1e-05, momentum=0.1, affine=True, track_running_stats=True)\n",
              "      (1): Dropout(p=0.08000000000000002, inplace=False)\n",
              "      (2): Linear(in_features=1200, out_features=50, bias=True)\n",
              "      (3): ReLU(inplace=True)\n",
              "      (4): BatchNorm1d(50, eps=1e-05, momentum=0.1, affine=True, track_running_stats=True)\n",
              "      (5): Dropout(p=0.1, inplace=False)\n",
              "      (6): Linear(in_features=50, out_features=2, bias=True)\n",
              "    )\n",
              "  )\n",
              ")], add_time=True, silent=False)\n",
              "alpha: 2.0\n",
              "beta: 1.0], layer_groups=[Sequential(\n",
              "  (0): Embedding(3752, 400, padding_idx=1)\n",
              "  (1): EmbeddingDropout(\n",
              "    (emb): Embedding(3752, 400, padding_idx=1)\n",
              "  )\n",
              "), Sequential(\n",
              "  (0): WeightDropout(\n",
              "    (module): LSTM(400, 1152, batch_first=True)\n",
              "  )\n",
              "  (1): RNNDropout()\n",
              "), Sequential(\n",
              "  (0): WeightDropout(\n",
              "    (module): LSTM(1152, 1152, batch_first=True)\n",
              "  )\n",
              "  (1): RNNDropout()\n",
              "), Sequential(\n",
              "  (0): WeightDropout(\n",
              "    (module): LSTM(1152, 400, batch_first=True)\n",
              "  )\n",
              "  (1): RNNDropout()\n",
              "), Sequential(\n",
              "  (0): PoolingLinearClassifier(\n",
              "    (layers): Sequential(\n",
              "      (0): BatchNorm1d(1200, eps=1e-05, momentum=0.1, affine=True, track_running_stats=True)\n",
              "      (1): Dropout(p=0.08000000000000002, inplace=False)\n",
              "      (2): Linear(in_features=1200, out_features=50, bias=True)\n",
              "      (3): ReLU(inplace=True)\n",
              "      (4): BatchNorm1d(50, eps=1e-05, momentum=0.1, affine=True, track_running_stats=True)\n",
              "      (5): Dropout(p=0.1, inplace=False)\n",
              "      (6): Linear(in_features=50, out_features=2, bias=True)\n",
              "    )\n",
              "  )\n",
              ")], add_time=True, silent=False)"
            ]
          },
          "metadata": {
            "tags": []
          },
          "execution_count": 374
        }
      ]
    },
    {
      "cell_type": "code",
      "metadata": {
        "id": "pyeML_f8pmYu"
      },
      "source": [
        "clf_text.unfreeze()"
      ],
      "execution_count": 375,
      "outputs": []
    },
    {
      "cell_type": "code",
      "metadata": {
        "colab": {
          "base_uri": "https://localhost:8080/",
          "height": 335
        },
        "id": "RTHFb8Txpojg",
        "outputId": "028ce4c6-bd1f-49f3-d792-649a96d61898"
      },
      "source": [
        "clf_text.fit(3, lr=slice(1e-02,1e-04), callbacks=[SaveModelCallback(clf_text, name=\"best_clf_ft1\")])"
      ],
      "execution_count": 376,
      "outputs": [
        {
          "output_type": "display_data",
          "data": {
            "text/html": [
              "<table border=\"1\" class=\"dataframe\">\n",
              "  <thead>\n",
              "    <tr style=\"text-align: left;\">\n",
              "      <th>epoch</th>\n",
              "      <th>train_loss</th>\n",
              "      <th>valid_loss</th>\n",
              "      <th>accuracy</th>\n",
              "      <th>time</th>\n",
              "    </tr>\n",
              "  </thead>\n",
              "  <tbody>\n",
              "    <tr>\n",
              "      <td>0</td>\n",
              "      <td>0.477889</td>\n",
              "      <td>0.467775</td>\n",
              "      <td>0.789916</td>\n",
              "      <td>00:07</td>\n",
              "    </tr>\n",
              "    <tr>\n",
              "      <td>1</td>\n",
              "      <td>0.380406</td>\n",
              "      <td>0.473980</td>\n",
              "      <td>0.798845</td>\n",
              "      <td>00:07</td>\n",
              "    </tr>\n",
              "    <tr>\n",
              "      <td>2</td>\n",
              "      <td>0.294810</td>\n",
              "      <td>0.531666</td>\n",
              "      <td>0.785189</td>\n",
              "      <td>00:07</td>\n",
              "    </tr>\n",
              "  </tbody>\n",
              "</table>"
            ],
            "text/plain": [
              "<IPython.core.display.HTML object>"
            ]
          },
          "metadata": {
            "tags": []
          }
        },
        {
          "output_type": "stream",
          "text": [
            "/usr/local/lib/python3.6/dist-packages/numpy/core/_asarray.py:83: VisibleDeprecationWarning: Creating an ndarray from ragged nested sequences (which is a list-or-tuple of lists-or-tuples-or ndarrays with different lengths or shapes) is deprecated. If you meant to do this, you must specify 'dtype=object' when creating the ndarray\n",
            "  return array(a, dtype, copy=False, order=order)\n",
            "<string>:6: VisibleDeprecationWarning: Creating an ndarray from ragged nested sequences (which is a list-or-tuple of lists-or-tuples-or ndarrays with different lengths or shapes) is deprecated. If you meant to do this, you must specify 'dtype=object' when creating the ndarray\n"
          ],
          "name": "stderr"
        },
        {
          "output_type": "stream",
          "text": [
            "Better model found at epoch 0 with valid_loss value: 0.4677751362323761.\n"
          ],
          "name": "stdout"
        },
        {
          "output_type": "stream",
          "text": [
            "/usr/local/lib/python3.6/dist-packages/numpy/core/_asarray.py:83: VisibleDeprecationWarning: Creating an ndarray from ragged nested sequences (which is a list-or-tuple of lists-or-tuples-or ndarrays with different lengths or shapes) is deprecated. If you meant to do this, you must specify 'dtype=object' when creating the ndarray\n",
            "  return array(a, dtype, copy=False, order=order)\n",
            "<string>:6: VisibleDeprecationWarning: Creating an ndarray from ragged nested sequences (which is a list-or-tuple of lists-or-tuples-or ndarrays with different lengths or shapes) is deprecated. If you meant to do this, you must specify 'dtype=object' when creating the ndarray\n",
            "/usr/local/lib/python3.6/dist-packages/numpy/core/_asarray.py:83: VisibleDeprecationWarning: Creating an ndarray from ragged nested sequences (which is a list-or-tuple of lists-or-tuples-or ndarrays with different lengths or shapes) is deprecated. If you meant to do this, you must specify 'dtype=object' when creating the ndarray\n",
            "  return array(a, dtype, copy=False, order=order)\n",
            "<string>:6: VisibleDeprecationWarning: Creating an ndarray from ragged nested sequences (which is a list-or-tuple of lists-or-tuples-or ndarrays with different lengths or shapes) is deprecated. If you meant to do this, you must specify 'dtype=object' when creating the ndarray\n"
          ],
          "name": "stderr"
        }
      ]
    },
    {
      "cell_type": "code",
      "metadata": {
        "colab": {
          "base_uri": "https://localhost:8080/",
          "height": 335
        },
        "id": "QzROZr63q0Va",
        "outputId": "0b4f0293-de58-4379-bc51-481c55c31281"
      },
      "source": [
        "clf_text.fit(3, 1e-03, callbacks=[SaveModelCallback(clf_text, name=\"best_clf_ft2\")])"
      ],
      "execution_count": 377,
      "outputs": [
        {
          "output_type": "display_data",
          "data": {
            "text/html": [
              "<table border=\"1\" class=\"dataframe\">\n",
              "  <thead>\n",
              "    <tr style=\"text-align: left;\">\n",
              "      <th>epoch</th>\n",
              "      <th>train_loss</th>\n",
              "      <th>valid_loss</th>\n",
              "      <th>accuracy</th>\n",
              "      <th>time</th>\n",
              "    </tr>\n",
              "  </thead>\n",
              "  <tbody>\n",
              "    <tr>\n",
              "      <td>0</td>\n",
              "      <td>0.331188</td>\n",
              "      <td>0.475155</td>\n",
              "      <td>0.805147</td>\n",
              "      <td>00:07</td>\n",
              "    </tr>\n",
              "    <tr>\n",
              "      <td>1</td>\n",
              "      <td>0.284988</td>\n",
              "      <td>0.488967</td>\n",
              "      <td>0.799895</td>\n",
              "      <td>00:07</td>\n",
              "    </tr>\n",
              "    <tr>\n",
              "      <td>2</td>\n",
              "      <td>0.192754</td>\n",
              "      <td>0.562240</td>\n",
              "      <td>0.793067</td>\n",
              "      <td>00:07</td>\n",
              "    </tr>\n",
              "  </tbody>\n",
              "</table>"
            ],
            "text/plain": [
              "<IPython.core.display.HTML object>"
            ]
          },
          "metadata": {
            "tags": []
          }
        },
        {
          "output_type": "stream",
          "text": [
            "/usr/local/lib/python3.6/dist-packages/numpy/core/_asarray.py:83: VisibleDeprecationWarning: Creating an ndarray from ragged nested sequences (which is a list-or-tuple of lists-or-tuples-or ndarrays with different lengths or shapes) is deprecated. If you meant to do this, you must specify 'dtype=object' when creating the ndarray\n",
            "  return array(a, dtype, copy=False, order=order)\n",
            "<string>:6: VisibleDeprecationWarning: Creating an ndarray from ragged nested sequences (which is a list-or-tuple of lists-or-tuples-or ndarrays with different lengths or shapes) is deprecated. If you meant to do this, you must specify 'dtype=object' when creating the ndarray\n"
          ],
          "name": "stderr"
        },
        {
          "output_type": "stream",
          "text": [
            "Better model found at epoch 0 with valid_loss value: 0.4751552939414978.\n"
          ],
          "name": "stdout"
        },
        {
          "output_type": "stream",
          "text": [
            "/usr/local/lib/python3.6/dist-packages/numpy/core/_asarray.py:83: VisibleDeprecationWarning: Creating an ndarray from ragged nested sequences (which is a list-or-tuple of lists-or-tuples-or ndarrays with different lengths or shapes) is deprecated. If you meant to do this, you must specify 'dtype=object' when creating the ndarray\n",
            "  return array(a, dtype, copy=False, order=order)\n",
            "<string>:6: VisibleDeprecationWarning: Creating an ndarray from ragged nested sequences (which is a list-or-tuple of lists-or-tuples-or ndarrays with different lengths or shapes) is deprecated. If you meant to do this, you must specify 'dtype=object' when creating the ndarray\n",
            "/usr/local/lib/python3.6/dist-packages/numpy/core/_asarray.py:83: VisibleDeprecationWarning: Creating an ndarray from ragged nested sequences (which is a list-or-tuple of lists-or-tuples-or ndarrays with different lengths or shapes) is deprecated. If you meant to do this, you must specify 'dtype=object' when creating the ndarray\n",
            "  return array(a, dtype, copy=False, order=order)\n",
            "<string>:6: VisibleDeprecationWarning: Creating an ndarray from ragged nested sequences (which is a list-or-tuple of lists-or-tuples-or ndarrays with different lengths or shapes) is deprecated. If you meant to do this, you must specify 'dtype=object' when creating the ndarray\n"
          ],
          "name": "stderr"
        }
      ]
    },
    {
      "cell_type": "code",
      "metadata": {
        "colab": {
          "base_uri": "https://localhost:8080/"
        },
        "id": "_DlXYVdwrCHa",
        "outputId": "d446cec8-b38e-4350-a5e4-8f157a6d2bc2"
      },
      "source": [
        "#clf_text.load(\"best_clf_ft1\")\r\n",
        "clf_text.load(\"best_clf_ft2\")"
      ],
      "execution_count": 378,
      "outputs": [
        {
          "output_type": "execute_result",
          "data": {
            "text/plain": [
              "RNNLearner(data=TextClasDataBunch;\n",
              "\n",
              "Train: LabelList (5709 items)\n",
              "x: TextList\n",
              "xxbos xxmaj some crazy lightning outside,xxbos xxup rt @ xxunk : # xxmaj love # xxunk # romance xxunk # xxmaj xxunk # xxunk # xxmaj xxunk # xxup xxunk # xxup xxunk 9 - 11 # apocalypse # xxmaj armageddon # xxunk,xxbos xxmaj xxunk xxmaj xxunk will obliterate the national debt - and give lots of new benefits - by xxunk xxunk money ! xxmaj xxunk !,xxbos xxmaj twelve feared killed in xxmaj pakistani air ambulance helicopter crash,xxbos xxmaj xxunk - art xxunk xxunk only blight xxunk : xxunk\n",
              "y: CategoryList\n",
              "0,0,1,1,0\n",
              "Path: .;\n",
              "\n",
              "Valid: LabelList (1904 items)\n",
              "x: TextList\n",
              "xxbos xxmaj put the rinstagramht person up on the block # xxmaj xxunk ? ? ? xxmaj the sense of xxunk is xxunk . # xxup bb17 .,xxbos i am xxunk xxunk myself for a bomb ass school year if it is not i am burning buildings ? ?,xxbos xxmaj cop pulls drunk driver to safety xxup seconds before his car is hit by train . via @ xxmaj viral xxmaj spell,xxbos xxmaj enter the world of extreme diving 9 stories up and into the xxmaj xxunk xxmaj river,xxbos xxup but i will be xxunk these videos xxup xxunk so you guys get to see the new weapon xxunk in action !\n",
              "y: CategoryList\n",
              "0,0,1,0,0\n",
              "Path: .;\n",
              "\n",
              "Test: LabelList (3263 items)\n",
              "x: TextList\n",
              "xxbos xxmaj just hapeopleicationened a terrible car crash,xxbos xxmaj heard about # earthquake is different cities xxunk stay safe everyone .,xxbos there is a forest fire at spot pond xxunk xxunk are xxunk across the street xxunk i can not save them all,xxbos xxmaj apocalypse lighting . # xxmaj xxunk # wildfires,xxbos xxmaj typhoon xxmaj soudelor kills 28 in xxmaj china and xxmaj taiwan\n",
              "y: EmptyLabelList\n",
              ",,,,\n",
              "Path: ., model=SequentialRNN(\n",
              "  (0): MultiBatchEncoder(\n",
              "    (module): AWD_LSTM(\n",
              "      (encoder): Embedding(3752, 400, padding_idx=1)\n",
              "      (encoder_dp): EmbeddingDropout(\n",
              "        (emb): Embedding(3752, 400, padding_idx=1)\n",
              "      )\n",
              "      (rnns): ModuleList(\n",
              "        (0): WeightDropout(\n",
              "          (module): LSTM(400, 1152, batch_first=True)\n",
              "        )\n",
              "        (1): WeightDropout(\n",
              "          (module): LSTM(1152, 1152, batch_first=True)\n",
              "        )\n",
              "        (2): WeightDropout(\n",
              "          (module): LSTM(1152, 400, batch_first=True)\n",
              "        )\n",
              "      )\n",
              "      (input_dp): RNNDropout()\n",
              "      (hidden_dps): ModuleList(\n",
              "        (0): RNNDropout()\n",
              "        (1): RNNDropout()\n",
              "        (2): RNNDropout()\n",
              "      )\n",
              "    )\n",
              "  )\n",
              "  (1): PoolingLinearClassifier(\n",
              "    (layers): Sequential(\n",
              "      (0): BatchNorm1d(1200, eps=1e-05, momentum=0.1, affine=True, track_running_stats=True)\n",
              "      (1): Dropout(p=0.08000000000000002, inplace=False)\n",
              "      (2): Linear(in_features=1200, out_features=50, bias=True)\n",
              "      (3): ReLU(inplace=True)\n",
              "      (4): BatchNorm1d(50, eps=1e-05, momentum=0.1, affine=True, track_running_stats=True)\n",
              "      (5): Dropout(p=0.1, inplace=False)\n",
              "      (6): Linear(in_features=50, out_features=2, bias=True)\n",
              "    )\n",
              "  )\n",
              "), opt_func=functools.partial(<class 'torch.optim.adam.Adam'>, betas=(0.9, 0.99)), loss_func=FlattenedLoss of CrossEntropyLoss(), metrics=[<function accuracy at 0x7f6380949840>], true_wd=True, bn_wd=True, wd=0.01, train_bn=True, path=PosixPath('.'), model_dir='models', callback_fns=[functools.partial(<class 'fastai.basic_train.Recorder'>, add_time=True, silent=False)], callbacks=[RNNTrainer\n",
              "learn: RNNLearner(data=TextClasDataBunch;\n",
              "\n",
              "Train: LabelList (5709 items)\n",
              "x: TextList\n",
              "xxbos xxmaj some crazy lightning outside,xxbos xxup rt @ xxunk : # xxmaj love # xxunk # romance xxunk # xxmaj xxunk # xxunk # xxmaj xxunk # xxup xxunk # xxup xxunk 9 - 11 # apocalypse # xxmaj armageddon # xxunk,xxbos xxmaj xxunk xxmaj xxunk will obliterate the national debt - and give lots of new benefits - by xxunk xxunk money ! xxmaj xxunk !,xxbos xxmaj twelve feared killed in xxmaj pakistani air ambulance helicopter crash,xxbos xxmaj xxunk - art xxunk xxunk only blight xxunk : xxunk\n",
              "y: CategoryList\n",
              "0,0,1,1,0\n",
              "Path: .;\n",
              "\n",
              "Valid: LabelList (1904 items)\n",
              "x: TextList\n",
              "xxbos xxmaj put the rinstagramht person up on the block # xxmaj xxunk ? ? ? xxmaj the sense of xxunk is xxunk . # xxup bb17 .,xxbos i am xxunk xxunk myself for a bomb ass school year if it is not i am burning buildings ? ?,xxbos xxmaj cop pulls drunk driver to safety xxup seconds before his car is hit by train . via @ xxmaj viral xxmaj spell,xxbos xxmaj enter the world of extreme diving 9 stories up and into the xxmaj xxunk xxmaj river,xxbos xxup but i will be xxunk these videos xxup xxunk so you guys get to see the new weapon xxunk in action !\n",
              "y: CategoryList\n",
              "0,0,1,0,0\n",
              "Path: .;\n",
              "\n",
              "Test: LabelList (3263 items)\n",
              "x: TextList\n",
              "xxbos xxmaj just hapeopleicationened a terrible car crash,xxbos xxmaj heard about # earthquake is different cities xxunk stay safe everyone .,xxbos there is a forest fire at spot pond xxunk xxunk are xxunk across the street xxunk i can not save them all,xxbos xxmaj apocalypse lighting . # xxmaj xxunk # wildfires,xxbos xxmaj typhoon xxmaj soudelor kills 28 in xxmaj china and xxmaj taiwan\n",
              "y: EmptyLabelList\n",
              ",,,,\n",
              "Path: ., model=SequentialRNN(\n",
              "  (0): MultiBatchEncoder(\n",
              "    (module): AWD_LSTM(\n",
              "      (encoder): Embedding(3752, 400, padding_idx=1)\n",
              "      (encoder_dp): EmbeddingDropout(\n",
              "        (emb): Embedding(3752, 400, padding_idx=1)\n",
              "      )\n",
              "      (rnns): ModuleList(\n",
              "        (0): WeightDropout(\n",
              "          (module): LSTM(400, 1152, batch_first=True)\n",
              "        )\n",
              "        (1): WeightDropout(\n",
              "          (module): LSTM(1152, 1152, batch_first=True)\n",
              "        )\n",
              "        (2): WeightDropout(\n",
              "          (module): LSTM(1152, 400, batch_first=True)\n",
              "        )\n",
              "      )\n",
              "      (input_dp): RNNDropout()\n",
              "      (hidden_dps): ModuleList(\n",
              "        (0): RNNDropout()\n",
              "        (1): RNNDropout()\n",
              "        (2): RNNDropout()\n",
              "      )\n",
              "    )\n",
              "  )\n",
              "  (1): PoolingLinearClassifier(\n",
              "    (layers): Sequential(\n",
              "      (0): BatchNorm1d(1200, eps=1e-05, momentum=0.1, affine=True, track_running_stats=True)\n",
              "      (1): Dropout(p=0.08000000000000002, inplace=False)\n",
              "      (2): Linear(in_features=1200, out_features=50, bias=True)\n",
              "      (3): ReLU(inplace=True)\n",
              "      (4): BatchNorm1d(50, eps=1e-05, momentum=0.1, affine=True, track_running_stats=True)\n",
              "      (5): Dropout(p=0.1, inplace=False)\n",
              "      (6): Linear(in_features=50, out_features=2, bias=True)\n",
              "    )\n",
              "  )\n",
              "), opt_func=functools.partial(<class 'torch.optim.adam.Adam'>, betas=(0.9, 0.99)), loss_func=FlattenedLoss of CrossEntropyLoss(), metrics=[<function accuracy at 0x7f6380949840>], true_wd=True, bn_wd=True, wd=0.01, train_bn=True, path=PosixPath('.'), model_dir='models', callback_fns=[functools.partial(<class 'fastai.basic_train.Recorder'>, add_time=True, silent=False)], callbacks=[...], layer_groups=[Sequential(\n",
              "  (0): Embedding(3752, 400, padding_idx=1)\n",
              "  (1): EmbeddingDropout(\n",
              "    (emb): Embedding(3752, 400, padding_idx=1)\n",
              "  )\n",
              "), Sequential(\n",
              "  (0): WeightDropout(\n",
              "    (module): LSTM(400, 1152, batch_first=True)\n",
              "  )\n",
              "  (1): RNNDropout()\n",
              "), Sequential(\n",
              "  (0): WeightDropout(\n",
              "    (module): LSTM(1152, 1152, batch_first=True)\n",
              "  )\n",
              "  (1): RNNDropout()\n",
              "), Sequential(\n",
              "  (0): WeightDropout(\n",
              "    (module): LSTM(1152, 400, batch_first=True)\n",
              "  )\n",
              "  (1): RNNDropout()\n",
              "), Sequential(\n",
              "  (0): PoolingLinearClassifier(\n",
              "    (layers): Sequential(\n",
              "      (0): BatchNorm1d(1200, eps=1e-05, momentum=0.1, affine=True, track_running_stats=True)\n",
              "      (1): Dropout(p=0.08000000000000002, inplace=False)\n",
              "      (2): Linear(in_features=1200, out_features=50, bias=True)\n",
              "      (3): ReLU(inplace=True)\n",
              "      (4): BatchNorm1d(50, eps=1e-05, momentum=0.1, affine=True, track_running_stats=True)\n",
              "      (5): Dropout(p=0.1, inplace=False)\n",
              "      (6): Linear(in_features=50, out_features=2, bias=True)\n",
              "    )\n",
              "  )\n",
              ")], add_time=True, silent=False)\n",
              "alpha: 2.0\n",
              "beta: 1.0], layer_groups=[Sequential(\n",
              "  (0): Embedding(3752, 400, padding_idx=1)\n",
              "  (1): EmbeddingDropout(\n",
              "    (emb): Embedding(3752, 400, padding_idx=1)\n",
              "  )\n",
              "), Sequential(\n",
              "  (0): WeightDropout(\n",
              "    (module): LSTM(400, 1152, batch_first=True)\n",
              "  )\n",
              "  (1): RNNDropout()\n",
              "), Sequential(\n",
              "  (0): WeightDropout(\n",
              "    (module): LSTM(1152, 1152, batch_first=True)\n",
              "  )\n",
              "  (1): RNNDropout()\n",
              "), Sequential(\n",
              "  (0): WeightDropout(\n",
              "    (module): LSTM(1152, 400, batch_first=True)\n",
              "  )\n",
              "  (1): RNNDropout()\n",
              "), Sequential(\n",
              "  (0): PoolingLinearClassifier(\n",
              "    (layers): Sequential(\n",
              "      (0): BatchNorm1d(1200, eps=1e-05, momentum=0.1, affine=True, track_running_stats=True)\n",
              "      (1): Dropout(p=0.08000000000000002, inplace=False)\n",
              "      (2): Linear(in_features=1200, out_features=50, bias=True)\n",
              "      (3): ReLU(inplace=True)\n",
              "      (4): BatchNorm1d(50, eps=1e-05, momentum=0.1, affine=True, track_running_stats=True)\n",
              "      (5): Dropout(p=0.1, inplace=False)\n",
              "      (6): Linear(in_features=50, out_features=2, bias=True)\n",
              "    )\n",
              "  )\n",
              ")], add_time=True, silent=False)"
            ]
          },
          "metadata": {
            "tags": []
          },
          "execution_count": 378
        }
      ]
    },
    {
      "cell_type": "code",
      "metadata": {
        "colab": {
          "base_uri": "https://localhost:8080/",
          "height": 176
        },
        "id": "Gs36YcGBrJ0e",
        "outputId": "c2cdedd5-f1a6-4210-8e76-b1efc51ba7f1"
      },
      "source": [
        "# Lang model prediction on Validation\r\n",
        "\r\n",
        "pred_val = clf_text.get_preds(DatasetType.Valid, ordered=True)\r\n",
        "pred_val_l = pred_val[0].argmax(1)\r\n",
        "\r\n",
        "# Lang model only prediction for Validation\r\n",
        "print(classification_report(pred_val[1], pred_val_l))"
      ],
      "execution_count": 379,
      "outputs": [
        {
          "output_type": "display_data",
          "data": {
            "text/html": [
              ""
            ],
            "text/plain": [
              "<IPython.core.display.HTML object>"
            ]
          },
          "metadata": {
            "tags": []
          }
        },
        {
          "output_type": "stream",
          "text": [
            "              precision    recall  f1-score   support\n",
            "\n",
            "           0       0.81      0.86      0.84      1087\n",
            "           1       0.80      0.73      0.76       817\n",
            "\n",
            "    accuracy                           0.81      1904\n",
            "   macro avg       0.80      0.80      0.80      1904\n",
            "weighted avg       0.80      0.81      0.80      1904\n",
            "\n"
          ],
          "name": "stdout"
        }
      ]
    },
    {
      "cell_type": "code",
      "metadata": {
        "id": "GowxfV-grWbW",
        "colab": {
          "base_uri": "https://localhost:8080/",
          "height": 16
        },
        "outputId": "c88680c7-5ebd-4dc8-9fa2-fe5869f9838d"
      },
      "source": [
        "# Submission file for Test with Text only\r\n",
        "pred_test, label_test = clf_text.get_preds(DatasetType.Test, ordered=True)\r\n",
        "pred_test_ = pred_test.argmax(1)\r\n",
        "pred_test_l = [data_clf.train_ds.y.classes[n] for n in pred_test_]\r\n",
        "\r\n",
        "res = pd.Series(pred_test_l, index=test_data['id'], name=\"target\")\r\n",
        "\r\n",
        "res.index.name = \"id\"\r\n",
        "pd.DataFrame(res).to_csv(\"submission_only_text_2.csv\")"
      ],
      "execution_count": 380,
      "outputs": [
        {
          "output_type": "display_data",
          "data": {
            "text/html": [
              ""
            ],
            "text/plain": [
              "<IPython.core.display.HTML object>"
            ]
          },
          "metadata": {
            "tags": []
          }
        }
      ]
    },
    {
      "cell_type": "markdown",
      "metadata": {
        "id": "CO1fo_o7rf5d"
      },
      "source": [
        "### Using `RandomForest` for meta-features"
      ]
    },
    {
      "cell_type": "code",
      "metadata": {
        "colab": {
          "base_uri": "https://localhost:8080/"
        },
        "id": "qRYXqXXhGE8e",
        "outputId": "5ce31b92-e9fd-4f8a-8a4c-1c749b6b9e80"
      },
      "source": [
        "from sklearn.ensemble import RandomForestClassifier\r\n",
        "from sklearn.metrics import accuracy_score\r\n",
        "\r\n",
        "clf_rf = RandomForestClassifier(n_estimators=1000\r\n",
        "                               , max_depth=20\r\n",
        "                               , min_samples_split=10\r\n",
        "                               , min_samples_leaf=2\r\n",
        "                               , n_jobs=-1\r\n",
        "                               , random_state=0)\r\n",
        "\r\n",
        "clf_rf.fit(X_train.drop(['text','text_cleaned','id','is_valid','location'], axis=1)\r\n",
        "         , y_train.target.values\r\n",
        "          )\r\n",
        "clf_val_pred = clf_rf.predict_proba(X_val.drop(['text','text_cleaned','id','is_valid','location'],axis=1))\r\n",
        "\r\n",
        "print('Validation Accuracy:', accuracy_score(y_val.target.values, clf_val_pred.argmax(axis=-1)))\r\n",
        "\r\n",
        "# RandomForest Prediction on validation \r\n",
        "print(classification_report(y_val.target.values, clf_val_pred.argmax(axis=-1)))"
      ],
      "execution_count": 384,
      "outputs": [
        {
          "output_type": "stream",
          "text": [
            "Validation Accuracy: 0.7184873949579832\n",
            "              precision    recall  f1-score   support\n",
            "\n",
            "           0       0.73      0.80      0.77      1087\n",
            "           1       0.70      0.60      0.65       817\n",
            "\n",
            "    accuracy                           0.72      1904\n",
            "   macro avg       0.71      0.70      0.71      1904\n",
            "weighted avg       0.72      0.72      0.72      1904\n",
            "\n"
          ],
          "name": "stdout"
        }
      ]
    },
    {
      "cell_type": "code",
      "metadata": {
        "colab": {
          "base_uri": "https://localhost:8080/",
          "height": 176
        },
        "id": "DfNmBEzcx3DS",
        "outputId": "f3f176ee-f9b6-4c4f-fae0-3c7faf9bd0fc"
      },
      "source": [
        "# Ensembel prediction on Validation (RF+Lang)\r\n",
        "\r\n",
        "lang_model_weight = 0.9\r\n",
        "rand_forest_weight = 0.1\r\n",
        "\r\n",
        "pred_val_combined = ((clf_text.get_preds(DatasetType.Valid)[0]*lang_model_weight).detach().numpy().ravel() + (clf_val_pred.ravel()*rand_forest_weight)).reshape(-1,2).argmax(1)\r\n",
        "print(classification_report(y_val.target.values, pred_val_combined))"
      ],
      "execution_count": 436,
      "outputs": [
        {
          "output_type": "display_data",
          "data": {
            "text/html": [
              ""
            ],
            "text/plain": [
              "<IPython.core.display.HTML object>"
            ]
          },
          "metadata": {
            "tags": []
          }
        },
        {
          "output_type": "stream",
          "text": [
            "              precision    recall  f1-score   support\n",
            "\n",
            "           0       0.81      0.87      0.84      1087\n",
            "           1       0.81      0.73      0.77       817\n",
            "\n",
            "    accuracy                           0.81      1904\n",
            "   macro avg       0.81      0.80      0.80      1904\n",
            "weighted avg       0.81      0.81      0.81      1904\n",
            "\n"
          ],
          "name": "stdout"
        }
      ]
    },
    {
      "cell_type": "code",
      "metadata": {
        "colab": {
          "base_uri": "https://localhost:8080/",
          "height": 16
        },
        "id": "_lLl78j1zAD3",
        "outputId": "331cde21-abf5-464b-a15f-e21749fb4715"
      },
      "source": [
        "# Submission using ensemble model\r\n",
        "\r\n",
        "lang_model_weight = 0.9\r\n",
        "rand_forest_weight = 0.1\r\n",
        "\r\n",
        "clf_testpred = clf_rf.predict_proba(test_data.drop(['id','location','text','text_cleaned'],axis=1))\r\n",
        "submission_bert = test_data.copy()[['id']]\r\n",
        "\r\n",
        "pred_test_combi = ((clf_text.get_preds(DatasetType.Test)[0]*lang_model_weight ).detach().numpy().ravel() + (clf_testpred.ravel()*rand_forest_weight)).reshape(-1,2).argmax(1)\r\n",
        "pred_test_l_combi = [data_clf.valid_ds.y.classes[n] for n in pred_test_combi]\r\n",
        "\r\n",
        "res = pd.Series(pred_test_l_combi, index=test_data['id'], name=\"target\")\r\n",
        "res.index.name = \"id\"\r\n",
        "pd.DataFrame(res).to_csv(\"submission_RF_Lang_combined_2.csv\")"
      ],
      "execution_count": 386,
      "outputs": [
        {
          "output_type": "display_data",
          "data": {
            "text/html": [
              ""
            ],
            "text/plain": [
              "<IPython.core.display.HTML object>"
            ]
          },
          "metadata": {
            "tags": []
          }
        }
      ]
    },
    {
      "cell_type": "markdown",
      "metadata": {
        "id": "9-lOIwqnzBO2"
      },
      "source": [
        "### Using `XGBoost` for meta-features"
      ]
    },
    {
      "cell_type": "code",
      "metadata": {
        "colab": {
          "base_uri": "https://localhost:8080/"
        },
        "id": "gDI8dh6-pmx4",
        "outputId": "e8bb0462-72a9-4d6a-c8dd-213715645f6e"
      },
      "source": [
        "import xgboost as xgb\r\n",
        "\r\n",
        "xgb_model = xgb.XGBClassifier(objective=\"binary:logistic\", \r\n",
        "                              learning_rate = 0.1,\r\n",
        "                              n_estimators = 1000,\r\n",
        "                              max_depth = 5,\r\n",
        "                              min_child_weight=1,\r\n",
        "                              gamma = 0,\r\n",
        "                              subsample=0.8,\r\n",
        "                              colsample_bytree=.8,\r\n",
        "                              nthread=4,\r\n",
        "                              scale_pos_weight=1,\r\n",
        "                              seed=16,\r\n",
        "                              eval_metric='error')\r\n",
        "                              \r\n",
        "\r\n",
        "xgb_model.fit(X_train.drop(['text','text_cleaned','id','is_valid','location'], axis=1)\r\n",
        "              , y_train.target.values)\r\n",
        "\r\n",
        "y_pred_xgb = xgb_model.predict(X_val.drop(['text','text_cleaned','id','is_valid','location'],axis=1))\r\n",
        "y_pred_prob_xgb = xgb_model.predict_proba(X_val.drop(['text','text_cleaned','id','is_valid','location'],axis=1))\r\n",
        "\r\n",
        "print('Validation Accuracy:', accuracy_score(y_val.target.values, y_pred_xgb))\r\n",
        "\r\n",
        "print(classification_report(y_val.target.values, y_pred_xgb))"
      ],
      "execution_count": 429,
      "outputs": [
        {
          "output_type": "stream",
          "text": [
            "Validation Accuracy: 0.7557773109243697\n",
            "              precision    recall  f1-score   support\n",
            "\n",
            "           0       0.76      0.83      0.79      1087\n",
            "           1       0.74      0.66      0.70       817\n",
            "\n",
            "    accuracy                           0.76      1904\n",
            "   macro avg       0.75      0.74      0.75      1904\n",
            "weighted avg       0.75      0.76      0.75      1904\n",
            "\n"
          ],
          "name": "stdout"
        }
      ]
    },
    {
      "cell_type": "code",
      "metadata": {
        "colab": {
          "base_uri": "https://localhost:8080/",
          "height": 176
        },
        "id": "QCoUI8dJv30H",
        "outputId": "eb65ba0c-9f97-4439-9d6d-28fc2ee0b717"
      },
      "source": [
        "# Ensembel prediction on Validation (XGB+Lang)\r\n",
        "\r\n",
        "lang_model_weight = 0.8\r\n",
        "xgb_weight = 0.2\r\n",
        "\r\n",
        "pred_val_combined = ((clf_text.get_preds(DatasetType.Valid)[0]*lang_model_weight).detach().numpy().ravel() + (y_pred_prob_xgb.ravel()*xgb_weight)).reshape(-1,2).argmax(1)\r\n",
        "print(classification_report(y_val.target.values, pred_val_combined))"
      ],
      "execution_count": 437,
      "outputs": [
        {
          "output_type": "display_data",
          "data": {
            "text/html": [
              ""
            ],
            "text/plain": [
              "<IPython.core.display.HTML object>"
            ]
          },
          "metadata": {
            "tags": []
          }
        },
        {
          "output_type": "stream",
          "text": [
            "              precision    recall  f1-score   support\n",
            "\n",
            "           0       0.82      0.87      0.84      1087\n",
            "           1       0.81      0.74      0.77       817\n",
            "\n",
            "    accuracy                           0.81      1904\n",
            "   macro avg       0.81      0.80      0.81      1904\n",
            "weighted avg       0.81      0.81      0.81      1904\n",
            "\n"
          ],
          "name": "stdout"
        }
      ]
    },
    {
      "cell_type": "code",
      "metadata": {
        "id": "JHz7U0SiKkJc",
        "colab": {
          "base_uri": "https://localhost:8080/",
          "height": 16
        },
        "outputId": "8ab28deb-089e-4eec-ac71-ba3057c105d2"
      },
      "source": [
        "# Submission using ensemble model\r\n",
        "\r\n",
        "lang_model_weight = 0.8\r\n",
        "xgb_weight = 0.2\r\n",
        "\r\n",
        "clf_testpred = xgb_model.predict_proba(test_data.drop(['id','location','text','text_cleaned'],axis=1))\r\n",
        "submission_bert = test_data.copy()[['id']]\r\n",
        "\r\n",
        "pred_test_combi = ((clf_text.get_preds(DatasetType.Test)[0]*lang_model_weight ).detach().numpy().ravel() + (clf_testpred.ravel()*xgb_weight)).reshape(-1,2).argmax(1)\r\n",
        "pred_test_l_combi = [data_clf.valid_ds.y.classes[n] for n in pred_test_combi]\r\n",
        "\r\n",
        "res = pd.Series(pred_test_l_combi, index=test_data['id'], name=\"target\")\r\n",
        "res.index.name = \"id\"\r\n",
        "pd.DataFrame(res).to_csv(\"submission_XGBoost_Lang_combined_2.csv\")"
      ],
      "execution_count": 438,
      "outputs": [
        {
          "output_type": "display_data",
          "data": {
            "text/html": [
              ""
            ],
            "text/plain": [
              "<IPython.core.display.HTML object>"
            ]
          },
          "metadata": {
            "tags": []
          }
        }
      ]
    }
  ]
}