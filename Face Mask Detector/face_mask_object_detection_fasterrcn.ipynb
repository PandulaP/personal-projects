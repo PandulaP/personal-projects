{
  "nbformat": 4,
  "nbformat_minor": 0,
  "metadata": {
    "kernelspec": {
      "language": "python",
      "display_name": "Python 3",
      "name": "python3"
    },
    "language_info": {
      "pygments_lexer": "ipython3",
      "nbconvert_exporter": "python",
      "version": "3.6.4",
      "file_extension": ".py",
      "codemirror_mode": {
        "name": "ipython",
        "version": 3
      },
      "name": "python",
      "mimetype": "text/x-python"
    },
    "colab": {
      "name": "face_mask_detecter_fasterrcnn_PP.ipynb",
      "provenance": [],
      "collapsed_sections": []
    },
    "accelerator": "GPU",
    "widgets": {
      "application/vnd.jupyter.widget-state+json": {
        "f5dbb454d9c741978a0addabc3f98906": {
          "model_module": "@jupyter-widgets/controls",
          "model_name": "HBoxModel",
          "state": {
            "_view_name": "HBoxView",
            "_dom_classes": [],
            "_model_name": "HBoxModel",
            "_view_module": "@jupyter-widgets/controls",
            "_model_module_version": "1.5.0",
            "_view_count": null,
            "_view_module_version": "1.5.0",
            "box_style": "",
            "layout": "IPY_MODEL_32e71a3d84694953804bf960a66f2745",
            "_model_module": "@jupyter-widgets/controls",
            "children": [
              "IPY_MODEL_d68661b210974c2ea6ceaa264e9ffcdf",
              "IPY_MODEL_937b3825fa484da1859f862d451ac804"
            ]
          }
        },
        "32e71a3d84694953804bf960a66f2745": {
          "model_module": "@jupyter-widgets/base",
          "model_name": "LayoutModel",
          "state": {
            "_view_name": "LayoutView",
            "grid_template_rows": null,
            "right": null,
            "justify_content": null,
            "_view_module": "@jupyter-widgets/base",
            "overflow": null,
            "_model_module_version": "1.2.0",
            "_view_count": null,
            "flex_flow": null,
            "width": null,
            "min_width": null,
            "border": null,
            "align_items": null,
            "bottom": null,
            "_model_module": "@jupyter-widgets/base",
            "top": null,
            "grid_column": null,
            "overflow_y": null,
            "overflow_x": null,
            "grid_auto_flow": null,
            "grid_area": null,
            "grid_template_columns": null,
            "flex": null,
            "_model_name": "LayoutModel",
            "justify_items": null,
            "grid_row": null,
            "max_height": null,
            "align_content": null,
            "visibility": null,
            "align_self": null,
            "height": null,
            "min_height": null,
            "padding": null,
            "grid_auto_rows": null,
            "grid_gap": null,
            "max_width": null,
            "order": null,
            "_view_module_version": "1.2.0",
            "grid_template_areas": null,
            "object_position": null,
            "object_fit": null,
            "grid_auto_columns": null,
            "margin": null,
            "display": null,
            "left": null
          }
        },
        "d68661b210974c2ea6ceaa264e9ffcdf": {
          "model_module": "@jupyter-widgets/controls",
          "model_name": "FloatProgressModel",
          "state": {
            "_view_name": "ProgressView",
            "style": "IPY_MODEL_ce9a711f524248e188618abcaf2dd9fc",
            "_dom_classes": [],
            "description": "100%",
            "_model_name": "FloatProgressModel",
            "bar_style": "success",
            "max": 167502836,
            "_view_module": "@jupyter-widgets/controls",
            "_model_module_version": "1.5.0",
            "value": 167502836,
            "_view_count": null,
            "_view_module_version": "1.5.0",
            "orientation": "horizontal",
            "min": 0,
            "description_tooltip": null,
            "_model_module": "@jupyter-widgets/controls",
            "layout": "IPY_MODEL_df038aae0f9444a48661eb599c1f896e"
          }
        },
        "937b3825fa484da1859f862d451ac804": {
          "model_module": "@jupyter-widgets/controls",
          "model_name": "HTMLModel",
          "state": {
            "_view_name": "HTMLView",
            "style": "IPY_MODEL_7db18cf9870748e894a55a4edb770e4e",
            "_dom_classes": [],
            "description": "",
            "_model_name": "HTMLModel",
            "placeholder": "​",
            "_view_module": "@jupyter-widgets/controls",
            "_model_module_version": "1.5.0",
            "value": " 160M/160M [00:25&lt;00:00, 6.50MB/s]",
            "_view_count": null,
            "_view_module_version": "1.5.0",
            "description_tooltip": null,
            "_model_module": "@jupyter-widgets/controls",
            "layout": "IPY_MODEL_b694d69125574fb180859699afedc66e"
          }
        },
        "ce9a711f524248e188618abcaf2dd9fc": {
          "model_module": "@jupyter-widgets/controls",
          "model_name": "ProgressStyleModel",
          "state": {
            "_view_name": "StyleView",
            "_model_name": "ProgressStyleModel",
            "description_width": "initial",
            "_view_module": "@jupyter-widgets/base",
            "_model_module_version": "1.5.0",
            "_view_count": null,
            "_view_module_version": "1.2.0",
            "bar_color": null,
            "_model_module": "@jupyter-widgets/controls"
          }
        },
        "df038aae0f9444a48661eb599c1f896e": {
          "model_module": "@jupyter-widgets/base",
          "model_name": "LayoutModel",
          "state": {
            "_view_name": "LayoutView",
            "grid_template_rows": null,
            "right": null,
            "justify_content": null,
            "_view_module": "@jupyter-widgets/base",
            "overflow": null,
            "_model_module_version": "1.2.0",
            "_view_count": null,
            "flex_flow": null,
            "width": null,
            "min_width": null,
            "border": null,
            "align_items": null,
            "bottom": null,
            "_model_module": "@jupyter-widgets/base",
            "top": null,
            "grid_column": null,
            "overflow_y": null,
            "overflow_x": null,
            "grid_auto_flow": null,
            "grid_area": null,
            "grid_template_columns": null,
            "flex": null,
            "_model_name": "LayoutModel",
            "justify_items": null,
            "grid_row": null,
            "max_height": null,
            "align_content": null,
            "visibility": null,
            "align_self": null,
            "height": null,
            "min_height": null,
            "padding": null,
            "grid_auto_rows": null,
            "grid_gap": null,
            "max_width": null,
            "order": null,
            "_view_module_version": "1.2.0",
            "grid_template_areas": null,
            "object_position": null,
            "object_fit": null,
            "grid_auto_columns": null,
            "margin": null,
            "display": null,
            "left": null
          }
        },
        "7db18cf9870748e894a55a4edb770e4e": {
          "model_module": "@jupyter-widgets/controls",
          "model_name": "DescriptionStyleModel",
          "state": {
            "_view_name": "StyleView",
            "_model_name": "DescriptionStyleModel",
            "description_width": "",
            "_view_module": "@jupyter-widgets/base",
            "_model_module_version": "1.5.0",
            "_view_count": null,
            "_view_module_version": "1.2.0",
            "_model_module": "@jupyter-widgets/controls"
          }
        },
        "b694d69125574fb180859699afedc66e": {
          "model_module": "@jupyter-widgets/base",
          "model_name": "LayoutModel",
          "state": {
            "_view_name": "LayoutView",
            "grid_template_rows": null,
            "right": null,
            "justify_content": null,
            "_view_module": "@jupyter-widgets/base",
            "overflow": null,
            "_model_module_version": "1.2.0",
            "_view_count": null,
            "flex_flow": null,
            "width": null,
            "min_width": null,
            "border": null,
            "align_items": null,
            "bottom": null,
            "_model_module": "@jupyter-widgets/base",
            "top": null,
            "grid_column": null,
            "overflow_y": null,
            "overflow_x": null,
            "grid_auto_flow": null,
            "grid_area": null,
            "grid_template_columns": null,
            "flex": null,
            "_model_name": "LayoutModel",
            "justify_items": null,
            "grid_row": null,
            "max_height": null,
            "align_content": null,
            "visibility": null,
            "align_self": null,
            "height": null,
            "min_height": null,
            "padding": null,
            "grid_auto_rows": null,
            "grid_gap": null,
            "max_width": null,
            "order": null,
            "_view_module_version": "1.2.0",
            "grid_template_areas": null,
            "object_position": null,
            "object_fit": null,
            "grid_auto_columns": null,
            "margin": null,
            "display": null,
            "left": null
          }
        }
      }
    }
  },
  "cells": [
    {
      "cell_type": "markdown",
      "metadata": {
        "id": "tzSPc4hpPnH_"
      },
      "source": [
        "## Things to do:\n",
        "- figure out how to improve the results\n"
      ]
    },
    {
      "cell_type": "markdown",
      "metadata": {
        "id": "e7VhLAp9iLog"
      },
      "source": [
        "#### Importing necessary packages"
      ]
    },
    {
      "cell_type": "code",
      "metadata": {
        "_uuid": "8f2839f25d086af736a60e9eeb907d3b93b6e0e5",
        "_cell_guid": "b1076dfc-b9ad-4769-8c92-a6c4dae69d19",
        "trusted": true,
        "colab": {
          "base_uri": "https://localhost:8080/",
          "height": 425
        },
        "id": "-DtqtM8H69EP",
        "outputId": "fafbfbf6-fd8f-4bc7-bf70-292979c68dd0"
      },
      "source": [
        "!pip install --upgrade git+https://github.com/bes-dev/mean_average_precision.git\n",
        "\n",
        "# import necessary packages\n",
        "import numpy as np\n",
        "import pandas as pd \n",
        "from bs4 import BeautifulSoup\n",
        "import torchvision\n",
        "from torchvision import transforms, datasets, models\n",
        "import torch\n",
        "from torchvision.models.detection.faster_rcnn import FastRCNNPredictor\n",
        "from PIL import Image\n",
        "import matplotlib.pyplot as plt\n",
        "from torchvision.models.detection.mask_rcnn import MaskRCNNPredictor\n",
        "import matplotlib.patches as patches\n",
        "from zipfile import ZipFile \n",
        "from io import BytesIO\n",
        "from mean_average_precision import MetricBuilder\n",
        "from google.colab import drive\n",
        "drive.mount('/content/drive')\n",
        "\n",
        "\n",
        "import sys\n",
        "sys.path.append('/content/drive/MyDrive/my_projects/helpers/pytorch')\n",
        "\n",
        "from engine import train_one_epoch, evaluate\n",
        "import utils\n",
        "\n",
        "# setting the device\n",
        "device = torch.device('cuda') if torch.cuda.is_available() else torch.device('cpu')"
      ],
      "execution_count": 17,
      "outputs": [
        {
          "output_type": "stream",
          "text": [
            "Collecting git+https://github.com/bes-dev/mean_average_precision.git\n",
            "  Cloning https://github.com/bes-dev/mean_average_precision.git to /tmp/pip-req-build-qjyd62_8\n",
            "  Running command git clone -q https://github.com/bes-dev/mean_average_precision.git /tmp/pip-req-build-qjyd62_8\n",
            "Requirement already satisfied, skipping upgrade: numpy in /usr/local/lib/python3.6/dist-packages (from mean-average-precision==0.0.2.1) (1.18.5)\n",
            "Requirement already satisfied, skipping upgrade: pandas in /usr/local/lib/python3.6/dist-packages (from mean-average-precision==0.0.2.1) (1.1.4)\n",
            "Requirement already satisfied, skipping upgrade: python-dateutil>=2.7.3 in /usr/local/lib/python3.6/dist-packages (from pandas->mean-average-precision==0.0.2.1) (2.8.1)\n",
            "Requirement already satisfied, skipping upgrade: pytz>=2017.2 in /usr/local/lib/python3.6/dist-packages (from pandas->mean-average-precision==0.0.2.1) (2018.9)\n",
            "Requirement already satisfied, skipping upgrade: six>=1.5 in /usr/local/lib/python3.6/dist-packages (from python-dateutil>=2.7.3->pandas->mean-average-precision==0.0.2.1) (1.15.0)\n",
            "Building wheels for collected packages: mean-average-precision\n",
            "  Building wheel for mean-average-precision (setup.py) ... \u001b[?25l\u001b[?25hdone\n",
            "  Created wheel for mean-average-precision: filename=mean_average_precision-0.0.2.1-cp36-none-any.whl size=14137 sha256=925c50ecd2f7833751f455264035ec7d0f3b3c6f5c081b734c16710c02cd967f\n",
            "  Stored in directory: /tmp/pip-ephem-wheel-cache-t87l6217/wheels/49/90/b8/9264e51137d158d3f37cb48e08092ab8d020c7a9349eaa9ec2\n",
            "Successfully built mean-average-precision\n",
            "Installing collected packages: mean-average-precision\n",
            "  Found existing installation: mean-average-precision 0.0.2.1\n",
            "    Uninstalling mean-average-precision-0.0.2.1:\n",
            "      Successfully uninstalled mean-average-precision-0.0.2.1\n",
            "Successfully installed mean-average-precision-0.0.2.1\n"
          ],
          "name": "stdout"
        },
        {
          "output_type": "display_data",
          "data": {
            "application/vnd.colab-display-data+json": {
              "pip_warning": {
                "packages": [
                  "mean_average_precision"
                ]
              }
            }
          },
          "metadata": {
            "tags": []
          }
        },
        {
          "output_type": "stream",
          "text": [
            "Drive already mounted at /content/drive; to attempt to forcibly remount, call drive.mount(\"/content/drive\", force_remount=True).\n"
          ],
          "name": "stdout"
        }
      ]
    },
    {
      "cell_type": "markdown",
      "metadata": {
        "id": "N6XCFHtDiQT5"
      },
      "source": [
        "#### Helper functions to create bounding-boxes & target labels"
      ]
    },
    {
      "cell_type": "code",
      "metadata": {
        "trusted": true,
        "id": "QwMyg2ge69EP"
      },
      "source": [
        "def generate_box(obj):\n",
        "  \"\"\"helper function to generate the bounding box\"\"\"\n",
        "\n",
        "  xmin = int(obj.find('xmin').text)\n",
        "  ymin = int(obj.find('ymin').text)\n",
        "  xmax = int(obj.find('xmax').text)\n",
        "  ymax = int(obj.find('ymax').text)\n",
        "\n",
        "  return [xmin, ymin, xmax, ymax]\n",
        "\n",
        "\n",
        "def generate_label(obj):\n",
        "  \"\"\"helper function to generate the label of the object\"\"\"\n",
        "\n",
        "  if obj.find('name').text == \"with_mask\":\n",
        "      return 2\n",
        "  elif obj.find('name').text == \"mask_weared_incorrect\":\n",
        "      return 3\n",
        "  else:\n",
        "    return 1\n",
        "\n",
        "\n",
        "def generate_target(image_id, file): \n",
        "  \"\"\"helper function to generate the target label(s) for a training instance\"\"\"\n",
        "  \n",
        "  soup = BeautifulSoup(file, 'xml')\n",
        "  objects = soup.find_all('object')\n",
        "\n",
        "  num_objs = len(objects)\n",
        "\n",
        "  # Bounding boxes for objects\n",
        "  # In coco format, bbox = [xmin, ymin, width, height]\n",
        "  # In pytorch, the input should be [xmin, ymin, xmax, ymax]\n",
        "  boxes = []\n",
        "  labels = []\n",
        "\n",
        "  for i in objects:\n",
        "      boxes.append(generate_box(i))\n",
        "      labels.append(generate_label(i))\n",
        "\n",
        "  boxes = torch.as_tensor(boxes, dtype=torch.float32)\n",
        "\n",
        "  # Labels (In my case, I only one class: target class or background)\n",
        "  labels = torch.as_tensor(labels, dtype=torch.int64)\n",
        "\n",
        "  # Tensorise img_id\n",
        "  img_id = torch.tensor([image_id])\n",
        "\n",
        "  # Annotation is in dictionary format\n",
        "  target = {}\n",
        "  target[\"boxes\"] = boxes\n",
        "  target[\"labels\"] = labels\n",
        "  target[\"image_id\"] = img_id\n",
        "\n",
        "  return target\n"
      ],
      "execution_count": 2,
      "outputs": []
    },
    {
      "cell_type": "markdown",
      "metadata": {
        "id": "aZZntN8jifKM"
      },
      "source": [
        "#### Defining Dataset"
      ]
    },
    {
      "cell_type": "code",
      "metadata": {
        "trusted": true,
        "id": "lci4Q6ZK69EQ"
      },
      "source": [
        "class MaskDataset(object):\n",
        "\n",
        "    def __init__(self, transforms, dataset_type):\n",
        "\n",
        "        self.transforms   = transforms\n",
        "        self.dataset_type = dataset_type\n",
        "\n",
        "        data_split_info = pd.read_csv('/content/drive/MyDrive/my_projects/datasets/mask_data/DatasetSplit.csv')\n",
        "        data_split_info.set_index('Unnamed: 0',inplace=True)\n",
        "        data_split_info.loc['img train:'].values\n",
        "\n",
        "        if self.dataset_type == 'train':\n",
        "          img_file_names = data_split_info.loc['img train:'].values[0]\n",
        "          annotation_file_names = data_split_info.loc['xml train:'].values[0]\n",
        "\n",
        "          img_file_names = img_file_names.replace('[','')\n",
        "          img_file_names = img_file_names.replace(']','')\n",
        "          img_file_names = img_file_names.split(',')\n",
        "          img_file_names = [item[1:-1] for item in img_file_names]\n",
        "\n",
        "          annotation_file_names = annotation_file_names.replace('[','')\n",
        "          annotation_file_names = annotation_file_names.replace(']','')\n",
        "          annotation_file_names = annotation_file_names.split(',')\n",
        "          annotation_file_names = [item[1:-1] for item in annotation_file_names]\n",
        "\n",
        "        elif self.dataset_type == 'test':\n",
        "          img_file_names = data_split_info.loc['img test:'].values[0]\n",
        "          annotation_file_names = data_split_info.loc['xml test:'].values[0]  \n",
        "\n",
        "          img_file_names = img_file_names.replace('[','')\n",
        "          img_file_names = img_file_names.replace(']','')\n",
        "          img_file_names = img_file_names.split(',')\n",
        "          img_file_names = [item[1:-1] for item in img_file_names]\n",
        "\n",
        "          annotation_file_names = annotation_file_names.replace('[','')\n",
        "          annotation_file_names = annotation_file_names.replace(']','')\n",
        "          annotation_file_names = annotation_file_names.split(',')\n",
        "          annotation_file_names = [item[1:-1] for item in annotation_file_names]\n",
        "\n",
        "        elif self.dataset_type == 'validation':\n",
        "          img_file_names = data_split_info.loc['img validation:'].values[0]\n",
        "          annotation_file_names = data_split_info.loc['xml validation:'].values[0] \n",
        "\n",
        "          img_file_names = img_file_names.replace('[','')\n",
        "          img_file_names = img_file_names.replace(']','')\n",
        "          img_file_names = img_file_names.split(',')\n",
        "          img_file_names = [item[1:-1] for item in img_file_names]\n",
        "\n",
        "          annotation_file_names = annotation_file_names.replace('[','')\n",
        "          annotation_file_names = annotation_file_names.replace(']','')\n",
        "          annotation_file_names = annotation_file_names.split(',')\n",
        "          annotation_file_names = [item[1:-1] for item in annotation_file_names]\n",
        "\n",
        "        else: \n",
        "          # load all image files, sorting them to ensure that they are aligned\n",
        "          with ZipFile('/content/drive/MyDrive/my_projects/datasets/mask_data/dataset.zip','r') as zipp:\n",
        "            all_zip_file_info = zipp.filelist\n",
        "          \n",
        "          file_names = []\n",
        "          for zip_file_info in all_zip_file_info:\n",
        "            file_names.append(zip_file_info.orig_filename)\n",
        "            \n",
        "          img_file_names = [file_name[7:] for file_name in file_names if \"images\" in file_name]\n",
        "          annotation_file_names = [file_name[12:] for file_name in file_names if \"annotations\" in file_name]\n",
        "\n",
        "        self.imgs = list(sorted(img_file_names))\n",
        "        self.labels = list(sorted(annotation_file_names))\n",
        "        \n",
        "        self.zipp = ZipFile('/content/drive/MyDrive/my_projects/datasets/mask_data/dataset.zip','r')\n",
        "\n",
        "    def __getitem__(self, idx):\n",
        "\n",
        "      # load images and masks\n",
        "      file_image = 'maksssksksss'+ str(idx) + '.png'\n",
        "      file_label = 'maksssksksss'+ str(idx) + '.xml'\n",
        "\n",
        "\n",
        "      img_raw = self.zipp.read('images/'+ file_image)\n",
        "      fh = BytesIO(img_raw)\n",
        "      img = Image.open(fh).convert(\"RGB\")\n",
        "\n",
        "      #Generate Label\n",
        "      label_file = self.zipp.read('annotations/'+ file_label)\n",
        "      target = generate_target(idx, label_file)\n",
        "\n",
        "      if self.transforms is not None:\n",
        "          img = self.transforms(img)\n",
        "\n",
        "      return img, target\n",
        "\n",
        "    def __len__(self):\n",
        "      return len(self.imgs)"
      ],
      "execution_count": 3,
      "outputs": []
    },
    {
      "cell_type": "markdown",
      "metadata": {
        "id": "aHknh8Czl2pz"
      },
      "source": [
        "### Iteration 1"
      ]
    },
    {
      "cell_type": "markdown",
      "metadata": {
        "id": "SsGy-4U8inqu"
      },
      "source": [
        "#### Defining transformations"
      ]
    },
    {
      "cell_type": "code",
      "metadata": {
        "trusted": true,
        "id": "BUPnf4m669EQ"
      },
      "source": [
        "def get_transform():\n",
        "    transf = []\n",
        "    transf.append(transforms.ToTensor())\n",
        "        \n",
        "    return transforms.Compose(transf)"
      ],
      "execution_count": 4,
      "outputs": []
    },
    {
      "cell_type": "markdown",
      "metadata": {
        "id": "4rF7YztmivCi"
      },
      "source": [
        "#### Creating train, test and validation Datasets & Data-loaders"
      ]
    },
    {
      "cell_type": "code",
      "metadata": {
        "trusted": true,
        "id": "VAjAMy7s69EQ"
      },
      "source": [
        "def collate_fn(batch):\n",
        "    return tuple(zip(*batch))\n",
        "\n",
        "dataset_train = MaskDataset(get_transform(),'train')\n",
        "data_loader_train = torch.utils.data.DataLoader(dataset_train\n",
        "                                               , batch_size=4\n",
        "                                               , collate_fn=collate_fn\n",
        "                                                )\n",
        "\n",
        "dataset_test = MaskDataset(get_transform(),'test')\n",
        "data_loader_test = torch.utils.data.DataLoader(dataset_test\n",
        "                                               , batch_size=4\n",
        "                                               , collate_fn=collate_fn\n",
        "                                               )\n",
        "\n",
        "# dataset_val = MaskDataset(get_transform(),'validation')\n",
        "# data_loader_val = torch.utils.data.DataLoader(dataset_val\n",
        "#                                                , batch_size=4\n",
        "#                                                , collate_fn=collate_fn\n",
        "#                                               )"
      ],
      "execution_count": 5,
      "outputs": []
    },
    {
      "cell_type": "markdown",
      "metadata": {
        "id": "9iPvj0Xn69ER"
      },
      "source": [
        "#### Initializing the Model"
      ]
    },
    {
      "cell_type": "code",
      "metadata": {
        "trusted": true,
        "id": "Eur9LZlp69ER"
      },
      "source": [
        "def get_model_instance_segmentation(num_classes):\n",
        "\n",
        "    # load an instance segmentation model pre-trained pre-trained on COCO\n",
        "    model = torchvision.models.detection.fasterrcnn_resnet50_fpn(pretrained=True)\n",
        "    \n",
        "    # get number of input features for the classifier\n",
        "    in_features = model.roi_heads.box_predictor.cls_score.in_features\n",
        "    \n",
        "    # replace the pre-trained head with a new one\n",
        "    model.roi_heads.box_predictor = FastRCNNPredictor(in_features, num_classes+1)\n",
        "\n",
        "    return model"
      ],
      "execution_count": 6,
      "outputs": []
    },
    {
      "cell_type": "code",
      "metadata": {
        "trusted": true,
        "id": "UvTIgE9o69ER",
        "colab": {
          "base_uri": "https://localhost:8080/",
          "height": 83,
          "referenced_widgets": [
            "f5dbb454d9c741978a0addabc3f98906",
            "32e71a3d84694953804bf960a66f2745",
            "d68661b210974c2ea6ceaa264e9ffcdf",
            "937b3825fa484da1859f862d451ac804",
            "ce9a711f524248e188618abcaf2dd9fc",
            "df038aae0f9444a48661eb599c1f896e",
            "7db18cf9870748e894a55a4edb770e4e",
            "b694d69125574fb180859699afedc66e"
          ]
        },
        "outputId": "56779ffd-deff-4676-cab3-0e9fb47fdcc6"
      },
      "source": [
        "model = get_model_instance_segmentation(3)"
      ],
      "execution_count": 7,
      "outputs": [
        {
          "output_type": "stream",
          "text": [
            "Downloading: \"https://download.pytorch.org/models/fasterrcnn_resnet50_fpn_coco-258fb6c6.pth\" to /root/.cache/torch/hub/checkpoints/fasterrcnn_resnet50_fpn_coco-258fb6c6.pth\n"
          ],
          "name": "stderr"
        },
        {
          "output_type": "display_data",
          "data": {
            "application/vnd.jupyter.widget-view+json": {
              "model_id": "f5dbb454d9c741978a0addabc3f98906",
              "version_minor": 0,
              "version_major": 2
            },
            "text/plain": [
              "HBox(children=(FloatProgress(value=0.0, max=167502836.0), HTML(value='')))"
            ]
          },
          "metadata": {
            "tags": []
          }
        },
        {
          "output_type": "stream",
          "text": [
            "\n"
          ],
          "name": "stdout"
        }
      ]
    },
    {
      "cell_type": "markdown",
      "metadata": {
        "id": "Qcwi-l6v69ER"
      },
      "source": [
        "#### Training the Model"
      ]
    },
    {
      "cell_type": "code",
      "metadata": {
        "trusted": true,
        "colab": {
          "base_uri": "https://localhost:8080/"
        },
        "id": "eJD762hL69ER",
        "outputId": "dd685414-c2f0-4bfe-9b98-7c2d78260eee"
      },
      "source": [
        "num_epochs = 30\n",
        "model.to(device)\n",
        "    \n",
        "# parameters\n",
        "params = [p for p in model.parameters() if p.requires_grad]\n",
        "optimizer = torch.optim.SGD(params\n",
        "                            , lr=0.005\n",
        "                            , momentum=0.9\n",
        "                            , weight_decay=0.0005)\n",
        "\n",
        "\n",
        "len_dataloader = len(data_loader_train)\n",
        "\n",
        "for epoch in range(num_epochs):\n",
        "    model.train()\n",
        "    i = 0    \n",
        "    epoch_loss = 0\n",
        "    for imgs, annotations in data_loader_train:\n",
        "        i += 1\n",
        "        imgs = list(img.to(device) for img in imgs)\n",
        "        annotations = [{k: v.to(device) for k, v in t.items()} for t in annotations]\n",
        "        loss_dict = model([imgs[0]], [annotations[0]])\n",
        "        losses = sum(loss for loss in loss_dict.values())        \n",
        "\n",
        "        optimizer.zero_grad()\n",
        "        losses.backward()\n",
        "        optimizer.step() \n",
        "        epoch_loss += losses\n",
        "    print(epoch_loss)"
      ],
      "execution_count": 8,
      "outputs": [
        {
          "output_type": "stream",
          "text": [
            "tensor(91.3231, device='cuda:0', grad_fn=<AddBackward0>)\n",
            "tensor(58.8527, device='cuda:0', grad_fn=<AddBackward0>)\n",
            "tensor(53.2007, device='cuda:0', grad_fn=<AddBackward0>)\n",
            "tensor(44.6149, device='cuda:0', grad_fn=<AddBackward0>)\n",
            "tensor(36.3864, device='cuda:0', grad_fn=<AddBackward0>)\n",
            "tensor(33.1807, device='cuda:0', grad_fn=<AddBackward0>)\n",
            "tensor(30.9123, device='cuda:0', grad_fn=<AddBackward0>)\n",
            "tensor(29.1342, device='cuda:0', grad_fn=<AddBackward0>)\n",
            "tensor(29.1815, device='cuda:0', grad_fn=<AddBackward0>)\n",
            "tensor(26.7716, device='cuda:0', grad_fn=<AddBackward0>)\n",
            "tensor(24.8442, device='cuda:0', grad_fn=<AddBackward0>)\n",
            "tensor(25.7469, device='cuda:0', grad_fn=<AddBackward0>)\n",
            "tensor(26.4326, device='cuda:0', grad_fn=<AddBackward0>)\n",
            "tensor(24.5147, device='cuda:0', grad_fn=<AddBackward0>)\n",
            "tensor(22.7686, device='cuda:0', grad_fn=<AddBackward0>)\n",
            "tensor(22.9110, device='cuda:0', grad_fn=<AddBackward0>)\n",
            "tensor(19.3999, device='cuda:0', grad_fn=<AddBackward0>)\n",
            "tensor(21.7586, device='cuda:0', grad_fn=<AddBackward0>)\n",
            "tensor(21.8949, device='cuda:0', grad_fn=<AddBackward0>)\n",
            "tensor(21.0588, device='cuda:0', grad_fn=<AddBackward0>)\n",
            "tensor(21.6795, device='cuda:0', grad_fn=<AddBackward0>)\n",
            "tensor(20.5861, device='cuda:0', grad_fn=<AddBackward0>)\n",
            "tensor(17.0586, device='cuda:0', grad_fn=<AddBackward0>)\n",
            "tensor(18.3712, device='cuda:0', grad_fn=<AddBackward0>)\n",
            "tensor(17.8657, device='cuda:0', grad_fn=<AddBackward0>)\n",
            "tensor(17.0017, device='cuda:0', grad_fn=<AddBackward0>)\n",
            "tensor(16.6816, device='cuda:0', grad_fn=<AddBackward0>)\n",
            "tensor(16.6245, device='cuda:0', grad_fn=<AddBackward0>)\n",
            "tensor(18.8825, device='cuda:0', grad_fn=<AddBackward0>)\n",
            "tensor(16.3262, device='cuda:0', grad_fn=<AddBackward0>)\n"
          ],
          "name": "stdout"
        }
      ]
    },
    {
      "cell_type": "markdown",
      "metadata": {
        "id": "pihI-ndRjXuO"
      },
      "source": [
        "#### Saving the model"
      ]
    },
    {
      "cell_type": "code",
      "metadata": {
        "id": "6vy_fM2CjWJK",
        "colab": {
          "base_uri": "https://localhost:8080/"
        },
        "outputId": "b459f688-ba90-4976-add0-151151769135"
      },
      "source": [
        "# save model\n",
        "torch.save(model.state_dict(),'/content/drive/MyDrive/my_projects/models/fasterr_cnn_mod_1.pt')\n",
        "model.load_state_dict(torch.load('/content/drive/MyDrive/my_projects/models/fasterr_cnn_mod_1.pt'))"
      ],
      "execution_count": 9,
      "outputs": [
        {
          "output_type": "execute_result",
          "data": {
            "text/plain": [
              "<All keys matched successfully>"
            ]
          },
          "metadata": {
            "tags": []
          },
          "execution_count": 9
        }
      ]
    },
    {
      "cell_type": "markdown",
      "metadata": {
        "id": "W3DfBCKjjrrv"
      },
      "source": [
        "#### Making Model Predictions for a sampled data batch from Test Data-Loader"
      ]
    },
    {
      "cell_type": "code",
      "metadata": {
        "trusted": true,
        "id": "DpjgHZw569ER"
      },
      "source": [
        "for imgs, annotations in data_loader_test:\n",
        "    imgs = list(img.to(device) for img in imgs)\n",
        "    annotations = [{k: v.to(device) for k, v in t.items()} for t in annotations]\n",
        "    break\n",
        "\n",
        "\n",
        "model.eval()\n",
        "model.to(device)\n",
        "preds = model(imgs)"
      ],
      "execution_count": 10,
      "outputs": []
    },
    {
      "cell_type": "markdown",
      "metadata": {
        "id": "E5SXs1QE69ER"
      },
      "source": [
        "#### Defining a function to plot images"
      ]
    },
    {
      "cell_type": "code",
      "metadata": {
        "id": "iXIMnrsDUvUM"
      },
      "source": [
        "def plot_image(img_tensor, annotation, block=True):\n",
        "  \"\"\" function to show both with-mask and without-mask instances\"\"\"\n",
        "\n",
        "  fig,ax = plt.subplots(1)\n",
        "  img = img_tensor.cpu().data\n",
        "\n",
        "  # Display the image\n",
        "  ax.imshow( np.array( img.permute(1, 2, 0) ) )\n",
        "\n",
        "  for box, label in zip( annotation[\"boxes\"], annotation[\"labels\"] ):\n",
        "    #print(\"label\",label)\n",
        "    #print(\"box\",box)\n",
        "    xmin, ymin, xmax, ymax = box\n",
        "    \n",
        "    # Create a Rectangle patch\n",
        "    if label==1:\n",
        "      rect = patches.Rectangle((xmin,ymin),(xmax-xmin),(ymax-ymin),linewidth=1,edgecolor='b',facecolor='none')\n",
        "    else:\n",
        "      rect = patches.Rectangle((xmin,ymin),(xmax-xmin),(ymax-ymin),linewidth=1,edgecolor='r',facecolor='none')\n",
        "    # Add the patch to the Axes\n",
        "    ax.add_patch(rect)\n",
        "    ax.axis(\"off\")\n",
        "  \n",
        "  plt.show(block=block)"
      ],
      "execution_count": 11,
      "outputs": []
    },
    {
      "cell_type": "markdown",
      "metadata": {
        "id": "fZBTE-6GkeXH"
      },
      "source": [
        "#### Plotting the prediction"
      ]
    },
    {
      "cell_type": "code",
      "metadata": {
        "trusted": true,
        "colab": {
          "base_uri": "https://localhost:8080/",
          "height": 373
        },
        "id": "AvOlbCkE69ER",
        "outputId": "39142f1d-8e13-4bcd-922c-7154441b5305"
      },
      "source": [
        "print(\"\\n Prediction: \")\n",
        "plot_image(imgs[1], preds[1])\n",
        "print(\"\\n Target: \")\n",
        "plot_image(imgs[1], annotations[1])"
      ],
      "execution_count": 12,
      "outputs": [
        {
          "output_type": "stream",
          "text": [
            "\n",
            " Prediction: \n"
          ],
          "name": "stdout"
        },
        {
          "output_type": "display_data",
          "data": {
            "image/png": "[encoded data removed]",
            "text/plain": [
              "<Figure size 432x288 with 1 Axes>"
            ]
          },
          "metadata": {
            "tags": [],
            "needs_background": "light"
          }
        },
        {
          "output_type": "stream",
          "text": [
            "\n",
            " Target: \n"
          ],
          "name": "stdout"
        },
        {
          "output_type": "display_data",
          "data": {
            "image/png": "[encoded data removed]",
            "text/plain": [
              "<Figure size 432x288 with 1 Axes>"
            ]
          },
          "metadata": {
            "tags": [],
            "needs_background": "light"
          }
        }
      ]
    },
    {
      "cell_type": "markdown",
      "metadata": {
        "id": "2BSljYbklFWX"
      },
      "source": [
        "#### Computing mAP of the model for the Test set"
      ]
    },
    {
      "cell_type": "code",
      "metadata": {
        "id": "10RMKGvdlE9J"
      },
      "source": [
        "# create metric_fn\n",
        "metric_fn = MetricBuilder.build_evaluation_metric(\"map_2d\", async_mode=True, num_classes=3)\n",
        "\n",
        "for imgs, annos in data_loader_test:\n",
        "\n",
        "    imgs = list(img.to(device) for img in imgs)\n",
        "    preds_batch = model(imgs)\n",
        "    anno_batch = [{k: v.to(device) for k, v in t.items()} for t in annos]\n",
        "    \n",
        "    for preds, annotations in zip(preds_batch, anno_batch):\n",
        "      if preds['boxes'].shape[0] > 0:\n",
        "        temp_preds = torch.cat((preds['boxes'].T,preds['labels'].reshape(-1,preds['labels'].shape[0]),preds['scores'].reshape(-1,preds['scores'].shape[0])),0).T.detach().cpu().numpy()\n",
        "      else:\n",
        "        temp_preds = np.zeros((preds['boxes'].shape[1],6)) # in case if no prediction is made - make a random prediction\n",
        "        \n",
        "      temp_annotations = torch.cat((annotations['boxes'].T,annotations['labels'].reshape(-1,annotations['labels'].shape[0])),0).T.detach().cpu().numpy()\n",
        "      temp_target = np.hstack((temp_annotations,np.zeros((temp_annotations.shape[0],2))))\n",
        "\n",
        "      metric_fn.add(temp_preds, temp_target)"
      ],
      "execution_count": 13,
      "outputs": []
    },
    {
      "cell_type": "code",
      "metadata": {
        "id": "Z9jnWBBslEq4",
        "colab": {
          "base_uri": "https://localhost:8080/"
        },
        "outputId": "86472811-25ac-4997-d665-40d698be524a"
      },
      "source": [
        "# compute PASCAL VOC metric\n",
        "print(f\"VOC PASCAL mAP: {metric_fn.value(iou_thresholds=0.5, recall_thresholds=np.arange(0., 1.1, 0.1))['mAP']}\")\n",
        "\n",
        "# compute PASCAL VOC metric at the all points\n",
        "print(f\"VOC PASCAL mAP in all points: {metric_fn.value(iou_thresholds=0.5)['mAP']}\")\n",
        "\n",
        "# compute metric COCO metric\n",
        "print(f\"COCO mAP: {metric_fn.value(iou_thresholds=np.arange(0.5, 1.0, 0.05), recall_thresholds=np.arange(0., 1.01, 0.01), mpolicy='soft')['mAP']}\")\n",
        "\n",
        "del (data_loader_test,data_loader_train,dataset_test,dataset_train,model)\n",
        "torch.cuda.empty_cache()"
      ],
      "execution_count": 14,
      "outputs": [
        {
          "output_type": "stream",
          "text": [
            "VOC PASCAL mAP: 0.5984109044075012\n",
            "VOC PASCAL mAP in all points: 0.6239367127418518\n",
            "COCO mAP: 0.4374750256538391\n"
          ],
          "name": "stdout"
        }
      ]
    },
    {
      "cell_type": "markdown",
      "metadata": {
        "id": "wYx3if1H69ER"
      },
      "source": [
        "### Iteration 2: Tuning further for higher mAP"
      ]
    },
    {
      "cell_type": "markdown",
      "metadata": {
        "id": "A6b53WVymxg1"
      },
      "source": [
        "- Apply transformations\n",
        "- Use learning rate finder"
      ]
    },
    {
      "cell_type": "markdown",
      "metadata": {
        "id": "FWi783wIkvWR"
      },
      "source": [
        "#### Define new model and transform function"
      ]
    },
    {
      "cell_type": "code",
      "metadata": {
        "id": "AfkZ01Uiy-g-"
      },
      "source": [
        "class MaskDataset(object):\n",
        "\n",
        "    def __init__(self, transforms, dataset_type):\n",
        "\n",
        "        self.transforms   = transforms\n",
        "        self.dataset_type = dataset_type\n",
        "\n",
        "        data_split_info = pd.read_csv('/content/drive/MyDrive/my_projects/datasets/mask_data/DatasetSplit.csv')\n",
        "        data_split_info.set_index('Unnamed: 0',inplace=True)\n",
        "        data_split_info.loc['img train:'].values\n",
        "\n",
        "        if self.dataset_type == 'train':\n",
        "          img_file_names = data_split_info.loc['img train:'].values[0]\n",
        "          annotation_file_names = data_split_info.loc['xml train:'].values[0]\n",
        "\n",
        "          img_file_names = img_file_names.replace('[','')\n",
        "          img_file_names = img_file_names.replace(']','')\n",
        "          img_file_names = img_file_names.split(',')\n",
        "          img_file_names = [item[1:-1] for item in img_file_names]\n",
        "\n",
        "          annotation_file_names = annotation_file_names.replace('[','')\n",
        "          annotation_file_names = annotation_file_names.replace(']','')\n",
        "          annotation_file_names = annotation_file_names.split(',')\n",
        "          annotation_file_names = [item[1:-1] for item in annotation_file_names]\n",
        "\n",
        "        elif self.dataset_type == 'test':\n",
        "          img_file_names = data_split_info.loc['img test:'].values[0]\n",
        "          annotation_file_names = data_split_info.loc['xml test:'].values[0]  \n",
        "\n",
        "          img_file_names = img_file_names.replace('[','')\n",
        "          img_file_names = img_file_names.replace(']','')\n",
        "          img_file_names = img_file_names.split(',')\n",
        "          img_file_names = [item[1:-1] for item in img_file_names]\n",
        "\n",
        "          annotation_file_names = annotation_file_names.replace('[','')\n",
        "          annotation_file_names = annotation_file_names.replace(']','')\n",
        "          annotation_file_names = annotation_file_names.split(',')\n",
        "          annotation_file_names = [item[1:-1] for item in annotation_file_names]\n",
        "\n",
        "        elif self.dataset_type == 'validation':\n",
        "          img_file_names = data_split_info.loc['img validation:'].values[0]\n",
        "          annotation_file_names = data_split_info.loc['xml validation:'].values[0] \n",
        "\n",
        "          img_file_names = img_file_names.replace('[','')\n",
        "          img_file_names = img_file_names.replace(']','')\n",
        "          img_file_names = img_file_names.split(',')\n",
        "          img_file_names = [item[1:-1] for item in img_file_names]\n",
        "\n",
        "          annotation_file_names = annotation_file_names.replace('[','')\n",
        "          annotation_file_names = annotation_file_names.replace(']','')\n",
        "          annotation_file_names = annotation_file_names.split(',')\n",
        "          annotation_file_names = [item[1:-1] for item in annotation_file_names]\n",
        "\n",
        "        else: \n",
        "          # load all image files, sorting them to ensure that they are aligned\n",
        "          with ZipFile('/content/drive/MyDrive/my_projects/datasets/mask_data/dataset.zip','r') as zipp:\n",
        "            all_zip_file_info = zipp.filelist\n",
        "          \n",
        "          file_names = []\n",
        "          for zip_file_info in all_zip_file_info:\n",
        "            file_names.append(zip_file_info.orig_filename)\n",
        "            \n",
        "          img_file_names = [file_name[7:] for file_name in file_names if \"images\" in file_name]\n",
        "          annotation_file_names = [file_name[12:] for file_name in file_names if \"annotations\" in file_name]\n",
        "\n",
        "        self.imgs = list(sorted(img_file_names))\n",
        "        self.labels = list(sorted(annotation_file_names))\n",
        "        \n",
        "        self.zipp = ZipFile('/content/drive/MyDrive/my_projects/datasets/mask_data/dataset.zip','r')\n",
        "\n",
        "    def __getitem__(self, idx):\n",
        "\n",
        "      # load images and masks\n",
        "      file_image = 'maksssksksss'+ str(idx) + '.png'\n",
        "      file_label = 'maksssksksss'+ str(idx) + '.xml'\n",
        "\n",
        "\n",
        "      img_raw = self.zipp.read('images/'+ file_image)\n",
        "      fh = BytesIO(img_raw)\n",
        "      img = Image.open(fh).convert(\"RGB\")\n",
        "\n",
        "      #Generate Label\n",
        "      label_file = self.zipp.read('annotations/'+ file_label)\n",
        "\n",
        "      #target = generate_target(idx, label_path)\n",
        "      target = generate_target(idx, label_file)\n",
        "\n",
        "      if self.transforms is not None:\n",
        "          img, target = self.transforms(img, target)\n",
        "\n",
        "      return img, target\n",
        "\n",
        "    def __len__(self):\n",
        "      return len(self.imgs)"
      ],
      "execution_count": 15,
      "outputs": []
    },
    {
      "cell_type": "code",
      "metadata": {
        "id": "e84GW0XX03bB"
      },
      "source": [
        "import transforms as T\n",
        "\n",
        "def get_transform(train=False):\n",
        "    transf = []\n",
        "    transf.append(T.ToTensor())\n",
        "    \n",
        "    if train:\n",
        "        transf.append(T.RandomHorizontalFlip(0.5))\n",
        "        \n",
        "    return T.Compose(transf)"
      ],
      "execution_count": 18,
      "outputs": []
    },
    {
      "cell_type": "code",
      "metadata": {
        "id": "3qzuBdET14Kp"
      },
      "source": [
        "dataset_train = MaskDataset(get_transform(train=True),'train')\n",
        "data_loader_train = torch.utils.data.DataLoader(dataset_train\n",
        "                                               , batch_size=4\n",
        "                                               , shuffle = True\n",
        "                                               , collate_fn=utils.collate_fn\n",
        "                                                )\n",
        "\n",
        "dataset_test = MaskDataset(get_transform(),'test')\n",
        "data_loader_test = torch.utils.data.DataLoader(dataset_test\n",
        "                                               , batch_size=4\n",
        "                                               , collate_fn=utils.collate_fn\n",
        "                                               )\n",
        "\n",
        "# dataset_val = MaskDataset(get_transform(),'validation')\n",
        "# data_loader_val = torch.utils.data.DataLoader(dataset_val\n",
        "#                                                , batch_size=4\n",
        "#                                                , collate_fn=collate_fn\n",
        "#                                               )"
      ],
      "execution_count": 20,
      "outputs": []
    },
    {
      "cell_type": "code",
      "metadata": {
        "id": "Fcw5UNPW2PVj"
      },
      "source": [
        "def get_model_instance_segmentation(num_classes):\n",
        "\n",
        "    # load an instance segmentation model pre-trained pre-trained on COCO\n",
        "    model = torchvision.models.detection.fasterrcnn_resnet50_fpn(pretrained=True)\n",
        "    \n",
        "    # get number of input features for the classifier\n",
        "    in_features = model.roi_heads.box_predictor.cls_score.in_features\n",
        "    \n",
        "    # replace the pre-trained head with a new one\n",
        "    model.roi_heads.box_predictor = FastRCNNPredictor(in_features, num_classes+1)\n",
        "\n",
        "    return model"
      ],
      "execution_count": 21,
      "outputs": []
    },
    {
      "cell_type": "code",
      "metadata": {
        "id": "6cscI5Rq2Wwq"
      },
      "source": [
        "model_2 = get_model_instance_segmentation(3)"
      ],
      "execution_count": 22,
      "outputs": []
    },
    {
      "cell_type": "code",
      "metadata": {
        "colab": {
          "base_uri": "https://localhost:8080/"
        },
        "id": "sqGr2TUR2azP",
        "outputId": "707fad22-6225-4a56-b5c3-43e7d19b5be2"
      },
      "source": [
        "num_epochs = 30\n",
        "model_2.to(device)\n",
        "    \n",
        "# parameters\n",
        "params = [p for p in model_2.parameters() if p.requires_grad]\n",
        "optimizer = torch.optim.SGD(params\n",
        "                            , lr=0.005\n",
        "                            , momentum=0.9\n",
        "                            , weight_decay=0.0005)\n",
        "\n",
        "\n",
        "# # and a learning rate scheduler\n",
        "lr_scheduler = torch.optim.lr_scheduler.StepLR(optimizer,\n",
        "                                                step_size=3,\n",
        "                                                gamma=0.1)\n",
        "\n",
        "len_dataloader = len(data_loader_train)\n",
        "\n",
        "for epoch in range(num_epochs):\n",
        "\n",
        "    # train for one epoch, printing every 10 iterations\n",
        "    train_one_epoch(model_2, optimizer, data_loader_train, device, epoch, print_freq=50)\n",
        "    # update the learning rate\n",
        "    lr_scheduler.step()\n"
      ],
      "execution_count": 23,
      "outputs": [
        {
          "output_type": "stream",
          "text": [
            "Epoch: [0]  [  0/171]  eta: 0:04:02  lr: 0.000034  loss: 1.9961 (1.9961)  loss_classifier: 1.7764 (1.7764)  loss_box_reg: 0.1465 (0.1465)  loss_objectness: 0.0640 (0.0640)  loss_rpn_box_reg: 0.0092 (0.0092)  time: 1.4157  data: 0.1109  max mem: 12455\n",
            "Epoch: [0]  [ 50/171]  eta: 0:03:17  lr: 0.001503  loss: 0.7234 (0.9127)  loss_classifier: 0.2569 (0.5289)  loss_box_reg: 0.3520 (0.2807)  loss_objectness: 0.0329 (0.0783)  loss_rpn_box_reg: 0.0107 (0.0248)  time: 1.6108  data: 0.1014  max mem: 12455\n",
            "Epoch: [0]  [100/171]  eta: 0:01:56  lr: 0.002973  loss: 0.4045 (0.6943)  loss_classifier: 0.1261 (0.3398)  loss_box_reg: 0.2461 (0.2818)  loss_objectness: 0.0109 (0.0526)  loss_rpn_box_reg: 0.0109 (0.0201)  time: 1.6143  data: 0.1055  max mem: 12455\n",
            "Epoch: [0]  [150/171]  eta: 0:00:34  lr: 0.004442  loss: 0.3604 (0.5990)  loss_classifier: 0.1267 (0.2737)  loss_box_reg: 0.2129 (0.2686)  loss_objectness: 0.0066 (0.0390)  loss_rpn_box_reg: 0.0050 (0.0176)  time: 1.6428  data: 0.0923  max mem: 12455\n",
            "Epoch: [0]  [170/171]  eta: 0:00:01  lr: 0.005000  loss: 0.3427 (0.5720)  loss_classifier: 0.1014 (0.2563)  loss_box_reg: 0.2194 (0.2636)  loss_objectness: 0.0072 (0.0354)  loss_rpn_box_reg: 0.0068 (0.0167)  time: 1.6501  data: 0.1040  max mem: 12455\n",
            "Epoch: [0] Total time: 0:04:40 (1.6383 s / it)\n",
            "Epoch: [1]  [  0/171]  eta: 0:03:53  lr: 0.005000  loss: 0.4474 (0.4474)  loss_classifier: 0.1232 (0.1232)  loss_box_reg: 0.3095 (0.3095)  loss_objectness: 0.0046 (0.0046)  loss_rpn_box_reg: 0.0100 (0.0100)  time: 1.3629  data: 0.0943  max mem: 12455\n",
            "Epoch: [1]  [ 50/171]  eta: 0:03:17  lr: 0.005000  loss: 0.3310 (0.3411)  loss_classifier: 0.1055 (0.1091)  loss_box_reg: 0.1913 (0.2081)  loss_objectness: 0.0079 (0.0108)  loss_rpn_box_reg: 0.0077 (0.0131)  time: 1.6224  data: 0.0947  max mem: 12455\n",
            "Epoch: [1]  [100/171]  eta: 0:01:53  lr: 0.005000  loss: 0.1968 (0.3191)  loss_classifier: 0.0576 (0.1021)  loss_box_reg: 0.1442 (0.1975)  loss_objectness: 0.0030 (0.0090)  loss_rpn_box_reg: 0.0027 (0.0105)  time: 1.6186  data: 0.0937  max mem: 12455\n",
            "Epoch: [1]  [150/171]  eta: 0:00:34  lr: 0.005000  loss: 0.2821 (0.3236)  loss_classifier: 0.0825 (0.1048)  loss_box_reg: 0.1893 (0.2005)  loss_objectness: 0.0022 (0.0085)  loss_rpn_box_reg: 0.0057 (0.0098)  time: 1.6031  data: 0.0976  max mem: 12455\n",
            "Epoch: [1]  [170/171]  eta: 0:00:01  lr: 0.005000  loss: 0.2581 (0.3180)  loss_classifier: 0.0937 (0.1030)  loss_box_reg: 0.1647 (0.1972)  loss_objectness: 0.0031 (0.0082)  loss_rpn_box_reg: 0.0046 (0.0096)  time: 1.6366  data: 0.0984  max mem: 12455\n",
            "Epoch: [1] Total time: 0:04:37 (1.6252 s / it)\n",
            "Epoch: [2]  [  0/171]  eta: 0:03:43  lr: 0.005000  loss: 0.4095 (0.4095)  loss_classifier: 0.1181 (0.1181)  loss_box_reg: 0.2756 (0.2756)  loss_objectness: 0.0089 (0.0089)  loss_rpn_box_reg: 0.0068 (0.0068)  time: 1.3042  data: 0.0987  max mem: 12455\n",
            "Epoch: [2]  [ 50/171]  eta: 0:03:13  lr: 0.005000  loss: 0.2627 (0.2950)  loss_classifier: 0.0879 (0.0961)  loss_box_reg: 0.1614 (0.1834)  loss_objectness: 0.0040 (0.0047)  loss_rpn_box_reg: 0.0074 (0.0109)  time: 1.6232  data: 0.1009  max mem: 12455\n",
            "Epoch: [2]  [100/171]  eta: 0:01:53  lr: 0.005000  loss: 0.1877 (0.2731)  loss_classifier: 0.0821 (0.0871)  loss_box_reg: 0.1165 (0.1733)  loss_objectness: 0.0026 (0.0043)  loss_rpn_box_reg: 0.0024 (0.0085)  time: 1.6551  data: 0.0974  max mem: 12455\n",
            "Epoch: [2]  [150/171]  eta: 0:00:33  lr: 0.005000  loss: 0.2474 (0.2688)  loss_classifier: 0.0751 (0.0863)  loss_box_reg: 0.1718 (0.1699)  loss_objectness: 0.0016 (0.0044)  loss_rpn_box_reg: 0.0043 (0.0082)  time: 1.6581  data: 0.1089  max mem: 12455\n",
            "Epoch: [2]  [170/171]  eta: 0:00:01  lr: 0.005000  loss: 0.2166 (0.2649)  loss_classifier: 0.0579 (0.0851)  loss_box_reg: 0.1457 (0.1674)  loss_objectness: 0.0021 (0.0044)  loss_rpn_box_reg: 0.0042 (0.0080)  time: 1.6439  data: 0.0982  max mem: 12455\n",
            "Epoch: [2] Total time: 0:04:35 (1.6124 s / it)\n",
            "Epoch: [3]  [  0/171]  eta: 0:04:51  lr: 0.000500  loss: 0.3319 (0.3319)  loss_classifier: 0.1145 (0.1145)  loss_box_reg: 0.2092 (0.2092)  loss_objectness: 0.0024 (0.0024)  loss_rpn_box_reg: 0.0058 (0.0058)  time: 1.7024  data: 0.0749  max mem: 12455\n",
            "Epoch: [3]  [ 50/171]  eta: 0:03:14  lr: 0.000500  loss: 0.1774 (0.2384)  loss_classifier: 0.0660 (0.0790)  loss_box_reg: 0.1060 (0.1471)  loss_objectness: 0.0009 (0.0035)  loss_rpn_box_reg: 0.0038 (0.0088)  time: 1.5947  data: 0.0975  max mem: 12455\n",
            "Epoch: [3]  [100/171]  eta: 0:01:55  lr: 0.000500  loss: 0.1579 (0.2147)  loss_classifier: 0.0562 (0.0715)  loss_box_reg: 0.0997 (0.1344)  loss_objectness: 0.0012 (0.0025)  loss_rpn_box_reg: 0.0032 (0.0062)  time: 1.6612  data: 0.1051  max mem: 12455\n",
            "Epoch: [3]  [150/171]  eta: 0:00:34  lr: 0.000500  loss: 0.1930 (0.2162)  loss_classifier: 0.0669 (0.0722)  loss_box_reg: 0.1342 (0.1350)  loss_objectness: 0.0011 (0.0028)  loss_rpn_box_reg: 0.0035 (0.0062)  time: 1.5523  data: 0.1003  max mem: 12455\n",
            "Epoch: [3]  [170/171]  eta: 0:00:01  lr: 0.000500  loss: 0.2255 (0.2182)  loss_classifier: 0.0727 (0.0728)  loss_box_reg: 0.1266 (0.1365)  loss_objectness: 0.0023 (0.0028)  loss_rpn_box_reg: 0.0044 (0.0062)  time: 1.6490  data: 0.1014  max mem: 12455\n",
            "Epoch: [3] Total time: 0:04:38 (1.6264 s / it)\n",
            "Epoch: [4]  [  0/171]  eta: 0:04:28  lr: 0.000500  loss: 0.1065 (0.1065)  loss_classifier: 0.0284 (0.0284)  loss_box_reg: 0.0743 (0.0743)  loss_objectness: 0.0021 (0.0021)  loss_rpn_box_reg: 0.0018 (0.0018)  time: 1.5715  data: 0.0843  max mem: 12455\n",
            "Epoch: [4]  [ 50/171]  eta: 0:03:19  lr: 0.000500  loss: 0.1842 (0.1957)  loss_classifier: 0.0646 (0.0655)  loss_box_reg: 0.1320 (0.1233)  loss_objectness: 0.0009 (0.0022)  loss_rpn_box_reg: 0.0032 (0.0047)  time: 1.6290  data: 0.1081  max mem: 12455\n",
            "Epoch: [4]  [100/171]  eta: 0:01:56  lr: 0.000500  loss: 0.1848 (0.1943)  loss_classifier: 0.0543 (0.0632)  loss_box_reg: 0.1164 (0.1237)  loss_objectness: 0.0013 (0.0025)  loss_rpn_box_reg: 0.0033 (0.0050)  time: 1.6675  data: 0.1090  max mem: 12455\n",
            "Epoch: [4]  [150/171]  eta: 0:00:34  lr: 0.000500  loss: 0.2181 (0.2074)  loss_classifier: 0.0706 (0.0682)  loss_box_reg: 0.1399 (0.1308)  loss_objectness: 0.0010 (0.0026)  loss_rpn_box_reg: 0.0030 (0.0059)  time: 1.6649  data: 0.1060  max mem: 12455\n",
            "Epoch: [4]  [170/171]  eta: 0:00:01  lr: 0.000500  loss: 0.2074 (0.2085)  loss_classifier: 0.0599 (0.0685)  loss_box_reg: 0.1167 (0.1316)  loss_objectness: 0.0012 (0.0026)  loss_rpn_box_reg: 0.0044 (0.0059)  time: 1.5188  data: 0.1093  max mem: 12455\n",
            "Epoch: [4] Total time: 0:04:36 (1.6181 s / it)\n",
            "Epoch: [5]  [  0/171]  eta: 0:04:57  lr: 0.000500  loss: 0.2197 (0.2197)  loss_classifier: 0.0702 (0.0702)  loss_box_reg: 0.1432 (0.1432)  loss_objectness: 0.0009 (0.0009)  loss_rpn_box_reg: 0.0054 (0.0054)  time: 1.7389  data: 0.1078  max mem: 12455\n",
            "Epoch: [5]  [ 50/171]  eta: 0:03:18  lr: 0.000500  loss: 0.1904 (0.1997)  loss_classifier: 0.0685 (0.0665)  loss_box_reg: 0.1208 (0.1252)  loss_objectness: 0.0012 (0.0024)  loss_rpn_box_reg: 0.0031 (0.0056)  time: 1.6146  data: 0.1031  max mem: 12455\n",
            "Epoch: [5]  [100/171]  eta: 0:01:56  lr: 0.000500  loss: 0.1869 (0.1993)  loss_classifier: 0.0555 (0.0657)  loss_box_reg: 0.1161 (0.1263)  loss_objectness: 0.0004 (0.0022)  loss_rpn_box_reg: 0.0027 (0.0052)  time: 1.6355  data: 0.1012  max mem: 12455\n",
            "Epoch: [5]  [150/171]  eta: 0:00:34  lr: 0.000500  loss: 0.1631 (0.1976)  loss_classifier: 0.0537 (0.0651)  loss_box_reg: 0.1126 (0.1248)  loss_objectness: 0.0010 (0.0020)  loss_rpn_box_reg: 0.0032 (0.0057)  time: 1.6911  data: 0.1065  max mem: 12455\n",
            "Epoch: [5]  [170/171]  eta: 0:00:01  lr: 0.000500  loss: 0.2300 (0.2013)  loss_classifier: 0.0666 (0.0663)  loss_box_reg: 0.1366 (0.1272)  loss_objectness: 0.0007 (0.0021)  loss_rpn_box_reg: 0.0051 (0.0057)  time: 1.5750  data: 0.1004  max mem: 12455\n",
            "Epoch: [5] Total time: 0:04:41 (1.6473 s / it)\n",
            "Epoch: [6]  [  0/171]  eta: 0:04:58  lr: 0.000050  loss: 0.2232 (0.2232)  loss_classifier: 0.0874 (0.0874)  loss_box_reg: 0.1302 (0.1302)  loss_objectness: 0.0007 (0.0007)  loss_rpn_box_reg: 0.0049 (0.0049)  time: 1.7442  data: 0.1082  max mem: 12455\n",
            "Epoch: [6]  [ 50/171]  eta: 0:03:19  lr: 0.000050  loss: 0.2076 (0.1924)  loss_classifier: 0.0641 (0.0616)  loss_box_reg: 0.1230 (0.1224)  loss_objectness: 0.0017 (0.0022)  loss_rpn_box_reg: 0.0033 (0.0062)  time: 1.6263  data: 0.1151  max mem: 12455\n",
            "Epoch: [6]  [100/171]  eta: 0:01:57  lr: 0.000050  loss: 0.1962 (0.1916)  loss_classifier: 0.0608 (0.0632)  loss_box_reg: 0.1188 (0.1211)  loss_objectness: 0.0008 (0.0021)  loss_rpn_box_reg: 0.0028 (0.0052)  time: 1.6602  data: 0.1039  max mem: 12455\n",
            "Epoch: [6]  [150/171]  eta: 0:00:34  lr: 0.000050  loss: 0.1848 (0.1921)  loss_classifier: 0.0664 (0.0623)  loss_box_reg: 0.1277 (0.1220)  loss_objectness: 0.0005 (0.0023)  loss_rpn_box_reg: 0.0029 (0.0055)  time: 1.6513  data: 0.1087  max mem: 12455\n",
            "Epoch: [6]  [170/171]  eta: 0:00:01  lr: 0.000050  loss: 0.1798 (0.1948)  loss_classifier: 0.0570 (0.0635)  loss_box_reg: 0.1164 (0.1235)  loss_objectness: 0.0011 (0.0023)  loss_rpn_box_reg: 0.0037 (0.0054)  time: 1.6307  data: 0.0962  max mem: 12455\n",
            "Epoch: [6] Total time: 0:04:42 (1.6494 s / it)\n",
            "Epoch: [7]  [  0/171]  eta: 0:05:31  lr: 0.000050  loss: 0.3047 (0.3047)  loss_classifier: 0.1143 (0.1143)  loss_box_reg: 0.1809 (0.1809)  loss_objectness: 0.0025 (0.0025)  loss_rpn_box_reg: 0.0070 (0.0070)  time: 1.9364  data: 0.1091  max mem: 12455\n",
            "Epoch: [7]  [ 50/171]  eta: 0:03:17  lr: 0.000050  loss: 0.1928 (0.2002)  loss_classifier: 0.0558 (0.0665)  loss_box_reg: 0.1184 (0.1268)  loss_objectness: 0.0010 (0.0024)  loss_rpn_box_reg: 0.0028 (0.0046)  time: 1.6884  data: 0.1110  max mem: 12455\n",
            "Epoch: [7]  [100/171]  eta: 0:01:56  lr: 0.000050  loss: 0.1827 (0.1963)  loss_classifier: 0.0534 (0.0642)  loss_box_reg: 0.1107 (0.1240)  loss_objectness: 0.0010 (0.0023)  loss_rpn_box_reg: 0.0032 (0.0058)  time: 1.6358  data: 0.0915  max mem: 12455\n",
            "Epoch: [7]  [150/171]  eta: 0:00:34  lr: 0.000050  loss: 0.2048 (0.1972)  loss_classifier: 0.0664 (0.0644)  loss_box_reg: 0.1297 (0.1250)  loss_objectness: 0.0018 (0.0024)  loss_rpn_box_reg: 0.0043 (0.0055)  time: 1.6064  data: 0.1048  max mem: 12455\n",
            "Epoch: [7]  [170/171]  eta: 0:00:01  lr: 0.000050  loss: 0.1543 (0.1962)  loss_classifier: 0.0560 (0.0641)  loss_box_reg: 0.0965 (0.1244)  loss_objectness: 0.0015 (0.0023)  loss_rpn_box_reg: 0.0025 (0.0054)  time: 1.6714  data: 0.0999  max mem: 12455\n",
            "Epoch: [7] Total time: 0:04:38 (1.6282 s / it)\n",
            "Epoch: [8]  [  0/171]  eta: 0:04:45  lr: 0.000050  loss: 0.0987 (0.0987)  loss_classifier: 0.0442 (0.0442)  loss_box_reg: 0.0534 (0.0534)  loss_objectness: 0.0004 (0.0004)  loss_rpn_box_reg: 0.0007 (0.0007)  time: 1.6684  data: 0.1132  max mem: 12455\n",
            "Epoch: [8]  [ 50/171]  eta: 0:03:13  lr: 0.000050  loss: 0.2132 (0.1886)  loss_classifier: 0.0609 (0.0625)  loss_box_reg: 0.1443 (0.1198)  loss_objectness: 0.0010 (0.0018)  loss_rpn_box_reg: 0.0035 (0.0044)  time: 1.6477  data: 0.1084  max mem: 12455\n",
            "Epoch: [8]  [100/171]  eta: 0:01:55  lr: 0.000050  loss: 0.1915 (0.1949)  loss_classifier: 0.0649 (0.0641)  loss_box_reg: 0.1294 (0.1238)  loss_objectness: 0.0014 (0.0021)  loss_rpn_box_reg: 0.0047 (0.0050)  time: 1.6558  data: 0.1087  max mem: 12455\n",
            "Epoch: [8]  [150/171]  eta: 0:00:34  lr: 0.000050  loss: 0.1845 (0.1918)  loss_classifier: 0.0593 (0.0633)  loss_box_reg: 0.1159 (0.1213)  loss_objectness: 0.0007 (0.0021)  loss_rpn_box_reg: 0.0027 (0.0052)  time: 1.6157  data: 0.1102  max mem: 12455\n",
            "Epoch: [8]  [170/171]  eta: 0:00:01  lr: 0.000050  loss: 0.1886 (0.1946)  loss_classifier: 0.0574 (0.0642)  loss_box_reg: 0.1173 (0.1228)  loss_objectness: 0.0030 (0.0022)  loss_rpn_box_reg: 0.0047 (0.0054)  time: 1.5885  data: 0.1015  max mem: 12455\n",
            "Epoch: [8] Total time: 0:04:38 (1.6275 s / it)\n",
            "Epoch: [9]  [  0/171]  eta: 0:04:54  lr: 0.000005  loss: 0.1995 (0.1995)  loss_classifier: 0.0650 (0.0650)  loss_box_reg: 0.1264 (0.1264)  loss_objectness: 0.0021 (0.0021)  loss_rpn_box_reg: 0.0060 (0.0060)  time: 1.7243  data: 0.0840  max mem: 12455\n",
            "Epoch: [9]  [ 50/171]  eta: 0:03:18  lr: 0.000005  loss: 0.1599 (0.1930)  loss_classifier: 0.0456 (0.0631)  loss_box_reg: 0.1028 (0.1227)  loss_objectness: 0.0005 (0.0021)  loss_rpn_box_reg: 0.0034 (0.0051)  time: 1.6433  data: 0.1068  max mem: 12455\n",
            "Epoch: [9]  [100/171]  eta: 0:01:55  lr: 0.000005  loss: 0.1503 (0.1885)  loss_classifier: 0.0576 (0.0615)  loss_box_reg: 0.0981 (0.1205)  loss_objectness: 0.0011 (0.0020)  loss_rpn_box_reg: 0.0025 (0.0046)  time: 1.6530  data: 0.1025  max mem: 12455\n",
            "Epoch: [9]  [150/171]  eta: 0:00:34  lr: 0.000005  loss: 0.2010 (0.1905)  loss_classifier: 0.0682 (0.0626)  loss_box_reg: 0.1267 (0.1208)  loss_objectness: 0.0007 (0.0020)  loss_rpn_box_reg: 0.0043 (0.0051)  time: 1.6573  data: 0.1015  max mem: 12455\n",
            "Epoch: [9]  [170/171]  eta: 0:00:01  lr: 0.000005  loss: 0.1999 (0.1943)  loss_classifier: 0.0708 (0.0639)  loss_box_reg: 0.1191 (0.1229)  loss_objectness: 0.0010 (0.0022)  loss_rpn_box_reg: 0.0031 (0.0053)  time: 1.5608  data: 0.1018  max mem: 12455\n",
            "Epoch: [9] Total time: 0:04:38 (1.6294 s / it)\n",
            "Epoch: [10]  [  0/171]  eta: 0:03:55  lr: 0.000005  loss: 0.1555 (0.1555)  loss_classifier: 0.0457 (0.0457)  loss_box_reg: 0.0987 (0.0987)  loss_objectness: 0.0049 (0.0049)  loss_rpn_box_reg: 0.0062 (0.0062)  time: 1.3773  data: 0.1076  max mem: 12455\n",
            "Epoch: [10]  [ 50/171]  eta: 0:03:14  lr: 0.000005  loss: 0.1662 (0.1913)  loss_classifier: 0.0548 (0.0634)  loss_box_reg: 0.1084 (0.1196)  loss_objectness: 0.0008 (0.0021)  loss_rpn_box_reg: 0.0027 (0.0062)  time: 1.6326  data: 0.1000  max mem: 12455\n",
            "Epoch: [10]  [100/171]  eta: 0:01:56  lr: 0.000005  loss: 0.1749 (0.1944)  loss_classifier: 0.0534 (0.0647)  loss_box_reg: 0.1209 (0.1211)  loss_objectness: 0.0006 (0.0024)  loss_rpn_box_reg: 0.0038 (0.0062)  time: 1.7077  data: 0.0995  max mem: 12455\n",
            "Epoch: [10]  [150/171]  eta: 0:00:34  lr: 0.000005  loss: 0.1782 (0.1938)  loss_classifier: 0.0541 (0.0639)  loss_box_reg: 0.1140 (0.1222)  loss_objectness: 0.0012 (0.0022)  loss_rpn_box_reg: 0.0029 (0.0055)  time: 1.6627  data: 0.0919  max mem: 12455\n",
            "Epoch: [10]  [170/171]  eta: 0:00:01  lr: 0.000005  loss: 0.1759 (0.1950)  loss_classifier: 0.0574 (0.0644)  loss_box_reg: 0.1114 (0.1232)  loss_objectness: 0.0011 (0.0021)  loss_rpn_box_reg: 0.0036 (0.0054)  time: 1.6151  data: 0.1025  max mem: 12455\n",
            "Epoch: [10] Total time: 0:04:40 (1.6407 s / it)\n",
            "Epoch: [11]  [  0/171]  eta: 0:03:37  lr: 0.000005  loss: 0.2075 (0.2075)  loss_classifier: 0.0588 (0.0588)  loss_box_reg: 0.1438 (0.1438)  loss_objectness: 0.0010 (0.0010)  loss_rpn_box_reg: 0.0039 (0.0039)  time: 1.2746  data: 0.1137  max mem: 12455\n",
            "Epoch: [11]  [ 50/171]  eta: 0:03:11  lr: 0.000005  loss: 0.1844 (0.2056)  loss_classifier: 0.0603 (0.0650)  loss_box_reg: 0.1029 (0.1296)  loss_objectness: 0.0007 (0.0029)  loss_rpn_box_reg: 0.0033 (0.0082)  time: 1.5738  data: 0.0946  max mem: 12455\n",
            "Epoch: [11]  [100/171]  eta: 0:01:55  lr: 0.000005  loss: 0.1672 (0.1941)  loss_classifier: 0.0538 (0.0619)  loss_box_reg: 0.1155 (0.1238)  loss_objectness: 0.0006 (0.0024)  loss_rpn_box_reg: 0.0027 (0.0060)  time: 1.6833  data: 0.0929  max mem: 12455\n",
            "Epoch: [11]  [150/171]  eta: 0:00:34  lr: 0.000005  loss: 0.2171 (0.1932)  loss_classifier: 0.0789 (0.0631)  loss_box_reg: 0.1293 (0.1225)  loss_objectness: 0.0007 (0.0022)  loss_rpn_box_reg: 0.0042 (0.0055)  time: 1.6593  data: 0.1038  max mem: 12455\n",
            "Epoch: [11]  [170/171]  eta: 0:00:01  lr: 0.000005  loss: 0.2072 (0.1935)  loss_classifier: 0.0694 (0.0632)  loss_box_reg: 0.1294 (0.1228)  loss_objectness: 0.0013 (0.0021)  loss_rpn_box_reg: 0.0024 (0.0054)  time: 1.6085  data: 0.0929  max mem: 12455\n",
            "Epoch: [11] Total time: 0:04:37 (1.6218 s / it)\n",
            "Epoch: [12]  [  0/171]  eta: 0:03:37  lr: 0.000001  loss: 0.1941 (0.1941)  loss_classifier: 0.0540 (0.0540)  loss_box_reg: 0.1297 (0.1297)  loss_objectness: 0.0082 (0.0082)  loss_rpn_box_reg: 0.0023 (0.0023)  time: 1.2743  data: 0.1109  max mem: 12455\n",
            "Epoch: [12]  [ 50/171]  eta: 0:03:16  lr: 0.000001  loss: 0.1877 (0.2023)  loss_classifier: 0.0639 (0.0662)  loss_box_reg: 0.1106 (0.1270)  loss_objectness: 0.0014 (0.0025)  loss_rpn_box_reg: 0.0041 (0.0066)  time: 1.6323  data: 0.0989  max mem: 12455\n",
            "Epoch: [12]  [100/171]  eta: 0:01:53  lr: 0.000001  loss: 0.1730 (0.1920)  loss_classifier: 0.0586 (0.0625)  loss_box_reg: 0.1164 (0.1214)  loss_objectness: 0.0006 (0.0025)  loss_rpn_box_reg: 0.0025 (0.0056)  time: 1.5470  data: 0.0916  max mem: 12455\n",
            "Epoch: [12]  [150/171]  eta: 0:00:33  lr: 0.000001  loss: 0.2234 (0.1968)  loss_classifier: 0.0739 (0.0638)  loss_box_reg: 0.1558 (0.1247)  loss_objectness: 0.0012 (0.0025)  loss_rpn_box_reg: 0.0044 (0.0057)  time: 1.5802  data: 0.0988  max mem: 12455\n",
            "Epoch: [12]  [170/171]  eta: 0:00:01  lr: 0.000001  loss: 0.1594 (0.1955)  loss_classifier: 0.0596 (0.0639)  loss_box_reg: 0.0970 (0.1239)  loss_objectness: 0.0004 (0.0023)  loss_rpn_box_reg: 0.0020 (0.0055)  time: 1.5898  data: 0.0896  max mem: 12455\n",
            "Epoch: [12] Total time: 0:04:34 (1.6076 s / it)\n",
            "Epoch: [13]  [  0/171]  eta: 0:04:29  lr: 0.000001  loss: 0.3408 (0.3408)  loss_classifier: 0.0961 (0.0961)  loss_box_reg: 0.1828 (0.1828)  loss_objectness: 0.0293 (0.0293)  loss_rpn_box_reg: 0.0327 (0.0327)  time: 1.5783  data: 0.1477  max mem: 12455\n",
            "Epoch: [13]  [ 50/171]  eta: 0:03:14  lr: 0.000001  loss: 0.1726 (0.2006)  loss_classifier: 0.0531 (0.0654)  loss_box_reg: 0.1192 (0.1272)  loss_objectness: 0.0009 (0.0026)  loss_rpn_box_reg: 0.0023 (0.0054)  time: 1.6342  data: 0.1053  max mem: 12455\n",
            "Epoch: [13]  [100/171]  eta: 0:01:54  lr: 0.000001  loss: 0.1819 (0.2005)  loss_classifier: 0.0591 (0.0661)  loss_box_reg: 0.1147 (0.1268)  loss_objectness: 0.0003 (0.0023)  loss_rpn_box_reg: 0.0022 (0.0053)  time: 1.6644  data: 0.0974  max mem: 12455\n",
            "Epoch: [13]  [150/171]  eta: 0:00:34  lr: 0.000001  loss: 0.2108 (0.1972)  loss_classifier: 0.0617 (0.0646)  loss_box_reg: 0.1459 (0.1251)  loss_objectness: 0.0008 (0.0020)  loss_rpn_box_reg: 0.0033 (0.0055)  time: 1.6101  data: 0.0970  max mem: 12455\n",
            "Epoch: [13]  [170/171]  eta: 0:00:01  lr: 0.000001  loss: 0.1353 (0.1937)  loss_classifier: 0.0466 (0.0633)  loss_box_reg: 0.0814 (0.1230)  loss_objectness: 0.0003 (0.0019)  loss_rpn_box_reg: 0.0030 (0.0054)  time: 1.6420  data: 0.0958  max mem: 12455\n",
            "Epoch: [13] Total time: 0:04:38 (1.6268 s / it)\n",
            "Epoch: [14]  [  0/171]  eta: 0:05:30  lr: 0.000001  loss: 0.3604 (0.3604)  loss_classifier: 0.1331 (0.1331)  loss_box_reg: 0.2118 (0.2118)  loss_objectness: 0.0067 (0.0067)  loss_rpn_box_reg: 0.0088 (0.0088)  time: 1.9310  data: 0.1237  max mem: 12455\n",
            "Epoch: [14]  [ 50/171]  eta: 0:03:15  lr: 0.000001  loss: 0.1677 (0.1790)  loss_classifier: 0.0530 (0.0592)  loss_box_reg: 0.1026 (0.1147)  loss_objectness: 0.0005 (0.0016)  loss_rpn_box_reg: 0.0018 (0.0035)  time: 1.6079  data: 0.0960  max mem: 12455\n",
            "Epoch: [14]  [100/171]  eta: 0:01:54  lr: 0.000001  loss: 0.2053 (0.1897)  loss_classifier: 0.0705 (0.0631)  loss_box_reg: 0.1286 (0.1202)  loss_objectness: 0.0006 (0.0023)  loss_rpn_box_reg: 0.0039 (0.0042)  time: 1.6339  data: 0.0980  max mem: 12455\n",
            "Epoch: [14]  [150/171]  eta: 0:00:34  lr: 0.000001  loss: 0.2105 (0.1945)  loss_classifier: 0.0640 (0.0635)  loss_box_reg: 0.1343 (0.1234)  loss_objectness: 0.0005 (0.0022)  loss_rpn_box_reg: 0.0038 (0.0053)  time: 1.6587  data: 0.0961  max mem: 12455\n",
            "Epoch: [14]  [170/171]  eta: 0:00:01  lr: 0.000001  loss: 0.1640 (0.1946)  loss_classifier: 0.0581 (0.0635)  loss_box_reg: 0.1019 (0.1234)  loss_objectness: 0.0013 (0.0023)  loss_rpn_box_reg: 0.0040 (0.0054)  time: 1.6662  data: 0.1020  max mem: 12455\n",
            "Epoch: [14] Total time: 0:04:38 (1.6301 s / it)\n",
            "Epoch: [15]  [  0/171]  eta: 0:04:54  lr: 0.000000  loss: 0.3189 (0.3189)  loss_classifier: 0.1113 (0.1113)  loss_box_reg: 0.1971 (0.1971)  loss_objectness: 0.0021 (0.0021)  loss_rpn_box_reg: 0.0084 (0.0084)  time: 1.7248  data: 0.0942  max mem: 12455\n",
            "Epoch: [15]  [ 50/171]  eta: 0:03:17  lr: 0.000000  loss: 0.2101 (0.1958)  loss_classifier: 0.0660 (0.0656)  loss_box_reg: 0.1211 (0.1228)  loss_objectness: 0.0010 (0.0024)  loss_rpn_box_reg: 0.0029 (0.0051)  time: 1.6069  data: 0.1029  max mem: 12455\n",
            "Epoch: [15]  [100/171]  eta: 0:01:55  lr: 0.000000  loss: 0.2041 (0.1929)  loss_classifier: 0.0576 (0.0644)  loss_box_reg: 0.1249 (0.1218)  loss_objectness: 0.0017 (0.0021)  loss_rpn_box_reg: 0.0026 (0.0047)  time: 1.5687  data: 0.0994  max mem: 12455\n",
            "Epoch: [15]  [150/171]  eta: 0:00:33  lr: 0.000000  loss: 0.2010 (0.1966)  loss_classifier: 0.0652 (0.0643)  loss_box_reg: 0.1271 (0.1242)  loss_objectness: 0.0008 (0.0023)  loss_rpn_box_reg: 0.0027 (0.0057)  time: 1.5648  data: 0.1078  max mem: 12455\n",
            "Epoch: [15]  [170/171]  eta: 0:00:01  lr: 0.000000  loss: 0.1680 (0.1947)  loss_classifier: 0.0626 (0.0640)  loss_box_reg: 0.1014 (0.1231)  loss_objectness: 0.0003 (0.0022)  loss_rpn_box_reg: 0.0033 (0.0055)  time: 1.6328  data: 0.0995  max mem: 12455\n",
            "Epoch: [15] Total time: 0:04:34 (1.6043 s / it)\n",
            "Epoch: [16]  [  0/171]  eta: 0:04:30  lr: 0.000000  loss: 0.2496 (0.2496)  loss_classifier: 0.0816 (0.0816)  loss_box_reg: 0.1610 (0.1610)  loss_objectness: 0.0005 (0.0005)  loss_rpn_box_reg: 0.0066 (0.0066)  time: 1.5800  data: 0.0896  max mem: 12455\n",
            "Epoch: [16]  [ 50/171]  eta: 0:03:15  lr: 0.000000  loss: 0.1555 (0.1951)  loss_classifier: 0.0540 (0.0630)  loss_box_reg: 0.1030 (0.1222)  loss_objectness: 0.0009 (0.0025)  loss_rpn_box_reg: 0.0029 (0.0073)  time: 1.6177  data: 0.0956  max mem: 12455\n",
            "Epoch: [16]  [100/171]  eta: 0:01:54  lr: 0.000000  loss: 0.1911 (0.2006)  loss_classifier: 0.0582 (0.0662)  loss_box_reg: 0.1179 (0.1268)  loss_objectness: 0.0005 (0.0019)  loss_rpn_box_reg: 0.0029 (0.0057)  time: 1.6082  data: 0.1014  max mem: 12455\n",
            "Epoch: [16]  [150/171]  eta: 0:00:34  lr: 0.000000  loss: 0.1464 (0.1925)  loss_classifier: 0.0474 (0.0630)  loss_box_reg: 0.1004 (0.1217)  loss_objectness: 0.0006 (0.0023)  loss_rpn_box_reg: 0.0036 (0.0055)  time: 1.6548  data: 0.1027  max mem: 12455\n",
            "Epoch: [16]  [170/171]  eta: 0:00:01  lr: 0.000000  loss: 0.1964 (0.1933)  loss_classifier: 0.0587 (0.0633)  loss_box_reg: 0.1301 (0.1222)  loss_objectness: 0.0010 (0.0023)  loss_rpn_box_reg: 0.0042 (0.0055)  time: 1.5361  data: 0.0909  max mem: 12455\n",
            "Epoch: [16] Total time: 0:04:36 (1.6147 s / it)\n",
            "Epoch: [17]  [  0/171]  eta: 0:04:54  lr: 0.000000  loss: 0.1054 (0.1054)  loss_classifier: 0.0361 (0.0361)  loss_box_reg: 0.0679 (0.0679)  loss_objectness: 0.0003 (0.0003)  loss_rpn_box_reg: 0.0011 (0.0011)  time: 1.7198  data: 0.0907  max mem: 12455\n",
            "Epoch: [17]  [ 50/171]  eta: 0:03:19  lr: 0.000000  loss: 0.1565 (0.1930)  loss_classifier: 0.0496 (0.0629)  loss_box_reg: 0.0979 (0.1230)  loss_objectness: 0.0007 (0.0019)  loss_rpn_box_reg: 0.0028 (0.0052)  time: 1.6210  data: 0.0928  max mem: 12455\n",
            "Epoch: [17]  [100/171]  eta: 0:01:56  lr: 0.000000  loss: 0.1683 (0.1932)  loss_classifier: 0.0650 (0.0641)  loss_box_reg: 0.1113 (0.1215)  loss_objectness: 0.0004 (0.0019)  loss_rpn_box_reg: 0.0032 (0.0058)  time: 1.6666  data: 0.0989  max mem: 12455\n",
            "Epoch: [17]  [150/171]  eta: 0:00:33  lr: 0.000000  loss: 0.1908 (0.1925)  loss_classifier: 0.0585 (0.0633)  loss_box_reg: 0.1282 (0.1215)  loss_objectness: 0.0008 (0.0021)  loss_rpn_box_reg: 0.0042 (0.0055)  time: 1.5140  data: 0.1020  max mem: 12455\n",
            "Epoch: [17]  [170/171]  eta: 0:00:01  lr: 0.000000  loss: 0.1762 (0.1943)  loss_classifier: 0.0529 (0.0641)  loss_box_reg: 0.0935 (0.1227)  loss_objectness: 0.0007 (0.0021)  loss_rpn_box_reg: 0.0026 (0.0054)  time: 1.5850  data: 0.1048  max mem: 12455\n",
            "Epoch: [17] Total time: 0:04:35 (1.6115 s / it)\n",
            "Epoch: [18]  [  0/171]  eta: 0:05:00  lr: 0.000000  loss: 0.2280 (0.2280)  loss_classifier: 0.0746 (0.0746)  loss_box_reg: 0.1407 (0.1407)  loss_objectness: 0.0055 (0.0055)  loss_rpn_box_reg: 0.0073 (0.0073)  time: 1.7562  data: 0.1236  max mem: 12455\n",
            "Epoch: [18]  [ 50/171]  eta: 0:03:17  lr: 0.000000  loss: 0.1891 (0.2049)  loss_classifier: 0.0527 (0.0654)  loss_box_reg: 0.1277 (0.1316)  loss_objectness: 0.0012 (0.0021)  loss_rpn_box_reg: 0.0027 (0.0059)  time: 1.6671  data: 0.0973  max mem: 12455\n",
            "Epoch: [18]  [100/171]  eta: 0:01:57  lr: 0.000000  loss: 0.1913 (0.1944)  loss_classifier: 0.0591 (0.0625)  loss_box_reg: 0.1259 (0.1235)  loss_objectness: 0.0010 (0.0020)  loss_rpn_box_reg: 0.0026 (0.0062)  time: 1.6085  data: 0.1026  max mem: 12455\n",
            "Epoch: [18]  [150/171]  eta: 0:00:34  lr: 0.000000  loss: 0.1938 (0.1935)  loss_classifier: 0.0554 (0.0627)  loss_box_reg: 0.1174 (0.1233)  loss_objectness: 0.0008 (0.0019)  loss_rpn_box_reg: 0.0038 (0.0057)  time: 1.7318  data: 0.1059  max mem: 12455\n",
            "Epoch: [18]  [170/171]  eta: 0:00:01  lr: 0.000000  loss: 0.1836 (0.1937)  loss_classifier: 0.0652 (0.0633)  loss_box_reg: 0.1028 (0.1229)  loss_objectness: 0.0010 (0.0020)  loss_rpn_box_reg: 0.0024 (0.0055)  time: 1.5486  data: 0.0992  max mem: 12455\n",
            "Epoch: [18] Total time: 0:04:42 (1.6512 s / it)\n",
            "Epoch: [19]  [  0/171]  eta: 0:05:01  lr: 0.000000  loss: 0.2622 (0.2622)  loss_classifier: 0.0792 (0.0792)  loss_box_reg: 0.1766 (0.1766)  loss_objectness: 0.0017 (0.0017)  loss_rpn_box_reg: 0.0048 (0.0048)  time: 1.7647  data: 0.1206  max mem: 12455\n",
            "Epoch: [19]  [ 50/171]  eta: 0:03:16  lr: 0.000000  loss: 0.2189 (0.2047)  loss_classifier: 0.0674 (0.0664)  loss_box_reg: 0.1350 (0.1305)  loss_objectness: 0.0013 (0.0022)  loss_rpn_box_reg: 0.0049 (0.0057)  time: 1.6214  data: 0.1072  max mem: 12455\n",
            "Epoch: [19]  [100/171]  eta: 0:01:55  lr: 0.000000  loss: 0.1778 (0.1968)  loss_classifier: 0.0632 (0.0647)  loss_box_reg: 0.1129 (0.1240)  loss_objectness: 0.0009 (0.0021)  loss_rpn_box_reg: 0.0030 (0.0060)  time: 1.6014  data: 0.1034  max mem: 12455\n",
            "Epoch: [19]  [150/171]  eta: 0:00:34  lr: 0.000000  loss: 0.2132 (0.1920)  loss_classifier: 0.0812 (0.0634)  loss_box_reg: 0.1352 (0.1210)  loss_objectness: 0.0010 (0.0021)  loss_rpn_box_reg: 0.0044 (0.0056)  time: 1.6105  data: 0.1110  max mem: 12455\n",
            "Epoch: [19]  [170/171]  eta: 0:00:01  lr: 0.000000  loss: 0.2148 (0.1941)  loss_classifier: 0.0736 (0.0641)  loss_box_reg: 0.1339 (0.1224)  loss_objectness: 0.0005 (0.0020)  loss_rpn_box_reg: 0.0027 (0.0055)  time: 1.6170  data: 0.1016  max mem: 12455\n",
            "Epoch: [19] Total time: 0:04:37 (1.6226 s / it)\n",
            "Epoch: [20]  [  0/171]  eta: 0:04:32  lr: 0.000000  loss: 0.1271 (0.1271)  loss_classifier: 0.0333 (0.0333)  loss_box_reg: 0.0900 (0.0900)  loss_objectness: 0.0016 (0.0016)  loss_rpn_box_reg: 0.0021 (0.0021)  time: 1.5960  data: 0.0990  max mem: 12455\n",
            "Epoch: [20]  [ 50/171]  eta: 0:03:22  lr: 0.000000  loss: 0.1965 (0.2065)  loss_classifier: 0.0586 (0.0647)  loss_box_reg: 0.1294 (0.1334)  loss_objectness: 0.0007 (0.0025)  loss_rpn_box_reg: 0.0040 (0.0059)  time: 1.6394  data: 0.0999  max mem: 12455\n",
            "Epoch: [20]  [100/171]  eta: 0:01:57  lr: 0.000000  loss: 0.1845 (0.1950)  loss_classifier: 0.0541 (0.0620)  loss_box_reg: 0.1177 (0.1240)  loss_objectness: 0.0014 (0.0026)  loss_rpn_box_reg: 0.0033 (0.0063)  time: 1.6773  data: 0.0993  max mem: 12455\n",
            "Epoch: [20]  [150/171]  eta: 0:00:34  lr: 0.000000  loss: 0.1400 (0.1922)  loss_classifier: 0.0529 (0.0621)  loss_box_reg: 0.0800 (0.1217)  loss_objectness: 0.0011 (0.0026)  loss_rpn_box_reg: 0.0016 (0.0057)  time: 1.6027  data: 0.0955  max mem: 12455\n",
            "Epoch: [20]  [170/171]  eta: 0:00:01  lr: 0.000000  loss: 0.1957 (0.1951)  loss_classifier: 0.0644 (0.0635)  loss_box_reg: 0.1327 (0.1235)  loss_objectness: 0.0010 (0.0026)  loss_rpn_box_reg: 0.0032 (0.0055)  time: 1.5995  data: 0.1006  max mem: 12455\n",
            "Epoch: [20] Total time: 0:04:38 (1.6274 s / it)\n",
            "Epoch: [21]  [  0/171]  eta: 0:04:31  lr: 0.000000  loss: 0.1131 (0.1131)  loss_classifier: 0.0308 (0.0308)  loss_box_reg: 0.0799 (0.0799)  loss_objectness: 0.0012 (0.0012)  loss_rpn_box_reg: 0.0012 (0.0012)  time: 1.5906  data: 0.1003  max mem: 12455\n",
            "Epoch: [21]  [ 50/171]  eta: 0:03:14  lr: 0.000000  loss: 0.1906 (0.1863)  loss_classifier: 0.0559 (0.0605)  loss_box_reg: 0.1241 (0.1197)  loss_objectness: 0.0010 (0.0018)  loss_rpn_box_reg: 0.0032 (0.0043)  time: 1.5983  data: 0.1011  max mem: 12455\n",
            "Epoch: [21]  [100/171]  eta: 0:01:55  lr: 0.000000  loss: 0.1608 (0.1844)  loss_classifier: 0.0488 (0.0619)  loss_box_reg: 0.0946 (0.1158)  loss_objectness: 0.0005 (0.0017)  loss_rpn_box_reg: 0.0024 (0.0049)  time: 1.5705  data: 0.1078  max mem: 12455\n",
            "Epoch: [21]  [150/171]  eta: 0:00:34  lr: 0.000000  loss: 0.1766 (0.1898)  loss_classifier: 0.0591 (0.0633)  loss_box_reg: 0.1074 (0.1195)  loss_objectness: 0.0005 (0.0020)  loss_rpn_box_reg: 0.0033 (0.0051)  time: 1.6638  data: 0.1045  max mem: 12455\n",
            "Epoch: [21]  [170/171]  eta: 0:00:01  lr: 0.000000  loss: 0.2131 (0.1939)  loss_classifier: 0.0707 (0.0640)  loss_box_reg: 0.1293 (0.1224)  loss_objectness: 0.0013 (0.0021)  loss_rpn_box_reg: 0.0043 (0.0054)  time: 1.5833  data: 0.1074  max mem: 12455\n",
            "Epoch: [21] Total time: 0:04:37 (1.6255 s / it)\n",
            "Epoch: [22]  [  0/171]  eta: 0:05:25  lr: 0.000000  loss: 0.2616 (0.2616)  loss_classifier: 0.0976 (0.0976)  loss_box_reg: 0.1608 (0.1608)  loss_objectness: 0.0006 (0.0006)  loss_rpn_box_reg: 0.0025 (0.0025)  time: 1.9057  data: 0.0995  max mem: 12455\n",
            "Epoch: [22]  [ 50/171]  eta: 0:03:22  lr: 0.000000  loss: 0.1708 (0.1945)  loss_classifier: 0.0553 (0.0668)  loss_box_reg: 0.1003 (0.1218)  loss_objectness: 0.0004 (0.0018)  loss_rpn_box_reg: 0.0022 (0.0041)  time: 1.6891  data: 0.1084  max mem: 12455\n",
            "Epoch: [22]  [100/171]  eta: 0:01:58  lr: 0.000000  loss: 0.2449 (0.2014)  loss_classifier: 0.0730 (0.0662)  loss_box_reg: 0.1620 (0.1275)  loss_objectness: 0.0012 (0.0020)  loss_rpn_box_reg: 0.0047 (0.0056)  time: 1.6433  data: 0.1102  max mem: 12455\n",
            "Epoch: [22]  [150/171]  eta: 0:00:35  lr: 0.000000  loss: 0.1886 (0.1981)  loss_classifier: 0.0609 (0.0649)  loss_box_reg: 0.1234 (0.1254)  loss_objectness: 0.0012 (0.0023)  loss_rpn_box_reg: 0.0038 (0.0055)  time: 1.6720  data: 0.1097  max mem: 12455\n",
            "Epoch: [22]  [170/171]  eta: 0:00:01  lr: 0.000000  loss: 0.1606 (0.1951)  loss_classifier: 0.0489 (0.0638)  loss_box_reg: 0.1117 (0.1234)  loss_objectness: 0.0018 (0.0023)  loss_rpn_box_reg: 0.0032 (0.0055)  time: 1.6292  data: 0.0937  max mem: 12455\n",
            "Epoch: [22] Total time: 0:04:44 (1.6626 s / it)\n",
            "Epoch: [23]  [  0/171]  eta: 0:03:51  lr: 0.000000  loss: 0.1468 (0.1468)  loss_classifier: 0.0519 (0.0519)  loss_box_reg: 0.0924 (0.0924)  loss_objectness: 0.0004 (0.0004)  loss_rpn_box_reg: 0.0021 (0.0021)  time: 1.3558  data: 0.0895  max mem: 12455\n",
            "Epoch: [23]  [ 50/171]  eta: 0:03:15  lr: 0.000000  loss: 0.2158 (0.1896)  loss_classifier: 0.0681 (0.0623)  loss_box_reg: 0.1303 (0.1176)  loss_objectness: 0.0012 (0.0026)  loss_rpn_box_reg: 0.0039 (0.0071)  time: 1.6432  data: 0.1068  max mem: 12455\n",
            "Epoch: [23]  [100/171]  eta: 0:01:53  lr: 0.000000  loss: 0.1573 (0.1989)  loss_classifier: 0.0425 (0.0653)  loss_box_reg: 0.1051 (0.1251)  loss_objectness: 0.0002 (0.0026)  loss_rpn_box_reg: 0.0017 (0.0059)  time: 1.5496  data: 0.0997  max mem: 12455\n",
            "Epoch: [23]  [150/171]  eta: 0:00:33  lr: 0.000000  loss: 0.1544 (0.1931)  loss_classifier: 0.0448 (0.0631)  loss_box_reg: 0.1050 (0.1223)  loss_objectness: 0.0004 (0.0024)  loss_rpn_box_reg: 0.0032 (0.0054)  time: 1.6104  data: 0.0962  max mem: 12455\n",
            "Epoch: [23]  [170/171]  eta: 0:00:01  lr: 0.000000  loss: 0.2033 (0.1950)  loss_classifier: 0.0595 (0.0636)  loss_box_reg: 0.1206 (0.1236)  loss_objectness: 0.0013 (0.0023)  loss_rpn_box_reg: 0.0046 (0.0054)  time: 1.6004  data: 0.1014  max mem: 12455\n",
            "Epoch: [23] Total time: 0:04:33 (1.6023 s / it)\n",
            "Epoch: [24]  [  0/171]  eta: 0:04:31  lr: 0.000000  loss: 0.3019 (0.3019)  loss_classifier: 0.0787 (0.0787)  loss_box_reg: 0.1688 (0.1688)  loss_objectness: 0.0263 (0.0263)  loss_rpn_box_reg: 0.0282 (0.0282)  time: 1.5876  data: 0.1554  max mem: 12455\n",
            "Epoch: [24]  [ 50/171]  eta: 0:03:17  lr: 0.000000  loss: 0.1961 (0.1928)  loss_classifier: 0.0668 (0.0618)  loss_box_reg: 0.1198 (0.1239)  loss_objectness: 0.0008 (0.0021)  loss_rpn_box_reg: 0.0032 (0.0050)  time: 1.7046  data: 0.1034  max mem: 12455\n",
            "Epoch: [24]  [100/171]  eta: 0:01:54  lr: 0.000000  loss: 0.1788 (0.1950)  loss_classifier: 0.0565 (0.0632)  loss_box_reg: 0.1127 (0.1245)  loss_objectness: 0.0005 (0.0023)  loss_rpn_box_reg: 0.0039 (0.0051)  time: 1.6370  data: 0.1038  max mem: 12455\n",
            "Epoch: [24]  [150/171]  eta: 0:00:34  lr: 0.000000  loss: 0.1617 (0.1923)  loss_classifier: 0.0589 (0.0635)  loss_box_reg: 0.1069 (0.1212)  loss_objectness: 0.0004 (0.0022)  loss_rpn_box_reg: 0.0031 (0.0054)  time: 1.6536  data: 0.0962  max mem: 12455\n",
            "Epoch: [24]  [170/171]  eta: 0:00:01  lr: 0.000000  loss: 0.1721 (0.1934)  loss_classifier: 0.0630 (0.0635)  loss_box_reg: 0.1177 (0.1224)  loss_objectness: 0.0005 (0.0022)  loss_rpn_box_reg: 0.0035 (0.0053)  time: 1.6595  data: 0.1035  max mem: 12455\n",
            "Epoch: [24] Total time: 0:04:40 (1.6389 s / it)\n",
            "Epoch: [25]  [  0/171]  eta: 0:05:26  lr: 0.000000  loss: 0.1320 (0.1320)  loss_classifier: 0.0369 (0.0369)  loss_box_reg: 0.0934 (0.0934)  loss_objectness: 0.0007 (0.0007)  loss_rpn_box_reg: 0.0011 (0.0011)  time: 1.9064  data: 0.1101  max mem: 12455\n",
            "Epoch: [25]  [ 50/171]  eta: 0:03:16  lr: 0.000000  loss: 0.1709 (0.1952)  loss_classifier: 0.0610 (0.0659)  loss_box_reg: 0.1046 (0.1235)  loss_objectness: 0.0006 (0.0016)  loss_rpn_box_reg: 0.0027 (0.0042)  time: 1.5989  data: 0.1058  max mem: 12455\n",
            "Epoch: [25]  [100/171]  eta: 0:01:57  lr: 0.000000  loss: 0.1772 (0.1859)  loss_classifier: 0.0583 (0.0612)  loss_box_reg: 0.1077 (0.1179)  loss_objectness: 0.0007 (0.0017)  loss_rpn_box_reg: 0.0025 (0.0051)  time: 1.6925  data: 0.0974  max mem: 12455\n",
            "Epoch: [25]  [150/171]  eta: 0:00:34  lr: 0.000000  loss: 0.1872 (0.1879)  loss_classifier: 0.0581 (0.0614)  loss_box_reg: 0.1180 (0.1197)  loss_objectness: 0.0005 (0.0018)  loss_rpn_box_reg: 0.0030 (0.0049)  time: 1.6070  data: 0.1026  max mem: 12455\n",
            "Epoch: [25]  [170/171]  eta: 0:00:01  lr: 0.000000  loss: 0.2004 (0.1936)  loss_classifier: 0.0692 (0.0635)  loss_box_reg: 0.1335 (0.1226)  loss_objectness: 0.0014 (0.0020)  loss_rpn_box_reg: 0.0052 (0.0054)  time: 1.6441  data: 0.1073  max mem: 12455\n",
            "Epoch: [25] Total time: 0:04:42 (1.6528 s / it)\n",
            "Epoch: [26]  [  0/171]  eta: 0:04:52  lr: 0.000000  loss: 0.0993 (0.0993)  loss_classifier: 0.0263 (0.0263)  loss_box_reg: 0.0721 (0.0721)  loss_objectness: 0.0002 (0.0002)  loss_rpn_box_reg: 0.0007 (0.0007)  time: 1.7086  data: 0.0837  max mem: 12455\n",
            "Epoch: [26]  [ 50/171]  eta: 0:03:19  lr: 0.000000  loss: 0.1891 (0.2022)  loss_classifier: 0.0608 (0.0663)  loss_box_reg: 0.1082 (0.1274)  loss_objectness: 0.0010 (0.0029)  loss_rpn_box_reg: 0.0046 (0.0056)  time: 1.6228  data: 0.1047  max mem: 12455\n",
            "Epoch: [26]  [100/171]  eta: 0:01:56  lr: 0.000000  loss: 0.2021 (0.2011)  loss_classifier: 0.0666 (0.0652)  loss_box_reg: 0.1313 (0.1271)  loss_objectness: 0.0019 (0.0026)  loss_rpn_box_reg: 0.0037 (0.0063)  time: 1.6396  data: 0.1057  max mem: 12455\n",
            "Epoch: [26]  [150/171]  eta: 0:00:34  lr: 0.000000  loss: 0.1855 (0.1975)  loss_classifier: 0.0531 (0.0644)  loss_box_reg: 0.1105 (0.1249)  loss_objectness: 0.0006 (0.0025)  loss_rpn_box_reg: 0.0032 (0.0057)  time: 1.5959  data: 0.1016  max mem: 12455\n",
            "Epoch: [26]  [170/171]  eta: 0:00:01  lr: 0.000000  loss: 0.1529 (0.1922)  loss_classifier: 0.0454 (0.0628)  loss_box_reg: 0.1054 (0.1218)  loss_objectness: 0.0004 (0.0023)  loss_rpn_box_reg: 0.0023 (0.0053)  time: 1.6246  data: 0.1027  max mem: 12455\n",
            "Epoch: [26] Total time: 0:04:38 (1.6270 s / it)\n",
            "Epoch: [27]  [  0/171]  eta: 0:04:32  lr: 0.000000  loss: 0.1153 (0.1153)  loss_classifier: 0.0293 (0.0293)  loss_box_reg: 0.0842 (0.0842)  loss_objectness: 0.0003 (0.0003)  loss_rpn_box_reg: 0.0016 (0.0016)  time: 1.5919  data: 0.0919  max mem: 12455\n",
            "Epoch: [27]  [ 50/171]  eta: 0:03:23  lr: 0.000000  loss: 0.2061 (0.1970)  loss_classifier: 0.0652 (0.0629)  loss_box_reg: 0.1153 (0.1256)  loss_objectness: 0.0015 (0.0025)  loss_rpn_box_reg: 0.0037 (0.0060)  time: 1.6785  data: 0.1100  max mem: 12455\n",
            "Epoch: [27]  [100/171]  eta: 0:01:59  lr: 0.000000  loss: 0.1548 (0.1867)  loss_classifier: 0.0582 (0.0614)  loss_box_reg: 0.1007 (0.1183)  loss_objectness: 0.0009 (0.0019)  loss_rpn_box_reg: 0.0040 (0.0050)  time: 1.6933  data: 0.1056  max mem: 12455\n",
            "Epoch: [27]  [150/171]  eta: 0:00:35  lr: 0.000000  loss: 0.2195 (0.1921)  loss_classifier: 0.0681 (0.0631)  loss_box_reg: 0.1385 (0.1220)  loss_objectness: 0.0009 (0.0020)  loss_rpn_box_reg: 0.0042 (0.0050)  time: 1.6402  data: 0.1083  max mem: 12455\n",
            "Epoch: [27]  [170/171]  eta: 0:00:01  lr: 0.000000  loss: 0.1864 (0.1939)  loss_classifier: 0.0692 (0.0638)  loss_box_reg: 0.1298 (0.1228)  loss_objectness: 0.0006 (0.0019)  loss_rpn_box_reg: 0.0029 (0.0054)  time: 1.6510  data: 0.1001  max mem: 12455\n",
            "Epoch: [27] Total time: 0:04:44 (1.6652 s / it)\n",
            "Epoch: [28]  [  0/171]  eta: 0:05:24  lr: 0.000000  loss: 0.1753 (0.1753)  loss_classifier: 0.0628 (0.0628)  loss_box_reg: 0.1101 (0.1101)  loss_objectness: 0.0002 (0.0002)  loss_rpn_box_reg: 0.0022 (0.0022)  time: 1.8957  data: 0.0979  max mem: 12455\n",
            "Epoch: [28]  [ 50/171]  eta: 0:03:23  lr: 0.000000  loss: 0.2147 (0.2016)  loss_classifier: 0.0592 (0.0639)  loss_box_reg: 0.1320 (0.1294)  loss_objectness: 0.0006 (0.0026)  loss_rpn_box_reg: 0.0036 (0.0056)  time: 1.6858  data: 0.1038  max mem: 12455\n",
            "Epoch: [28]  [100/171]  eta: 0:01:58  lr: 0.000000  loss: 0.1650 (0.1958)  loss_classifier: 0.0570 (0.0633)  loss_box_reg: 0.1029 (0.1241)  loss_objectness: 0.0013 (0.0024)  loss_rpn_box_reg: 0.0034 (0.0060)  time: 1.6506  data: 0.0987  max mem: 12455\n",
            "Epoch: [28]  [150/171]  eta: 0:00:35  lr: 0.000000  loss: 0.1755 (0.1902)  loss_classifier: 0.0535 (0.0626)  loss_box_reg: 0.1103 (0.1202)  loss_objectness: 0.0011 (0.0021)  loss_rpn_box_reg: 0.0025 (0.0053)  time: 1.6495  data: 0.1027  max mem: 12455\n",
            "Epoch: [28]  [170/171]  eta: 0:00:01  lr: 0.000000  loss: 0.2301 (0.1959)  loss_classifier: 0.0735 (0.0642)  loss_box_reg: 0.1518 (0.1238)  loss_objectness: 0.0014 (0.0023)  loss_rpn_box_reg: 0.0046 (0.0055)  time: 1.5530  data: 0.1050  max mem: 12455\n",
            "Epoch: [28] Total time: 0:04:42 (1.6540 s / it)\n",
            "Epoch: [29]  [  0/171]  eta: 0:04:57  lr: 0.000000  loss: 0.1689 (0.1689)  loss_classifier: 0.0537 (0.0537)  loss_box_reg: 0.1124 (0.1124)  loss_objectness: 0.0010 (0.0010)  loss_rpn_box_reg: 0.0019 (0.0019)  time: 1.7420  data: 0.1001  max mem: 12455\n",
            "Epoch: [29]  [ 50/171]  eta: 0:03:17  lr: 0.000000  loss: 0.1516 (0.1963)  loss_classifier: 0.0480 (0.0629)  loss_box_reg: 0.1093 (0.1254)  loss_objectness: 0.0009 (0.0026)  loss_rpn_box_reg: 0.0032 (0.0053)  time: 1.6385  data: 0.1086  max mem: 12455\n",
            "Epoch: [29]  [100/171]  eta: 0:01:56  lr: 0.000000  loss: 0.1610 (0.1981)  loss_classifier: 0.0554 (0.0641)  loss_box_reg: 0.1089 (0.1258)  loss_objectness: 0.0006 (0.0027)  loss_rpn_box_reg: 0.0027 (0.0054)  time: 1.6840  data: 0.1134  max mem: 12455\n",
            "Epoch: [29]  [150/171]  eta: 0:00:34  lr: 0.000000  loss: 0.1749 (0.1941)  loss_classifier: 0.0596 (0.0638)  loss_box_reg: 0.1117 (0.1224)  loss_objectness: 0.0007 (0.0024)  loss_rpn_box_reg: 0.0025 (0.0055)  time: 1.6712  data: 0.1085  max mem: 12455\n",
            "Epoch: [29]  [170/171]  eta: 0:00:01  lr: 0.000000  loss: 0.1817 (0.1939)  loss_classifier: 0.0566 (0.0633)  loss_box_reg: 0.1218 (0.1227)  loss_objectness: 0.0012 (0.0024)  loss_rpn_box_reg: 0.0039 (0.0054)  time: 1.6196  data: 0.1012  max mem: 12455\n",
            "Epoch: [29] Total time: 0:04:38 (1.6271 s / it)\n"
          ],
          "name": "stdout"
        }
      ]
    },
    {
      "cell_type": "code",
      "metadata": {
        "id": "k7rFTRWy2vps",
        "colab": {
          "base_uri": "https://localhost:8080/"
        },
        "outputId": "16ca697f-bfe5-46fd-b30d-3caa0c8a3972"
      },
      "source": [
        "# save model\n",
        "torch.save(model_2.state_dict(),'/content/drive/MyDrive/my_projects/models/fasterr_cnn_mod_2.pt')\n",
        "model_2.load_state_dict(torch.load('/content/drive/MyDrive/my_projects/models/fasterr_cnn_mod_2.pt'))"
      ],
      "execution_count": 25,
      "outputs": [
        {
          "output_type": "execute_result",
          "data": {
            "text/plain": [
              "<All keys matched successfully>"
            ]
          },
          "metadata": {
            "tags": []
          },
          "execution_count": 25
        }
      ]
    },
    {
      "cell_type": "code",
      "metadata": {
        "colab": {
          "base_uri": "https://localhost:8080/"
        },
        "id": "5jpjRY2D2-gs",
        "outputId": "a2396fb9-202b-46f1-fba4-4a444eb3b53f"
      },
      "source": [
        "for imgs, annotations in data_loader_test:\n",
        "    imgs = list(img.to(device) for img in imgs)\n",
        "    annotations = [{k: v.to(device) for k, v in t.items()} for t in annotations]\n",
        "    break\n",
        "\n",
        "model_2.eval()\n",
        "model_2.to(device)"
      ],
      "execution_count": 26,
      "outputs": [
        {
          "output_type": "execute_result",
          "data": {
            "text/plain": [
              "FasterRCNN(\n",
              "  (transform): GeneralizedRCNNTransform(\n",
              "      Normalize(mean=[0.485, 0.456, 0.406], std=[0.229, 0.224, 0.225])\n",
              "      Resize(min_size=(800,), max_size=1333, mode='bilinear')\n",
              "  )\n",
              "  (backbone): BackboneWithFPN(\n",
              "    (body): IntermediateLayerGetter(\n",
              "      (conv1): Conv2d(3, 64, kernel_size=(7, 7), stride=(2, 2), padding=(3, 3), bias=False)\n",
              "      (bn1): FrozenBatchNorm2d(64)\n",
              "      (relu): ReLU(inplace=True)\n",
              "      (maxpool): MaxPool2d(kernel_size=3, stride=2, padding=1, dilation=1, ceil_mode=False)\n",
              "      (layer1): Sequential(\n",
              "        (0): Bottleneck(\n",
              "          (conv1): Conv2d(64, 64, kernel_size=(1, 1), stride=(1, 1), bias=False)\n",
              "          (bn1): FrozenBatchNorm2d(64)\n",
              "          (conv2): Conv2d(64, 64, kernel_size=(3, 3), stride=(1, 1), padding=(1, 1), bias=False)\n",
              "          (bn2): FrozenBatchNorm2d(64)\n",
              "          (conv3): Conv2d(64, 256, kernel_size=(1, 1), stride=(1, 1), bias=False)\n",
              "          (bn3): FrozenBatchNorm2d(256)\n",
              "          (relu): ReLU(inplace=True)\n",
              "          (downsample): Sequential(\n",
              "            (0): Conv2d(64, 256, kernel_size=(1, 1), stride=(1, 1), bias=False)\n",
              "            (1): FrozenBatchNorm2d(256)\n",
              "          )\n",
              "        )\n",
              "        (1): Bottleneck(\n",
              "          (conv1): Conv2d(256, 64, kernel_size=(1, 1), stride=(1, 1), bias=False)\n",
              "          (bn1): FrozenBatchNorm2d(64)\n",
              "          (conv2): Conv2d(64, 64, kernel_size=(3, 3), stride=(1, 1), padding=(1, 1), bias=False)\n",
              "          (bn2): FrozenBatchNorm2d(64)\n",
              "          (conv3): Conv2d(64, 256, kernel_size=(1, 1), stride=(1, 1), bias=False)\n",
              "          (bn3): FrozenBatchNorm2d(256)\n",
              "          (relu): ReLU(inplace=True)\n",
              "        )\n",
              "        (2): Bottleneck(\n",
              "          (conv1): Conv2d(256, 64, kernel_size=(1, 1), stride=(1, 1), bias=False)\n",
              "          (bn1): FrozenBatchNorm2d(64)\n",
              "          (conv2): Conv2d(64, 64, kernel_size=(3, 3), stride=(1, 1), padding=(1, 1), bias=False)\n",
              "          (bn2): FrozenBatchNorm2d(64)\n",
              "          (conv3): Conv2d(64, 256, kernel_size=(1, 1), stride=(1, 1), bias=False)\n",
              "          (bn3): FrozenBatchNorm2d(256)\n",
              "          (relu): ReLU(inplace=True)\n",
              "        )\n",
              "      )\n",
              "      (layer2): Sequential(\n",
              "        (0): Bottleneck(\n",
              "          (conv1): Conv2d(256, 128, kernel_size=(1, 1), stride=(1, 1), bias=False)\n",
              "          (bn1): FrozenBatchNorm2d(128)\n",
              "          (conv2): Conv2d(128, 128, kernel_size=(3, 3), stride=(2, 2), padding=(1, 1), bias=False)\n",
              "          (bn2): FrozenBatchNorm2d(128)\n",
              "          (conv3): Conv2d(128, 512, kernel_size=(1, 1), stride=(1, 1), bias=False)\n",
              "          (bn3): FrozenBatchNorm2d(512)\n",
              "          (relu): ReLU(inplace=True)\n",
              "          (downsample): Sequential(\n",
              "            (0): Conv2d(256, 512, kernel_size=(1, 1), stride=(2, 2), bias=False)\n",
              "            (1): FrozenBatchNorm2d(512)\n",
              "          )\n",
              "        )\n",
              "        (1): Bottleneck(\n",
              "          (conv1): Conv2d(512, 128, kernel_size=(1, 1), stride=(1, 1), bias=False)\n",
              "          (bn1): FrozenBatchNorm2d(128)\n",
              "          (conv2): Conv2d(128, 128, kernel_size=(3, 3), stride=(1, 1), padding=(1, 1), bias=False)\n",
              "          (bn2): FrozenBatchNorm2d(128)\n",
              "          (conv3): Conv2d(128, 512, kernel_size=(1, 1), stride=(1, 1), bias=False)\n",
              "          (bn3): FrozenBatchNorm2d(512)\n",
              "          (relu): ReLU(inplace=True)\n",
              "        )\n",
              "        (2): Bottleneck(\n",
              "          (conv1): Conv2d(512, 128, kernel_size=(1, 1), stride=(1, 1), bias=False)\n",
              "          (bn1): FrozenBatchNorm2d(128)\n",
              "          (conv2): Conv2d(128, 128, kernel_size=(3, 3), stride=(1, 1), padding=(1, 1), bias=False)\n",
              "          (bn2): FrozenBatchNorm2d(128)\n",
              "          (conv3): Conv2d(128, 512, kernel_size=(1, 1), stride=(1, 1), bias=False)\n",
              "          (bn3): FrozenBatchNorm2d(512)\n",
              "          (relu): ReLU(inplace=True)\n",
              "        )\n",
              "        (3): Bottleneck(\n",
              "          (conv1): Conv2d(512, 128, kernel_size=(1, 1), stride=(1, 1), bias=False)\n",
              "          (bn1): FrozenBatchNorm2d(128)\n",
              "          (conv2): Conv2d(128, 128, kernel_size=(3, 3), stride=(1, 1), padding=(1, 1), bias=False)\n",
              "          (bn2): FrozenBatchNorm2d(128)\n",
              "          (conv3): Conv2d(128, 512, kernel_size=(1, 1), stride=(1, 1), bias=False)\n",
              "          (bn3): FrozenBatchNorm2d(512)\n",
              "          (relu): ReLU(inplace=True)\n",
              "        )\n",
              "      )\n",
              "      (layer3): Sequential(\n",
              "        (0): Bottleneck(\n",
              "          (conv1): Conv2d(512, 256, kernel_size=(1, 1), stride=(1, 1), bias=False)\n",
              "          (bn1): FrozenBatchNorm2d(256)\n",
              "          (conv2): Conv2d(256, 256, kernel_size=(3, 3), stride=(2, 2), padding=(1, 1), bias=False)\n",
              "          (bn2): FrozenBatchNorm2d(256)\n",
              "          (conv3): Conv2d(256, 1024, kernel_size=(1, 1), stride=(1, 1), bias=False)\n",
              "          (bn3): FrozenBatchNorm2d(1024)\n",
              "          (relu): ReLU(inplace=True)\n",
              "          (downsample): Sequential(\n",
              "            (0): Conv2d(512, 1024, kernel_size=(1, 1), stride=(2, 2), bias=False)\n",
              "            (1): FrozenBatchNorm2d(1024)\n",
              "          )\n",
              "        )\n",
              "        (1): Bottleneck(\n",
              "          (conv1): Conv2d(1024, 256, kernel_size=(1, 1), stride=(1, 1), bias=False)\n",
              "          (bn1): FrozenBatchNorm2d(256)\n",
              "          (conv2): Conv2d(256, 256, kernel_size=(3, 3), stride=(1, 1), padding=(1, 1), bias=False)\n",
              "          (bn2): FrozenBatchNorm2d(256)\n",
              "          (conv3): Conv2d(256, 1024, kernel_size=(1, 1), stride=(1, 1), bias=False)\n",
              "          (bn3): FrozenBatchNorm2d(1024)\n",
              "          (relu): ReLU(inplace=True)\n",
              "        )\n",
              "        (2): Bottleneck(\n",
              "          (conv1): Conv2d(1024, 256, kernel_size=(1, 1), stride=(1, 1), bias=False)\n",
              "          (bn1): FrozenBatchNorm2d(256)\n",
              "          (conv2): Conv2d(256, 256, kernel_size=(3, 3), stride=(1, 1), padding=(1, 1), bias=False)\n",
              "          (bn2): FrozenBatchNorm2d(256)\n",
              "          (conv3): Conv2d(256, 1024, kernel_size=(1, 1), stride=(1, 1), bias=False)\n",
              "          (bn3): FrozenBatchNorm2d(1024)\n",
              "          (relu): ReLU(inplace=True)\n",
              "        )\n",
              "        (3): Bottleneck(\n",
              "          (conv1): Conv2d(1024, 256, kernel_size=(1, 1), stride=(1, 1), bias=False)\n",
              "          (bn1): FrozenBatchNorm2d(256)\n",
              "          (conv2): Conv2d(256, 256, kernel_size=(3, 3), stride=(1, 1), padding=(1, 1), bias=False)\n",
              "          (bn2): FrozenBatchNorm2d(256)\n",
              "          (conv3): Conv2d(256, 1024, kernel_size=(1, 1), stride=(1, 1), bias=False)\n",
              "          (bn3): FrozenBatchNorm2d(1024)\n",
              "          (relu): ReLU(inplace=True)\n",
              "        )\n",
              "        (4): Bottleneck(\n",
              "          (conv1): Conv2d(1024, 256, kernel_size=(1, 1), stride=(1, 1), bias=False)\n",
              "          (bn1): FrozenBatchNorm2d(256)\n",
              "          (conv2): Conv2d(256, 256, kernel_size=(3, 3), stride=(1, 1), padding=(1, 1), bias=False)\n",
              "          (bn2): FrozenBatchNorm2d(256)\n",
              "          (conv3): Conv2d(256, 1024, kernel_size=(1, 1), stride=(1, 1), bias=False)\n",
              "          (bn3): FrozenBatchNorm2d(1024)\n",
              "          (relu): ReLU(inplace=True)\n",
              "        )\n",
              "        (5): Bottleneck(\n",
              "          (conv1): Conv2d(1024, 256, kernel_size=(1, 1), stride=(1, 1), bias=False)\n",
              "          (bn1): FrozenBatchNorm2d(256)\n",
              "          (conv2): Conv2d(256, 256, kernel_size=(3, 3), stride=(1, 1), padding=(1, 1), bias=False)\n",
              "          (bn2): FrozenBatchNorm2d(256)\n",
              "          (conv3): Conv2d(256, 1024, kernel_size=(1, 1), stride=(1, 1), bias=False)\n",
              "          (bn3): FrozenBatchNorm2d(1024)\n",
              "          (relu): ReLU(inplace=True)\n",
              "        )\n",
              "      )\n",
              "      (layer4): Sequential(\n",
              "        (0): Bottleneck(\n",
              "          (conv1): Conv2d(1024, 512, kernel_size=(1, 1), stride=(1, 1), bias=False)\n",
              "          (bn1): FrozenBatchNorm2d(512)\n",
              "          (conv2): Conv2d(512, 512, kernel_size=(3, 3), stride=(2, 2), padding=(1, 1), bias=False)\n",
              "          (bn2): FrozenBatchNorm2d(512)\n",
              "          (conv3): Conv2d(512, 2048, kernel_size=(1, 1), stride=(1, 1), bias=False)\n",
              "          (bn3): FrozenBatchNorm2d(2048)\n",
              "          (relu): ReLU(inplace=True)\n",
              "          (downsample): Sequential(\n",
              "            (0): Conv2d(1024, 2048, kernel_size=(1, 1), stride=(2, 2), bias=False)\n",
              "            (1): FrozenBatchNorm2d(2048)\n",
              "          )\n",
              "        )\n",
              "        (1): Bottleneck(\n",
              "          (conv1): Conv2d(2048, 512, kernel_size=(1, 1), stride=(1, 1), bias=False)\n",
              "          (bn1): FrozenBatchNorm2d(512)\n",
              "          (conv2): Conv2d(512, 512, kernel_size=(3, 3), stride=(1, 1), padding=(1, 1), bias=False)\n",
              "          (bn2): FrozenBatchNorm2d(512)\n",
              "          (conv3): Conv2d(512, 2048, kernel_size=(1, 1), stride=(1, 1), bias=False)\n",
              "          (bn3): FrozenBatchNorm2d(2048)\n",
              "          (relu): ReLU(inplace=True)\n",
              "        )\n",
              "        (2): Bottleneck(\n",
              "          (conv1): Conv2d(2048, 512, kernel_size=(1, 1), stride=(1, 1), bias=False)\n",
              "          (bn1): FrozenBatchNorm2d(512)\n",
              "          (conv2): Conv2d(512, 512, kernel_size=(3, 3), stride=(1, 1), padding=(1, 1), bias=False)\n",
              "          (bn2): FrozenBatchNorm2d(512)\n",
              "          (conv3): Conv2d(512, 2048, kernel_size=(1, 1), stride=(1, 1), bias=False)\n",
              "          (bn3): FrozenBatchNorm2d(2048)\n",
              "          (relu): ReLU(inplace=True)\n",
              "        )\n",
              "      )\n",
              "    )\n",
              "    (fpn): FeaturePyramidNetwork(\n",
              "      (inner_blocks): ModuleList(\n",
              "        (0): Conv2d(256, 256, kernel_size=(1, 1), stride=(1, 1))\n",
              "        (1): Conv2d(512, 256, kernel_size=(1, 1), stride=(1, 1))\n",
              "        (2): Conv2d(1024, 256, kernel_size=(1, 1), stride=(1, 1))\n",
              "        (3): Conv2d(2048, 256, kernel_size=(1, 1), stride=(1, 1))\n",
              "      )\n",
              "      (layer_blocks): ModuleList(\n",
              "        (0): Conv2d(256, 256, kernel_size=(3, 3), stride=(1, 1), padding=(1, 1))\n",
              "        (1): Conv2d(256, 256, kernel_size=(3, 3), stride=(1, 1), padding=(1, 1))\n",
              "        (2): Conv2d(256, 256, kernel_size=(3, 3), stride=(1, 1), padding=(1, 1))\n",
              "        (3): Conv2d(256, 256, kernel_size=(3, 3), stride=(1, 1), padding=(1, 1))\n",
              "      )\n",
              "      (extra_blocks): LastLevelMaxPool()\n",
              "    )\n",
              "  )\n",
              "  (rpn): RegionProposalNetwork(\n",
              "    (anchor_generator): AnchorGenerator()\n",
              "    (head): RPNHead(\n",
              "      (conv): Conv2d(256, 256, kernel_size=(3, 3), stride=(1, 1), padding=(1, 1))\n",
              "      (cls_logits): Conv2d(256, 3, kernel_size=(1, 1), stride=(1, 1))\n",
              "      (bbox_pred): Conv2d(256, 12, kernel_size=(1, 1), stride=(1, 1))\n",
              "    )\n",
              "  )\n",
              "  (roi_heads): RoIHeads(\n",
              "    (box_roi_pool): MultiScaleRoIAlign()\n",
              "    (box_head): TwoMLPHead(\n",
              "      (fc6): Linear(in_features=12544, out_features=1024, bias=True)\n",
              "      (fc7): Linear(in_features=1024, out_features=1024, bias=True)\n",
              "    )\n",
              "    (box_predictor): FastRCNNPredictor(\n",
              "      (cls_score): Linear(in_features=1024, out_features=4, bias=True)\n",
              "      (bbox_pred): Linear(in_features=1024, out_features=16, bias=True)\n",
              "    )\n",
              "  )\n",
              ")"
            ]
          },
          "metadata": {
            "tags": []
          },
          "execution_count": 26
        }
      ]
    },
    {
      "cell_type": "markdown",
      "metadata": {
        "id": "XkpD0_Eo9d5L"
      },
      "source": [
        "#### Computing mAP of the model for the Test set"
      ]
    },
    {
      "cell_type": "code",
      "metadata": {
        "id": "WzcRIFiF3J2V"
      },
      "source": [
        "# create metric_fn\n",
        "metric_fn = MetricBuilder.build_evaluation_metric(\"map_2d\", async_mode=True, num_classes=3)\n",
        "\n",
        "for imgs, annos in data_loader_test:\n",
        "\n",
        "    imgs = list(img.to(device) for img in imgs)\n",
        "    preds_batch = model_2(imgs)\n",
        "    anno_batch = [{k: v.to(device) for k, v in t.items()} for t in annos]\n",
        "    \n",
        "    for preds, annotations in zip(preds_batch, anno_batch):\n",
        "      if preds['boxes'].shape[0] > 0:\n",
        "        temp_preds = torch.cat((preds['boxes'].T,preds['labels'].reshape(-1,preds['labels'].shape[0]),preds['scores'].reshape(-1,preds['scores'].shape[0])),0).T.detach().cpu().numpy()\n",
        "      else:\n",
        "        temp_preds = np.zeros((preds['boxes'].shape[1],6)) # in case if no prediction is made - make a random prediction\n",
        "        \n",
        "      temp_annotations = torch.cat((annotations['boxes'].T,annotations['labels'].reshape(-1,annotations['labels'].shape[0])),0).T.detach().cpu().numpy()\n",
        "      temp_target = np.hstack((temp_annotations,np.zeros((temp_annotations.shape[0],2))))\n",
        "\n",
        "      metric_fn.add(temp_preds, temp_target)"
      ],
      "execution_count": 30,
      "outputs": []
    },
    {
      "cell_type": "code",
      "metadata": {
        "colab": {
          "base_uri": "https://localhost:8080/"
        },
        "id": "R0-ZC8AC3avj",
        "outputId": "43b5da24-b6d3-4a4b-be59-5191adcfd255"
      },
      "source": [
        "# compute PASCAL VOC metric\n",
        "print(f\"VOC PASCAL mAP: {metric_fn.value(iou_thresholds=0.5, recall_thresholds=np.arange(0., 1.1, 0.1))['mAP']}\")\n",
        "\n",
        "# compute PASCAL VOC metric at the all points\n",
        "print(f\"VOC PASCAL mAP in all points: {metric_fn.value(iou_thresholds=0.5)['mAP']}\")\n",
        "\n",
        "# compute metric COCO metric\n",
        "print(f\"COCO mAP: {metric_fn.value(iou_thresholds=np.arange(0.5, 1.0, 0.05), recall_thresholds=np.arange(0., 1.01, 0.01), mpolicy='soft')['mAP']}\")"
      ],
      "execution_count": 31,
      "outputs": [
        {
          "output_type": "stream",
          "text": [
            "VOC PASCAL mAP: 0.6010961532592773\n",
            "VOC PASCAL mAP in all points: 0.6455498337745667\n",
            "COCO mAP: 0.45931434631347656\n"
          ],
          "name": "stdout"
        }
      ]
    },
    {
      "cell_type": "markdown",
      "metadata": {
        "id": "xNXYqGCYFvDs"
      },
      "source": [
        "### Iteration 3:"
      ]
    }
  ]
}