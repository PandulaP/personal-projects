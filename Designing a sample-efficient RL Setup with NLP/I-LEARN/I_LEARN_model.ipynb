{
 "cells": [
  {
   "cell_type": "code",
   "execution_count": 251,
   "metadata": {
    "ExecuteTime": {
     "end_time": "2020-09-25T16:59:14.134305Z",
     "start_time": "2020-09-25T16:59:13.884010Z"
    }
   },
   "outputs": [],
   "source": [
    "### IMPORT PACKAGES ###\n",
    "\n",
    "import numpy as np\n",
    "import pandas as pd\n",
    "import json\n",
    "import matplotlib.pyplot as plt\n",
    "from matplotlib import rc\n",
    "import seaborn as sns\n",
    "from sklearn.model_selection import train_test_split\n",
    "from sklearn.metrics import confusion_matrix, classification_report\n",
    "import torch\n",
    "from torch import nn, optim\n",
    "import torch.nn.functional as F\n",
    "\n",
    "\n",
    "### LOAD SAVED COMBINED EMBEDDINGS ###\n",
    "\n",
    "combind_embeds_correct_path = r'C:\\Users\\ppriyadarsha\\Google Drive\\1. UoP Stuff\\1. SuSe_2020\\Reinforcement Learning for NLP\\Project\\codes\\rl4nlp\\generate_combined_emb\\combined_embeddings_correct.json'\n",
    "\n",
    "with open(combind_embeds_correct_path,\"r\") as f:\n",
    "     combined_embeds_correct_dic = json.load(f)\n",
    "        \n",
    "combind_embeds_incorrect_path = r'C:\\Users\\ppriyadarsha\\Google Drive\\1. UoP Stuff\\1. SuSe_2020\\Reinforcement Learning for NLP\\Project\\codes\\rl4nlp\\generate_combined_emb\\combined_embeddings_incorrect.json'\n",
    "\n",
    "with open(combind_embeds_incorrect_path,\"r\") as f:\n",
    "     combined_embeds_incorrect_dic = json.load(f)"
   ]
  },
  {
   "cell_type": "code",
   "execution_count": 23,
   "metadata": {
    "ExecuteTime": {
     "end_time": "2020-09-25T13:22:01.712743Z",
     "start_time": "2020-09-25T13:22:01.708806Z"
    }
   },
   "outputs": [],
   "source": [
    "#### PREPARING TRAINING DATA ###\n",
    "\n",
    "### Add `Related/Unrelated` classification to the combined embeddings  ###\n",
    "combined_embeds_correct_w_class_dic = {}\n",
    "\n",
    "for phrase, embeds_li in combined_embeds_correct_dic.items():    \n",
    "    embeds_w_class = []\n",
    "    \n",
    "    for embed in embeds_li:\n",
    "        embeds_w_class.append((embed,1)) ## when image and text are related - probabilit = 1\n",
    "        \n",
    "    combined_embeds_correct_w_class_dic[phrase] = embeds_w_class\n",
    "    \n",
    "    \n",
    "combined_embeds_incorrect_w_class_dic = {}\n",
    "\n",
    "for phrase, embeds_li in combined_embeds_incorrect_dic.items():\n",
    "    embeds_w_class = []\n",
    "    \n",
    "    for embed in embeds_li:\n",
    "        embeds_w_class.append((embed,0)) ## when image and text are related - probabilit = 0\n",
    "        \n",
    "    combined_embeds_incorrect_w_class_dic[phrase] = embeds_w_class\n",
    "\n",
    "    \n",
    "### CREATE SINGLE DICTIONARY + DF WITH ALL TRAINING SAMPLES ###\n",
    "\n",
    "combined_embeds_w_class_final = {}\n",
    "\n",
    "for incorrect_dic, correct_dic in zip(combined_embeds_incorrect_w_class_dic.items(),combined_embeds_correct_w_class_dic.items()):\n",
    "    \n",
    "    if incorrect_dic[0] == correct_dic[0]:\n",
    "        combined_embeds_w_class_final[incorrect_dic[0]] = incorrect_dic[1] + correct_dic[1]\n",
    "\n",
    "full_df_embeddings = pd.DataFrame(combined_embeds_w_class_final)\n",
    "\n",
    "input_dfs_dic = {}\n",
    "input_dfs_li = []\n",
    "\n",
    "for key in combined_embeds_w_class_final.keys():\n",
    "    temp_df = pd.DataFrame()\n",
    "    temp_df.loc[:,'combined_embeds'] = full_df_embeddings[key].apply(lambda row: row[0])\n",
    "    temp_df.loc[:,'correct_img_txt_combination'] = full_df_embeddings[key].apply(lambda row: row[1])    \n",
    "    input_dfs_dic[key] = temp_df\n",
    "    temp_df.loc[:,'phrase'] = key\n",
    "    input_dfs_li.append(temp_df)\n",
    "    \n",
    "final_df = pd.concat(input_dfs_li)\n",
    "final_df.combined_embeds = final_df.combined_embeds.apply(lambda arr: np.array(arr)) # convert to numpy arrays"
   ]
  },
  {
   "cell_type": "code",
   "execution_count": 109,
   "metadata": {
    "ExecuteTime": {
     "end_time": "2020-09-25T16:02:41.050087Z",
     "start_time": "2020-09-25T16:02:41.030601Z"
    }
   },
   "outputs": [
    {
     "data": {
      "text/html": [
       "<div>\n",
       "<style scoped>\n",
       "    .dataframe tbody tr th:only-of-type {\n",
       "        vertical-align: middle;\n",
       "    }\n",
       "\n",
       "    .dataframe tbody tr th {\n",
       "        vertical-align: top;\n",
       "    }\n",
       "\n",
       "    .dataframe thead th {\n",
       "        text-align: right;\n",
       "    }\n",
       "</style>\n",
       "<table border=\"1\" class=\"dataframe\">\n",
       "  <thead>\n",
       "    <tr style=\"text-align: right;\">\n",
       "      <th></th>\n",
       "      <th>combined_embeds</th>\n",
       "      <th>correct_img_txt_combination</th>\n",
       "      <th>phrase</th>\n",
       "    </tr>\n",
       "  </thead>\n",
       "  <tbody>\n",
       "    <tr>\n",
       "      <th>63</th>\n",
       "      <td>[0.7407041192054749, -0.11425286531448364, 0.5...</td>\n",
       "      <td>0</td>\n",
       "      <td>phrase_6_turn_left</td>\n",
       "    </tr>\n",
       "    <tr>\n",
       "      <th>37</th>\n",
       "      <td>[0.10063973814249039, -0.7761375904083252, -0....</td>\n",
       "      <td>0</td>\n",
       "      <td>phrase_1_go_through_opening</td>\n",
       "    </tr>\n",
       "    <tr>\n",
       "      <th>119</th>\n",
       "      <td>[0.33274272084236145, -0.14996641874313354, -0...</td>\n",
       "      <td>0</td>\n",
       "      <td>phrase_7_turn_right</td>\n",
       "    </tr>\n",
       "    <tr>\n",
       "      <th>118</th>\n",
       "      <td>[0.0009426474571228027, -1.1111305952072144, 0...</td>\n",
       "      <td>1</td>\n",
       "      <td>phrase_3_move_up</td>\n",
       "    </tr>\n",
       "    <tr>\n",
       "      <th>102</th>\n",
       "      <td>[0.10063973814249039, -0.7761375904083252, -0....</td>\n",
       "      <td>0</td>\n",
       "      <td>phrase_1_go_through_opening</td>\n",
       "    </tr>\n",
       "    <tr>\n",
       "      <th>66</th>\n",
       "      <td>[-0.6683769226074219, -0.655174732208252, 1.19...</td>\n",
       "      <td>0</td>\n",
       "      <td>phrase_2_move_down</td>\n",
       "    </tr>\n",
       "    <tr>\n",
       "      <th>126</th>\n",
       "      <td>[0.16255351901054382, 0.27583223581314087, 0.9...</td>\n",
       "      <td>1</td>\n",
       "      <td>phrase_4_move_to_left</td>\n",
       "    </tr>\n",
       "    <tr>\n",
       "      <th>16</th>\n",
       "      <td>[0.7407041192054749, -0.11425286531448364, 0.5...</td>\n",
       "      <td>0</td>\n",
       "      <td>phrase_6_turn_left</td>\n",
       "    </tr>\n",
       "    <tr>\n",
       "      <th>25</th>\n",
       "      <td>[0.33274272084236145, -0.14996641874313354, -0...</td>\n",
       "      <td>0</td>\n",
       "      <td>phrase_7_turn_right</td>\n",
       "    </tr>\n",
       "    <tr>\n",
       "      <th>4</th>\n",
       "      <td>[0.16255351901054382, 0.27583223581314087, 0.9...</td>\n",
       "      <td>0</td>\n",
       "      <td>phrase_4_move_to_left</td>\n",
       "    </tr>\n",
       "  </tbody>\n",
       "</table>\n",
       "</div>"
      ],
      "text/plain": [
       "                                       combined_embeds  \\\n",
       "63   [0.7407041192054749, -0.11425286531448364, 0.5...   \n",
       "37   [0.10063973814249039, -0.7761375904083252, -0....   \n",
       "119  [0.33274272084236145, -0.14996641874313354, -0...   \n",
       "118  [0.0009426474571228027, -1.1111305952072144, 0...   \n",
       "102  [0.10063973814249039, -0.7761375904083252, -0....   \n",
       "66   [-0.6683769226074219, -0.655174732208252, 1.19...   \n",
       "126  [0.16255351901054382, 0.27583223581314087, 0.9...   \n",
       "16   [0.7407041192054749, -0.11425286531448364, 0.5...   \n",
       "25   [0.33274272084236145, -0.14996641874313354, -0...   \n",
       "4    [0.16255351901054382, 0.27583223581314087, 0.9...   \n",
       "\n",
       "     correct_img_txt_combination                       phrase  \n",
       "63                             0           phrase_6_turn_left  \n",
       "37                             0  phrase_1_go_through_opening  \n",
       "119                            0          phrase_7_turn_right  \n",
       "118                            1             phrase_3_move_up  \n",
       "102                            0  phrase_1_go_through_opening  \n",
       "66                             0           phrase_2_move_down  \n",
       "126                            1        phrase_4_move_to_left  \n",
       "16                             0           phrase_6_turn_left  \n",
       "25                             0          phrase_7_turn_right  \n",
       "4                              0        phrase_4_move_to_left  "
      ]
     },
     "execution_count": 109,
     "metadata": {},
     "output_type": "execute_result"
    }
   ],
   "source": [
    "final_df.sample(10)"
   ]
  },
  {
   "cell_type": "code",
   "execution_count": 151,
   "metadata": {
    "ExecuteTime": {
     "end_time": "2020-09-25T16:12:13.898030Z",
     "start_time": "2020-09-25T16:12:13.872388Z"
    }
   },
   "outputs": [],
   "source": [
    "### PROCESS TRAINING DATA + INITIALIZE THE MODEL ###\n",
    "\n",
    "X = np.array(final_df.combined_embeds.tolist())\n",
    "y = np.array(final_df.correct_img_txt_combination.tolist())\n",
    "\n",
    "X_train, X_test, y_train, y_test = train_test_split(X, y, test_size=0.3, random_state=123)\n",
    "\n",
    "X_train = torch.from_numpy(X_train).float()\n",
    "y_train = torch.squeeze(torch.from_numpy(y_train).float())\n",
    "X_test = torch.from_numpy(X_test).float()\n",
    "y_test = torch.squeeze(torch.from_numpy(y_test).float())\n",
    "\n",
    "class Classification_Net(nn.Module):\n",
    "    \n",
    "    def __init__(self, n_features):\n",
    "        super(Classification_Net, self).__init__()\n",
    "        self.fc1 = nn.Linear(n_features, int(7168/2))\n",
    "        self.fc2 = nn.Linear(int(7168/2), int(7168/10))\n",
    "        self.fc3 = nn.Linear(int(7168/10), int(7168/100))\n",
    "        self.fc4 = nn.Linear(int(7168/100), 1)\n",
    "    \n",
    "    def forward(self, x):\n",
    "        x = F.relu(self.fc1(x))\n",
    "        x = F.relu(self.fc2(x))\n",
    "        x = F.relu(self.fc3(x))\n",
    "        return torch.sigmoid(self.fc4(x))\n",
    "\n",
    "classify_net = Classification_Net(X_train.shape[1])\n",
    "\n",
    "criterion = nn.BCELoss()\n",
    "optimizer = optim.Adam(classify_net.parameters(), lr=0.001)\n",
    "\n",
    "device = torch.device(\"cuda:0\" if torch.cuda.is_available() else \"cpu\")\n",
    "X_train = X_train.to(device)\n",
    "y_train = y_train.to(device)\n",
    "X_test = X_test.to(device)\n",
    "y_test = y_test.to(device)\n",
    "classify_net = classify_net.to(device)\n",
    "criterion = criterion.to(device)\n",
    "\n",
    "def calculate_accuracy(y_true, y_pred):\n",
    "    predicted = y_pred.ge(.5).view(-1)\n",
    "    return (y_true == predicted).sum().float() / len(y_true)\n",
    "\n",
    "def round_tensor(t, decimal_places=3):\n",
    "    return round(t.item(), decimal_places)"
   ]
  },
  {
   "cell_type": "code",
   "execution_count": 278,
   "metadata": {
    "ExecuteTime": {
     "end_time": "2020-09-26T15:25:09.945045Z",
     "start_time": "2020-09-26T15:23:42.024525Z"
    }
   },
   "outputs": [
    {
     "name": "stdout",
     "output_type": "stream",
     "text": [
      "epoch 0\n",
      "                Train set - loss: 0.674, accuracy: 0.849\n",
      "                Test  set - loss: 0.672, accuracy: 0.876\n",
      "            \n",
      "epoch 50\n",
      "                Train set - loss: 0.362, accuracy: 0.849\n",
      "                Test  set - loss: 0.347, accuracy: 0.876\n",
      "            \n",
      "epoch 100\n",
      "                Train set - loss: 0.148, accuracy: 0.928\n",
      "                Test  set - loss: 0.222, accuracy: 0.913\n",
      "            \n",
      "epoch 150\n",
      "                Train set - loss: 0.007, accuracy: 1.0\n",
      "                Test  set - loss: 0.111, accuracy: 0.963\n",
      "            \n",
      "epoch 200\n",
      "                Train set - loss: 0.001, accuracy: 1.0\n",
      "                Test  set - loss: 0.131, accuracy: 0.96\n",
      "            \n",
      "epoch 250\n",
      "                Train set - loss: 0.0, accuracy: 1.0\n",
      "                Test  set - loss: 0.145, accuracy: 0.96\n",
      "            \n",
      "epoch 300\n",
      "                Train set - loss: 0.0, accuracy: 1.0\n",
      "                Test  set - loss: 0.153, accuracy: 0.96\n",
      "            \n",
      "epoch 350\n",
      "                Train set - loss: 0.0, accuracy: 1.0\n",
      "                Test  set - loss: 0.158, accuracy: 0.96\n",
      "            \n",
      "epoch 400\n",
      "                Train set - loss: 0.0, accuracy: 1.0\n",
      "                Test  set - loss: 0.162, accuracy: 0.96\n",
      "            \n",
      "epoch 450\n",
      "                Train set - loss: 0.0, accuracy: 1.0\n",
      "                Test  set - loss: 0.166, accuracy: 0.96\n",
      "            \n"
     ]
    }
   ],
   "source": [
    "### TRAIN THE MODEL ###\n",
    "\n",
    "for epoch in range(500):\n",
    "    y_pred = classify_net(X_train)\n",
    "    y_pred = torch.squeeze(y_pred)\n",
    "    train_loss = criterion(y_pred, y_train)\n",
    "\n",
    "    if epoch % 50 == 0:\n",
    "        train_acc = calculate_accuracy(y_train, y_pred)\n",
    "        y_test_pred = classify_net(X_test)\n",
    "        y_test_pred = torch.squeeze(y_test_pred)\n",
    "        test_loss = criterion(y_test_pred, y_test)\n",
    "        test_acc = calculate_accuracy(y_test, y_test_pred)\n",
    "        print( f'''epoch {epoch}\n",
    "                Train set - loss: {round_tensor(train_loss)}, accuracy: {round_tensor(train_acc)}\n",
    "                Test  set - loss: {round_tensor(test_loss)}, accuracy: {round_tensor(test_acc)}\n",
    "            ''')\n",
    "    \n",
    "    optimizer.zero_grad()\n",
    "    train_loss.backward()\n",
    "    optimizer.step()"
   ]
  },
  {
   "cell_type": "code",
   "execution_count": 298,
   "metadata": {
    "ExecuteTime": {
     "end_time": "2020-09-26T16:22:49.289404Z",
     "start_time": "2020-09-26T16:22:48.391091Z"
    }
   },
   "outputs": [
    {
     "name": "stdout",
     "output_type": "stream",
     "text": [
      "              precision    recall  f1-score   support\n",
      "\n",
      "  Un-related       0.97      0.99      0.98       262\n",
      "     Related       0.90      0.76      0.82        37\n",
      "\n",
      "    accuracy                           0.96       299\n",
      "   macro avg       0.93      0.87      0.90       299\n",
      "weighted avg       0.96      0.96      0.96       299\n",
      "\n"
     ]
    }
   ],
   "source": [
    "### SAVE THE TRAINED MODEL ###\n",
    "\n",
    "torch.save(classify_net, 'classify_model.pth')\n",
    "\n",
    "\n",
    "### CHECK MODEL ACCURACY ###\n",
    "\n",
    "classes = ['Un-related', 'Related']\n",
    "y_pred = classify_net(X_test)\n",
    "y_pred = y_pred.ge(.5).view(-1).cpu()\n",
    "y_test = y_test.cpu()\n",
    "print(classification_report(y_test, y_pred, target_names=classes))"
   ]
  },
  {
   "cell_type": "code",
   "execution_count": 303,
   "metadata": {
    "ExecuteTime": {
     "end_time": "2020-09-26T16:25:07.643457Z",
     "start_time": "2020-09-26T16:25:07.507881Z"
    }
   },
   "outputs": [
    {
     "data": {
      "image/png": "[encoded data removed]",
      "text/plain": [
       "<Figure size 432x288 with 2 Axes>"
      ]
     },
     "metadata": {
      "needs_background": "light"
     },
     "output_type": "display_data"
    }
   ],
   "source": [
    "c_mat = confusion_matrix(y_test, y_pred)\n",
    "df_c_mat = pd.DataFrame(c_mat, index=classes, columns=classes)\n",
    "hmap = sns.heatmap(df_c_mat, annot=True, fmt=\"d\")\n",
    "plt.ylabel('True label')\n",
    "plt.xlabel('Predicted label');"
   ]
  }
 ],
 "metadata": {
  "hide_input": false,
  "kernelspec": {
   "display_name": "Python 3",
   "language": "python",
   "name": "python3"
  },
  "language_info": {
   "codemirror_mode": {
    "name": "ipython",
    "version": 3
   },
   "file_extension": ".py",
   "mimetype": "text/x-python",
   "name": "python",
   "nbconvert_exporter": "python",
   "pygments_lexer": "ipython3",
   "version": "3.7.4"
  }
 },
 "nbformat": 4,
 "nbformat_minor": 4
}
