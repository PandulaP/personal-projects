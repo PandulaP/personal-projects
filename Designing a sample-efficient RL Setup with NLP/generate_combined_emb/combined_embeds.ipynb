{
 "cells": [
  {
   "cell_type": "markdown",
   "metadata": {},
   "source": [
    "## Generate combined Embeddings"
   ]
  },
  {
   "cell_type": "code",
   "execution_count": 33,
   "metadata": {
    "ExecuteTime": {
     "end_time": "2020-09-24T17:45:06.232328Z",
     "start_time": "2020-09-24T17:45:06.230215Z"
    }
   },
   "outputs": [],
   "source": [
    "### IMPORT NECESSARY PACKAGES ###\n",
    "\n",
    "import json\n",
    "import numpy as np\n",
    "\n",
    "\n",
    "### LOAD SAVED IMAGE EMBEDDINGS ###\n",
    "\n",
    "image_embeddings_path = r'C:\\Users\\ppriyadarsha\\Google Drive\\1. UoP Stuff\\1. SuSe_2020\\Reinforcement Learning for NLP\\Project\\codes\\rl4nlp\\generate_image_emd\\image_embeddings_w_phrases.json'\n",
    "\n",
    "with open(image_embeddings_path,\"r\") as f:\n",
    "     img_embeddings_dic = json.load(f)\n",
    "\n",
    "        \n",
    "### LOAD SAVED SENTENCE EMBEDDINGS ###\n",
    "\n",
    "sentence_embeddings_path = r'C:\\Users\\ppriyadarsha\\Google Drive\\1. UoP Stuff\\1. SuSe_2020\\Reinforcement Learning for NLP\\Project\\codes\\rl4nlp\\generate_text_emd\\sentence_embeddings_w_phrases.json'\n",
    "\n",
    "with open(sentence_embeddings_path,\"r\") as f:\n",
    "     sentence_embeddings_dic = json.load(f)\n",
    "\n",
    "        \n",
    "### COMBINE SENTENCE EMBEDDINGS WITH IMAGE EMBEDDINGS ###\n",
    "\n",
    "correct_embeds_dic = {}     # to store correct image-sentence embedding pairs (to use as training data for model)\n",
    "incorrect_embeds_dic = {}   # to store incorrect image-sentence embedding pairs (to use as training data for model)\n",
    "\n",
    "for phrase_s, sentence_embed in sentence_embeddings_dic.items():\n",
    "\n",
    "    correct_li = []\n",
    "    incorrect_li = []\n",
    "\n",
    "    for phrase_i, img_embeds_li in img_embeddings_dic.items():\n",
    "        \n",
    "        if phrase_i == phrase_s:    \n",
    "            for img_embed in img_embeds_li:\n",
    "                correct_li.append(np.concatenate([sentence_embed,img_embed]).tolist())\n",
    "                \n",
    "        if phrase_i != phrase_s:\n",
    "            for img_embed in img_embeds_li:\n",
    "                incorrect_li.append(np.concatenate([sentence_embed,img_embed]).tolist())\n",
    "                \n",
    "    \n",
    "    incorrect_embeds_dic[phrase_s] = incorrect_li\n",
    "    correct_embeds_dic[phrase_s] = correct_li\n",
    "\n",
    "    \n",
    "### SAVE COMBIBED EMBEDDINGS ###\n",
    "\n",
    "with open('combined_embeddings_correct.json', 'w') as fp:\n",
    "    json.dump(correct_embeds_dic, fp)\n",
    "    \n",
    "with open('combined_embeddings_incorrect.json', 'w') as fp:\n",
    "    json.dump(incorrect_embeds_dic, fp)"
   ]
  }
 ],
 "metadata": {
  "hide_input": false,
  "kernelspec": {
   "display_name": "Python 3",
   "language": "python",
   "name": "python3"
  },
  "language_info": {
   "codemirror_mode": {
    "name": "ipython",
    "version": 3
   },
   "file_extension": ".py",
   "mimetype": "text/x-python",
   "name": "python",
   "nbconvert_exporter": "python",
   "pygments_lexer": "ipython3",
   "version": "3.7.4"
  }
 },
 "nbformat": 4,
 "nbformat_minor": 4
}
