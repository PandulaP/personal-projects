{
 "cells": [
  {
   "cell_type": "markdown",
   "metadata": {},
   "source": [
    "## Generate Sentence Embeddings with `BERT`"
   ]
  },
  {
   "cell_type": "code",
   "execution_count": 2,
   "metadata": {
    "ExecuteTime": {
     "end_time": "2020-09-23T17:51:47.573660Z",
     "start_time": "2020-09-23T17:51:47.571507Z"
    }
   },
   "outputs": [],
   "source": [
    "### IMPORT PACKAGES ###\n",
    "\n",
    "import numpy as np\n",
    "import os\n",
    "import tqdm\n",
    "import json\n",
    "\n",
    "#!pip install -U sentence-transformers\n",
    "from sentence_transformers import SentenceTransformer # generate sentence embeddings using BERT: https://github.com/UKPLab/sentence-transformers\n",
    "sentence_model = SentenceTransformer('roberta-large-nli-stsb-mean-tokens') "
   ]
  },
  {
   "cell_type": "code",
   "execution_count": 3,
   "metadata": {
    "ExecuteTime": {
     "end_time": "2020-09-23T17:41:48.542456Z",
     "start_time": "2020-09-23T17:41:48.537299Z"
    }
   },
   "outputs": [
    {
     "data": {
      "text/plain": [
       "[('phrase_1', 'go through opening'),\n",
       " ('phrase_2', 'move down'),\n",
       " ('phrase_3', 'move up'),\n",
       " ('phrase_4', 'move to left'),\n",
       " ('phrase_5', 'move to right'),\n",
       " ('phrase_6', 'turn left'),\n",
       " ('phrase_7', 'turn right')]"
      ]
     },
     "execution_count": 3,
     "metadata": {},
     "output_type": "execute_result"
    }
   ],
   "source": [
    "### LOAD LANGUAGE INSTRUCTION DATA AND STRUCTURE THEM ###\n",
    "\n",
    "root=r'C:\\Users\\ppriyadarsha\\Google Drive\\1. UoP Stuff\\1. SuSe_2020\\Reinforcement Learning for NLP\\Project\\codes\\rl4nlp\\data\\unzip_data\\annotations\\saved_imgs'\n",
    "\n",
    "dirlist = [ item for item in os.listdir(root) if os.path.isdir(os.path.join(root, item)) ]\n",
    "dirlist.sort()\n",
    "\n",
    "phrase_list = [(string[:8],string[9:].replace('_', ' ')) for string in dirlist]\n",
    "phrase_list"
   ]
  },
  {
   "cell_type": "code",
   "execution_count": 54,
   "metadata": {
    "ExecuteTime": {
     "end_time": "2020-09-23T17:49:16.460420Z",
     "start_time": "2020-09-23T17:49:14.563198Z"
    }
   },
   "outputs": [],
   "source": [
    "### GENERATE SENTENCE EMBEDDINGS ###\n",
    "\n",
    "sentence_embeddings = {}\n",
    "\n",
    "for dir_path, phrase_data in zip(dirlist,phrase_list):\n",
    "    sentence_in = [phrase_data[1]] \n",
    "    embedding = sentence_model.encode(sentence_in) # encode sentence using model    \n",
    "    sentence_embeddings[dir_path] = embedding.reshape(-1).tolist()\n",
    "\n",
    "    \n",
    "### STORE SENTENCE EMBEDDINGS ###\n",
    "\n",
    "with open('sentence_embeddings_w_phrases.json', 'w') as fp:\n",
    "    json.dump(sentence_embeddings, fp)"
   ]
  }
 ],
 "metadata": {
  "hide_input": false,
  "kernelspec": {
   "display_name": "Python 3",
   "language": "python",
   "name": "python3"
  },
  "language_info": {
   "codemirror_mode": {
    "name": "ipython",
    "version": 3
   },
   "file_extension": ".py",
   "mimetype": "text/x-python",
   "name": "python",
   "nbconvert_exporter": "python",
   "pygments_lexer": "ipython3",
   "version": "3.7.4"
  }
 },
 "nbformat": 4,
 "nbformat_minor": 4
}
